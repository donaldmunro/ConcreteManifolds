{
 "cells": [
  {
   "cell_type": "markdown",
   "metadata": {},
   "source": [
    "# Smooth Manifolds made Concrete for Dumbasses\n",
    "The intention behind this document is to provide an extended and comprehensive example of a smooth manifold for dumbasses \n",
    "like me who can't always grok the heavily abstract without a more concrete example, or as the OO framework types would say,\n",
    "a reification. The extended example is the prototypical/canonical stereographic projection considering the sphere $S^2$ as a manifold. \n",
    "Examples cover deriving the charts, finding the inverses functions between manifolds including deriving an ellipsoid stereographic manifold, \n",
    "and tangent spaces including both equivalence classes of curves and derivation based approaches, illustrating proofs of vector space closure\n",
    "and change of basis of tangent vectors. The examples are based on using the open source [SageMath](https://www.sagemath.org/) Computer Algebra System (CAS)\n",
    "to create an interactive notebook. Sage is available on most Linux distributions and the web site also has a Windows installer. The notebook has also \n",
    "been converted to a Latex/SageTex document which hides most of the Sage specific manipulation and shows just the mathematics for those who aren't interested in\n",
    "Sage (although you lose the ability to interact with the content including the graphs). Note Sage does have \n",
    "[built in Manifold](http://doc.sagemath.org/html/en/reference/manifolds/sage/manifolds/differentiable/manifold.html) support, but this document won't be using it\n",
    "as the intention is to provide examples from first principles. Errors or misunderstandings on my part or also more than likely as I am a computer scientist who \n",
    "dabbles in mathematics for Computer Vision, Machine Learning and Neural Networks, therefore any error corrections or suggestions \n",
    "for improvements would also be welcome."
   ]
  },
  {
   "cell_type": "code",
   "execution_count": 1,
   "metadata": {},
   "outputs": [],
   "source": [
    "%display latex\n",
    "# from IPython.display import display, Math, Latex\n",
    "viewer3D = 'threejs'\n",
    "clear_vars()\n",
    "\n",
    "def stereographic(pole):\n",
    "    o_n = vector(SR, pole)\n",
    "    var('x', 'y', 'z', 'u', 'v', 'l')\n",
    "    assume(x, 'real', y, 'real', z, 'real', u, 'real', v, 'real', l, 'real')\n",
    "#     p = vector(SR, (x, y, sqrt(x^2 + y^2)))\n",
    "    p = vector(SR, (x, y, z))\n",
    "    s = vector(SR, (u, v, 0))\n",
    "    lhs = o_n - p\n",
    "    rhs = l*(o_n - s)\n",
    "    eq1 = lhs[0] == rhs[0]\n",
    "    eq2 = lhs[1] == rhs[1]\n",
    "    eq3 = lhs[2] == rhs[2]\n",
    "    l_s = solve(eq3, l)[0].rhs()\n",
    "    return (solve(eq1.substitute(l=l_s), u)[0], solve(eq2.substitute(l=l_s), v)[0])\n",
    "\n",
    "def the_solution(sols, submap):\n",
    "    for sol in sols:\n",
    "        if sol.rhs().substitute(submap) != 0:\n",
    "            return sol\n",
    "    return None\n"
   ]
  },
  {
   "cell_type": "code",
   "execution_count": 2,
   "metadata": {},
   "outputs": [],
   "source": [
    "o_n = vector(SR, (0,0,1))\n",
    "var('x', 'y', 'z', 'u', 'v', 'l')\n",
    "assume(x, 'real', y, 'real', z, 'real', u, 'real', v, 'real', l, 'real')\n",
    "p = vector(SR, (x, y, z))\n",
    "s = vector(SR, (u, v, 0))\n",
    "lhs = o_n - p\n",
    "rhs = l*(o_n - s)\n",
    "eq1 = lhs[0] == rhs[0]\n",
    "eq2 = lhs[1] == rhs[1]\n",
    "eq3 = lhs[2] == rhs[2]"
   ]
  },
  {
   "cell_type": "markdown",
   "metadata": {},
   "source": [
    "## The Stereographic Projection Atlas\n",
    "The sterographic projection is the canonical example for a topological/smooth manifold. The example shown\n",
    "here will map $S^2$ to $R^2$, although it can be extended to $S^n \\rightarrow R^n$.\n",
    "\n",
    "The sphere $S^2$ is seen as a manifold having an atlas with two open sets and associated charts. The first chart is defined on the open set \n",
    "defined by the full sphere excluding the north (top) pole $(0,0,1)$, while the second chart is defined on a set that excludes only the south \n",
    "(bottom) $(0,0,1)$ pole. Both charts project a point on the sphere surface to the plane at $z=0$ by extending a line from the excluded pole \n",
    "through the point on the manifold (sphere) being charted onto the plane.\n",
    "\n",
    "To derive the chart equation let $\\vec{o_n} = (0, 0, 1)$, $\\vec{p_n} = (x, y, z)$\n",
    "be a point on the sphere and $\\vec{s_n} = (u, v, 0)$ be the projection then (see the figure below):\n",
    "\n",
    "$\\vec{o_n} - \\vec{p_n} = l(\\vec{o_n} - \\vec{s_n}$)\n"
   ]
  },
  {
   "cell_type": "code",
   "execution_count": 3,
   "metadata": {},
   "outputs": [
    {
     "data": {
      "text/html": [
       "<html><script type=\"math/tex; mode=display\">\\newcommand{\\Bold}[1]{\\mathbf{#1}}\\left(-x,\\,-y,\\,-z + 1\\right) \\verb|=| \\left(-l u,\\,-l v,\\,l\\right)</script></html>"
      ],
      "text/plain": [
       "(-x, -y, -z + 1) '=' (-l*u, -l*v, l)"
      ]
     },
     "metadata": {},
     "output_type": "display_data"
    }
   ],
   "source": [
    "pretty_print(lhs, '=', rhs)"
   ]
  },
  {
   "cell_type": "markdown",
   "metadata": {},
   "source": [
    "Solving for the third component of the vector equation and substituting into the first two:"
   ]
  },
  {
   "cell_type": "code",
   "execution_count": 4,
   "metadata": {},
   "outputs": [
    {
     "data": {
      "text/html": [
       "<html><script type=\"math/tex; mode=display\">\\newcommand{\\Bold}[1]{\\mathbf{#1}}l = -z + 1</script></html>"
      ],
      "text/plain": [
       "l == -z + 1"
      ]
     },
     "metadata": {},
     "output_type": "display_data"
    },
    {
     "data": {
      "text/html": [
       "<html><script type=\"math/tex; mode=display\">\\newcommand{\\Bold}[1]{\\mathbf{#1}}u = \\frac{x}{l} v = \\frac{y}{l}</script></html>"
      ],
      "text/plain": [
       "u == x/l v == y/l"
      ]
     },
     "metadata": {},
     "output_type": "display_data"
    }
   ],
   "source": [
    "pretty_print(solve(eq3, l)[0])\n",
    "pretty_print(solve(eq1, u)[0], solve(eq2, v)[0])\n",
    "del o_n, x, y, z, u, v, l, p, s, lhs, rhs, eq1, eq2, eq3"
   ]
  },
  {
   "cell_type": "code",
   "execution_count": 5,
   "metadata": {},
   "outputs": [],
   "source": [
    "On = (0, 0, 1)\n",
    "Os = (0, 0, -1)\n",
    "Cn = stereographic(On)\n",
    "Cs = stereographic(Os)"
   ]
  },
  {
   "cell_type": "markdown",
   "metadata": {},
   "source": [
    "$\\therefore$ the charts with chart coordinates given by $u$ and $v$ are given by.\n",
    "\n",
    "North pole:"
   ]
  },
  {
   "cell_type": "code",
   "execution_count": 6,
   "metadata": {},
   "outputs": [
    {
     "data": {
      "text/html": [
       "<html><script type=\"math/tex; mode=display\">\\newcommand{\\Bold}[1]{\\mathbf{#1}}-\\frac{x}{z - 1} \\verb|,| -\\frac{y}{z - 1}</script></html>"
      ],
      "text/plain": [
       "-x/(z - 1) ', ' -y/(z - 1)"
      ]
     },
     "metadata": {},
     "output_type": "display_data"
    }
   ],
   "source": [
    "cn_0 = Cn[0].rhs()\n",
    "cn_1 = Cn[1].rhs()\n",
    "pretty_print(cn_0, ', ' , cn_1)"
   ]
  },
  {
   "cell_type": "markdown",
   "metadata": {},
   "source": [
    "South pole:"
   ]
  },
  {
   "cell_type": "code",
   "execution_count": 7,
   "metadata": {},
   "outputs": [
    {
     "data": {
      "text/html": [
       "<html><script type=\"math/tex; mode=display\">\\newcommand{\\Bold}[1]{\\mathbf{#1}}\\frac{x}{z + 1} \\verb|,| \\frac{y}{z + 1}</script></html>"
      ],
      "text/plain": [
       "x/(z + 1) ', ' y/(z + 1)"
      ]
     },
     "metadata": {},
     "output_type": "display_data"
    }
   ],
   "source": [
    "cs_0 = Cs[0].rhs()\n",
    "cs_1 = Cs[1].rhs()\n",
    "pretty_print(cs_0, \", \", cs_1)"
   ]
  },
  {
   "cell_type": "markdown",
   "metadata": {},
   "source": [
    "## Visualization\n",
    "To visualize the manifold and charts see the figure below which demonstrates manifold points $(\\frac{1}{2}, \\frac{1}{2},\\frac{1}{\\sqrt{2}})$ and\n",
    "$(\\frac{1}{2}, \\frac{1}{2},-\\frac{1}{\\sqrt{2}})$ projected to the plane z = 0:"
   ]
  },
  {
   "cell_type": "code",
   "execution_count": 8,
   "metadata": {},
   "outputs": [
    {
     "data": {
      "text/html": [
       "\n",
       "<iframe srcdoc=\"<!DOCTYPE html>\n",
       "<html>\n",
       "<head>\n",
       "<title></title>\n",
       "<meta charset=&quot;utf-8&quot;>\n",
       "<meta name=viewport content=&quot;width=device-width, user-scalable=no, minimum-scale=1.0, maximum-scale=1.0&quot;>\n",
       "<style>\n",
       "\n",
       "    body { margin: 0px; overflow: hidden; }\n",
       "\n",
       "    #menu-container { position: absolute; bottom: 30px; right: 40px; }\n",
       "\n",
       "    #menu-content { position: absolute; bottom: 0px; right: 0px;\n",
       "                    display: none; background-color: #F5F5F5; border-bottom: 1px solid black;\n",
       "                    border-right: 1px solid black; border-left: 1px solid black; }\n",
       "\n",
       "    #menu-content div { border-top: 1px solid black; padding: 10px; white-space: nowrap; }\n",
       "  \n",
       "</style>\n",
       "</head>\n",
       "\n",
       "<body>\n",
       "\n",
       "<script src=&quot;/nbextensions/threejs/build/three.min.js&quot;></script>\n",
       "<script src=&quot;/nbextensions/threejs/examples/js/controls/OrbitControls.js&quot;></script>\n",
       "<script>\n",
       "  if ( !window.THREE ) document.write(' \\\n",
       "<script src=&quot;https://cdn.jsdelivr.net/gh/mrdoob/three.js@r112/build/three.min.js&quot;><\\/script> \\\n",
       "<script src=&quot;https://cdn.jsdelivr.net/gh/mrdoob/three.js@r112/examples/js/controls/OrbitControls.js&quot;><\\/script> \\\n",
       "            ');\n",
       "</script>\n",
       "        \n",
       "<script>\n",
       "\n",
       "    var scene = new THREE.Scene();\n",
       "\n",
       "    var renderer = new THREE.WebGLRenderer( { antialias: true, preserveDrawingBuffer: true } );\n",
       "    renderer.setPixelRatio( window.devicePixelRatio );\n",
       "    renderer.setSize( window.innerWidth, window.innerHeight );\n",
       "    renderer.setClearColor( 0xffffff, 1 );\n",
       "    document.body.appendChild( renderer.domElement );\n",
       "\n",
       "    var options = {&quot;aspect_ratio&quot;: [1.0, 1.0, 1.0], &quot;axes&quot;: false, &quot;axes_labels&quot;: [&quot;x&quot;, &quot;y&quot;, &quot;z&quot;], &quot;decimals&quot;: 2, &quot;frame&quot;: true, &quot;projection&quot;: &quot;perspective&quot;};\n",
       "\n",
       "    // When animations are supported by the viewer, the value 'false'\n",
       "    // will be replaced with an option set in Python by the user\n",
       "    var animate = false; // options.animate;\n",
       "\n",
       "    var b = [{&quot;x&quot;:-2.0, &quot;y&quot;:-2.0, &quot;z&quot;:-1.0}, {&quot;x&quot;:2.0, &quot;y&quot;:2.3071463061323034, &quot;z&quot;:1.0}]; // bounds\n",
       "\n",
       "    if ( b[0].x === b[1].x ) {\n",
       "        b[0].x -= 1;\n",
       "        b[1].x += 1;\n",
       "    }\n",
       "    if ( b[0].y === b[1].y ) {\n",
       "        b[0].y -= 1;\n",
       "        b[1].y += 1;\n",
       "    }\n",
       "    if ( b[0].z === b[1].z ) {\n",
       "        b[0].z -= 1;\n",
       "        b[1].z += 1;\n",
       "    }\n",
       "\n",
       "    var rRange = Math.sqrt( Math.pow( b[1].x - b[0].x, 2 )\n",
       "                            + Math.pow( b[1].y - b[0].y, 2 ) );\n",
       "    var xRange = b[1].x - b[0].x;\n",
       "    var yRange = b[1].y - b[0].y;\n",
       "    var zRange = b[1].z - b[0].z;\n",
       "\n",
       "    var ar = options.aspect_ratio;\n",
       "    var a = [ ar[0], ar[1], ar[2] ]; // aspect multipliers\n",
       "    var autoAspect = 2.5;\n",
       "    if ( zRange > autoAspect * rRange && a[2] === 1 ) a[2] = autoAspect * rRange / zRange;\n",
       "\n",
       "    // Distance from (xMid,yMid,zMid) to any corner of the bounding box, after applying aspect_ratio.\n",
       "    var midToCorner = Math.sqrt( a[0]*a[0]*xRange*xRange + a[1]*a[1]*yRange*yRange + a[2]*a[2]*zRange*zRange ) / 2;\n",
       "\n",
       "    var xMid = ( b[0].x + b[1].x ) / 2;\n",
       "    var yMid = ( b[0].y + b[1].y ) / 2;\n",
       "    var zMid = ( b[0].z + b[1].z ) / 2;\n",
       "\n",
       "    var box = new THREE.Geometry();\n",
       "    box.vertices.push( new THREE.Vector3( a[0]*b[0].x, a[1]*b[0].y, a[2]*b[0].z ) );\n",
       "    box.vertices.push( new THREE.Vector3( a[0]*b[1].x, a[1]*b[1].y, a[2]*b[1].z ) );\n",
       "    var boxMesh = new THREE.Line( box );\n",
       "    if ( options.frame ) scene.add( new THREE.BoxHelper( boxMesh, 'black' ) );\n",
       "\n",
       "    if ( options.axes_labels ) {\n",
       "\n",
       "        var d = options.decimals; // decimals\n",
       "        var offsetRatio = 0.1;\n",
       "        var al = options.axes_labels;\n",
       "\n",
       "        var offset = offsetRatio * a[1]*( b[1].y - b[0].y );\n",
       "        var xm = xMid.toFixed(d);\n",
       "        if ( /^-0.?0*$/.test(xm) ) xm = xm.substr(1);\n",
       "        addLabel( al[0] + '=' + xm, a[0]*xMid, a[1]*b[1].y+offset, a[2]*b[0].z );\n",
       "        addLabel( ( b[0].x ).toFixed(d), a[0]*b[0].x, a[1]*b[1].y+offset, a[2]*b[0].z );\n",
       "        addLabel( ( b[1].x ).toFixed(d), a[0]*b[1].x, a[1]*b[1].y+offset, a[2]*b[0].z );\n",
       "\n",
       "        var offset = offsetRatio * a[0]*( b[1].x - b[0].x );\n",
       "        var ym = yMid.toFixed(d);\n",
       "        if ( /^-0.?0*$/.test(ym) ) ym = ym.substr(1);\n",
       "        addLabel( al[1] + '=' + ym, a[0]*b[1].x+offset, a[1]*yMid, a[2]*b[0].z );\n",
       "        addLabel( ( b[0].y ).toFixed(d), a[0]*b[1].x+offset, a[1]*b[0].y, a[2]*b[0].z );\n",
       "        addLabel( ( b[1].y ).toFixed(d), a[0]*b[1].x+offset, a[1]*b[1].y, a[2]*b[0].z );\n",
       "\n",
       "        var offset = offsetRatio * a[1]*( b[1].y - b[0].y );\n",
       "        var zm = zMid.toFixed(d);\n",
       "        if ( /^-0.?0*$/.test(zm) ) zm = zm.substr(1);\n",
       "        addLabel( al[2] + '=' + zm, a[0]*b[1].x, a[1]*b[0].y-offset, a[2]*zMid );\n",
       "        addLabel( ( b[0].z ).toFixed(d), a[0]*b[1].x, a[1]*b[0].y-offset, a[2]*b[0].z );\n",
       "        addLabel( ( b[1].z ).toFixed(d), a[0]*b[1].x, a[1]*b[0].y-offset, a[2]*b[1].z );\n",
       "\n",
       "    }\n",
       "\n",
       "    function addLabel( text, x, y, z ) {\n",
       "\n",
       "        var fontsize = 14;\n",
       "\n",
       "        var canvas = document.createElement( 'canvas' );\n",
       "        var pixelRatio = Math.round( window.devicePixelRatio );\n",
       "        canvas.width = 128 * pixelRatio;\n",
       "        canvas.height = 32 * pixelRatio; // powers of two\n",
       "        canvas.style.width = '128px';\n",
       "        canvas.style.height = '32px';\n",
       "\n",
       "        var context = canvas.getContext( '2d' );\n",
       "        context.scale( pixelRatio, pixelRatio );\n",
       "        context.fillStyle = 'black';\n",
       "        context.font = fontsize + 'px monospace';\n",
       "        context.textAlign = 'center';\n",
       "        context.textBaseline = 'middle';\n",
       "        context.fillText( text, canvas.width/2/pixelRatio, canvas.height/2/pixelRatio );\n",
       "\n",
       "        var texture = new THREE.Texture( canvas );\n",
       "        texture.needsUpdate = true;\n",
       "\n",
       "        var sprite = new THREE.Sprite( new THREE.SpriteMaterial( { map: texture } ) );\n",
       "        sprite.position.set( x, y, z );\n",
       "\n",
       "        // Set the initial scale based on plot size to accomodate orthographic projection.\n",
       "        // For other projections, the scale will get reset each frame based on camera distance.\n",
       "        var scale = midToCorner/2;\n",
       "        sprite.scale.set( scale, scale*.25 ); // ratio of canvas width to height\n",
       "\n",
       "        scene.add( sprite );\n",
       "\n",
       "    }\n",
       "\n",
       "    if ( options.axes ) scene.add( new THREE.AxesHelper( Math.min( a[0]*b[1].x, a[1]*b[1].y, a[2]*b[1].z ) ) );\n",
       "\n",
       "    var camera = createCamera();\n",
       "    camera.up.set( 0, 0, 1 );\n",
       "    camera.position.set( a[0]*(xMid+xRange), a[1]*(yMid+yRange), a[2]*(zMid+zRange) );\n",
       "\n",
       "    function createCamera() {\n",
       "\n",
       "        var aspect = window.innerWidth / window.innerHeight;\n",
       "\n",
       "        if ( options.projection === 'orthographic' ) {\n",
       "            var camera = new THREE.OrthographicCamera( -1, 1, 1, -1, -1000, 1000 );\n",
       "            updateCameraAspect( camera, aspect );\n",
       "            return camera;\n",
       "        }\n",
       "\n",
       "        return new THREE.PerspectiveCamera( 45, aspect, 0.1, 1000 );\n",
       "\n",
       "    }\n",
       "\n",
       "    function updateCameraAspect( camera, aspect ) {\n",
       "\n",
       "        if ( camera.isPerspectiveCamera ) {\n",
       "            camera.aspect = aspect;\n",
       "        } else if ( camera.isOrthographicCamera ) {\n",
       "            // Fit the camera frustum to the bounding box's diagonal so that the entire plot fits\n",
       "            // within at the default zoom level and camera position.\n",
       "            if ( aspect > 1 ) { // Wide window\n",
       "                camera.top = midToCorner;\n",
       "                camera.right = midToCorner * aspect;\n",
       "            } else { // Tall or square window\n",
       "                camera.top = midToCorner / aspect;\n",
       "                camera.right = midToCorner;\n",
       "            }\n",
       "            camera.bottom = -camera.top;\n",
       "            camera.left = -camera.right;\n",
       "        }\n",
       "\n",
       "        camera.updateProjectionMatrix();\n",
       "\n",
       "    }\n",
       "\n",
       "    var lights = [{&quot;x&quot;:-5, &quot;y&quot;:3, &quot;z&quot;:0, &quot;color&quot;:&quot;#7f7f7f&quot;, &quot;parent&quot;:&quot;camera&quot;}];\n",
       "    for ( var i=0 ; i < lights.length ; i++ ) {\n",
       "        var light = new THREE.DirectionalLight( lights[i].color, 1 );\n",
       "        light.position.set( a[0]*lights[i].x, a[1]*lights[i].y, a[2]*lights[i].z );\n",
       "        if ( lights[i].parent === 'camera' ) {\n",
       "            light.target.position.set( a[0]*xMid, a[1]*yMid, a[2]*zMid );\n",
       "            scene.add( light.target );\n",
       "            camera.add( light );\n",
       "        } else scene.add( light );\n",
       "    }\n",
       "    scene.add( camera );\n",
       "\n",
       "    var ambient = {&quot;color&quot;:&quot;#7f7f7f&quot;};\n",
       "    scene.add( new THREE.AmbientLight( ambient.color, 1 ) );\n",
       "\n",
       "    var controls = new THREE.OrbitControls( camera, renderer.domElement );\n",
       "    controls.target.set( a[0]*xMid, a[1]*yMid, a[2]*zMid );\n",
       "    controls.addEventListener( 'change', function() { if ( !animate ) render(); } );\n",
       "\n",
       "    window.addEventListener( 'resize', function() {\n",
       "        \n",
       "        renderer.setSize( window.innerWidth, window.innerHeight );\n",
       "        updateCameraAspect( camera, window.innerWidth / window.innerHeight );\n",
       "        if ( !animate ) render();\n",
       "        \n",
       "    } );\n",
       "\n",
       "    var texts = [{&quot;text&quot;:&quot;  (0.50,0.50,0.71)&quot;, &quot;x&quot;:0.5, &quot;y&quot;:0.5, &quot;z&quot;:0.9071135624381277},{&quot;text&quot;:&quot;  (1.71,1.71)&quot;, &quot;x&quot;:1.7071463061323036, &quot;y&quot;:2.3071463061323034, &quot;z&quot;:0.2},{&quot;text&quot;:&quot;  (0.50,0.50,-0.71)&quot;, &quot;x&quot;:0.5, &quot;y&quot;:0.5, &quot;z&quot;:-0.9071135624381277}];\n",
       "    for ( var i=0 ; i < texts.length ; i++ )\n",
       "        addLabel( texts[i].text, a[0]*texts[i].x, a[1]*texts[i].y, a[2]*texts[i].z );\n",
       "\n",
       "    var points = [{&quot;point&quot;:[0.0, 0.0, 1.0], &quot;size&quot;:20, &quot;color&quot;:&quot;blue&quot;, &quot;opacity&quot;:1.0},{&quot;point&quot;:[0.5, 0.5, 0.7071135624381276], &quot;size&quot;:20, &quot;color&quot;:&quot;blue&quot;, &quot;opacity&quot;:1.0},{&quot;point&quot;:[1.7071463061323036, 1.7071463061323036, 0.0], &quot;size&quot;:20, &quot;color&quot;:&quot;blue&quot;, &quot;opacity&quot;:1.0},{&quot;point&quot;:[0.0, 0.0, -1.0], &quot;size&quot;:20, &quot;color&quot;:&quot;blue&quot;, &quot;opacity&quot;:1.0},{&quot;point&quot;:[0.5, 0.5, -0.7071135624381276], &quot;size&quot;:20, &quot;color&quot;:&quot;blue&quot;, &quot;opacity&quot;:1.0},{&quot;point&quot;:[1.7071463061323036, 1.7071463061323036, 0.0], &quot;size&quot;:20, &quot;color&quot;:&quot;blue&quot;, &quot;opacity&quot;:1.0}];\n",
       "    for ( var i=0 ; i < points.length ; i++ ) addPoint( points[i] );\n",
       "\n",
       "    function addPoint( json ) {\n",
       "\n",
       "        var geometry = new THREE.Geometry();\n",
       "        var v = json.point;\n",
       "        geometry.vertices.push( new THREE.Vector3( a[0]*v[0], a[1]*v[1], a[2]*v[2] ) );\n",
       "\n",
       "        var canvas = document.createElement( 'canvas' );\n",
       "        canvas.width = 128;\n",
       "        canvas.height = 128;\n",
       "\n",
       "        var context = canvas.getContext( '2d' );\n",
       "        context.arc( 64, 64, 64, 0, 2 * Math.PI );\n",
       "        context.fillStyle = json.color;\n",
       "        context.fill();\n",
       "\n",
       "        var texture = new THREE.Texture( canvas );\n",
       "        texture.needsUpdate = true;\n",
       "\n",
       "        var transparent = json.opacity < 1 ? true : false;\n",
       "        var size = camera.isOrthographicCamera ? json.size : json.size/100;\n",
       "        var material = new THREE.PointsMaterial( { size: size, map: texture,\n",
       "                                                   transparent: transparent, opacity: json.opacity,\n",
       "                                                   alphaTest: .1 } );\n",
       "\n",
       "        var c = new THREE.Vector3();\n",
       "        geometry.computeBoundingBox();\n",
       "        geometry.boundingBox.getCenter( c );\n",
       "        geometry.translate( -c.x, -c.y, -c.z );\n",
       "\n",
       "        var mesh = new THREE.Points( geometry, material );\n",
       "        mesh.position.set( c.x, c.y, c.z );\n",
       "        scene.add( mesh );\n",
       "\n",
       "    }\n",
       "\n",
       "    var lines = [{&quot;points&quot;:[[0.0, 0.0, 1.0], [0.5, 0.5, 0.7071135624381276], [1.7071463061323036, 1.7071463061323036, 0.0]], &quot;color&quot;:&quot;blue&quot;, &quot;opacity&quot;:1.0, &quot;linewidth&quot;:1},{&quot;points&quot;:[[0.0, 0.0, -1.0], [0.5, 0.5, -0.7071135624381276], [1.7071463061323036, 1.7071463061323036, 0.0]], &quot;color&quot;:&quot;blue&quot;, &quot;opacity&quot;:1.0, &quot;linewidth&quot;:1}];\n",
       "    for ( var i=0 ; i < lines.length ; i++ ) addLine( lines[i] );\n",
       "\n",
       "    function addLine( json ) {\n",
       "\n",
       "        var geometry = new THREE.Geometry();\n",
       "        for ( var i=0 ; i < json.points.length ; i++ ) {\n",
       "            var v = json.points[i];\n",
       "            geometry.vertices.push( new THREE.Vector3( a[0]*v[0], a[1]*v[1], a[2]*v[2] ) );\n",
       "        }\n",
       "\n",
       "        var transparent = json.opacity < 1 ? true : false;\n",
       "        var material = new THREE.LineBasicMaterial( { color: json.color, linewidth: json.linewidth,\n",
       "                                                      transparent: transparent, opacity: json.opacity } );\n",
       "\n",
       "        var c = new THREE.Vector3();\n",
       "        geometry.computeBoundingBox();\n",
       "        geometry.boundingBox.getCenter( c );\n",
       "        geometry.translate( -c.x, -c.y, -c.z );\n",
       "\n",
       "        var mesh = new THREE.Line( geometry, material );\n",
       "        mesh.position.set( c.x, c.y, c.z );\n",
       "        scene.add( mesh );\n",
       "\n",
       "    }\n",
       "\n",
       "    var surfaces = [{&quot;vertices&quot;:[{&quot;x&quot;:0,&quot;y&quot;:0,&quot;z&quot;:-1},{&quot;x&quot;:0.154058,&quot;y&quot;:0.0271646,&quot;z&quot;:-0.987688},{&quot;x&quot;:0.156434,&quot;y&quot;:0,&quot;z&quot;:-0.987688},{&quot;x&quot;:0.147,&quot;y&quot;:0.0535037,&quot;z&quot;:-0.987688},{&quot;x&quot;:0.135476,&quot;y&quot;:0.0782172,&quot;z&quot;:-0.987688},{&quot;x&quot;:0.119836,&quot;y&quot;:0.100554,&quot;z&quot;:-0.987688},{&quot;x&quot;:0.100554,&quot;y&quot;:0.119836,&quot;z&quot;:-0.987688},{&quot;x&quot;:0.0782172,&quot;y&quot;:0.135476,&quot;z&quot;:-0.987688},{&quot;x&quot;:0.0535037,&quot;y&quot;:0.147,&quot;z&quot;:-0.987688},{&quot;x&quot;:0.0271646,&quot;y&quot;:0.154058,&quot;z&quot;:-0.987688},{&quot;x&quot;:9.57885e-18,&quot;y&quot;:0.156434,&quot;z&quot;:-0.987688},{&quot;x&quot;:-0.0271646,&quot;y&quot;:0.154058,&quot;z&quot;:-0.987688},{&quot;x&quot;:-0.0535037,&quot;y&quot;:0.147,&quot;z&quot;:-0.987688},{&quot;x&quot;:-0.0782172,&quot;y&quot;:0.135476,&quot;z&quot;:-0.987688},{&quot;x&quot;:-0.100554,&quot;y&quot;:0.119836,&quot;z&quot;:-0.987688},{&quot;x&quot;:-0.119836,&quot;y&quot;:0.100554,&quot;z&quot;:-0.987688},{&quot;x&quot;:-0.135476,&quot;y&quot;:0.0782172,&quot;z&quot;:-0.987688},{&quot;x&quot;:-0.147,&quot;y&quot;:0.0535037,&quot;z&quot;:-0.987688},{&quot;x&quot;:-0.154058,&quot;y&quot;:0.0271646,&quot;z&quot;:-0.987688},{&quot;x&quot;:-0.156434,&quot;y&quot;:1.91577e-17,&quot;z&quot;:-0.987688},{&quot;x&quot;:-0.154058,&quot;y&quot;:-0.0271646,&quot;z&quot;:-0.987688},{&quot;x&quot;:-0.147,&quot;y&quot;:-0.0535037,&quot;z&quot;:-0.987688},{&quot;x&quot;:-0.135476,&quot;y&quot;:-0.0782172,&quot;z&quot;:-0.987688},{&quot;x&quot;:-0.119836,&quot;y&quot;:-0.100554,&quot;z&quot;:-0.987688},{&quot;x&quot;:-0.100554,&quot;y&quot;:-0.119836,&quot;z&quot;:-0.987688},{&quot;x&quot;:-0.0782172,&quot;y&quot;:-0.135476,&quot;z&quot;:-0.987688},{&quot;x&quot;:-0.0535037,&quot;y&quot;:-0.147,&quot;z&quot;:-0.987688},{&quot;x&quot;:-0.0271646,&quot;y&quot;:-0.154058,&quot;z&quot;:-0.987688},{&quot;x&quot;:-2.87365e-17,&quot;y&quot;:-0.156434,&quot;z&quot;:-0.987688},{&quot;x&quot;:0.0271646,&quot;y&quot;:-0.154058,&quot;z&quot;:-0.987688},{&quot;x&quot;:0.0535037,&quot;y&quot;:-0.147,&quot;z&quot;:-0.987688},{&quot;x&quot;:0.0782172,&quot;y&quot;:-0.135476,&quot;z&quot;:-0.987688},{&quot;x&quot;:0.100554,&quot;y&quot;:-0.119836,&quot;z&quot;:-0.987688},{&quot;x&quot;:0.119836,&quot;y&quot;:-0.100554,&quot;z&quot;:-0.987688},{&quot;x&quot;:0.135476,&quot;y&quot;:-0.0782172,&quot;z&quot;:-0.987688},{&quot;x&quot;:0.147,&quot;y&quot;:-0.0535037,&quot;z&quot;:-0.987688},{&quot;x&quot;:0.154058,&quot;y&quot;:-0.0271646,&quot;z&quot;:-0.987688},{&quot;x&quot;:0.304322,&quot;y&quot;:0.0536602,&quot;z&quot;:-0.951057},{&quot;x&quot;:0.309017,&quot;y&quot;:0,&quot;z&quot;:-0.951057},{&quot;x&quot;:0.290381,&quot;y&quot;:0.10569,&quot;z&quot;:-0.951057},{&quot;x&quot;:0.267617,&quot;y&quot;:0.154508,&quot;z&quot;:-0.951057},{&quot;x&quot;:0.236721,&quot;y&quot;:0.198632,&quot;z&quot;:-0.951057},{&quot;x&quot;:0.198632,&quot;y&quot;:0.236721,&quot;z&quot;:-0.951057},{&quot;x&quot;:0.154508,&quot;y&quot;:0.267617,&quot;z&quot;:-0.951057},{&quot;x&quot;:0.10569,&quot;y&quot;:0.290381,&quot;z&quot;:-0.951057},{&quot;x&quot;:0.0536602,&quot;y&quot;:0.304322,&quot;z&quot;:-0.951057},{&quot;x&quot;:1.89218e-17,&quot;y&quot;:0.309017,&quot;z&quot;:-0.951057},{&quot;x&quot;:-0.0536602,&quot;y&quot;:0.304322,&quot;z&quot;:-0.951057},{&quot;x&quot;:-0.10569,&quot;y&quot;:0.290381,&quot;z&quot;:-0.951057},{&quot;x&quot;:-0.154508,&quot;y&quot;:0.267617,&quot;z&quot;:-0.951057},{&quot;x&quot;:-0.198632,&quot;y&quot;:0.236721,&quot;z&quot;:-0.951057},{&quot;x&quot;:-0.236721,&quot;y&quot;:0.198632,&quot;z&quot;:-0.951057},{&quot;x&quot;:-0.267617,&quot;y&quot;:0.154508,&quot;z&quot;:-0.951057},{&quot;x&quot;:-0.290381,&quot;y&quot;:0.10569,&quot;z&quot;:-0.951057},{&quot;x&quot;:-0.304322,&quot;y&quot;:0.0536602,&quot;z&quot;:-0.951057},{&quot;x&quot;:-0.309017,&quot;y&quot;:3.78437e-17,&quot;z&quot;:-0.951057},{&quot;x&quot;:-0.304322,&quot;y&quot;:-0.0536602,&quot;z&quot;:-0.951057},{&quot;x&quot;:-0.290381,&quot;y&quot;:-0.10569,&quot;z&quot;:-0.951057},{&quot;x&quot;:-0.267617,&quot;y&quot;:-0.154508,&quot;z&quot;:-0.951057},{&quot;x&quot;:-0.236721,&quot;y&quot;:-0.198632,&quot;z&quot;:-0.951057},{&quot;x&quot;:-0.198632,&quot;y&quot;:-0.236721,&quot;z&quot;:-0.951057},{&quot;x&quot;:-0.154508,&quot;y&quot;:-0.267617,&quot;z&quot;:-0.951057},{&quot;x&quot;:-0.10569,&quot;y&quot;:-0.290381,&quot;z&quot;:-0.951057},{&quot;x&quot;:-0.0536602,&quot;y&quot;:-0.304322,&quot;z&quot;:-0.951057},{&quot;x&quot;:-5.67655e-17,&quot;y&quot;:-0.309017,&quot;z&quot;:-0.951057},{&quot;x&quot;:0.0536602,&quot;y&quot;:-0.304322,&quot;z&quot;:-0.951057},{&quot;x&quot;:0.10569,&quot;y&quot;:-0.290381,&quot;z&quot;:-0.951057},{&quot;x&quot;:0.154508,&quot;y&quot;:-0.267617,&quot;z&quot;:-0.951057},{&quot;x&quot;:0.198632,&quot;y&quot;:-0.236721,&quot;z&quot;:-0.951057},{&quot;x&quot;:0.236721,&quot;y&quot;:-0.198632,&quot;z&quot;:-0.951057},{&quot;x&quot;:0.267617,&quot;y&quot;:-0.154508,&quot;z&quot;:-0.951057},{&quot;x&quot;:0.290381,&quot;y&quot;:-0.10569,&quot;z&quot;:-0.951057},{&quot;x&quot;:0.304322,&quot;y&quot;:-0.0536602,&quot;z&quot;:-0.951057},{&quot;x&quot;:0.447093,&quot;y&quot;:0.0788346,&quot;z&quot;:-0.891007},{&quot;x&quot;:0.45399,&quot;y&quot;:0,&quot;z&quot;:-0.891007},{&quot;x&quot;:0.426612,&quot;y&quot;:0.155274,&quot;z&quot;:-0.891007},{&quot;x&quot;:0.393167,&quot;y&quot;:0.226995,&quot;z&quot;:-0.891007},{&quot;x&quot;:0.347777,&quot;y&quot;:0.291819,&quot;z&quot;:-0.891007},{&quot;x&quot;:0.291819,&quot;y&quot;:0.347777,&quot;z&quot;:-0.891007},{&quot;x&quot;:0.226995,&quot;y&quot;:0.393167,&quot;z&quot;:-0.891007},{&quot;x&quot;:0.155274,&quot;y&quot;:0.426612,&quot;z&quot;:-0.891007},{&quot;x&quot;:0.0788346,&quot;y&quot;:0.447093,&quot;z&quot;:-0.891007},{&quot;x&quot;:2.77989e-17,&quot;y&quot;:0.45399,&quot;z&quot;:-0.891007},{&quot;x&quot;:-0.0788346,&quot;y&quot;:0.447093,&quot;z&quot;:-0.891007},{&quot;x&quot;:-0.155274,&quot;y&quot;:0.426612,&quot;z&quot;:-0.891007},{&quot;x&quot;:-0.226995,&quot;y&quot;:0.393167,&quot;z&quot;:-0.891007},{&quot;x&quot;:-0.291819,&quot;y&quot;:0.347777,&quot;z&quot;:-0.891007},{&quot;x&quot;:-0.347777,&quot;y&quot;:0.291819,&quot;z&quot;:-0.891007},{&quot;x&quot;:-0.393167,&quot;y&quot;:0.226995,&quot;z&quot;:-0.891007},{&quot;x&quot;:-0.426612,&quot;y&quot;:0.155274,&quot;z&quot;:-0.891007},{&quot;x&quot;:-0.447093,&quot;y&quot;:0.0788346,&quot;z&quot;:-0.891007},{&quot;x&quot;:-0.45399,&quot;y&quot;:5.55978e-17,&quot;z&quot;:-0.891007},{&quot;x&quot;:-0.447093,&quot;y&quot;:-0.0788346,&quot;z&quot;:-0.891007},{&quot;x&quot;:-0.426612,&quot;y&quot;:-0.155274,&quot;z&quot;:-0.891007},{&quot;x&quot;:-0.393167,&quot;y&quot;:-0.226995,&quot;z&quot;:-0.891007},{&quot;x&quot;:-0.347777,&quot;y&quot;:-0.291819,&quot;z&quot;:-0.891007},{&quot;x&quot;:-0.291819,&quot;y&quot;:-0.347777,&quot;z&quot;:-0.891007},{&quot;x&quot;:-0.226995,&quot;y&quot;:-0.393167,&quot;z&quot;:-0.891007},{&quot;x&quot;:-0.155274,&quot;y&quot;:-0.426612,&quot;z&quot;:-0.891007},{&quot;x&quot;:-0.0788346,&quot;y&quot;:-0.447093,&quot;z&quot;:-0.891007},{&quot;x&quot;:-8.33967e-17,&quot;y&quot;:-0.45399,&quot;z&quot;:-0.891007},{&quot;x&quot;:0.0788346,&quot;y&quot;:-0.447093,&quot;z&quot;:-0.891007},{&quot;x&quot;:0.155274,&quot;y&quot;:-0.426612,&quot;z&quot;:-0.891007},{&quot;x&quot;:0.226995,&quot;y&quot;:-0.393167,&quot;z&quot;:-0.891007},{&quot;x&quot;:0.291819,&quot;y&quot;:-0.347777,&quot;z&quot;:-0.891007},{&quot;x&quot;:0.347777,&quot;y&quot;:-0.291819,&quot;z&quot;:-0.891007},{&quot;x&quot;:0.393167,&quot;y&quot;:-0.226995,&quot;z&quot;:-0.891007},{&quot;x&quot;:0.426612,&quot;y&quot;:-0.155274,&quot;z&quot;:-0.891007},{&quot;x&quot;:0.447093,&quot;y&quot;:-0.0788346,&quot;z&quot;:-0.891007},{&quot;x&quot;:0.578855,&quot;y&quot;:0.102068,&quot;z&quot;:-0.809017},{&quot;x&quot;:0.587785,&quot;y&quot;:0,&quot;z&quot;:-0.809017},{&quot;x&quot;:0.552337,&quot;y&quot;:0.201034,&quot;z&quot;:-0.809017},{&quot;x&quot;:0.509037,&quot;y&quot;:0.293893,&quot;z&quot;:-0.809017},{&quot;x&quot;:0.45027,&quot;y&quot;:0.377821,&quot;z&quot;:-0.809017},{&quot;x&quot;:0.377821,&quot;y&quot;:0.45027,&quot;z&quot;:-0.809017},{&quot;x&quot;:0.293893,&quot;y&quot;:0.509037,&quot;z&quot;:-0.809017},{&quot;x&quot;:0.201034,&quot;y&quot;:0.552337,&quot;z&quot;:-0.809017},{&quot;x&quot;:0.102068,&quot;y&quot;:0.578855,&quot;z&quot;:-0.809017},{&quot;x&quot;:3.59915e-17,&quot;y&quot;:0.587785,&quot;z&quot;:-0.809017},{&quot;x&quot;:-0.102068,&quot;y&quot;:0.578855,&quot;z&quot;:-0.809017},{&quot;x&quot;:-0.201034,&quot;y&quot;:0.552337,&quot;z&quot;:-0.809017},{&quot;x&quot;:-0.293893,&quot;y&quot;:0.509037,&quot;z&quot;:-0.809017},{&quot;x&quot;:-0.377821,&quot;y&quot;:0.45027,&quot;z&quot;:-0.809017},{&quot;x&quot;:-0.45027,&quot;y&quot;:0.377821,&quot;z&quot;:-0.809017},{&quot;x&quot;:-0.509037,&quot;y&quot;:0.293893,&quot;z&quot;:-0.809017},{&quot;x&quot;:-0.552337,&quot;y&quot;:0.201034,&quot;z&quot;:-0.809017},{&quot;x&quot;:-0.578855,&quot;y&quot;:0.102068,&quot;z&quot;:-0.809017},{&quot;x&quot;:-0.587785,&quot;y&quot;:7.19829e-17,&quot;z&quot;:-0.809017},{&quot;x&quot;:-0.578855,&quot;y&quot;:-0.102068,&quot;z&quot;:-0.809017},{&quot;x&quot;:-0.552337,&quot;y&quot;:-0.201034,&quot;z&quot;:-0.809017},{&quot;x&quot;:-0.509037,&quot;y&quot;:-0.293893,&quot;z&quot;:-0.809017},{&quot;x&quot;:-0.45027,&quot;y&quot;:-0.377821,&quot;z&quot;:-0.809017},{&quot;x&quot;:-0.377821,&quot;y&quot;:-0.45027,&quot;z&quot;:-0.809017},{&quot;x&quot;:-0.293893,&quot;y&quot;:-0.509037,&quot;z&quot;:-0.809017},{&quot;x&quot;:-0.201034,&quot;y&quot;:-0.552337,&quot;z&quot;:-0.809017},{&quot;x&quot;:-0.102068,&quot;y&quot;:-0.578855,&quot;z&quot;:-0.809017},{&quot;x&quot;:-1.07974e-16,&quot;y&quot;:-0.587785,&quot;z&quot;:-0.809017},{&quot;x&quot;:0.102068,&quot;y&quot;:-0.578855,&quot;z&quot;:-0.809017},{&quot;x&quot;:0.201034,&quot;y&quot;:-0.552337,&quot;z&quot;:-0.809017},{&quot;x&quot;:0.293893,&quot;y&quot;:-0.509037,&quot;z&quot;:-0.809017},{&quot;x&quot;:0.377821,&quot;y&quot;:-0.45027,&quot;z&quot;:-0.809017},{&quot;x&quot;:0.45027,&quot;y&quot;:-0.377821,&quot;z&quot;:-0.809017},{&quot;x&quot;:0.509037,&quot;y&quot;:-0.293893,&quot;z&quot;:-0.809017},{&quot;x&quot;:0.552337,&quot;y&quot;:-0.201034,&quot;z&quot;:-0.809017},{&quot;x&quot;:0.578855,&quot;y&quot;:-0.102068,&quot;z&quot;:-0.809017},{&quot;x&quot;:0.696364,&quot;y&quot;:0.122788,&quot;z&quot;:-0.707107},{&quot;x&quot;:0.707107,&quot;y&quot;:0,&quot;z&quot;:-0.707107},{&quot;x&quot;:0.664463,&quot;y&quot;:0.241845,&quot;z&quot;:-0.707107},{&quot;x&quot;:0.612372,&quot;y&quot;:0.353553,&quot;z&quot;:-0.707107},{&quot;x&quot;:0.541675,&quot;y&quot;:0.454519,&quot;z&quot;:-0.707107},{&quot;x&quot;:0.454519,&quot;y&quot;:0.541675,&quot;z&quot;:-0.707107},{&quot;x&quot;:0.353553,&quot;y&quot;:0.612372,&quot;z&quot;:-0.707107},{&quot;x&quot;:0.241845,&quot;y&quot;:0.664463,&quot;z&quot;:-0.707107},{&quot;x&quot;:0.122788,&quot;y&quot;:0.696364,&quot;z&quot;:-0.707107},{&quot;x&quot;:4.32978e-17,&quot;y&quot;:0.707107,&quot;z&quot;:-0.707107},{&quot;x&quot;:-0.122788,&quot;y&quot;:0.696364,&quot;z&quot;:-0.707107},{&quot;x&quot;:-0.241845,&quot;y&quot;:0.664463,&quot;z&quot;:-0.707107},{&quot;x&quot;:-0.353553,&quot;y&quot;:0.612372,&quot;z&quot;:-0.707107},{&quot;x&quot;:-0.454519,&quot;y&quot;:0.541675,&quot;z&quot;:-0.707107},{&quot;x&quot;:-0.541675,&quot;y&quot;:0.454519,&quot;z&quot;:-0.707107},{&quot;x&quot;:-0.612372,&quot;y&quot;:0.353553,&quot;z&quot;:-0.707107},{&quot;x&quot;:-0.664463,&quot;y&quot;:0.241845,&quot;z&quot;:-0.707107},{&quot;x&quot;:-0.696364,&quot;y&quot;:0.122788,&quot;z&quot;:-0.707107},{&quot;x&quot;:-0.707107,&quot;y&quot;:8.65956e-17,&quot;z&quot;:-0.707107},{&quot;x&quot;:-0.696364,&quot;y&quot;:-0.122788,&quot;z&quot;:-0.707107},{&quot;x&quot;:-0.664463,&quot;y&quot;:-0.241845,&quot;z&quot;:-0.707107},{&quot;x&quot;:-0.612372,&quot;y&quot;:-0.353553,&quot;z&quot;:-0.707107},{&quot;x&quot;:-0.541675,&quot;y&quot;:-0.454519,&quot;z&quot;:-0.707107},{&quot;x&quot;:-0.454519,&quot;y&quot;:-0.541675,&quot;z&quot;:-0.707107},{&quot;x&quot;:-0.353553,&quot;y&quot;:-0.612372,&quot;z&quot;:-0.707107},{&quot;x&quot;:-0.241845,&quot;y&quot;:-0.664463,&quot;z&quot;:-0.707107},{&quot;x&quot;:-0.122788,&quot;y&quot;:-0.696364,&quot;z&quot;:-0.707107},{&quot;x&quot;:-1.29893e-16,&quot;y&quot;:-0.707107,&quot;z&quot;:-0.707107},{&quot;x&quot;:0.122788,&quot;y&quot;:-0.696364,&quot;z&quot;:-0.707107},{&quot;x&quot;:0.241845,&quot;y&quot;:-0.664463,&quot;z&quot;:-0.707107},{&quot;x&quot;:0.353553,&quot;y&quot;:-0.612372,&quot;z&quot;:-0.707107},{&quot;x&quot;:0.454519,&quot;y&quot;:-0.541675,&quot;z&quot;:-0.707107},{&quot;x&quot;:0.541675,&quot;y&quot;:-0.454519,&quot;z&quot;:-0.707107},{&quot;x&quot;:0.612372,&quot;y&quot;:-0.353553,&quot;z&quot;:-0.707107},{&quot;x&quot;:0.664463,&quot;y&quot;:-0.241845,&quot;z&quot;:-0.707107},{&quot;x&quot;:0.696364,&quot;y&quot;:-0.122788,&quot;z&quot;:-0.707107},{&quot;x&quot;:0.796726,&quot;y&quot;:0.140484,&quot;z&quot;:-0.587785},{&quot;x&quot;:0.809017,&quot;y&quot;:0,&quot;z&quot;:-0.587785},{&quot;x&quot;:0.760227,&quot;y&quot;:0.2767,&quot;z&quot;:-0.587785},{&quot;x&quot;:0.700629,&quot;y&quot;:0.404508,&quot;z&quot;:-0.587785},{&quot;x&quot;:0.619743,&quot;y&quot;:0.520026,&quot;z&quot;:-0.587785},{&quot;x&quot;:0.520026,&quot;y&quot;:0.619743,&quot;z&quot;:-0.587785},{&quot;x&quot;:0.404508,&quot;y&quot;:0.700629,&quot;z&quot;:-0.587785},{&quot;x&quot;:0.2767,&quot;y&quot;:0.760227,&quot;z&quot;:-0.587785},{&quot;x&quot;:0.140484,&quot;y&quot;:0.796726,&quot;z&quot;:-0.587785},{&quot;x&quot;:4.9538e-17,&quot;y&quot;:0.809017,&quot;z&quot;:-0.587785},{&quot;x&quot;:-0.140484,&quot;y&quot;:0.796726,&quot;z&quot;:-0.587785},{&quot;x&quot;:-0.2767,&quot;y&quot;:0.760227,&quot;z&quot;:-0.587785},{&quot;x&quot;:-0.404508,&quot;y&quot;:0.700629,&quot;z&quot;:-0.587785},{&quot;x&quot;:-0.520026,&quot;y&quot;:0.619743,&quot;z&quot;:-0.587785},{&quot;x&quot;:-0.619743,&quot;y&quot;:0.520026,&quot;z&quot;:-0.587785},{&quot;x&quot;:-0.700629,&quot;y&quot;:0.404508,&quot;z&quot;:-0.587785},{&quot;x&quot;:-0.760227,&quot;y&quot;:0.2767,&quot;z&quot;:-0.587785},{&quot;x&quot;:-0.796726,&quot;y&quot;:0.140484,&quot;z&quot;:-0.587785},{&quot;x&quot;:-0.809017,&quot;y&quot;:9.9076e-17,&quot;z&quot;:-0.587785},{&quot;x&quot;:-0.796726,&quot;y&quot;:-0.140484,&quot;z&quot;:-0.587785},{&quot;x&quot;:-0.760227,&quot;y&quot;:-0.2767,&quot;z&quot;:-0.587785},{&quot;x&quot;:-0.700629,&quot;y&quot;:-0.404508,&quot;z&quot;:-0.587785},{&quot;x&quot;:-0.619743,&quot;y&quot;:-0.520026,&quot;z&quot;:-0.587785},{&quot;x&quot;:-0.520026,&quot;y&quot;:-0.619743,&quot;z&quot;:-0.587785},{&quot;x&quot;:-0.404508,&quot;y&quot;:-0.700629,&quot;z&quot;:-0.587785},{&quot;x&quot;:-0.2767,&quot;y&quot;:-0.760227,&quot;z&quot;:-0.587785},{&quot;x&quot;:-0.140484,&quot;y&quot;:-0.796726,&quot;z&quot;:-0.587785},{&quot;x&quot;:-1.48614e-16,&quot;y&quot;:-0.809017,&quot;z&quot;:-0.587785},{&quot;x&quot;:0.140484,&quot;y&quot;:-0.796726,&quot;z&quot;:-0.587785},{&quot;x&quot;:0.2767,&quot;y&quot;:-0.760227,&quot;z&quot;:-0.587785},{&quot;x&quot;:0.404508,&quot;y&quot;:-0.700629,&quot;z&quot;:-0.587785},{&quot;x&quot;:0.520026,&quot;y&quot;:-0.619743,&quot;z&quot;:-0.587785},{&quot;x&quot;:0.619743,&quot;y&quot;:-0.520026,&quot;z&quot;:-0.587785},{&quot;x&quot;:0.700629,&quot;y&quot;:-0.404508,&quot;z&quot;:-0.587785},{&quot;x&quot;:0.760227,&quot;y&quot;:-0.2767,&quot;z&quot;:-0.587785},{&quot;x&quot;:0.796726,&quot;y&quot;:-0.140484,&quot;z&quot;:-0.587785},{&quot;x&quot;:0.87747,&quot;y&quot;:0.154722,&quot;z&quot;:-0.45399},{&quot;x&quot;:0.891007,&quot;y&quot;:0,&quot;z&quot;:-0.45399},{&quot;x&quot;:0.837272,&quot;y&quot;:0.304742,&quot;z&quot;:-0.45399},{&quot;x&quot;:0.771634,&quot;y&quot;:0.445503,&quot;z&quot;:-0.45399},{&quot;x&quot;:0.682551,&quot;y&quot;:0.572728,&quot;z&quot;:-0.45399},{&quot;x&quot;:0.572728,&quot;y&quot;:0.682551,&quot;z&quot;:-0.45399},{&quot;x&quot;:0.445503,&quot;y&quot;:0.771634,&quot;z&quot;:-0.45399},{&quot;x&quot;:0.304742,&quot;y&quot;:0.837272,&quot;z&quot;:-0.45399},{&quot;x&quot;:0.154722,&quot;y&quot;:0.87747,&quot;z&quot;:-0.45399},{&quot;x&quot;:5.45584e-17,&quot;y&quot;:0.891007,&quot;z&quot;:-0.45399},{&quot;x&quot;:-0.154722,&quot;y&quot;:0.87747,&quot;z&quot;:-0.45399},{&quot;x&quot;:-0.304742,&quot;y&quot;:0.837272,&quot;z&quot;:-0.45399},{&quot;x&quot;:-0.445503,&quot;y&quot;:0.771634,&quot;z&quot;:-0.45399},{&quot;x&quot;:-0.572728,&quot;y&quot;:0.682551,&quot;z&quot;:-0.45399},{&quot;x&quot;:-0.682551,&quot;y&quot;:0.572728,&quot;z&quot;:-0.45399},{&quot;x&quot;:-0.771634,&quot;y&quot;:0.445503,&quot;z&quot;:-0.45399},{&quot;x&quot;:-0.837272,&quot;y&quot;:0.304742,&quot;z&quot;:-0.45399},{&quot;x&quot;:-0.87747,&quot;y&quot;:0.154722,&quot;z&quot;:-0.45399},{&quot;x&quot;:-0.891007,&quot;y&quot;:1.09117e-16,&quot;z&quot;:-0.45399},{&quot;x&quot;:-0.87747,&quot;y&quot;:-0.154722,&quot;z&quot;:-0.45399},{&quot;x&quot;:-0.837272,&quot;y&quot;:-0.304742,&quot;z&quot;:-0.45399},{&quot;x&quot;:-0.771634,&quot;y&quot;:-0.445503,&quot;z&quot;:-0.45399},{&quot;x&quot;:-0.682551,&quot;y&quot;:-0.572728,&quot;z&quot;:-0.45399},{&quot;x&quot;:-0.572728,&quot;y&quot;:-0.682551,&quot;z&quot;:-0.45399},{&quot;x&quot;:-0.445503,&quot;y&quot;:-0.771634,&quot;z&quot;:-0.45399},{&quot;x&quot;:-0.304742,&quot;y&quot;:-0.837272,&quot;z&quot;:-0.45399},{&quot;x&quot;:-0.154722,&quot;y&quot;:-0.87747,&quot;z&quot;:-0.45399},{&quot;x&quot;:-1.63675e-16,&quot;y&quot;:-0.891007,&quot;z&quot;:-0.45399},{&quot;x&quot;:0.154722,&quot;y&quot;:-0.87747,&quot;z&quot;:-0.45399},{&quot;x&quot;:0.304742,&quot;y&quot;:-0.837272,&quot;z&quot;:-0.45399},{&quot;x&quot;:0.445503,&quot;y&quot;:-0.771634,&quot;z&quot;:-0.45399},{&quot;x&quot;:0.572728,&quot;y&quot;:-0.682551,&quot;z&quot;:-0.45399},{&quot;x&quot;:0.682551,&quot;y&quot;:-0.572728,&quot;z&quot;:-0.45399},{&quot;x&quot;:0.771634,&quot;y&quot;:-0.445503,&quot;z&quot;:-0.45399},{&quot;x&quot;:0.837272,&quot;y&quot;:-0.304742,&quot;z&quot;:-0.45399},{&quot;x&quot;:0.87747,&quot;y&quot;:-0.154722,&quot;z&quot;:-0.45399},{&quot;x&quot;:0.936608,&quot;y&quot;:0.165149,&quot;z&quot;:-0.309017},{&quot;x&quot;:0.951057,&quot;y&quot;:0,&quot;z&quot;:-0.309017},{&quot;x&quot;:0.893701,&quot;y&quot;:0.32528,&quot;z&quot;:-0.309017},{&quot;x&quot;:0.823639,&quot;y&quot;:0.475528,&quot;z&quot;:-0.309017},{&quot;x&quot;:0.728552,&quot;y&quot;:0.611327,&quot;z&quot;:-0.309017},{&quot;x&quot;:0.611327,&quot;y&quot;:0.728552,&quot;z&quot;:-0.309017},{&quot;x&quot;:0.475528,&quot;y&quot;:0.823639,&quot;z&quot;:-0.309017},{&quot;x&quot;:0.32528,&quot;y&quot;:0.893701,&quot;z&quot;:-0.309017},{&quot;x&quot;:0.165149,&quot;y&quot;:0.936608,&quot;z&quot;:-0.309017},{&quot;x&quot;:5.82354e-17,&quot;y&quot;:0.951057,&quot;z&quot;:-0.309017},{&quot;x&quot;:-0.165149,&quot;y&quot;:0.936608,&quot;z&quot;:-0.309017},{&quot;x&quot;:-0.32528,&quot;y&quot;:0.893701,&quot;z&quot;:-0.309017},{&quot;x&quot;:-0.475528,&quot;y&quot;:0.823639,&quot;z&quot;:-0.309017},{&quot;x&quot;:-0.611327,&quot;y&quot;:0.728552,&quot;z&quot;:-0.309017},{&quot;x&quot;:-0.728552,&quot;y&quot;:0.611327,&quot;z&quot;:-0.309017},{&quot;x&quot;:-0.823639,&quot;y&quot;:0.475528,&quot;z&quot;:-0.309017},{&quot;x&quot;:-0.893701,&quot;y&quot;:0.32528,&quot;z&quot;:-0.309017},{&quot;x&quot;:-0.936608,&quot;y&quot;:0.165149,&quot;z&quot;:-0.309017},{&quot;x&quot;:-0.951057,&quot;y&quot;:1.16471e-16,&quot;z&quot;:-0.309017},{&quot;x&quot;:-0.936608,&quot;y&quot;:-0.165149,&quot;z&quot;:-0.309017},{&quot;x&quot;:-0.893701,&quot;y&quot;:-0.32528,&quot;z&quot;:-0.309017},{&quot;x&quot;:-0.823639,&quot;y&quot;:-0.475528,&quot;z&quot;:-0.309017},{&quot;x&quot;:-0.728552,&quot;y&quot;:-0.611327,&quot;z&quot;:-0.309017},{&quot;x&quot;:-0.611327,&quot;y&quot;:-0.728552,&quot;z&quot;:-0.309017},{&quot;x&quot;:-0.475528,&quot;y&quot;:-0.823639,&quot;z&quot;:-0.309017},{&quot;x&quot;:-0.32528,&quot;y&quot;:-0.893701,&quot;z&quot;:-0.309017},{&quot;x&quot;:-0.165149,&quot;y&quot;:-0.936608,&quot;z&quot;:-0.309017},{&quot;x&quot;:-1.74706e-16,&quot;y&quot;:-0.951057,&quot;z&quot;:-0.309017},{&quot;x&quot;:0.165149,&quot;y&quot;:-0.936608,&quot;z&quot;:-0.309017},{&quot;x&quot;:0.32528,&quot;y&quot;:-0.893701,&quot;z&quot;:-0.309017},{&quot;x&quot;:0.475528,&quot;y&quot;:-0.823639,&quot;z&quot;:-0.309017},{&quot;x&quot;:0.611327,&quot;y&quot;:-0.728552,&quot;z&quot;:-0.309017},{&quot;x&quot;:0.728552,&quot;y&quot;:-0.611327,&quot;z&quot;:-0.309017},{&quot;x&quot;:0.823639,&quot;y&quot;:-0.475528,&quot;z&quot;:-0.309017},{&quot;x&quot;:0.893701,&quot;y&quot;:-0.32528,&quot;z&quot;:-0.309017},{&quot;x&quot;:0.936608,&quot;y&quot;:-0.165149,&quot;z&quot;:-0.309017},{&quot;x&quot;:0.972683,&quot;y&quot;:0.17151,&quot;z&quot;:-0.156434},{&quot;x&quot;:0.987688,&quot;y&quot;:0,&quot;z&quot;:-0.156434},{&quot;x&quot;:0.928123,&quot;y&quot;:0.337809,&quot;z&quot;:-0.156434},{&quot;x&quot;:0.855363,&quot;y&quot;:0.493844,&quot;z&quot;:-0.156434},{&quot;x&quot;:0.756613,&quot;y&quot;:0.634874,&quot;z&quot;:-0.156434},{&quot;x&quot;:0.634874,&quot;y&quot;:0.756613,&quot;z&quot;:-0.156434},{&quot;x&quot;:0.493844,&quot;y&quot;:0.855363,&quot;z&quot;:-0.156434},{&quot;x&quot;:0.337809,&quot;y&quot;:0.928123,&quot;z&quot;:-0.156434},{&quot;x&quot;:0.17151,&quot;y&quot;:0.972683,&quot;z&quot;:-0.156434},{&quot;x&quot;:6.04785e-17,&quot;y&quot;:0.987688,&quot;z&quot;:-0.156434},{&quot;x&quot;:-0.17151,&quot;y&quot;:0.972683,&quot;z&quot;:-0.156434},{&quot;x&quot;:-0.337809,&quot;y&quot;:0.928123,&quot;z&quot;:-0.156434},{&quot;x&quot;:-0.493844,&quot;y&quot;:0.855363,&quot;z&quot;:-0.156434},{&quot;x&quot;:-0.634874,&quot;y&quot;:0.756613,&quot;z&quot;:-0.156434},{&quot;x&quot;:-0.756613,&quot;y&quot;:0.634874,&quot;z&quot;:-0.156434},{&quot;x&quot;:-0.855363,&quot;y&quot;:0.493844,&quot;z&quot;:-0.156434},{&quot;x&quot;:-0.928123,&quot;y&quot;:0.337809,&quot;z&quot;:-0.156434},{&quot;x&quot;:-0.972683,&quot;y&quot;:0.17151,&quot;z&quot;:-0.156434},{&quot;x&quot;:-0.987688,&quot;y&quot;:1.20957e-16,&quot;z&quot;:-0.156434},{&quot;x&quot;:-0.972683,&quot;y&quot;:-0.17151,&quot;z&quot;:-0.156434},{&quot;x&quot;:-0.928123,&quot;y&quot;:-0.337809,&quot;z&quot;:-0.156434},{&quot;x&quot;:-0.855363,&quot;y&quot;:-0.493844,&quot;z&quot;:-0.156434},{&quot;x&quot;:-0.756613,&quot;y&quot;:-0.634874,&quot;z&quot;:-0.156434},{&quot;x&quot;:-0.634874,&quot;y&quot;:-0.756613,&quot;z&quot;:-0.156434},{&quot;x&quot;:-0.493844,&quot;y&quot;:-0.855363,&quot;z&quot;:-0.156434},{&quot;x&quot;:-0.337809,&quot;y&quot;:-0.928123,&quot;z&quot;:-0.156434},{&quot;x&quot;:-0.17151,&quot;y&quot;:-0.972683,&quot;z&quot;:-0.156434},{&quot;x&quot;:-1.81435e-16,&quot;y&quot;:-0.987688,&quot;z&quot;:-0.156434},{&quot;x&quot;:0.17151,&quot;y&quot;:-0.972683,&quot;z&quot;:-0.156434},{&quot;x&quot;:0.337809,&quot;y&quot;:-0.928123,&quot;z&quot;:-0.156434},{&quot;x&quot;:0.493844,&quot;y&quot;:-0.855363,&quot;z&quot;:-0.156434},{&quot;x&quot;:0.634874,&quot;y&quot;:-0.756613,&quot;z&quot;:-0.156434},{&quot;x&quot;:0.756613,&quot;y&quot;:-0.634874,&quot;z&quot;:-0.156434},{&quot;x&quot;:0.855363,&quot;y&quot;:-0.493844,&quot;z&quot;:-0.156434},{&quot;x&quot;:0.928123,&quot;y&quot;:-0.337809,&quot;z&quot;:-0.156434},{&quot;x&quot;:0.972683,&quot;y&quot;:-0.17151,&quot;z&quot;:-0.156434},{&quot;x&quot;:0.984808,&quot;y&quot;:0.173648,&quot;z&quot;:0},{&quot;x&quot;:1,&quot;y&quot;:0,&quot;z&quot;:0},{&quot;x&quot;:0.939693,&quot;y&quot;:0.34202,&quot;z&quot;:0},{&quot;x&quot;:0.866025,&quot;y&quot;:0.5,&quot;z&quot;:0},{&quot;x&quot;:0.766044,&quot;y&quot;:0.642788,&quot;z&quot;:0},{&quot;x&quot;:0.642788,&quot;y&quot;:0.766044,&quot;z&quot;:0},{&quot;x&quot;:0.5,&quot;y&quot;:0.866025,&quot;z&quot;:0},{&quot;x&quot;:0.34202,&quot;y&quot;:0.939693,&quot;z&quot;:0},{&quot;x&quot;:0.173648,&quot;y&quot;:0.984808,&quot;z&quot;:0},{&quot;x&quot;:6.12323e-17,&quot;y&quot;:1,&quot;z&quot;:0},{&quot;x&quot;:-0.173648,&quot;y&quot;:0.984808,&quot;z&quot;:0},{&quot;x&quot;:-0.34202,&quot;y&quot;:0.939693,&quot;z&quot;:0},{&quot;x&quot;:-0.5,&quot;y&quot;:0.866025,&quot;z&quot;:0},{&quot;x&quot;:-0.642788,&quot;y&quot;:0.766044,&quot;z&quot;:0},{&quot;x&quot;:-0.766044,&quot;y&quot;:0.642788,&quot;z&quot;:0},{&quot;x&quot;:-0.866025,&quot;y&quot;:0.5,&quot;z&quot;:0},{&quot;x&quot;:-0.939693,&quot;y&quot;:0.34202,&quot;z&quot;:0},{&quot;x&quot;:-0.984808,&quot;y&quot;:0.173648,&quot;z&quot;:0},{&quot;x&quot;:-1,&quot;y&quot;:1.22465e-16,&quot;z&quot;:0},{&quot;x&quot;:-0.984808,&quot;y&quot;:-0.173648,&quot;z&quot;:0},{&quot;x&quot;:-0.939693,&quot;y&quot;:-0.34202,&quot;z&quot;:0},{&quot;x&quot;:-0.866025,&quot;y&quot;:-0.5,&quot;z&quot;:0},{&quot;x&quot;:-0.766044,&quot;y&quot;:-0.642788,&quot;z&quot;:0},{&quot;x&quot;:-0.642788,&quot;y&quot;:-0.766044,&quot;z&quot;:0},{&quot;x&quot;:-0.5,&quot;y&quot;:-0.866025,&quot;z&quot;:0},{&quot;x&quot;:-0.34202,&quot;y&quot;:-0.939693,&quot;z&quot;:0},{&quot;x&quot;:-0.173648,&quot;y&quot;:-0.984808,&quot;z&quot;:0},{&quot;x&quot;:-1.83697e-16,&quot;y&quot;:-1,&quot;z&quot;:0},{&quot;x&quot;:0.173648,&quot;y&quot;:-0.984808,&quot;z&quot;:0},{&quot;x&quot;:0.34202,&quot;y&quot;:-0.939693,&quot;z&quot;:0},{&quot;x&quot;:0.5,&quot;y&quot;:-0.866025,&quot;z&quot;:0},{&quot;x&quot;:0.642788,&quot;y&quot;:-0.766044,&quot;z&quot;:0},{&quot;x&quot;:0.766044,&quot;y&quot;:-0.642788,&quot;z&quot;:0},{&quot;x&quot;:0.866025,&quot;y&quot;:-0.5,&quot;z&quot;:0},{&quot;x&quot;:0.939693,&quot;y&quot;:-0.34202,&quot;z&quot;:0},{&quot;x&quot;:0.984808,&quot;y&quot;:-0.173648,&quot;z&quot;:0},{&quot;x&quot;:0.972683,&quot;y&quot;:0.17151,&quot;z&quot;:0.156434},{&quot;x&quot;:0.987688,&quot;y&quot;:0,&quot;z&quot;:0.156434},{&quot;x&quot;:0.928123,&quot;y&quot;:0.337809,&quot;z&quot;:0.156434},{&quot;x&quot;:0.855363,&quot;y&quot;:0.493844,&quot;z&quot;:0.156434},{&quot;x&quot;:0.756613,&quot;y&quot;:0.634874,&quot;z&quot;:0.156434},{&quot;x&quot;:0.634874,&quot;y&quot;:0.756613,&quot;z&quot;:0.156434},{&quot;x&quot;:0.493844,&quot;y&quot;:0.855363,&quot;z&quot;:0.156434},{&quot;x&quot;:0.337809,&quot;y&quot;:0.928123,&quot;z&quot;:0.156434},{&quot;x&quot;:0.17151,&quot;y&quot;:0.972683,&quot;z&quot;:0.156434},{&quot;x&quot;:6.04785e-17,&quot;y&quot;:0.987688,&quot;z&quot;:0.156434},{&quot;x&quot;:-0.17151,&quot;y&quot;:0.972683,&quot;z&quot;:0.156434},{&quot;x&quot;:-0.337809,&quot;y&quot;:0.928123,&quot;z&quot;:0.156434},{&quot;x&quot;:-0.493844,&quot;y&quot;:0.855363,&quot;z&quot;:0.156434},{&quot;x&quot;:-0.634874,&quot;y&quot;:0.756613,&quot;z&quot;:0.156434},{&quot;x&quot;:-0.756613,&quot;y&quot;:0.634874,&quot;z&quot;:0.156434},{&quot;x&quot;:-0.855363,&quot;y&quot;:0.493844,&quot;z&quot;:0.156434},{&quot;x&quot;:-0.928123,&quot;y&quot;:0.337809,&quot;z&quot;:0.156434},{&quot;x&quot;:-0.972683,&quot;y&quot;:0.17151,&quot;z&quot;:0.156434},{&quot;x&quot;:-0.987688,&quot;y&quot;:1.20957e-16,&quot;z&quot;:0.156434},{&quot;x&quot;:-0.972683,&quot;y&quot;:-0.17151,&quot;z&quot;:0.156434},{&quot;x&quot;:-0.928123,&quot;y&quot;:-0.337809,&quot;z&quot;:0.156434},{&quot;x&quot;:-0.855363,&quot;y&quot;:-0.493844,&quot;z&quot;:0.156434},{&quot;x&quot;:-0.756613,&quot;y&quot;:-0.634874,&quot;z&quot;:0.156434},{&quot;x&quot;:-0.634874,&quot;y&quot;:-0.756613,&quot;z&quot;:0.156434},{&quot;x&quot;:-0.493844,&quot;y&quot;:-0.855363,&quot;z&quot;:0.156434},{&quot;x&quot;:-0.337809,&quot;y&quot;:-0.928123,&quot;z&quot;:0.156434},{&quot;x&quot;:-0.17151,&quot;y&quot;:-0.972683,&quot;z&quot;:0.156434},{&quot;x&quot;:-1.81435e-16,&quot;y&quot;:-0.987688,&quot;z&quot;:0.156434},{&quot;x&quot;:0.17151,&quot;y&quot;:-0.972683,&quot;z&quot;:0.156434},{&quot;x&quot;:0.337809,&quot;y&quot;:-0.928123,&quot;z&quot;:0.156434},{&quot;x&quot;:0.493844,&quot;y&quot;:-0.855363,&quot;z&quot;:0.156434},{&quot;x&quot;:0.634874,&quot;y&quot;:-0.756613,&quot;z&quot;:0.156434},{&quot;x&quot;:0.756613,&quot;y&quot;:-0.634874,&quot;z&quot;:0.156434},{&quot;x&quot;:0.855363,&quot;y&quot;:-0.493844,&quot;z&quot;:0.156434},{&quot;x&quot;:0.928123,&quot;y&quot;:-0.337809,&quot;z&quot;:0.156434},{&quot;x&quot;:0.972683,&quot;y&quot;:-0.17151,&quot;z&quot;:0.156434},{&quot;x&quot;:0.936608,&quot;y&quot;:0.165149,&quot;z&quot;:0.309017},{&quot;x&quot;:0.951057,&quot;y&quot;:0,&quot;z&quot;:0.309017},{&quot;x&quot;:0.893701,&quot;y&quot;:0.32528,&quot;z&quot;:0.309017},{&quot;x&quot;:0.823639,&quot;y&quot;:0.475528,&quot;z&quot;:0.309017},{&quot;x&quot;:0.728552,&quot;y&quot;:0.611327,&quot;z&quot;:0.309017},{&quot;x&quot;:0.611327,&quot;y&quot;:0.728552,&quot;z&quot;:0.309017},{&quot;x&quot;:0.475528,&quot;y&quot;:0.823639,&quot;z&quot;:0.309017},{&quot;x&quot;:0.32528,&quot;y&quot;:0.893701,&quot;z&quot;:0.309017},{&quot;x&quot;:0.165149,&quot;y&quot;:0.936608,&quot;z&quot;:0.309017},{&quot;x&quot;:5.82354e-17,&quot;y&quot;:0.951057,&quot;z&quot;:0.309017},{&quot;x&quot;:-0.165149,&quot;y&quot;:0.936608,&quot;z&quot;:0.309017},{&quot;x&quot;:-0.32528,&quot;y&quot;:0.893701,&quot;z&quot;:0.309017},{&quot;x&quot;:-0.475528,&quot;y&quot;:0.823639,&quot;z&quot;:0.309017},{&quot;x&quot;:-0.611327,&quot;y&quot;:0.728552,&quot;z&quot;:0.309017},{&quot;x&quot;:-0.728552,&quot;y&quot;:0.611327,&quot;z&quot;:0.309017},{&quot;x&quot;:-0.823639,&quot;y&quot;:0.475528,&quot;z&quot;:0.309017},{&quot;x&quot;:-0.893701,&quot;y&quot;:0.32528,&quot;z&quot;:0.309017},{&quot;x&quot;:-0.936608,&quot;y&quot;:0.165149,&quot;z&quot;:0.309017},{&quot;x&quot;:-0.951057,&quot;y&quot;:1.16471e-16,&quot;z&quot;:0.309017},{&quot;x&quot;:-0.936608,&quot;y&quot;:-0.165149,&quot;z&quot;:0.309017},{&quot;x&quot;:-0.893701,&quot;y&quot;:-0.32528,&quot;z&quot;:0.309017},{&quot;x&quot;:-0.823639,&quot;y&quot;:-0.475528,&quot;z&quot;:0.309017},{&quot;x&quot;:-0.728552,&quot;y&quot;:-0.611327,&quot;z&quot;:0.309017},{&quot;x&quot;:-0.611327,&quot;y&quot;:-0.728552,&quot;z&quot;:0.309017},{&quot;x&quot;:-0.475528,&quot;y&quot;:-0.823639,&quot;z&quot;:0.309017},{&quot;x&quot;:-0.32528,&quot;y&quot;:-0.893701,&quot;z&quot;:0.309017},{&quot;x&quot;:-0.165149,&quot;y&quot;:-0.936608,&quot;z&quot;:0.309017},{&quot;x&quot;:-1.74706e-16,&quot;y&quot;:-0.951057,&quot;z&quot;:0.309017},{&quot;x&quot;:0.165149,&quot;y&quot;:-0.936608,&quot;z&quot;:0.309017},{&quot;x&quot;:0.32528,&quot;y&quot;:-0.893701,&quot;z&quot;:0.309017},{&quot;x&quot;:0.475528,&quot;y&quot;:-0.823639,&quot;z&quot;:0.309017},{&quot;x&quot;:0.611327,&quot;y&quot;:-0.728552,&quot;z&quot;:0.309017},{&quot;x&quot;:0.728552,&quot;y&quot;:-0.611327,&quot;z&quot;:0.309017},{&quot;x&quot;:0.823639,&quot;y&quot;:-0.475528,&quot;z&quot;:0.309017},{&quot;x&quot;:0.893701,&quot;y&quot;:-0.32528,&quot;z&quot;:0.309017},{&quot;x&quot;:0.936608,&quot;y&quot;:-0.165149,&quot;z&quot;:0.309017},{&quot;x&quot;:0.87747,&quot;y&quot;:0.154722,&quot;z&quot;:0.45399},{&quot;x&quot;:0.891007,&quot;y&quot;:0,&quot;z&quot;:0.45399},{&quot;x&quot;:0.837272,&quot;y&quot;:0.304742,&quot;z&quot;:0.45399},{&quot;x&quot;:0.771634,&quot;y&quot;:0.445503,&quot;z&quot;:0.45399},{&quot;x&quot;:0.682551,&quot;y&quot;:0.572728,&quot;z&quot;:0.45399},{&quot;x&quot;:0.572728,&quot;y&quot;:0.682551,&quot;z&quot;:0.45399},{&quot;x&quot;:0.445503,&quot;y&quot;:0.771634,&quot;z&quot;:0.45399},{&quot;x&quot;:0.304742,&quot;y&quot;:0.837272,&quot;z&quot;:0.45399},{&quot;x&quot;:0.154722,&quot;y&quot;:0.87747,&quot;z&quot;:0.45399},{&quot;x&quot;:5.45584e-17,&quot;y&quot;:0.891007,&quot;z&quot;:0.45399},{&quot;x&quot;:-0.154722,&quot;y&quot;:0.87747,&quot;z&quot;:0.45399},{&quot;x&quot;:-0.304742,&quot;y&quot;:0.837272,&quot;z&quot;:0.45399},{&quot;x&quot;:-0.445503,&quot;y&quot;:0.771634,&quot;z&quot;:0.45399},{&quot;x&quot;:-0.572728,&quot;y&quot;:0.682551,&quot;z&quot;:0.45399},{&quot;x&quot;:-0.682551,&quot;y&quot;:0.572728,&quot;z&quot;:0.45399},{&quot;x&quot;:-0.771634,&quot;y&quot;:0.445503,&quot;z&quot;:0.45399},{&quot;x&quot;:-0.837272,&quot;y&quot;:0.304742,&quot;z&quot;:0.45399},{&quot;x&quot;:-0.87747,&quot;y&quot;:0.154722,&quot;z&quot;:0.45399},{&quot;x&quot;:-0.891007,&quot;y&quot;:1.09117e-16,&quot;z&quot;:0.45399},{&quot;x&quot;:-0.87747,&quot;y&quot;:-0.154722,&quot;z&quot;:0.45399},{&quot;x&quot;:-0.837272,&quot;y&quot;:-0.304742,&quot;z&quot;:0.45399},{&quot;x&quot;:-0.771634,&quot;y&quot;:-0.445503,&quot;z&quot;:0.45399},{&quot;x&quot;:-0.682551,&quot;y&quot;:-0.572728,&quot;z&quot;:0.45399},{&quot;x&quot;:-0.572728,&quot;y&quot;:-0.682551,&quot;z&quot;:0.45399},{&quot;x&quot;:-0.445503,&quot;y&quot;:-0.771634,&quot;z&quot;:0.45399},{&quot;x&quot;:-0.304742,&quot;y&quot;:-0.837272,&quot;z&quot;:0.45399},{&quot;x&quot;:-0.154722,&quot;y&quot;:-0.87747,&quot;z&quot;:0.45399},{&quot;x&quot;:-1.63675e-16,&quot;y&quot;:-0.891007,&quot;z&quot;:0.45399},{&quot;x&quot;:0.154722,&quot;y&quot;:-0.87747,&quot;z&quot;:0.45399},{&quot;x&quot;:0.304742,&quot;y&quot;:-0.837272,&quot;z&quot;:0.45399},{&quot;x&quot;:0.445503,&quot;y&quot;:-0.771634,&quot;z&quot;:0.45399},{&quot;x&quot;:0.572728,&quot;y&quot;:-0.682551,&quot;z&quot;:0.45399},{&quot;x&quot;:0.682551,&quot;y&quot;:-0.572728,&quot;z&quot;:0.45399},{&quot;x&quot;:0.771634,&quot;y&quot;:-0.445503,&quot;z&quot;:0.45399},{&quot;x&quot;:0.837272,&quot;y&quot;:-0.304742,&quot;z&quot;:0.45399},{&quot;x&quot;:0.87747,&quot;y&quot;:-0.154722,&quot;z&quot;:0.45399},{&quot;x&quot;:0.796726,&quot;y&quot;:0.140484,&quot;z&quot;:0.587785},{&quot;x&quot;:0.809017,&quot;y&quot;:0,&quot;z&quot;:0.587785},{&quot;x&quot;:0.760227,&quot;y&quot;:0.2767,&quot;z&quot;:0.587785},{&quot;x&quot;:0.700629,&quot;y&quot;:0.404508,&quot;z&quot;:0.587785},{&quot;x&quot;:0.619743,&quot;y&quot;:0.520026,&quot;z&quot;:0.587785},{&quot;x&quot;:0.520026,&quot;y&quot;:0.619743,&quot;z&quot;:0.587785},{&quot;x&quot;:0.404508,&quot;y&quot;:0.700629,&quot;z&quot;:0.587785},{&quot;x&quot;:0.2767,&quot;y&quot;:0.760227,&quot;z&quot;:0.587785},{&quot;x&quot;:0.140484,&quot;y&quot;:0.796726,&quot;z&quot;:0.587785},{&quot;x&quot;:4.9538e-17,&quot;y&quot;:0.809017,&quot;z&quot;:0.587785},{&quot;x&quot;:-0.140484,&quot;y&quot;:0.796726,&quot;z&quot;:0.587785},{&quot;x&quot;:-0.2767,&quot;y&quot;:0.760227,&quot;z&quot;:0.587785},{&quot;x&quot;:-0.404508,&quot;y&quot;:0.700629,&quot;z&quot;:0.587785},{&quot;x&quot;:-0.520026,&quot;y&quot;:0.619743,&quot;z&quot;:0.587785},{&quot;x&quot;:-0.619743,&quot;y&quot;:0.520026,&quot;z&quot;:0.587785},{&quot;x&quot;:-0.700629,&quot;y&quot;:0.404508,&quot;z&quot;:0.587785},{&quot;x&quot;:-0.760227,&quot;y&quot;:0.2767,&quot;z&quot;:0.587785},{&quot;x&quot;:-0.796726,&quot;y&quot;:0.140484,&quot;z&quot;:0.587785},{&quot;x&quot;:-0.809017,&quot;y&quot;:9.9076e-17,&quot;z&quot;:0.587785},{&quot;x&quot;:-0.796726,&quot;y&quot;:-0.140484,&quot;z&quot;:0.587785},{&quot;x&quot;:-0.760227,&quot;y&quot;:-0.2767,&quot;z&quot;:0.587785},{&quot;x&quot;:-0.700629,&quot;y&quot;:-0.404508,&quot;z&quot;:0.587785},{&quot;x&quot;:-0.619743,&quot;y&quot;:-0.520026,&quot;z&quot;:0.587785},{&quot;x&quot;:-0.520026,&quot;y&quot;:-0.619743,&quot;z&quot;:0.587785},{&quot;x&quot;:-0.404508,&quot;y&quot;:-0.700629,&quot;z&quot;:0.587785},{&quot;x&quot;:-0.2767,&quot;y&quot;:-0.760227,&quot;z&quot;:0.587785},{&quot;x&quot;:-0.140484,&quot;y&quot;:-0.796726,&quot;z&quot;:0.587785},{&quot;x&quot;:-1.48614e-16,&quot;y&quot;:-0.809017,&quot;z&quot;:0.587785},{&quot;x&quot;:0.140484,&quot;y&quot;:-0.796726,&quot;z&quot;:0.587785},{&quot;x&quot;:0.2767,&quot;y&quot;:-0.760227,&quot;z&quot;:0.587785},{&quot;x&quot;:0.404508,&quot;y&quot;:-0.700629,&quot;z&quot;:0.587785},{&quot;x&quot;:0.520026,&quot;y&quot;:-0.619743,&quot;z&quot;:0.587785},{&quot;x&quot;:0.619743,&quot;y&quot;:-0.520026,&quot;z&quot;:0.587785},{&quot;x&quot;:0.700629,&quot;y&quot;:-0.404508,&quot;z&quot;:0.587785},{&quot;x&quot;:0.760227,&quot;y&quot;:-0.2767,&quot;z&quot;:0.587785},{&quot;x&quot;:0.796726,&quot;y&quot;:-0.140484,&quot;z&quot;:0.587785},{&quot;x&quot;:0.696364,&quot;y&quot;:0.122788,&quot;z&quot;:0.707107},{&quot;x&quot;:0.707107,&quot;y&quot;:0,&quot;z&quot;:0.707107},{&quot;x&quot;:0.664463,&quot;y&quot;:0.241845,&quot;z&quot;:0.707107},{&quot;x&quot;:0.612372,&quot;y&quot;:0.353553,&quot;z&quot;:0.707107},{&quot;x&quot;:0.541675,&quot;y&quot;:0.454519,&quot;z&quot;:0.707107},{&quot;x&quot;:0.454519,&quot;y&quot;:0.541675,&quot;z&quot;:0.707107},{&quot;x&quot;:0.353553,&quot;y&quot;:0.612372,&quot;z&quot;:0.707107},{&quot;x&quot;:0.241845,&quot;y&quot;:0.664463,&quot;z&quot;:0.707107},{&quot;x&quot;:0.122788,&quot;y&quot;:0.696364,&quot;z&quot;:0.707107},{&quot;x&quot;:4.32978e-17,&quot;y&quot;:0.707107,&quot;z&quot;:0.707107},{&quot;x&quot;:-0.122788,&quot;y&quot;:0.696364,&quot;z&quot;:0.707107},{&quot;x&quot;:-0.241845,&quot;y&quot;:0.664463,&quot;z&quot;:0.707107},{&quot;x&quot;:-0.353553,&quot;y&quot;:0.612372,&quot;z&quot;:0.707107},{&quot;x&quot;:-0.454519,&quot;y&quot;:0.541675,&quot;z&quot;:0.707107},{&quot;x&quot;:-0.541675,&quot;y&quot;:0.454519,&quot;z&quot;:0.707107},{&quot;x&quot;:-0.612372,&quot;y&quot;:0.353553,&quot;z&quot;:0.707107},{&quot;x&quot;:-0.664463,&quot;y&quot;:0.241845,&quot;z&quot;:0.707107},{&quot;x&quot;:-0.696364,&quot;y&quot;:0.122788,&quot;z&quot;:0.707107},{&quot;x&quot;:-0.707107,&quot;y&quot;:8.65956e-17,&quot;z&quot;:0.707107},{&quot;x&quot;:-0.696364,&quot;y&quot;:-0.122788,&quot;z&quot;:0.707107},{&quot;x&quot;:-0.664463,&quot;y&quot;:-0.241845,&quot;z&quot;:0.707107},{&quot;x&quot;:-0.612372,&quot;y&quot;:-0.353553,&quot;z&quot;:0.707107},{&quot;x&quot;:-0.541675,&quot;y&quot;:-0.454519,&quot;z&quot;:0.707107},{&quot;x&quot;:-0.454519,&quot;y&quot;:-0.541675,&quot;z&quot;:0.707107},{&quot;x&quot;:-0.353553,&quot;y&quot;:-0.612372,&quot;z&quot;:0.707107},{&quot;x&quot;:-0.241845,&quot;y&quot;:-0.664463,&quot;z&quot;:0.707107},{&quot;x&quot;:-0.122788,&quot;y&quot;:-0.696364,&quot;z&quot;:0.707107},{&quot;x&quot;:-1.29893e-16,&quot;y&quot;:-0.707107,&quot;z&quot;:0.707107},{&quot;x&quot;:0.122788,&quot;y&quot;:-0.696364,&quot;z&quot;:0.707107},{&quot;x&quot;:0.241845,&quot;y&quot;:-0.664463,&quot;z&quot;:0.707107},{&quot;x&quot;:0.353553,&quot;y&quot;:-0.612372,&quot;z&quot;:0.707107},{&quot;x&quot;:0.454519,&quot;y&quot;:-0.541675,&quot;z&quot;:0.707107},{&quot;x&quot;:0.541675,&quot;y&quot;:-0.454519,&quot;z&quot;:0.707107},{&quot;x&quot;:0.612372,&quot;y&quot;:-0.353553,&quot;z&quot;:0.707107},{&quot;x&quot;:0.664463,&quot;y&quot;:-0.241845,&quot;z&quot;:0.707107},{&quot;x&quot;:0.696364,&quot;y&quot;:-0.122788,&quot;z&quot;:0.707107},{&quot;x&quot;:0.578855,&quot;y&quot;:0.102068,&quot;z&quot;:0.809017},{&quot;x&quot;:0.587785,&quot;y&quot;:0,&quot;z&quot;:0.809017},{&quot;x&quot;:0.552337,&quot;y&quot;:0.201034,&quot;z&quot;:0.809017},{&quot;x&quot;:0.509037,&quot;y&quot;:0.293893,&quot;z&quot;:0.809017},{&quot;x&quot;:0.45027,&quot;y&quot;:0.377821,&quot;z&quot;:0.809017},{&quot;x&quot;:0.377821,&quot;y&quot;:0.45027,&quot;z&quot;:0.809017},{&quot;x&quot;:0.293893,&quot;y&quot;:0.509037,&quot;z&quot;:0.809017},{&quot;x&quot;:0.201034,&quot;y&quot;:0.552337,&quot;z&quot;:0.809017},{&quot;x&quot;:0.102068,&quot;y&quot;:0.578855,&quot;z&quot;:0.809017},{&quot;x&quot;:3.59915e-17,&quot;y&quot;:0.587785,&quot;z&quot;:0.809017},{&quot;x&quot;:-0.102068,&quot;y&quot;:0.578855,&quot;z&quot;:0.809017},{&quot;x&quot;:-0.201034,&quot;y&quot;:0.552337,&quot;z&quot;:0.809017},{&quot;x&quot;:-0.293893,&quot;y&quot;:0.509037,&quot;z&quot;:0.809017},{&quot;x&quot;:-0.377821,&quot;y&quot;:0.45027,&quot;z&quot;:0.809017},{&quot;x&quot;:-0.45027,&quot;y&quot;:0.377821,&quot;z&quot;:0.809017},{&quot;x&quot;:-0.509037,&quot;y&quot;:0.293893,&quot;z&quot;:0.809017},{&quot;x&quot;:-0.552337,&quot;y&quot;:0.201034,&quot;z&quot;:0.809017},{&quot;x&quot;:-0.578855,&quot;y&quot;:0.102068,&quot;z&quot;:0.809017},{&quot;x&quot;:-0.587785,&quot;y&quot;:7.19829e-17,&quot;z&quot;:0.809017},{&quot;x&quot;:-0.578855,&quot;y&quot;:-0.102068,&quot;z&quot;:0.809017},{&quot;x&quot;:-0.552337,&quot;y&quot;:-0.201034,&quot;z&quot;:0.809017},{&quot;x&quot;:-0.509037,&quot;y&quot;:-0.293893,&quot;z&quot;:0.809017},{&quot;x&quot;:-0.45027,&quot;y&quot;:-0.377821,&quot;z&quot;:0.809017},{&quot;x&quot;:-0.377821,&quot;y&quot;:-0.45027,&quot;z&quot;:0.809017},{&quot;x&quot;:-0.293893,&quot;y&quot;:-0.509037,&quot;z&quot;:0.809017},{&quot;x&quot;:-0.201034,&quot;y&quot;:-0.552337,&quot;z&quot;:0.809017},{&quot;x&quot;:-0.102068,&quot;y&quot;:-0.578855,&quot;z&quot;:0.809017},{&quot;x&quot;:-1.07974e-16,&quot;y&quot;:-0.587785,&quot;z&quot;:0.809017},{&quot;x&quot;:0.102068,&quot;y&quot;:-0.578855,&quot;z&quot;:0.809017},{&quot;x&quot;:0.201034,&quot;y&quot;:-0.552337,&quot;z&quot;:0.809017},{&quot;x&quot;:0.293893,&quot;y&quot;:-0.509037,&quot;z&quot;:0.809017},{&quot;x&quot;:0.377821,&quot;y&quot;:-0.45027,&quot;z&quot;:0.809017},{&quot;x&quot;:0.45027,&quot;y&quot;:-0.377821,&quot;z&quot;:0.809017},{&quot;x&quot;:0.509037,&quot;y&quot;:-0.293893,&quot;z&quot;:0.809017},{&quot;x&quot;:0.552337,&quot;y&quot;:-0.201034,&quot;z&quot;:0.809017},{&quot;x&quot;:0.578855,&quot;y&quot;:-0.102068,&quot;z&quot;:0.809017},{&quot;x&quot;:0.447093,&quot;y&quot;:0.0788346,&quot;z&quot;:0.891007},{&quot;x&quot;:0.45399,&quot;y&quot;:0,&quot;z&quot;:0.891007},{&quot;x&quot;:0.426612,&quot;y&quot;:0.155274,&quot;z&quot;:0.891007},{&quot;x&quot;:0.393167,&quot;y&quot;:0.226995,&quot;z&quot;:0.891007},{&quot;x&quot;:0.347777,&quot;y&quot;:0.291819,&quot;z&quot;:0.891007},{&quot;x&quot;:0.291819,&quot;y&quot;:0.347777,&quot;z&quot;:0.891007},{&quot;x&quot;:0.226995,&quot;y&quot;:0.393167,&quot;z&quot;:0.891007},{&quot;x&quot;:0.155274,&quot;y&quot;:0.426612,&quot;z&quot;:0.891007},{&quot;x&quot;:0.0788346,&quot;y&quot;:0.447093,&quot;z&quot;:0.891007},{&quot;x&quot;:2.77989e-17,&quot;y&quot;:0.45399,&quot;z&quot;:0.891007},{&quot;x&quot;:-0.0788346,&quot;y&quot;:0.447093,&quot;z&quot;:0.891007},{&quot;x&quot;:-0.155274,&quot;y&quot;:0.426612,&quot;z&quot;:0.891007},{&quot;x&quot;:-0.226995,&quot;y&quot;:0.393167,&quot;z&quot;:0.891007},{&quot;x&quot;:-0.291819,&quot;y&quot;:0.347777,&quot;z&quot;:0.891007},{&quot;x&quot;:-0.347777,&quot;y&quot;:0.291819,&quot;z&quot;:0.891007},{&quot;x&quot;:-0.393167,&quot;y&quot;:0.226995,&quot;z&quot;:0.891007},{&quot;x&quot;:-0.426612,&quot;y&quot;:0.155274,&quot;z&quot;:0.891007},{&quot;x&quot;:-0.447093,&quot;y&quot;:0.0788346,&quot;z&quot;:0.891007},{&quot;x&quot;:-0.45399,&quot;y&quot;:5.55978e-17,&quot;z&quot;:0.891007},{&quot;x&quot;:-0.447093,&quot;y&quot;:-0.0788346,&quot;z&quot;:0.891007},{&quot;x&quot;:-0.426612,&quot;y&quot;:-0.155274,&quot;z&quot;:0.891007},{&quot;x&quot;:-0.393167,&quot;y&quot;:-0.226995,&quot;z&quot;:0.891007},{&quot;x&quot;:-0.347777,&quot;y&quot;:-0.291819,&quot;z&quot;:0.891007},{&quot;x&quot;:-0.291819,&quot;y&quot;:-0.347777,&quot;z&quot;:0.891007},{&quot;x&quot;:-0.226995,&quot;y&quot;:-0.393167,&quot;z&quot;:0.891007},{&quot;x&quot;:-0.155274,&quot;y&quot;:-0.426612,&quot;z&quot;:0.891007},{&quot;x&quot;:-0.0788346,&quot;y&quot;:-0.447093,&quot;z&quot;:0.891007},{&quot;x&quot;:-8.33967e-17,&quot;y&quot;:-0.45399,&quot;z&quot;:0.891007},{&quot;x&quot;:0.0788346,&quot;y&quot;:-0.447093,&quot;z&quot;:0.891007},{&quot;x&quot;:0.155274,&quot;y&quot;:-0.426612,&quot;z&quot;:0.891007},{&quot;x&quot;:0.226995,&quot;y&quot;:-0.393167,&quot;z&quot;:0.891007},{&quot;x&quot;:0.291819,&quot;y&quot;:-0.347777,&quot;z&quot;:0.891007},{&quot;x&quot;:0.347777,&quot;y&quot;:-0.291819,&quot;z&quot;:0.891007},{&quot;x&quot;:0.393167,&quot;y&quot;:-0.226995,&quot;z&quot;:0.891007},{&quot;x&quot;:0.426612,&quot;y&quot;:-0.155274,&quot;z&quot;:0.891007},{&quot;x&quot;:0.447093,&quot;y&quot;:-0.0788346,&quot;z&quot;:0.891007},{&quot;x&quot;:0.304322,&quot;y&quot;:0.0536602,&quot;z&quot;:0.951057},{&quot;x&quot;:0.309017,&quot;y&quot;:0,&quot;z&quot;:0.951057},{&quot;x&quot;:0.290381,&quot;y&quot;:0.10569,&quot;z&quot;:0.951057},{&quot;x&quot;:0.267617,&quot;y&quot;:0.154508,&quot;z&quot;:0.951057},{&quot;x&quot;:0.236721,&quot;y&quot;:0.198632,&quot;z&quot;:0.951057},{&quot;x&quot;:0.198632,&quot;y&quot;:0.236721,&quot;z&quot;:0.951057},{&quot;x&quot;:0.154508,&quot;y&quot;:0.267617,&quot;z&quot;:0.951057},{&quot;x&quot;:0.10569,&quot;y&quot;:0.290381,&quot;z&quot;:0.951057},{&quot;x&quot;:0.0536602,&quot;y&quot;:0.304322,&quot;z&quot;:0.951057},{&quot;x&quot;:1.89218e-17,&quot;y&quot;:0.309017,&quot;z&quot;:0.951057},{&quot;x&quot;:-0.0536602,&quot;y&quot;:0.304322,&quot;z&quot;:0.951057},{&quot;x&quot;:-0.10569,&quot;y&quot;:0.290381,&quot;z&quot;:0.951057},{&quot;x&quot;:-0.154508,&quot;y&quot;:0.267617,&quot;z&quot;:0.951057},{&quot;x&quot;:-0.198632,&quot;y&quot;:0.236721,&quot;z&quot;:0.951057},{&quot;x&quot;:-0.236721,&quot;y&quot;:0.198632,&quot;z&quot;:0.951057},{&quot;x&quot;:-0.267617,&quot;y&quot;:0.154508,&quot;z&quot;:0.951057},{&quot;x&quot;:-0.290381,&quot;y&quot;:0.10569,&quot;z&quot;:0.951057},{&quot;x&quot;:-0.304322,&quot;y&quot;:0.0536602,&quot;z&quot;:0.951057},{&quot;x&quot;:-0.309017,&quot;y&quot;:3.78437e-17,&quot;z&quot;:0.951057},{&quot;x&quot;:-0.304322,&quot;y&quot;:-0.0536602,&quot;z&quot;:0.951057},{&quot;x&quot;:-0.290381,&quot;y&quot;:-0.10569,&quot;z&quot;:0.951057},{&quot;x&quot;:-0.267617,&quot;y&quot;:-0.154508,&quot;z&quot;:0.951057},{&quot;x&quot;:-0.236721,&quot;y&quot;:-0.198632,&quot;z&quot;:0.951057},{&quot;x&quot;:-0.198632,&quot;y&quot;:-0.236721,&quot;z&quot;:0.951057},{&quot;x&quot;:-0.154508,&quot;y&quot;:-0.267617,&quot;z&quot;:0.951057},{&quot;x&quot;:-0.10569,&quot;y&quot;:-0.290381,&quot;z&quot;:0.951057},{&quot;x&quot;:-0.0536602,&quot;y&quot;:-0.304322,&quot;z&quot;:0.951057},{&quot;x&quot;:-5.67655e-17,&quot;y&quot;:-0.309017,&quot;z&quot;:0.951057},{&quot;x&quot;:0.0536602,&quot;y&quot;:-0.304322,&quot;z&quot;:0.951057},{&quot;x&quot;:0.10569,&quot;y&quot;:-0.290381,&quot;z&quot;:0.951057},{&quot;x&quot;:0.154508,&quot;y&quot;:-0.267617,&quot;z&quot;:0.951057},{&quot;x&quot;:0.198632,&quot;y&quot;:-0.236721,&quot;z&quot;:0.951057},{&quot;x&quot;:0.236721,&quot;y&quot;:-0.198632,&quot;z&quot;:0.951057},{&quot;x&quot;:0.267617,&quot;y&quot;:-0.154508,&quot;z&quot;:0.951057},{&quot;x&quot;:0.290381,&quot;y&quot;:-0.10569,&quot;z&quot;:0.951057},{&quot;x&quot;:0.304322,&quot;y&quot;:-0.0536602,&quot;z&quot;:0.951057},{&quot;x&quot;:0.154058,&quot;y&quot;:0.0271646,&quot;z&quot;:0.987688},{&quot;x&quot;:0.156434,&quot;y&quot;:0,&quot;z&quot;:0.987688},{&quot;x&quot;:0.147,&quot;y&quot;:0.0535037,&quot;z&quot;:0.987688},{&quot;x&quot;:0.135476,&quot;y&quot;:0.0782172,&quot;z&quot;:0.987688},{&quot;x&quot;:0.119836,&quot;y&quot;:0.100554,&quot;z&quot;:0.987688},{&quot;x&quot;:0.100554,&quot;y&quot;:0.119836,&quot;z&quot;:0.987688},{&quot;x&quot;:0.0782172,&quot;y&quot;:0.135476,&quot;z&quot;:0.987688},{&quot;x&quot;:0.0535037,&quot;y&quot;:0.147,&quot;z&quot;:0.987688},{&quot;x&quot;:0.0271646,&quot;y&quot;:0.154058,&quot;z&quot;:0.987688},{&quot;x&quot;:9.57885e-18,&quot;y&quot;:0.156434,&quot;z&quot;:0.987688},{&quot;x&quot;:-0.0271646,&quot;y&quot;:0.154058,&quot;z&quot;:0.987688},{&quot;x&quot;:-0.0535037,&quot;y&quot;:0.147,&quot;z&quot;:0.987688},{&quot;x&quot;:-0.0782172,&quot;y&quot;:0.135476,&quot;z&quot;:0.987688},{&quot;x&quot;:-0.100554,&quot;y&quot;:0.119836,&quot;z&quot;:0.987688},{&quot;x&quot;:-0.119836,&quot;y&quot;:0.100554,&quot;z&quot;:0.987688},{&quot;x&quot;:-0.135476,&quot;y&quot;:0.0782172,&quot;z&quot;:0.987688},{&quot;x&quot;:-0.147,&quot;y&quot;:0.0535037,&quot;z&quot;:0.987688},{&quot;x&quot;:-0.154058,&quot;y&quot;:0.0271646,&quot;z&quot;:0.987688},{&quot;x&quot;:-0.156434,&quot;y&quot;:1.91577e-17,&quot;z&quot;:0.987688},{&quot;x&quot;:-0.154058,&quot;y&quot;:-0.0271646,&quot;z&quot;:0.987688},{&quot;x&quot;:-0.147,&quot;y&quot;:-0.0535037,&quot;z&quot;:0.987688},{&quot;x&quot;:-0.135476,&quot;y&quot;:-0.0782172,&quot;z&quot;:0.987688},{&quot;x&quot;:-0.119836,&quot;y&quot;:-0.100554,&quot;z&quot;:0.987688},{&quot;x&quot;:-0.100554,&quot;y&quot;:-0.119836,&quot;z&quot;:0.987688},{&quot;x&quot;:-0.0782172,&quot;y&quot;:-0.135476,&quot;z&quot;:0.987688},{&quot;x&quot;:-0.0535037,&quot;y&quot;:-0.147,&quot;z&quot;:0.987688},{&quot;x&quot;:-0.0271646,&quot;y&quot;:-0.154058,&quot;z&quot;:0.987688},{&quot;x&quot;:-2.87365e-17,&quot;y&quot;:-0.156434,&quot;z&quot;:0.987688},{&quot;x&quot;:0.0271646,&quot;y&quot;:-0.154058,&quot;z&quot;:0.987688},{&quot;x&quot;:0.0535037,&quot;y&quot;:-0.147,&quot;z&quot;:0.987688},{&quot;x&quot;:0.0782172,&quot;y&quot;:-0.135476,&quot;z&quot;:0.987688},{&quot;x&quot;:0.100554,&quot;y&quot;:-0.119836,&quot;z&quot;:0.987688},{&quot;x&quot;:0.119836,&quot;y&quot;:-0.100554,&quot;z&quot;:0.987688},{&quot;x&quot;:0.135476,&quot;y&quot;:-0.0782172,&quot;z&quot;:0.987688},{&quot;x&quot;:0.147,&quot;y&quot;:-0.0535037,&quot;z&quot;:0.987688},{&quot;x&quot;:0.154058,&quot;y&quot;:-0.0271646,&quot;z&quot;:0.987688},{&quot;x&quot;:0,&quot;y&quot;:0,&quot;z&quot;:1}], &quot;faces&quot;:[[0,1,2],[0,3,1],[0,4,3],[0,5,4],[0,6,5],[0,7,6],[0,8,7],[0,9,8],[0,10,9],[0,11,10],[0,12,11],[0,13,12],[0,14,13],[0,15,14],[0,16,15],[0,17,16],[0,18,17],[0,19,18],[0,20,19],[0,21,20],[0,22,21],[0,23,22],[0,24,23],[0,25,24],[0,26,25],[0,27,26],[0,28,27],[0,29,28],[0,30,29],[0,31,30],[0,32,31],[0,33,32],[0,34,33],[0,35,34],[0,36,35],[0,2,36],[2,1,37,38],[1,3,39,37],[3,4,40,39],[4,5,41,40],[5,6,42,41],[6,7,43,42],[7,8,44,43],[8,9,45,44],[9,10,46,45],[10,11,47,46],[11,12,48,47],[12,13,49,48],[13,14,50,49],[14,15,51,50],[15,16,52,51],[16,17,53,52],[17,18,54,53],[18,19,55,54],[19,20,56,55],[20,21,57,56],[21,22,58,57],[22,23,59,58],[23,24,60,59],[24,25,61,60],[25,26,62,61],[26,27,63,62],[27,28,64,63],[28,29,65,64],[29,30,66,65],[30,31,67,66],[31,32,68,67],[32,33,69,68],[33,34,70,69],[34,35,71,70],[35,36,72,71],[36,2,38,72],[38,37,73,74],[37,39,75,73],[39,40,76,75],[40,41,77,76],[41,42,78,77],[42,43,79,78],[43,44,80,79],[44,45,81,80],[45,46,82,81],[46,47,83,82],[47,48,84,83],[48,49,85,84],[49,50,86,85],[50,51,87,86],[51,52,88,87],[52,53,89,88],[53,54,90,89],[54,55,91,90],[55,56,92,91],[56,57,93,92],[57,58,94,93],[58,59,95,94],[59,60,96,95],[60,61,97,96],[61,62,98,97],[62,63,99,98],[63,64,100,99],[64,65,101,100],[65,66,102,101],[66,67,103,102],[67,68,104,103],[68,69,105,104],[69,70,106,105],[70,71,107,106],[71,72,108,107],[72,38,74,108],[74,73,109,110],[73,75,111,109],[75,76,112,111],[76,77,113,112],[77,78,114,113],[78,79,115,114],[79,80,116,115],[80,81,117,116],[81,82,118,117],[82,83,119,118],[83,84,120,119],[84,85,121,120],[85,86,122,121],[86,87,123,122],[87,88,124,123],[88,89,125,124],[89,90,126,125],[90,91,127,126],[91,92,128,127],[92,93,129,128],[93,94,130,129],[94,95,131,130],[95,96,132,131],[96,97,133,132],[97,98,134,133],[98,99,135,134],[99,100,136,135],[100,101,137,136],[101,102,138,137],[102,103,139,138],[103,104,140,139],[104,105,141,140],[105,106,142,141],[106,107,143,142],[107,108,144,143],[108,74,110,144],[110,109,145,146],[109,111,147,145],[111,112,148,147],[112,113,149,148],[113,114,150,149],[114,115,151,150],[115,116,152,151],[116,117,153,152],[117,118,154,153],[118,119,155,154],[119,120,156,155],[120,121,157,156],[121,122,158,157],[122,123,159,158],[123,124,160,159],[124,125,161,160],[125,126,162,161],[126,127,163,162],[127,128,164,163],[128,129,165,164],[129,130,166,165],[130,131,167,166],[131,132,168,167],[132,133,169,168],[133,134,170,169],[134,135,171,170],[135,136,172,171],[136,137,173,172],[137,138,174,173],[138,139,175,174],[139,140,176,175],[140,141,177,176],[141,142,178,177],[142,143,179,178],[143,144,180,179],[144,110,146,180],[146,145,181,182],[145,147,183,181],[147,148,184,183],[148,149,185,184],[149,150,186,185],[150,151,187,186],[151,152,188,187],[152,153,189,188],[153,154,190,189],[154,155,191,190],[155,156,192,191],[156,157,193,192],[157,158,194,193],[158,159,195,194],[159,160,196,195],[160,161,197,196],[161,162,198,197],[162,163,199,198],[163,164,200,199],[164,165,201,200],[165,166,202,201],[166,167,203,202],[167,168,204,203],[168,169,205,204],[169,170,206,205],[170,171,207,206],[171,172,208,207],[172,173,209,208],[173,174,210,209],[174,175,211,210],[175,176,212,211],[176,177,213,212],[177,178,214,213],[178,179,215,214],[179,180,216,215],[180,146,182,216],[182,181,217,218],[181,183,219,217],[183,184,220,219],[184,185,221,220],[185,186,222,221],[186,187,223,222],[187,188,224,223],[188,189,225,224],[189,190,226,225],[190,191,227,226],[191,192,228,227],[192,193,229,228],[193,194,230,229],[194,195,231,230],[195,196,232,231],[196,197,233,232],[197,198,234,233],[198,199,235,234],[199,200,236,235],[200,201,237,236],[201,202,238,237],[202,203,239,238],[203,204,240,239],[204,205,241,240],[205,206,242,241],[206,207,243,242],[207,208,244,243],[208,209,245,244],[209,210,246,245],[210,211,247,246],[211,212,248,247],[212,213,249,248],[213,214,250,249],[214,215,251,250],[215,216,252,251],[216,182,218,252],[218,217,253,254],[217,219,255,253],[219,220,256,255],[220,221,257,256],[221,222,258,257],[222,223,259,258],[223,224,260,259],[224,225,261,260],[225,226,262,261],[226,227,263,262],[227,228,264,263],[228,229,265,264],[229,230,266,265],[230,231,267,266],[231,232,268,267],[232,233,269,268],[233,234,270,269],[234,235,271,270],[235,236,272,271],[236,237,273,272],[237,238,274,273],[238,239,275,274],[239,240,276,275],[240,241,277,276],[241,242,278,277],[242,243,279,278],[243,244,280,279],[244,245,281,280],[245,246,282,281],[246,247,283,282],[247,248,284,283],[248,249,285,284],[249,250,286,285],[250,251,287,286],[251,252,288,287],[252,218,254,288],[254,253,289,290],[253,255,291,289],[255,256,292,291],[256,257,293,292],[257,258,294,293],[258,259,295,294],[259,260,296,295],[260,261,297,296],[261,262,298,297],[262,263,299,298],[263,264,300,299],[264,265,301,300],[265,266,302,301],[266,267,303,302],[267,268,304,303],[268,269,305,304],[269,270,306,305],[270,271,307,306],[271,272,308,307],[272,273,309,308],[273,274,310,309],[274,275,311,310],[275,276,312,311],[276,277,313,312],[277,278,314,313],[278,279,315,314],[279,280,316,315],[280,281,317,316],[281,282,318,317],[282,283,319,318],[283,284,320,319],[284,285,321,320],[285,286,322,321],[286,287,323,322],[287,288,324,323],[288,254,290,324],[290,289,325,326],[289,291,327,325],[291,292,328,327],[292,293,329,328],[293,294,330,329],[294,295,331,330],[295,296,332,331],[296,297,333,332],[297,298,334,333],[298,299,335,334],[299,300,336,335],[300,301,337,336],[301,302,338,337],[302,303,339,338],[303,304,340,339],[304,305,341,340],[305,306,342,341],[306,307,343,342],[307,308,344,343],[308,309,345,344],[309,310,346,345],[310,311,347,346],[311,312,348,347],[312,313,349,348],[313,314,350,349],[314,315,351,350],[315,316,352,351],[316,317,353,352],[317,318,354,353],[318,319,355,354],[319,320,356,355],[320,321,357,356],[321,322,358,357],[322,323,359,358],[323,324,360,359],[324,290,326,360],[326,325,361,362],[325,327,363,361],[327,328,364,363],[328,329,365,364],[329,330,366,365],[330,331,367,366],[331,332,368,367],[332,333,369,368],[333,334,370,369],[334,335,371,370],[335,336,372,371],[336,337,373,372],[337,338,374,373],[338,339,375,374],[339,340,376,375],[340,341,377,376],[341,342,378,377],[342,343,379,378],[343,344,380,379],[344,345,381,380],[345,346,382,381],[346,347,383,382],[347,348,384,383],[348,349,385,384],[349,350,386,385],[350,351,387,386],[351,352,388,387],[352,353,389,388],[353,354,390,389],[354,355,391,390],[355,356,392,391],[356,357,393,392],[357,358,394,393],[358,359,395,394],[359,360,396,395],[360,326,362,396],[362,361,397,398],[361,363,399,397],[363,364,400,399],[364,365,401,400],[365,366,402,401],[366,367,403,402],[367,368,404,403],[368,369,405,404],[369,370,406,405],[370,371,407,406],[371,372,408,407],[372,373,409,408],[373,374,410,409],[374,375,411,410],[375,376,412,411],[376,377,413,412],[377,378,414,413],[378,379,415,414],[379,380,416,415],[380,381,417,416],[381,382,418,417],[382,383,419,418],[383,384,420,419],[384,385,421,420],[385,386,422,421],[386,387,423,422],[387,388,424,423],[388,389,425,424],[389,390,426,425],[390,391,427,426],[391,392,428,427],[392,393,429,428],[393,394,430,429],[394,395,431,430],[395,396,432,431],[396,362,398,432],[398,397,433,434],[397,399,435,433],[399,400,436,435],[400,401,437,436],[401,402,438,437],[402,403,439,438],[403,404,440,439],[404,405,441,440],[405,406,442,441],[406,407,443,442],[407,408,444,443],[408,409,445,444],[409,410,446,445],[410,411,447,446],[411,412,448,447],[412,413,449,448],[413,414,450,449],[414,415,451,450],[415,416,452,451],[416,417,453,452],[417,418,454,453],[418,419,455,454],[419,420,456,455],[420,421,457,456],[421,422,458,457],[422,423,459,458],[423,424,460,459],[424,425,461,460],[425,426,462,461],[426,427,463,462],[427,428,464,463],[428,429,465,464],[429,430,466,465],[430,431,467,466],[431,432,468,467],[432,398,434,468],[434,433,469,470],[433,435,471,469],[435,436,472,471],[436,437,473,472],[437,438,474,473],[438,439,475,474],[439,440,476,475],[440,441,477,476],[441,442,478,477],[442,443,479,478],[443,444,480,479],[444,445,481,480],[445,446,482,481],[446,447,483,482],[447,448,484,483],[448,449,485,484],[449,450,486,485],[450,451,487,486],[451,452,488,487],[452,453,489,488],[453,454,490,489],[454,455,491,490],[455,456,492,491],[456,457,493,492],[457,458,494,493],[458,459,495,494],[459,460,496,495],[460,461,497,496],[461,462,498,497],[462,463,499,498],[463,464,500,499],[464,465,501,500],[465,466,502,501],[466,467,503,502],[467,468,504,503],[468,434,470,504],[470,469,505,506],[469,471,507,505],[471,472,508,507],[472,473,509,508],[473,474,510,509],[474,475,511,510],[475,476,512,511],[476,477,513,512],[477,478,514,513],[478,479,515,514],[479,480,516,515],[480,481,517,516],[481,482,518,517],[482,483,519,518],[483,484,520,519],[484,485,521,520],[485,486,522,521],[486,487,523,522],[487,488,524,523],[488,489,525,524],[489,490,526,525],[490,491,527,526],[491,492,528,527],[492,493,529,528],[493,494,530,529],[494,495,531,530],[495,496,532,531],[496,497,533,532],[497,498,534,533],[498,499,535,534],[499,500,536,535],[500,501,537,536],[501,502,538,537],[502,503,539,538],[503,504,540,539],[504,470,506,540],[506,505,541,542],[505,507,543,541],[507,508,544,543],[508,509,545,544],[509,510,546,545],[510,511,547,546],[511,512,548,547],[512,513,549,548],[513,514,550,549],[514,515,551,550],[515,516,552,551],[516,517,553,552],[517,518,554,553],[518,519,555,554],[519,520,556,555],[520,521,557,556],[521,522,558,557],[522,523,559,558],[523,524,560,559],[524,525,561,560],[525,526,562,561],[526,527,563,562],[527,528,564,563],[528,529,565,564],[529,530,566,565],[530,531,567,566],[531,532,568,567],[532,533,569,568],[533,534,570,569],[534,535,571,570],[535,536,572,571],[536,537,573,572],[537,538,574,573],[538,539,575,574],[539,540,576,575],[540,506,542,576],[542,541,577,578],[541,543,579,577],[543,544,580,579],[544,545,581,580],[545,546,582,581],[546,547,583,582],[547,548,584,583],[548,549,585,584],[549,550,586,585],[550,551,587,586],[551,552,588,587],[552,553,589,588],[553,554,590,589],[554,555,591,590],[555,556,592,591],[556,557,593,592],[557,558,594,593],[558,559,595,594],[559,560,596,595],[560,561,597,596],[561,562,598,597],[562,563,599,598],[563,564,600,599],[564,565,601,600],[565,566,602,601],[566,567,603,602],[567,568,604,603],[568,569,605,604],[569,570,606,605],[570,571,607,606],[571,572,608,607],[572,573,609,608],[573,574,610,609],[574,575,611,610],[575,576,612,611],[576,542,578,612],[578,577,613,614],[577,579,615,613],[579,580,616,615],[580,581,617,616],[581,582,618,617],[582,583,619,618],[583,584,620,619],[584,585,621,620],[585,586,622,621],[586,587,623,622],[587,588,624,623],[588,589,625,624],[589,590,626,625],[590,591,627,626],[591,592,628,627],[592,593,629,628],[593,594,630,629],[594,595,631,630],[595,596,632,631],[596,597,633,632],[597,598,634,633],[598,599,635,634],[599,600,636,635],[600,601,637,636],[601,602,638,637],[602,603,639,638],[603,604,640,639],[604,605,641,640],[605,606,642,641],[606,607,643,642],[607,608,644,643],[608,609,645,644],[609,610,646,645],[610,611,647,646],[611,612,648,647],[612,578,614,648],[614,613,649,650],[613,615,651,649],[615,616,652,651],[616,617,653,652],[617,618,654,653],[618,619,655,654],[619,620,656,655],[620,621,657,656],[621,622,658,657],[622,623,659,658],[623,624,660,659],[624,625,661,660],[625,626,662,661],[626,627,663,662],[627,628,664,663],[628,629,665,664],[629,630,666,665],[630,631,667,666],[631,632,668,667],[632,633,669,668],[633,634,670,669],[634,635,671,670],[635,636,672,671],[636,637,673,672],[637,638,674,673],[638,639,675,674],[639,640,676,675],[640,641,677,676],[641,642,678,677],[642,643,679,678],[643,644,680,679],[644,645,681,680],[645,646,682,681],[646,647,683,682],[647,648,684,683],[648,614,650,684],[650,649,685],[649,651,685],[651,652,685],[652,653,685],[653,654,685],[654,655,685],[655,656,685],[656,657,685],[657,658,685],[658,659,685],[659,660,685],[660,661,685],[661,662,685],[662,663,685],[663,664,685],[664,665,685],[665,666,685],[666,667,685],[667,668,685],[668,669,685],[669,670,685],[670,671,685],[671,672,685],[672,673,685],[673,674,685],[674,675,685],[675,676,685],[676,677,685],[677,678,685],[678,679,685],[679,680,685],[680,681,685],[681,682,685],[682,683,685],[683,684,685],[684,650,685]], &quot;color&quot;:&quot;#008000&quot;, &quot;opacity&quot;:0.5},{&quot;vertices&quot;:[{&quot;x&quot;:-2,&quot;y&quot;:-2,&quot;z&quot;:0},{&quot;x&quot;:-2,&quot;y&quot;:-1.89744,&quot;z&quot;:0},{&quot;x&quot;:-1.89744,&quot;y&quot;:-1.89744,&quot;z&quot;:0},{&quot;x&quot;:-1.89744,&quot;y&quot;:-2,&quot;z&quot;:0},{&quot;x&quot;:-2,&quot;y&quot;:-1.79487,&quot;z&quot;:0},{&quot;x&quot;:-1.89744,&quot;y&quot;:-1.79487,&quot;z&quot;:0},{&quot;x&quot;:-2,&quot;y&quot;:-1.69231,&quot;z&quot;:0},{&quot;x&quot;:-1.89744,&quot;y&quot;:-1.69231,&quot;z&quot;:0},{&quot;x&quot;:-2,&quot;y&quot;:-1.58974,&quot;z&quot;:0},{&quot;x&quot;:-1.89744,&quot;y&quot;:-1.58974,&quot;z&quot;:0},{&quot;x&quot;:-2,&quot;y&quot;:-1.48718,&quot;z&quot;:0},{&quot;x&quot;:-1.89744,&quot;y&quot;:-1.48718,&quot;z&quot;:0},{&quot;x&quot;:-2,&quot;y&quot;:-1.38462,&quot;z&quot;:0},{&quot;x&quot;:-1.89744,&quot;y&quot;:-1.38462,&quot;z&quot;:0},{&quot;x&quot;:-2,&quot;y&quot;:-1.28205,&quot;z&quot;:0},{&quot;x&quot;:-1.89744,&quot;y&quot;:-1.28205,&quot;z&quot;:0},{&quot;x&quot;:-2,&quot;y&quot;:-1.17949,&quot;z&quot;:0},{&quot;x&quot;:-1.89744,&quot;y&quot;:-1.17949,&quot;z&quot;:0},{&quot;x&quot;:-2,&quot;y&quot;:-1.07692,&quot;z&quot;:0},{&quot;x&quot;:-1.89744,&quot;y&quot;:-1.07692,&quot;z&quot;:0},{&quot;x&quot;:-2,&quot;y&quot;:-0.974359,&quot;z&quot;:0},{&quot;x&quot;:-1.89744,&quot;y&quot;:-0.974359,&quot;z&quot;:0},{&quot;x&quot;:-2,&quot;y&quot;:-0.871795,&quot;z&quot;:0},{&quot;x&quot;:-1.89744,&quot;y&quot;:-0.871795,&quot;z&quot;:0},{&quot;x&quot;:-2,&quot;y&quot;:-0.769231,&quot;z&quot;:0},{&quot;x&quot;:-1.89744,&quot;y&quot;:-0.769231,&quot;z&quot;:0},{&quot;x&quot;:-2,&quot;y&quot;:-0.666667,&quot;z&quot;:0},{&quot;x&quot;:-1.89744,&quot;y&quot;:-0.666667,&quot;z&quot;:0},{&quot;x&quot;:-2,&quot;y&quot;:-0.564103,&quot;z&quot;:0},{&quot;x&quot;:-1.89744,&quot;y&quot;:-0.564103,&quot;z&quot;:0},{&quot;x&quot;:-2,&quot;y&quot;:-0.461538,&quot;z&quot;:0},{&quot;x&quot;:-1.89744,&quot;y&quot;:-0.461538,&quot;z&quot;:0},{&quot;x&quot;:-2,&quot;y&quot;:-0.358974,&quot;z&quot;:0},{&quot;x&quot;:-1.89744,&quot;y&quot;:-0.358974,&quot;z&quot;:0},{&quot;x&quot;:-2,&quot;y&quot;:-0.25641,&quot;z&quot;:0},{&quot;x&quot;:-1.89744,&quot;y&quot;:-0.25641,&quot;z&quot;:0},{&quot;x&quot;:-2,&quot;y&quot;:-0.153846,&quot;z&quot;:0},{&quot;x&quot;:-1.89744,&quot;y&quot;:-0.153846,&quot;z&quot;:0},{&quot;x&quot;:-2,&quot;y&quot;:-0.0512821,&quot;z&quot;:0},{&quot;x&quot;:-1.89744,&quot;y&quot;:-0.0512821,&quot;z&quot;:0},{&quot;x&quot;:-2,&quot;y&quot;:0.0512821,&quot;z&quot;:0},{&quot;x&quot;:-1.89744,&quot;y&quot;:0.0512821,&quot;z&quot;:0},{&quot;x&quot;:-2,&quot;y&quot;:0.153846,&quot;z&quot;:0},{&quot;x&quot;:-1.89744,&quot;y&quot;:0.153846,&quot;z&quot;:0},{&quot;x&quot;:-2,&quot;y&quot;:0.25641,&quot;z&quot;:0},{&quot;x&quot;:-1.89744,&quot;y&quot;:0.25641,&quot;z&quot;:0},{&quot;x&quot;:-2,&quot;y&quot;:0.358974,&quot;z&quot;:0},{&quot;x&quot;:-1.89744,&quot;y&quot;:0.358974,&quot;z&quot;:0},{&quot;x&quot;:-2,&quot;y&quot;:0.461538,&quot;z&quot;:0},{&quot;x&quot;:-1.89744,&quot;y&quot;:0.461538,&quot;z&quot;:0},{&quot;x&quot;:-2,&quot;y&quot;:0.564103,&quot;z&quot;:0},{&quot;x&quot;:-1.89744,&quot;y&quot;:0.564103,&quot;z&quot;:0},{&quot;x&quot;:-2,&quot;y&quot;:0.666667,&quot;z&quot;:0},{&quot;x&quot;:-1.89744,&quot;y&quot;:0.666667,&quot;z&quot;:0},{&quot;x&quot;:-2,&quot;y&quot;:0.769231,&quot;z&quot;:0},{&quot;x&quot;:-1.89744,&quot;y&quot;:0.769231,&quot;z&quot;:0},{&quot;x&quot;:-2,&quot;y&quot;:0.871795,&quot;z&quot;:0},{&quot;x&quot;:-1.89744,&quot;y&quot;:0.871795,&quot;z&quot;:0},{&quot;x&quot;:-2,&quot;y&quot;:0.974359,&quot;z&quot;:0},{&quot;x&quot;:-1.89744,&quot;y&quot;:0.974359,&quot;z&quot;:0},{&quot;x&quot;:-2,&quot;y&quot;:1.07692,&quot;z&quot;:0},{&quot;x&quot;:-1.89744,&quot;y&quot;:1.07692,&quot;z&quot;:0},{&quot;x&quot;:-2,&quot;y&quot;:1.17949,&quot;z&quot;:0},{&quot;x&quot;:-1.89744,&quot;y&quot;:1.17949,&quot;z&quot;:0},{&quot;x&quot;:-2,&quot;y&quot;:1.28205,&quot;z&quot;:0},{&quot;x&quot;:-1.89744,&quot;y&quot;:1.28205,&quot;z&quot;:0},{&quot;x&quot;:-2,&quot;y&quot;:1.38462,&quot;z&quot;:0},{&quot;x&quot;:-1.89744,&quot;y&quot;:1.38462,&quot;z&quot;:0},{&quot;x&quot;:-2,&quot;y&quot;:1.48718,&quot;z&quot;:0},{&quot;x&quot;:-1.89744,&quot;y&quot;:1.48718,&quot;z&quot;:0},{&quot;x&quot;:-2,&quot;y&quot;:1.58974,&quot;z&quot;:0},{&quot;x&quot;:-1.89744,&quot;y&quot;:1.58974,&quot;z&quot;:0},{&quot;x&quot;:-2,&quot;y&quot;:1.69231,&quot;z&quot;:0},{&quot;x&quot;:-1.89744,&quot;y&quot;:1.69231,&quot;z&quot;:0},{&quot;x&quot;:-2,&quot;y&quot;:1.79487,&quot;z&quot;:0},{&quot;x&quot;:-1.89744,&quot;y&quot;:1.79487,&quot;z&quot;:0},{&quot;x&quot;:-2,&quot;y&quot;:1.89744,&quot;z&quot;:0},{&quot;x&quot;:-1.89744,&quot;y&quot;:1.89744,&quot;z&quot;:0},{&quot;x&quot;:-2,&quot;y&quot;:2,&quot;z&quot;:0},{&quot;x&quot;:-1.89744,&quot;y&quot;:2,&quot;z&quot;:0},{&quot;x&quot;:-1.79487,&quot;y&quot;:-1.89744,&quot;z&quot;:0},{&quot;x&quot;:-1.79487,&quot;y&quot;:-2,&quot;z&quot;:0},{&quot;x&quot;:-1.79487,&quot;y&quot;:-1.79487,&quot;z&quot;:0},{&quot;x&quot;:-1.79487,&quot;y&quot;:-1.69231,&quot;z&quot;:0},{&quot;x&quot;:-1.79487,&quot;y&quot;:-1.58974,&quot;z&quot;:0},{&quot;x&quot;:-1.79487,&quot;y&quot;:-1.48718,&quot;z&quot;:0},{&quot;x&quot;:-1.79487,&quot;y&quot;:-1.38462,&quot;z&quot;:0},{&quot;x&quot;:-1.79487,&quot;y&quot;:-1.28205,&quot;z&quot;:0},{&quot;x&quot;:-1.79487,&quot;y&quot;:-1.17949,&quot;z&quot;:0},{&quot;x&quot;:-1.79487,&quot;y&quot;:-1.07692,&quot;z&quot;:0},{&quot;x&quot;:-1.79487,&quot;y&quot;:-0.974359,&quot;z&quot;:0},{&quot;x&quot;:-1.79487,&quot;y&quot;:-0.871795,&quot;z&quot;:0},{&quot;x&quot;:-1.79487,&quot;y&quot;:-0.769231,&quot;z&quot;:0},{&quot;x&quot;:-1.79487,&quot;y&quot;:-0.666667,&quot;z&quot;:0},{&quot;x&quot;:-1.79487,&quot;y&quot;:-0.564103,&quot;z&quot;:0},{&quot;x&quot;:-1.79487,&quot;y&quot;:-0.461538,&quot;z&quot;:0},{&quot;x&quot;:-1.79487,&quot;y&quot;:-0.358974,&quot;z&quot;:0},{&quot;x&quot;:-1.79487,&quot;y&quot;:-0.25641,&quot;z&quot;:0},{&quot;x&quot;:-1.79487,&quot;y&quot;:-0.153846,&quot;z&quot;:0},{&quot;x&quot;:-1.79487,&quot;y&quot;:-0.0512821,&quot;z&quot;:0},{&quot;x&quot;:-1.79487,&quot;y&quot;:0.0512821,&quot;z&quot;:0},{&quot;x&quot;:-1.79487,&quot;y&quot;:0.153846,&quot;z&quot;:0},{&quot;x&quot;:-1.79487,&quot;y&quot;:0.25641,&quot;z&quot;:0},{&quot;x&quot;:-1.79487,&quot;y&quot;:0.358974,&quot;z&quot;:0},{&quot;x&quot;:-1.79487,&quot;y&quot;:0.461538,&quot;z&quot;:0},{&quot;x&quot;:-1.79487,&quot;y&quot;:0.564103,&quot;z&quot;:0},{&quot;x&quot;:-1.79487,&quot;y&quot;:0.666667,&quot;z&quot;:0},{&quot;x&quot;:-1.79487,&quot;y&quot;:0.769231,&quot;z&quot;:0},{&quot;x&quot;:-1.79487,&quot;y&quot;:0.871795,&quot;z&quot;:0},{&quot;x&quot;:-1.79487,&quot;y&quot;:0.974359,&quot;z&quot;:0},{&quot;x&quot;:-1.79487,&quot;y&quot;:1.07692,&quot;z&quot;:0},{&quot;x&quot;:-1.79487,&quot;y&quot;:1.17949,&quot;z&quot;:0},{&quot;x&quot;:-1.79487,&quot;y&quot;:1.28205,&quot;z&quot;:0},{&quot;x&quot;:-1.79487,&quot;y&quot;:1.38462,&quot;z&quot;:0},{&quot;x&quot;:-1.79487,&quot;y&quot;:1.48718,&quot;z&quot;:0},{&quot;x&quot;:-1.79487,&quot;y&quot;:1.58974,&quot;z&quot;:0},{&quot;x&quot;:-1.79487,&quot;y&quot;:1.69231,&quot;z&quot;:0},{&quot;x&quot;:-1.79487,&quot;y&quot;:1.79487,&quot;z&quot;:0},{&quot;x&quot;:-1.79487,&quot;y&quot;:1.89744,&quot;z&quot;:0},{&quot;x&quot;:-1.79487,&quot;y&quot;:2,&quot;z&quot;:0},{&quot;x&quot;:-1.69231,&quot;y&quot;:-1.89744,&quot;z&quot;:0},{&quot;x&quot;:-1.69231,&quot;y&quot;:-2,&quot;z&quot;:0},{&quot;x&quot;:-1.69231,&quot;y&quot;:-1.79487,&quot;z&quot;:0},{&quot;x&quot;:-1.69231,&quot;y&quot;:-1.69231,&quot;z&quot;:0},{&quot;x&quot;:-1.69231,&quot;y&quot;:-1.58974,&quot;z&quot;:0},{&quot;x&quot;:-1.69231,&quot;y&quot;:-1.48718,&quot;z&quot;:0},{&quot;x&quot;:-1.69231,&quot;y&quot;:-1.38462,&quot;z&quot;:0},{&quot;x&quot;:-1.69231,&quot;y&quot;:-1.28205,&quot;z&quot;:0},{&quot;x&quot;:-1.69231,&quot;y&quot;:-1.17949,&quot;z&quot;:0},{&quot;x&quot;:-1.69231,&quot;y&quot;:-1.07692,&quot;z&quot;:0},{&quot;x&quot;:-1.69231,&quot;y&quot;:-0.974359,&quot;z&quot;:0},{&quot;x&quot;:-1.69231,&quot;y&quot;:-0.871795,&quot;z&quot;:0},{&quot;x&quot;:-1.69231,&quot;y&quot;:-0.769231,&quot;z&quot;:0},{&quot;x&quot;:-1.69231,&quot;y&quot;:-0.666667,&quot;z&quot;:0},{&quot;x&quot;:-1.69231,&quot;y&quot;:-0.564103,&quot;z&quot;:0},{&quot;x&quot;:-1.69231,&quot;y&quot;:-0.461538,&quot;z&quot;:0},{&quot;x&quot;:-1.69231,&quot;y&quot;:-0.358974,&quot;z&quot;:0},{&quot;x&quot;:-1.69231,&quot;y&quot;:-0.25641,&quot;z&quot;:0},{&quot;x&quot;:-1.69231,&quot;y&quot;:-0.153846,&quot;z&quot;:0},{&quot;x&quot;:-1.69231,&quot;y&quot;:-0.0512821,&quot;z&quot;:0},{&quot;x&quot;:-1.69231,&quot;y&quot;:0.0512821,&quot;z&quot;:0},{&quot;x&quot;:-1.69231,&quot;y&quot;:0.153846,&quot;z&quot;:0},{&quot;x&quot;:-1.69231,&quot;y&quot;:0.25641,&quot;z&quot;:0},{&quot;x&quot;:-1.69231,&quot;y&quot;:0.358974,&quot;z&quot;:0},{&quot;x&quot;:-1.69231,&quot;y&quot;:0.461538,&quot;z&quot;:0},{&quot;x&quot;:-1.69231,&quot;y&quot;:0.564103,&quot;z&quot;:0},{&quot;x&quot;:-1.69231,&quot;y&quot;:0.666667,&quot;z&quot;:0},{&quot;x&quot;:-1.69231,&quot;y&quot;:0.769231,&quot;z&quot;:0},{&quot;x&quot;:-1.69231,&quot;y&quot;:0.871795,&quot;z&quot;:0},{&quot;x&quot;:-1.69231,&quot;y&quot;:0.974359,&quot;z&quot;:0},{&quot;x&quot;:-1.69231,&quot;y&quot;:1.07692,&quot;z&quot;:0},{&quot;x&quot;:-1.69231,&quot;y&quot;:1.17949,&quot;z&quot;:0},{&quot;x&quot;:-1.69231,&quot;y&quot;:1.28205,&quot;z&quot;:0},{&quot;x&quot;:-1.69231,&quot;y&quot;:1.38462,&quot;z&quot;:0},{&quot;x&quot;:-1.69231,&quot;y&quot;:1.48718,&quot;z&quot;:0},{&quot;x&quot;:-1.69231,&quot;y&quot;:1.58974,&quot;z&quot;:0},{&quot;x&quot;:-1.69231,&quot;y&quot;:1.69231,&quot;z&quot;:0},{&quot;x&quot;:-1.69231,&quot;y&quot;:1.79487,&quot;z&quot;:0},{&quot;x&quot;:-1.69231,&quot;y&quot;:1.89744,&quot;z&quot;:0},{&quot;x&quot;:-1.69231,&quot;y&quot;:2,&quot;z&quot;:0},{&quot;x&quot;:-1.58974,&quot;y&quot;:-1.89744,&quot;z&quot;:0},{&quot;x&quot;:-1.58974,&quot;y&quot;:-2,&quot;z&quot;:0},{&quot;x&quot;:-1.58974,&quot;y&quot;:-1.79487,&quot;z&quot;:0},{&quot;x&quot;:-1.58974,&quot;y&quot;:-1.69231,&quot;z&quot;:0},{&quot;x&quot;:-1.58974,&quot;y&quot;:-1.58974,&quot;z&quot;:0},{&quot;x&quot;:-1.58974,&quot;y&quot;:-1.48718,&quot;z&quot;:0},{&quot;x&quot;:-1.58974,&quot;y&quot;:-1.38462,&quot;z&quot;:0},{&quot;x&quot;:-1.58974,&quot;y&quot;:-1.28205,&quot;z&quot;:0},{&quot;x&quot;:-1.58974,&quot;y&quot;:-1.17949,&quot;z&quot;:0},{&quot;x&quot;:-1.58974,&quot;y&quot;:-1.07692,&quot;z&quot;:0},{&quot;x&quot;:-1.58974,&quot;y&quot;:-0.974359,&quot;z&quot;:0},{&quot;x&quot;:-1.58974,&quot;y&quot;:-0.871795,&quot;z&quot;:0},{&quot;x&quot;:-1.58974,&quot;y&quot;:-0.769231,&quot;z&quot;:0},{&quot;x&quot;:-1.58974,&quot;y&quot;:-0.666667,&quot;z&quot;:0},{&quot;x&quot;:-1.58974,&quot;y&quot;:-0.564103,&quot;z&quot;:0},{&quot;x&quot;:-1.58974,&quot;y&quot;:-0.461538,&quot;z&quot;:0},{&quot;x&quot;:-1.58974,&quot;y&quot;:-0.358974,&quot;z&quot;:0},{&quot;x&quot;:-1.58974,&quot;y&quot;:-0.25641,&quot;z&quot;:0},{&quot;x&quot;:-1.58974,&quot;y&quot;:-0.153846,&quot;z&quot;:0},{&quot;x&quot;:-1.58974,&quot;y&quot;:-0.0512821,&quot;z&quot;:0},{&quot;x&quot;:-1.58974,&quot;y&quot;:0.0512821,&quot;z&quot;:0},{&quot;x&quot;:-1.58974,&quot;y&quot;:0.153846,&quot;z&quot;:0},{&quot;x&quot;:-1.58974,&quot;y&quot;:0.25641,&quot;z&quot;:0},{&quot;x&quot;:-1.58974,&quot;y&quot;:0.358974,&quot;z&quot;:0},{&quot;x&quot;:-1.58974,&quot;y&quot;:0.461538,&quot;z&quot;:0},{&quot;x&quot;:-1.58974,&quot;y&quot;:0.564103,&quot;z&quot;:0},{&quot;x&quot;:-1.58974,&quot;y&quot;:0.666667,&quot;z&quot;:0},{&quot;x&quot;:-1.58974,&quot;y&quot;:0.769231,&quot;z&quot;:0},{&quot;x&quot;:-1.58974,&quot;y&quot;:0.871795,&quot;z&quot;:0},{&quot;x&quot;:-1.58974,&quot;y&quot;:0.974359,&quot;z&quot;:0},{&quot;x&quot;:-1.58974,&quot;y&quot;:1.07692,&quot;z&quot;:0},{&quot;x&quot;:-1.58974,&quot;y&quot;:1.17949,&quot;z&quot;:0},{&quot;x&quot;:-1.58974,&quot;y&quot;:1.28205,&quot;z&quot;:0},{&quot;x&quot;:-1.58974,&quot;y&quot;:1.38462,&quot;z&quot;:0},{&quot;x&quot;:-1.58974,&quot;y&quot;:1.48718,&quot;z&quot;:0},{&quot;x&quot;:-1.58974,&quot;y&quot;:1.58974,&quot;z&quot;:0},{&quot;x&quot;:-1.58974,&quot;y&quot;:1.69231,&quot;z&quot;:0},{&quot;x&quot;:-1.58974,&quot;y&quot;:1.79487,&quot;z&quot;:0},{&quot;x&quot;:-1.58974,&quot;y&quot;:1.89744,&quot;z&quot;:0},{&quot;x&quot;:-1.58974,&quot;y&quot;:2,&quot;z&quot;:0},{&quot;x&quot;:-1.48718,&quot;y&quot;:-1.89744,&quot;z&quot;:0},{&quot;x&quot;:-1.48718,&quot;y&quot;:-2,&quot;z&quot;:0},{&quot;x&quot;:-1.48718,&quot;y&quot;:-1.79487,&quot;z&quot;:0},{&quot;x&quot;:-1.48718,&quot;y&quot;:-1.69231,&quot;z&quot;:0},{&quot;x&quot;:-1.48718,&quot;y&quot;:-1.58974,&quot;z&quot;:0},{&quot;x&quot;:-1.48718,&quot;y&quot;:-1.48718,&quot;z&quot;:0},{&quot;x&quot;:-1.48718,&quot;y&quot;:-1.38462,&quot;z&quot;:0},{&quot;x&quot;:-1.48718,&quot;y&quot;:-1.28205,&quot;z&quot;:0},{&quot;x&quot;:-1.48718,&quot;y&quot;:-1.17949,&quot;z&quot;:0},{&quot;x&quot;:-1.48718,&quot;y&quot;:-1.07692,&quot;z&quot;:0},{&quot;x&quot;:-1.48718,&quot;y&quot;:-0.974359,&quot;z&quot;:0},{&quot;x&quot;:-1.48718,&quot;y&quot;:-0.871795,&quot;z&quot;:0},{&quot;x&quot;:-1.48718,&quot;y&quot;:-0.769231,&quot;z&quot;:0},{&quot;x&quot;:-1.48718,&quot;y&quot;:-0.666667,&quot;z&quot;:0},{&quot;x&quot;:-1.48718,&quot;y&quot;:-0.564103,&quot;z&quot;:0},{&quot;x&quot;:-1.48718,&quot;y&quot;:-0.461538,&quot;z&quot;:0},{&quot;x&quot;:-1.48718,&quot;y&quot;:-0.358974,&quot;z&quot;:0},{&quot;x&quot;:-1.48718,&quot;y&quot;:-0.25641,&quot;z&quot;:0},{&quot;x&quot;:-1.48718,&quot;y&quot;:-0.153846,&quot;z&quot;:0},{&quot;x&quot;:-1.48718,&quot;y&quot;:-0.0512821,&quot;z&quot;:0},{&quot;x&quot;:-1.48718,&quot;y&quot;:0.0512821,&quot;z&quot;:0},{&quot;x&quot;:-1.48718,&quot;y&quot;:0.153846,&quot;z&quot;:0},{&quot;x&quot;:-1.48718,&quot;y&quot;:0.25641,&quot;z&quot;:0},{&quot;x&quot;:-1.48718,&quot;y&quot;:0.358974,&quot;z&quot;:0},{&quot;x&quot;:-1.48718,&quot;y&quot;:0.461538,&quot;z&quot;:0},{&quot;x&quot;:-1.48718,&quot;y&quot;:0.564103,&quot;z&quot;:0},{&quot;x&quot;:-1.48718,&quot;y&quot;:0.666667,&quot;z&quot;:0},{&quot;x&quot;:-1.48718,&quot;y&quot;:0.769231,&quot;z&quot;:0},{&quot;x&quot;:-1.48718,&quot;y&quot;:0.871795,&quot;z&quot;:0},{&quot;x&quot;:-1.48718,&quot;y&quot;:0.974359,&quot;z&quot;:0},{&quot;x&quot;:-1.48718,&quot;y&quot;:1.07692,&quot;z&quot;:0},{&quot;x&quot;:-1.48718,&quot;y&quot;:1.17949,&quot;z&quot;:0},{&quot;x&quot;:-1.48718,&quot;y&quot;:1.28205,&quot;z&quot;:0},{&quot;x&quot;:-1.48718,&quot;y&quot;:1.38462,&quot;z&quot;:0},{&quot;x&quot;:-1.48718,&quot;y&quot;:1.48718,&quot;z&quot;:0},{&quot;x&quot;:-1.48718,&quot;y&quot;:1.58974,&quot;z&quot;:0},{&quot;x&quot;:-1.48718,&quot;y&quot;:1.69231,&quot;z&quot;:0},{&quot;x&quot;:-1.48718,&quot;y&quot;:1.79487,&quot;z&quot;:0},{&quot;x&quot;:-1.48718,&quot;y&quot;:1.89744,&quot;z&quot;:0},{&quot;x&quot;:-1.48718,&quot;y&quot;:2,&quot;z&quot;:0},{&quot;x&quot;:-1.38462,&quot;y&quot;:-1.89744,&quot;z&quot;:0},{&quot;x&quot;:-1.38462,&quot;y&quot;:-2,&quot;z&quot;:0},{&quot;x&quot;:-1.38462,&quot;y&quot;:-1.79487,&quot;z&quot;:0},{&quot;x&quot;:-1.38462,&quot;y&quot;:-1.69231,&quot;z&quot;:0},{&quot;x&quot;:-1.38462,&quot;y&quot;:-1.58974,&quot;z&quot;:0},{&quot;x&quot;:-1.38462,&quot;y&quot;:-1.48718,&quot;z&quot;:0},{&quot;x&quot;:-1.38462,&quot;y&quot;:-1.38462,&quot;z&quot;:0},{&quot;x&quot;:-1.38462,&quot;y&quot;:-1.28205,&quot;z&quot;:0},{&quot;x&quot;:-1.38462,&quot;y&quot;:-1.17949,&quot;z&quot;:0},{&quot;x&quot;:-1.38462,&quot;y&quot;:-1.07692,&quot;z&quot;:0},{&quot;x&quot;:-1.38462,&quot;y&quot;:-0.974359,&quot;z&quot;:0},{&quot;x&quot;:-1.38462,&quot;y&quot;:-0.871795,&quot;z&quot;:0},{&quot;x&quot;:-1.38462,&quot;y&quot;:-0.769231,&quot;z&quot;:0},{&quot;x&quot;:-1.38462,&quot;y&quot;:-0.666667,&quot;z&quot;:0},{&quot;x&quot;:-1.38462,&quot;y&quot;:-0.564103,&quot;z&quot;:0},{&quot;x&quot;:-1.38462,&quot;y&quot;:-0.461538,&quot;z&quot;:0},{&quot;x&quot;:-1.38462,&quot;y&quot;:-0.358974,&quot;z&quot;:0},{&quot;x&quot;:-1.38462,&quot;y&quot;:-0.25641,&quot;z&quot;:0},{&quot;x&quot;:-1.38462,&quot;y&quot;:-0.153846,&quot;z&quot;:0},{&quot;x&quot;:-1.38462,&quot;y&quot;:-0.0512821,&quot;z&quot;:0},{&quot;x&quot;:-1.38462,&quot;y&quot;:0.0512821,&quot;z&quot;:0},{&quot;x&quot;:-1.38462,&quot;y&quot;:0.153846,&quot;z&quot;:0},{&quot;x&quot;:-1.38462,&quot;y&quot;:0.25641,&quot;z&quot;:0},{&quot;x&quot;:-1.38462,&quot;y&quot;:0.358974,&quot;z&quot;:0},{&quot;x&quot;:-1.38462,&quot;y&quot;:0.461538,&quot;z&quot;:0},{&quot;x&quot;:-1.38462,&quot;y&quot;:0.564103,&quot;z&quot;:0},{&quot;x&quot;:-1.38462,&quot;y&quot;:0.666667,&quot;z&quot;:0},{&quot;x&quot;:-1.38462,&quot;y&quot;:0.769231,&quot;z&quot;:0},{&quot;x&quot;:-1.38462,&quot;y&quot;:0.871795,&quot;z&quot;:0},{&quot;x&quot;:-1.38462,&quot;y&quot;:0.974359,&quot;z&quot;:0},{&quot;x&quot;:-1.38462,&quot;y&quot;:1.07692,&quot;z&quot;:0},{&quot;x&quot;:-1.38462,&quot;y&quot;:1.17949,&quot;z&quot;:0},{&quot;x&quot;:-1.38462,&quot;y&quot;:1.28205,&quot;z&quot;:0},{&quot;x&quot;:-1.38462,&quot;y&quot;:1.38462,&quot;z&quot;:0},{&quot;x&quot;:-1.38462,&quot;y&quot;:1.48718,&quot;z&quot;:0},{&quot;x&quot;:-1.38462,&quot;y&quot;:1.58974,&quot;z&quot;:0},{&quot;x&quot;:-1.38462,&quot;y&quot;:1.69231,&quot;z&quot;:0},{&quot;x&quot;:-1.38462,&quot;y&quot;:1.79487,&quot;z&quot;:0},{&quot;x&quot;:-1.38462,&quot;y&quot;:1.89744,&quot;z&quot;:0},{&quot;x&quot;:-1.38462,&quot;y&quot;:2,&quot;z&quot;:0},{&quot;x&quot;:-1.28205,&quot;y&quot;:-1.89744,&quot;z&quot;:0},{&quot;x&quot;:-1.28205,&quot;y&quot;:-2,&quot;z&quot;:0},{&quot;x&quot;:-1.28205,&quot;y&quot;:-1.79487,&quot;z&quot;:0},{&quot;x&quot;:-1.28205,&quot;y&quot;:-1.69231,&quot;z&quot;:0},{&quot;x&quot;:-1.28205,&quot;y&quot;:-1.58974,&quot;z&quot;:0},{&quot;x&quot;:-1.28205,&quot;y&quot;:-1.48718,&quot;z&quot;:0},{&quot;x&quot;:-1.28205,&quot;y&quot;:-1.38462,&quot;z&quot;:0},{&quot;x&quot;:-1.28205,&quot;y&quot;:-1.28205,&quot;z&quot;:0},{&quot;x&quot;:-1.28205,&quot;y&quot;:-1.17949,&quot;z&quot;:0},{&quot;x&quot;:-1.28205,&quot;y&quot;:-1.07692,&quot;z&quot;:0},{&quot;x&quot;:-1.28205,&quot;y&quot;:-0.974359,&quot;z&quot;:0},{&quot;x&quot;:-1.28205,&quot;y&quot;:-0.871795,&quot;z&quot;:0},{&quot;x&quot;:-1.28205,&quot;y&quot;:-0.769231,&quot;z&quot;:0},{&quot;x&quot;:-1.28205,&quot;y&quot;:-0.666667,&quot;z&quot;:0},{&quot;x&quot;:-1.28205,&quot;y&quot;:-0.564103,&quot;z&quot;:0},{&quot;x&quot;:-1.28205,&quot;y&quot;:-0.461538,&quot;z&quot;:0},{&quot;x&quot;:-1.28205,&quot;y&quot;:-0.358974,&quot;z&quot;:0},{&quot;x&quot;:-1.28205,&quot;y&quot;:-0.25641,&quot;z&quot;:0},{&quot;x&quot;:-1.28205,&quot;y&quot;:-0.153846,&quot;z&quot;:0},{&quot;x&quot;:-1.28205,&quot;y&quot;:-0.0512821,&quot;z&quot;:0},{&quot;x&quot;:-1.28205,&quot;y&quot;:0.0512821,&quot;z&quot;:0},{&quot;x&quot;:-1.28205,&quot;y&quot;:0.153846,&quot;z&quot;:0},{&quot;x&quot;:-1.28205,&quot;y&quot;:0.25641,&quot;z&quot;:0},{&quot;x&quot;:-1.28205,&quot;y&quot;:0.358974,&quot;z&quot;:0},{&quot;x&quot;:-1.28205,&quot;y&quot;:0.461538,&quot;z&quot;:0},{&quot;x&quot;:-1.28205,&quot;y&quot;:0.564103,&quot;z&quot;:0},{&quot;x&quot;:-1.28205,&quot;y&quot;:0.666667,&quot;z&quot;:0},{&quot;x&quot;:-1.28205,&quot;y&quot;:0.769231,&quot;z&quot;:0},{&quot;x&quot;:-1.28205,&quot;y&quot;:0.871795,&quot;z&quot;:0},{&quot;x&quot;:-1.28205,&quot;y&quot;:0.974359,&quot;z&quot;:0},{&quot;x&quot;:-1.28205,&quot;y&quot;:1.07692,&quot;z&quot;:0},{&quot;x&quot;:-1.28205,&quot;y&quot;:1.17949,&quot;z&quot;:0},{&quot;x&quot;:-1.28205,&quot;y&quot;:1.28205,&quot;z&quot;:0},{&quot;x&quot;:-1.28205,&quot;y&quot;:1.38462,&quot;z&quot;:0},{&quot;x&quot;:-1.28205,&quot;y&quot;:1.48718,&quot;z&quot;:0},{&quot;x&quot;:-1.28205,&quot;y&quot;:1.58974,&quot;z&quot;:0},{&quot;x&quot;:-1.28205,&quot;y&quot;:1.69231,&quot;z&quot;:0},{&quot;x&quot;:-1.28205,&quot;y&quot;:1.79487,&quot;z&quot;:0},{&quot;x&quot;:-1.28205,&quot;y&quot;:1.89744,&quot;z&quot;:0},{&quot;x&quot;:-1.28205,&quot;y&quot;:2,&quot;z&quot;:0},{&quot;x&quot;:-1.17949,&quot;y&quot;:-1.89744,&quot;z&quot;:0},{&quot;x&quot;:-1.17949,&quot;y&quot;:-2,&quot;z&quot;:0},{&quot;x&quot;:-1.17949,&quot;y&quot;:-1.79487,&quot;z&quot;:0},{&quot;x&quot;:-1.17949,&quot;y&quot;:-1.69231,&quot;z&quot;:0},{&quot;x&quot;:-1.17949,&quot;y&quot;:-1.58974,&quot;z&quot;:0},{&quot;x&quot;:-1.17949,&quot;y&quot;:-1.48718,&quot;z&quot;:0},{&quot;x&quot;:-1.17949,&quot;y&quot;:-1.38462,&quot;z&quot;:0},{&quot;x&quot;:-1.17949,&quot;y&quot;:-1.28205,&quot;z&quot;:0},{&quot;x&quot;:-1.17949,&quot;y&quot;:-1.17949,&quot;z&quot;:0},{&quot;x&quot;:-1.17949,&quot;y&quot;:-1.07692,&quot;z&quot;:0},{&quot;x&quot;:-1.17949,&quot;y&quot;:-0.974359,&quot;z&quot;:0},{&quot;x&quot;:-1.17949,&quot;y&quot;:-0.871795,&quot;z&quot;:0},{&quot;x&quot;:-1.17949,&quot;y&quot;:-0.769231,&quot;z&quot;:0},{&quot;x&quot;:-1.17949,&quot;y&quot;:-0.666667,&quot;z&quot;:0},{&quot;x&quot;:-1.17949,&quot;y&quot;:-0.564103,&quot;z&quot;:0},{&quot;x&quot;:-1.17949,&quot;y&quot;:-0.461538,&quot;z&quot;:0},{&quot;x&quot;:-1.17949,&quot;y&quot;:-0.358974,&quot;z&quot;:0},{&quot;x&quot;:-1.17949,&quot;y&quot;:-0.25641,&quot;z&quot;:0},{&quot;x&quot;:-1.17949,&quot;y&quot;:-0.153846,&quot;z&quot;:0},{&quot;x&quot;:-1.17949,&quot;y&quot;:-0.0512821,&quot;z&quot;:0},{&quot;x&quot;:-1.17949,&quot;y&quot;:0.0512821,&quot;z&quot;:0},{&quot;x&quot;:-1.17949,&quot;y&quot;:0.153846,&quot;z&quot;:0},{&quot;x&quot;:-1.17949,&quot;y&quot;:0.25641,&quot;z&quot;:0},{&quot;x&quot;:-1.17949,&quot;y&quot;:0.358974,&quot;z&quot;:0},{&quot;x&quot;:-1.17949,&quot;y&quot;:0.461538,&quot;z&quot;:0},{&quot;x&quot;:-1.17949,&quot;y&quot;:0.564103,&quot;z&quot;:0},{&quot;x&quot;:-1.17949,&quot;y&quot;:0.666667,&quot;z&quot;:0},{&quot;x&quot;:-1.17949,&quot;y&quot;:0.769231,&quot;z&quot;:0},{&quot;x&quot;:-1.17949,&quot;y&quot;:0.871795,&quot;z&quot;:0},{&quot;x&quot;:-1.17949,&quot;y&quot;:0.974359,&quot;z&quot;:0},{&quot;x&quot;:-1.17949,&quot;y&quot;:1.07692,&quot;z&quot;:0},{&quot;x&quot;:-1.17949,&quot;y&quot;:1.17949,&quot;z&quot;:0},{&quot;x&quot;:-1.17949,&quot;y&quot;:1.28205,&quot;z&quot;:0},{&quot;x&quot;:-1.17949,&quot;y&quot;:1.38462,&quot;z&quot;:0},{&quot;x&quot;:-1.17949,&quot;y&quot;:1.48718,&quot;z&quot;:0},{&quot;x&quot;:-1.17949,&quot;y&quot;:1.58974,&quot;z&quot;:0},{&quot;x&quot;:-1.17949,&quot;y&quot;:1.69231,&quot;z&quot;:0},{&quot;x&quot;:-1.17949,&quot;y&quot;:1.79487,&quot;z&quot;:0},{&quot;x&quot;:-1.17949,&quot;y&quot;:1.89744,&quot;z&quot;:0},{&quot;x&quot;:-1.17949,&quot;y&quot;:2,&quot;z&quot;:0},{&quot;x&quot;:-1.07692,&quot;y&quot;:-1.89744,&quot;z&quot;:0},{&quot;x&quot;:-1.07692,&quot;y&quot;:-2,&quot;z&quot;:0},{&quot;x&quot;:-1.07692,&quot;y&quot;:-1.79487,&quot;z&quot;:0},{&quot;x&quot;:-1.07692,&quot;y&quot;:-1.69231,&quot;z&quot;:0},{&quot;x&quot;:-1.07692,&quot;y&quot;:-1.58974,&quot;z&quot;:0},{&quot;x&quot;:-1.07692,&quot;y&quot;:-1.48718,&quot;z&quot;:0},{&quot;x&quot;:-1.07692,&quot;y&quot;:-1.38462,&quot;z&quot;:0},{&quot;x&quot;:-1.07692,&quot;y&quot;:-1.28205,&quot;z&quot;:0},{&quot;x&quot;:-1.07692,&quot;y&quot;:-1.17949,&quot;z&quot;:0},{&quot;x&quot;:-1.07692,&quot;y&quot;:-1.07692,&quot;z&quot;:0},{&quot;x&quot;:-1.07692,&quot;y&quot;:-0.974359,&quot;z&quot;:0},{&quot;x&quot;:-1.07692,&quot;y&quot;:-0.871795,&quot;z&quot;:0},{&quot;x&quot;:-1.07692,&quot;y&quot;:-0.769231,&quot;z&quot;:0},{&quot;x&quot;:-1.07692,&quot;y&quot;:-0.666667,&quot;z&quot;:0},{&quot;x&quot;:-1.07692,&quot;y&quot;:-0.564103,&quot;z&quot;:0},{&quot;x&quot;:-1.07692,&quot;y&quot;:-0.461538,&quot;z&quot;:0},{&quot;x&quot;:-1.07692,&quot;y&quot;:-0.358974,&quot;z&quot;:0},{&quot;x&quot;:-1.07692,&quot;y&quot;:-0.25641,&quot;z&quot;:0},{&quot;x&quot;:-1.07692,&quot;y&quot;:-0.153846,&quot;z&quot;:0},{&quot;x&quot;:-1.07692,&quot;y&quot;:-0.0512821,&quot;z&quot;:0},{&quot;x&quot;:-1.07692,&quot;y&quot;:0.0512821,&quot;z&quot;:0},{&quot;x&quot;:-1.07692,&quot;y&quot;:0.153846,&quot;z&quot;:0},{&quot;x&quot;:-1.07692,&quot;y&quot;:0.25641,&quot;z&quot;:0},{&quot;x&quot;:-1.07692,&quot;y&quot;:0.358974,&quot;z&quot;:0},{&quot;x&quot;:-1.07692,&quot;y&quot;:0.461538,&quot;z&quot;:0},{&quot;x&quot;:-1.07692,&quot;y&quot;:0.564103,&quot;z&quot;:0},{&quot;x&quot;:-1.07692,&quot;y&quot;:0.666667,&quot;z&quot;:0},{&quot;x&quot;:-1.07692,&quot;y&quot;:0.769231,&quot;z&quot;:0},{&quot;x&quot;:-1.07692,&quot;y&quot;:0.871795,&quot;z&quot;:0},{&quot;x&quot;:-1.07692,&quot;y&quot;:0.974359,&quot;z&quot;:0},{&quot;x&quot;:-1.07692,&quot;y&quot;:1.07692,&quot;z&quot;:0},{&quot;x&quot;:-1.07692,&quot;y&quot;:1.17949,&quot;z&quot;:0},{&quot;x&quot;:-1.07692,&quot;y&quot;:1.28205,&quot;z&quot;:0},{&quot;x&quot;:-1.07692,&quot;y&quot;:1.38462,&quot;z&quot;:0},{&quot;x&quot;:-1.07692,&quot;y&quot;:1.48718,&quot;z&quot;:0},{&quot;x&quot;:-1.07692,&quot;y&quot;:1.58974,&quot;z&quot;:0},{&quot;x&quot;:-1.07692,&quot;y&quot;:1.69231,&quot;z&quot;:0},{&quot;x&quot;:-1.07692,&quot;y&quot;:1.79487,&quot;z&quot;:0},{&quot;x&quot;:-1.07692,&quot;y&quot;:1.89744,&quot;z&quot;:0},{&quot;x&quot;:-1.07692,&quot;y&quot;:2,&quot;z&quot;:0},{&quot;x&quot;:-0.974359,&quot;y&quot;:-1.89744,&quot;z&quot;:0},{&quot;x&quot;:-0.974359,&quot;y&quot;:-2,&quot;z&quot;:0},{&quot;x&quot;:-0.974359,&quot;y&quot;:-1.79487,&quot;z&quot;:0},{&quot;x&quot;:-0.974359,&quot;y&quot;:-1.69231,&quot;z&quot;:0},{&quot;x&quot;:-0.974359,&quot;y&quot;:-1.58974,&quot;z&quot;:0},{&quot;x&quot;:-0.974359,&quot;y&quot;:-1.48718,&quot;z&quot;:0},{&quot;x&quot;:-0.974359,&quot;y&quot;:-1.38462,&quot;z&quot;:0},{&quot;x&quot;:-0.974359,&quot;y&quot;:-1.28205,&quot;z&quot;:0},{&quot;x&quot;:-0.974359,&quot;y&quot;:-1.17949,&quot;z&quot;:0},{&quot;x&quot;:-0.974359,&quot;y&quot;:-1.07692,&quot;z&quot;:0},{&quot;x&quot;:-0.974359,&quot;y&quot;:-0.974359,&quot;z&quot;:0},{&quot;x&quot;:-0.974359,&quot;y&quot;:-0.871795,&quot;z&quot;:0},{&quot;x&quot;:-0.974359,&quot;y&quot;:-0.769231,&quot;z&quot;:0},{&quot;x&quot;:-0.974359,&quot;y&quot;:-0.666667,&quot;z&quot;:0},{&quot;x&quot;:-0.974359,&quot;y&quot;:-0.564103,&quot;z&quot;:0},{&quot;x&quot;:-0.974359,&quot;y&quot;:-0.461538,&quot;z&quot;:0},{&quot;x&quot;:-0.974359,&quot;y&quot;:-0.358974,&quot;z&quot;:0},{&quot;x&quot;:-0.974359,&quot;y&quot;:-0.25641,&quot;z&quot;:0},{&quot;x&quot;:-0.974359,&quot;y&quot;:-0.153846,&quot;z&quot;:0},{&quot;x&quot;:-0.974359,&quot;y&quot;:-0.0512821,&quot;z&quot;:0},{&quot;x&quot;:-0.974359,&quot;y&quot;:0.0512821,&quot;z&quot;:0},{&quot;x&quot;:-0.974359,&quot;y&quot;:0.153846,&quot;z&quot;:0},{&quot;x&quot;:-0.974359,&quot;y&quot;:0.25641,&quot;z&quot;:0},{&quot;x&quot;:-0.974359,&quot;y&quot;:0.358974,&quot;z&quot;:0},{&quot;x&quot;:-0.974359,&quot;y&quot;:0.461538,&quot;z&quot;:0},{&quot;x&quot;:-0.974359,&quot;y&quot;:0.564103,&quot;z&quot;:0},{&quot;x&quot;:-0.974359,&quot;y&quot;:0.666667,&quot;z&quot;:0},{&quot;x&quot;:-0.974359,&quot;y&quot;:0.769231,&quot;z&quot;:0},{&quot;x&quot;:-0.974359,&quot;y&quot;:0.871795,&quot;z&quot;:0},{&quot;x&quot;:-0.974359,&quot;y&quot;:0.974359,&quot;z&quot;:0},{&quot;x&quot;:-0.974359,&quot;y&quot;:1.07692,&quot;z&quot;:0},{&quot;x&quot;:-0.974359,&quot;y&quot;:1.17949,&quot;z&quot;:0},{&quot;x&quot;:-0.974359,&quot;y&quot;:1.28205,&quot;z&quot;:0},{&quot;x&quot;:-0.974359,&quot;y&quot;:1.38462,&quot;z&quot;:0},{&quot;x&quot;:-0.974359,&quot;y&quot;:1.48718,&quot;z&quot;:0},{&quot;x&quot;:-0.974359,&quot;y&quot;:1.58974,&quot;z&quot;:0},{&quot;x&quot;:-0.974359,&quot;y&quot;:1.69231,&quot;z&quot;:0},{&quot;x&quot;:-0.974359,&quot;y&quot;:1.79487,&quot;z&quot;:0},{&quot;x&quot;:-0.974359,&quot;y&quot;:1.89744,&quot;z&quot;:0},{&quot;x&quot;:-0.974359,&quot;y&quot;:2,&quot;z&quot;:0},{&quot;x&quot;:-0.871795,&quot;y&quot;:-1.89744,&quot;z&quot;:0},{&quot;x&quot;:-0.871795,&quot;y&quot;:-2,&quot;z&quot;:0},{&quot;x&quot;:-0.871795,&quot;y&quot;:-1.79487,&quot;z&quot;:0},{&quot;x&quot;:-0.871795,&quot;y&quot;:-1.69231,&quot;z&quot;:0},{&quot;x&quot;:-0.871795,&quot;y&quot;:-1.58974,&quot;z&quot;:0},{&quot;x&quot;:-0.871795,&quot;y&quot;:-1.48718,&quot;z&quot;:0},{&quot;x&quot;:-0.871795,&quot;y&quot;:-1.38462,&quot;z&quot;:0},{&quot;x&quot;:-0.871795,&quot;y&quot;:-1.28205,&quot;z&quot;:0},{&quot;x&quot;:-0.871795,&quot;y&quot;:-1.17949,&quot;z&quot;:0},{&quot;x&quot;:-0.871795,&quot;y&quot;:-1.07692,&quot;z&quot;:0},{&quot;x&quot;:-0.871795,&quot;y&quot;:-0.974359,&quot;z&quot;:0},{&quot;x&quot;:-0.871795,&quot;y&quot;:-0.871795,&quot;z&quot;:0},{&quot;x&quot;:-0.871795,&quot;y&quot;:-0.769231,&quot;z&quot;:0},{&quot;x&quot;:-0.871795,&quot;y&quot;:-0.666667,&quot;z&quot;:0},{&quot;x&quot;:-0.871795,&quot;y&quot;:-0.564103,&quot;z&quot;:0},{&quot;x&quot;:-0.871795,&quot;y&quot;:-0.461538,&quot;z&quot;:0},{&quot;x&quot;:-0.871795,&quot;y&quot;:-0.358974,&quot;z&quot;:0},{&quot;x&quot;:-0.871795,&quot;y&quot;:-0.25641,&quot;z&quot;:0},{&quot;x&quot;:-0.871795,&quot;y&quot;:-0.153846,&quot;z&quot;:0},{&quot;x&quot;:-0.871795,&quot;y&quot;:-0.0512821,&quot;z&quot;:0},{&quot;x&quot;:-0.871795,&quot;y&quot;:0.0512821,&quot;z&quot;:0},{&quot;x&quot;:-0.871795,&quot;y&quot;:0.153846,&quot;z&quot;:0},{&quot;x&quot;:-0.871795,&quot;y&quot;:0.25641,&quot;z&quot;:0},{&quot;x&quot;:-0.871795,&quot;y&quot;:0.358974,&quot;z&quot;:0},{&quot;x&quot;:-0.871795,&quot;y&quot;:0.461538,&quot;z&quot;:0},{&quot;x&quot;:-0.871795,&quot;y&quot;:0.564103,&quot;z&quot;:0},{&quot;x&quot;:-0.871795,&quot;y&quot;:0.666667,&quot;z&quot;:0},{&quot;x&quot;:-0.871795,&quot;y&quot;:0.769231,&quot;z&quot;:0},{&quot;x&quot;:-0.871795,&quot;y&quot;:0.871795,&quot;z&quot;:0},{&quot;x&quot;:-0.871795,&quot;y&quot;:0.974359,&quot;z&quot;:0},{&quot;x&quot;:-0.871795,&quot;y&quot;:1.07692,&quot;z&quot;:0},{&quot;x&quot;:-0.871795,&quot;y&quot;:1.17949,&quot;z&quot;:0},{&quot;x&quot;:-0.871795,&quot;y&quot;:1.28205,&quot;z&quot;:0},{&quot;x&quot;:-0.871795,&quot;y&quot;:1.38462,&quot;z&quot;:0},{&quot;x&quot;:-0.871795,&quot;y&quot;:1.48718,&quot;z&quot;:0},{&quot;x&quot;:-0.871795,&quot;y&quot;:1.58974,&quot;z&quot;:0},{&quot;x&quot;:-0.871795,&quot;y&quot;:1.69231,&quot;z&quot;:0},{&quot;x&quot;:-0.871795,&quot;y&quot;:1.79487,&quot;z&quot;:0},{&quot;x&quot;:-0.871795,&quot;y&quot;:1.89744,&quot;z&quot;:0},{&quot;x&quot;:-0.871795,&quot;y&quot;:2,&quot;z&quot;:0},{&quot;x&quot;:-0.769231,&quot;y&quot;:-1.89744,&quot;z&quot;:0},{&quot;x&quot;:-0.769231,&quot;y&quot;:-2,&quot;z&quot;:0},{&quot;x&quot;:-0.769231,&quot;y&quot;:-1.79487,&quot;z&quot;:0},{&quot;x&quot;:-0.769231,&quot;y&quot;:-1.69231,&quot;z&quot;:0},{&quot;x&quot;:-0.769231,&quot;y&quot;:-1.58974,&quot;z&quot;:0},{&quot;x&quot;:-0.769231,&quot;y&quot;:-1.48718,&quot;z&quot;:0},{&quot;x&quot;:-0.769231,&quot;y&quot;:-1.38462,&quot;z&quot;:0},{&quot;x&quot;:-0.769231,&quot;y&quot;:-1.28205,&quot;z&quot;:0},{&quot;x&quot;:-0.769231,&quot;y&quot;:-1.17949,&quot;z&quot;:0},{&quot;x&quot;:-0.769231,&quot;y&quot;:-1.07692,&quot;z&quot;:0},{&quot;x&quot;:-0.769231,&quot;y&quot;:-0.974359,&quot;z&quot;:0},{&quot;x&quot;:-0.769231,&quot;y&quot;:-0.871795,&quot;z&quot;:0},{&quot;x&quot;:-0.769231,&quot;y&quot;:-0.769231,&quot;z&quot;:0},{&quot;x&quot;:-0.769231,&quot;y&quot;:-0.666667,&quot;z&quot;:0},{&quot;x&quot;:-0.769231,&quot;y&quot;:-0.564103,&quot;z&quot;:0},{&quot;x&quot;:-0.769231,&quot;y&quot;:-0.461538,&quot;z&quot;:0},{&quot;x&quot;:-0.769231,&quot;y&quot;:-0.358974,&quot;z&quot;:0},{&quot;x&quot;:-0.769231,&quot;y&quot;:-0.25641,&quot;z&quot;:0},{&quot;x&quot;:-0.769231,&quot;y&quot;:-0.153846,&quot;z&quot;:0},{&quot;x&quot;:-0.769231,&quot;y&quot;:-0.0512821,&quot;z&quot;:0},{&quot;x&quot;:-0.769231,&quot;y&quot;:0.0512821,&quot;z&quot;:0},{&quot;x&quot;:-0.769231,&quot;y&quot;:0.153846,&quot;z&quot;:0},{&quot;x&quot;:-0.769231,&quot;y&quot;:0.25641,&quot;z&quot;:0},{&quot;x&quot;:-0.769231,&quot;y&quot;:0.358974,&quot;z&quot;:0},{&quot;x&quot;:-0.769231,&quot;y&quot;:0.461538,&quot;z&quot;:0},{&quot;x&quot;:-0.769231,&quot;y&quot;:0.564103,&quot;z&quot;:0},{&quot;x&quot;:-0.769231,&quot;y&quot;:0.666667,&quot;z&quot;:0},{&quot;x&quot;:-0.769231,&quot;y&quot;:0.769231,&quot;z&quot;:0},{&quot;x&quot;:-0.769231,&quot;y&quot;:0.871795,&quot;z&quot;:0},{&quot;x&quot;:-0.769231,&quot;y&quot;:0.974359,&quot;z&quot;:0},{&quot;x&quot;:-0.769231,&quot;y&quot;:1.07692,&quot;z&quot;:0},{&quot;x&quot;:-0.769231,&quot;y&quot;:1.17949,&quot;z&quot;:0},{&quot;x&quot;:-0.769231,&quot;y&quot;:1.28205,&quot;z&quot;:0},{&quot;x&quot;:-0.769231,&quot;y&quot;:1.38462,&quot;z&quot;:0},{&quot;x&quot;:-0.769231,&quot;y&quot;:1.48718,&quot;z&quot;:0},{&quot;x&quot;:-0.769231,&quot;y&quot;:1.58974,&quot;z&quot;:0},{&quot;x&quot;:-0.769231,&quot;y&quot;:1.69231,&quot;z&quot;:0},{&quot;x&quot;:-0.769231,&quot;y&quot;:1.79487,&quot;z&quot;:0},{&quot;x&quot;:-0.769231,&quot;y&quot;:1.89744,&quot;z&quot;:0},{&quot;x&quot;:-0.769231,&quot;y&quot;:2,&quot;z&quot;:0},{&quot;x&quot;:-0.666667,&quot;y&quot;:-1.89744,&quot;z&quot;:0},{&quot;x&quot;:-0.666667,&quot;y&quot;:-2,&quot;z&quot;:0},{&quot;x&quot;:-0.666667,&quot;y&quot;:-1.79487,&quot;z&quot;:0},{&quot;x&quot;:-0.666667,&quot;y&quot;:-1.69231,&quot;z&quot;:0},{&quot;x&quot;:-0.666667,&quot;y&quot;:-1.58974,&quot;z&quot;:0},{&quot;x&quot;:-0.666667,&quot;y&quot;:-1.48718,&quot;z&quot;:0},{&quot;x&quot;:-0.666667,&quot;y&quot;:-1.38462,&quot;z&quot;:0},{&quot;x&quot;:-0.666667,&quot;y&quot;:-1.28205,&quot;z&quot;:0},{&quot;x&quot;:-0.666667,&quot;y&quot;:-1.17949,&quot;z&quot;:0},{&quot;x&quot;:-0.666667,&quot;y&quot;:-1.07692,&quot;z&quot;:0},{&quot;x&quot;:-0.666667,&quot;y&quot;:-0.974359,&quot;z&quot;:0},{&quot;x&quot;:-0.666667,&quot;y&quot;:-0.871795,&quot;z&quot;:0},{&quot;x&quot;:-0.666667,&quot;y&quot;:-0.769231,&quot;z&quot;:0},{&quot;x&quot;:-0.666667,&quot;y&quot;:-0.666667,&quot;z&quot;:0},{&quot;x&quot;:-0.666667,&quot;y&quot;:-0.564103,&quot;z&quot;:0},{&quot;x&quot;:-0.666667,&quot;y&quot;:-0.461538,&quot;z&quot;:0},{&quot;x&quot;:-0.666667,&quot;y&quot;:-0.358974,&quot;z&quot;:0},{&quot;x&quot;:-0.666667,&quot;y&quot;:-0.25641,&quot;z&quot;:0},{&quot;x&quot;:-0.666667,&quot;y&quot;:-0.153846,&quot;z&quot;:0},{&quot;x&quot;:-0.666667,&quot;y&quot;:-0.0512821,&quot;z&quot;:0},{&quot;x&quot;:-0.666667,&quot;y&quot;:0.0512821,&quot;z&quot;:0},{&quot;x&quot;:-0.666667,&quot;y&quot;:0.153846,&quot;z&quot;:0},{&quot;x&quot;:-0.666667,&quot;y&quot;:0.25641,&quot;z&quot;:0},{&quot;x&quot;:-0.666667,&quot;y&quot;:0.358974,&quot;z&quot;:0},{&quot;x&quot;:-0.666667,&quot;y&quot;:0.461538,&quot;z&quot;:0},{&quot;x&quot;:-0.666667,&quot;y&quot;:0.564103,&quot;z&quot;:0},{&quot;x&quot;:-0.666667,&quot;y&quot;:0.666667,&quot;z&quot;:0},{&quot;x&quot;:-0.666667,&quot;y&quot;:0.769231,&quot;z&quot;:0},{&quot;x&quot;:-0.666667,&quot;y&quot;:0.871795,&quot;z&quot;:0},{&quot;x&quot;:-0.666667,&quot;y&quot;:0.974359,&quot;z&quot;:0},{&quot;x&quot;:-0.666667,&quot;y&quot;:1.07692,&quot;z&quot;:0},{&quot;x&quot;:-0.666667,&quot;y&quot;:1.17949,&quot;z&quot;:0},{&quot;x&quot;:-0.666667,&quot;y&quot;:1.28205,&quot;z&quot;:0},{&quot;x&quot;:-0.666667,&quot;y&quot;:1.38462,&quot;z&quot;:0},{&quot;x&quot;:-0.666667,&quot;y&quot;:1.48718,&quot;z&quot;:0},{&quot;x&quot;:-0.666667,&quot;y&quot;:1.58974,&quot;z&quot;:0},{&quot;x&quot;:-0.666667,&quot;y&quot;:1.69231,&quot;z&quot;:0},{&quot;x&quot;:-0.666667,&quot;y&quot;:1.79487,&quot;z&quot;:0},{&quot;x&quot;:-0.666667,&quot;y&quot;:1.89744,&quot;z&quot;:0},{&quot;x&quot;:-0.666667,&quot;y&quot;:2,&quot;z&quot;:0},{&quot;x&quot;:-0.564103,&quot;y&quot;:-1.89744,&quot;z&quot;:0},{&quot;x&quot;:-0.564103,&quot;y&quot;:-2,&quot;z&quot;:0},{&quot;x&quot;:-0.564103,&quot;y&quot;:-1.79487,&quot;z&quot;:0},{&quot;x&quot;:-0.564103,&quot;y&quot;:-1.69231,&quot;z&quot;:0},{&quot;x&quot;:-0.564103,&quot;y&quot;:-1.58974,&quot;z&quot;:0},{&quot;x&quot;:-0.564103,&quot;y&quot;:-1.48718,&quot;z&quot;:0},{&quot;x&quot;:-0.564103,&quot;y&quot;:-1.38462,&quot;z&quot;:0},{&quot;x&quot;:-0.564103,&quot;y&quot;:-1.28205,&quot;z&quot;:0},{&quot;x&quot;:-0.564103,&quot;y&quot;:-1.17949,&quot;z&quot;:0},{&quot;x&quot;:-0.564103,&quot;y&quot;:-1.07692,&quot;z&quot;:0},{&quot;x&quot;:-0.564103,&quot;y&quot;:-0.974359,&quot;z&quot;:0},{&quot;x&quot;:-0.564103,&quot;y&quot;:-0.871795,&quot;z&quot;:0},{&quot;x&quot;:-0.564103,&quot;y&quot;:-0.769231,&quot;z&quot;:0},{&quot;x&quot;:-0.564103,&quot;y&quot;:-0.666667,&quot;z&quot;:0},{&quot;x&quot;:-0.564103,&quot;y&quot;:-0.564103,&quot;z&quot;:0},{&quot;x&quot;:-0.564103,&quot;y&quot;:-0.461538,&quot;z&quot;:0},{&quot;x&quot;:-0.564103,&quot;y&quot;:-0.358974,&quot;z&quot;:0},{&quot;x&quot;:-0.564103,&quot;y&quot;:-0.25641,&quot;z&quot;:0},{&quot;x&quot;:-0.564103,&quot;y&quot;:-0.153846,&quot;z&quot;:0},{&quot;x&quot;:-0.564103,&quot;y&quot;:-0.0512821,&quot;z&quot;:0},{&quot;x&quot;:-0.564103,&quot;y&quot;:0.0512821,&quot;z&quot;:0},{&quot;x&quot;:-0.564103,&quot;y&quot;:0.153846,&quot;z&quot;:0},{&quot;x&quot;:-0.564103,&quot;y&quot;:0.25641,&quot;z&quot;:0},{&quot;x&quot;:-0.564103,&quot;y&quot;:0.358974,&quot;z&quot;:0},{&quot;x&quot;:-0.564103,&quot;y&quot;:0.461538,&quot;z&quot;:0},{&quot;x&quot;:-0.564103,&quot;y&quot;:0.564103,&quot;z&quot;:0},{&quot;x&quot;:-0.564103,&quot;y&quot;:0.666667,&quot;z&quot;:0},{&quot;x&quot;:-0.564103,&quot;y&quot;:0.769231,&quot;z&quot;:0},{&quot;x&quot;:-0.564103,&quot;y&quot;:0.871795,&quot;z&quot;:0},{&quot;x&quot;:-0.564103,&quot;y&quot;:0.974359,&quot;z&quot;:0},{&quot;x&quot;:-0.564103,&quot;y&quot;:1.07692,&quot;z&quot;:0},{&quot;x&quot;:-0.564103,&quot;y&quot;:1.17949,&quot;z&quot;:0},{&quot;x&quot;:-0.564103,&quot;y&quot;:1.28205,&quot;z&quot;:0},{&quot;x&quot;:-0.564103,&quot;y&quot;:1.38462,&quot;z&quot;:0},{&quot;x&quot;:-0.564103,&quot;y&quot;:1.48718,&quot;z&quot;:0},{&quot;x&quot;:-0.564103,&quot;y&quot;:1.58974,&quot;z&quot;:0},{&quot;x&quot;:-0.564103,&quot;y&quot;:1.69231,&quot;z&quot;:0},{&quot;x&quot;:-0.564103,&quot;y&quot;:1.79487,&quot;z&quot;:0},{&quot;x&quot;:-0.564103,&quot;y&quot;:1.89744,&quot;z&quot;:0},{&quot;x&quot;:-0.564103,&quot;y&quot;:2,&quot;z&quot;:0},{&quot;x&quot;:-0.461538,&quot;y&quot;:-1.89744,&quot;z&quot;:0},{&quot;x&quot;:-0.461538,&quot;y&quot;:-2,&quot;z&quot;:0},{&quot;x&quot;:-0.461538,&quot;y&quot;:-1.79487,&quot;z&quot;:0},{&quot;x&quot;:-0.461538,&quot;y&quot;:-1.69231,&quot;z&quot;:0},{&quot;x&quot;:-0.461538,&quot;y&quot;:-1.58974,&quot;z&quot;:0},{&quot;x&quot;:-0.461538,&quot;y&quot;:-1.48718,&quot;z&quot;:0},{&quot;x&quot;:-0.461538,&quot;y&quot;:-1.38462,&quot;z&quot;:0},{&quot;x&quot;:-0.461538,&quot;y&quot;:-1.28205,&quot;z&quot;:0},{&quot;x&quot;:-0.461538,&quot;y&quot;:-1.17949,&quot;z&quot;:0},{&quot;x&quot;:-0.461538,&quot;y&quot;:-1.07692,&quot;z&quot;:0},{&quot;x&quot;:-0.461538,&quot;y&quot;:-0.974359,&quot;z&quot;:0},{&quot;x&quot;:-0.461538,&quot;y&quot;:-0.871795,&quot;z&quot;:0},{&quot;x&quot;:-0.461538,&quot;y&quot;:-0.769231,&quot;z&quot;:0},{&quot;x&quot;:-0.461538,&quot;y&quot;:-0.666667,&quot;z&quot;:0},{&quot;x&quot;:-0.461538,&quot;y&quot;:-0.564103,&quot;z&quot;:0},{&quot;x&quot;:-0.461538,&quot;y&quot;:-0.461538,&quot;z&quot;:0},{&quot;x&quot;:-0.461538,&quot;y&quot;:-0.358974,&quot;z&quot;:0},{&quot;x&quot;:-0.461538,&quot;y&quot;:-0.25641,&quot;z&quot;:0},{&quot;x&quot;:-0.461538,&quot;y&quot;:-0.153846,&quot;z&quot;:0},{&quot;x&quot;:-0.461538,&quot;y&quot;:-0.0512821,&quot;z&quot;:0},{&quot;x&quot;:-0.461538,&quot;y&quot;:0.0512821,&quot;z&quot;:0},{&quot;x&quot;:-0.461538,&quot;y&quot;:0.153846,&quot;z&quot;:0},{&quot;x&quot;:-0.461538,&quot;y&quot;:0.25641,&quot;z&quot;:0},{&quot;x&quot;:-0.461538,&quot;y&quot;:0.358974,&quot;z&quot;:0},{&quot;x&quot;:-0.461538,&quot;y&quot;:0.461538,&quot;z&quot;:0},{&quot;x&quot;:-0.461538,&quot;y&quot;:0.564103,&quot;z&quot;:0},{&quot;x&quot;:-0.461538,&quot;y&quot;:0.666667,&quot;z&quot;:0},{&quot;x&quot;:-0.461538,&quot;y&quot;:0.769231,&quot;z&quot;:0},{&quot;x&quot;:-0.461538,&quot;y&quot;:0.871795,&quot;z&quot;:0},{&quot;x&quot;:-0.461538,&quot;y&quot;:0.974359,&quot;z&quot;:0},{&quot;x&quot;:-0.461538,&quot;y&quot;:1.07692,&quot;z&quot;:0},{&quot;x&quot;:-0.461538,&quot;y&quot;:1.17949,&quot;z&quot;:0},{&quot;x&quot;:-0.461538,&quot;y&quot;:1.28205,&quot;z&quot;:0},{&quot;x&quot;:-0.461538,&quot;y&quot;:1.38462,&quot;z&quot;:0},{&quot;x&quot;:-0.461538,&quot;y&quot;:1.48718,&quot;z&quot;:0},{&quot;x&quot;:-0.461538,&quot;y&quot;:1.58974,&quot;z&quot;:0},{&quot;x&quot;:-0.461538,&quot;y&quot;:1.69231,&quot;z&quot;:0},{&quot;x&quot;:-0.461538,&quot;y&quot;:1.79487,&quot;z&quot;:0},{&quot;x&quot;:-0.461538,&quot;y&quot;:1.89744,&quot;z&quot;:0},{&quot;x&quot;:-0.461538,&quot;y&quot;:2,&quot;z&quot;:0},{&quot;x&quot;:-0.358974,&quot;y&quot;:-1.89744,&quot;z&quot;:0},{&quot;x&quot;:-0.358974,&quot;y&quot;:-2,&quot;z&quot;:0},{&quot;x&quot;:-0.358974,&quot;y&quot;:-1.79487,&quot;z&quot;:0},{&quot;x&quot;:-0.358974,&quot;y&quot;:-1.69231,&quot;z&quot;:0},{&quot;x&quot;:-0.358974,&quot;y&quot;:-1.58974,&quot;z&quot;:0},{&quot;x&quot;:-0.358974,&quot;y&quot;:-1.48718,&quot;z&quot;:0},{&quot;x&quot;:-0.358974,&quot;y&quot;:-1.38462,&quot;z&quot;:0},{&quot;x&quot;:-0.358974,&quot;y&quot;:-1.28205,&quot;z&quot;:0},{&quot;x&quot;:-0.358974,&quot;y&quot;:-1.17949,&quot;z&quot;:0},{&quot;x&quot;:-0.358974,&quot;y&quot;:-1.07692,&quot;z&quot;:0},{&quot;x&quot;:-0.358974,&quot;y&quot;:-0.974359,&quot;z&quot;:0},{&quot;x&quot;:-0.358974,&quot;y&quot;:-0.871795,&quot;z&quot;:0},{&quot;x&quot;:-0.358974,&quot;y&quot;:-0.769231,&quot;z&quot;:0},{&quot;x&quot;:-0.358974,&quot;y&quot;:-0.666667,&quot;z&quot;:0},{&quot;x&quot;:-0.358974,&quot;y&quot;:-0.564103,&quot;z&quot;:0},{&quot;x&quot;:-0.358974,&quot;y&quot;:-0.461538,&quot;z&quot;:0},{&quot;x&quot;:-0.358974,&quot;y&quot;:-0.358974,&quot;z&quot;:0},{&quot;x&quot;:-0.358974,&quot;y&quot;:-0.25641,&quot;z&quot;:0},{&quot;x&quot;:-0.358974,&quot;y&quot;:-0.153846,&quot;z&quot;:0},{&quot;x&quot;:-0.358974,&quot;y&quot;:-0.0512821,&quot;z&quot;:0},{&quot;x&quot;:-0.358974,&quot;y&quot;:0.0512821,&quot;z&quot;:0},{&quot;x&quot;:-0.358974,&quot;y&quot;:0.153846,&quot;z&quot;:0},{&quot;x&quot;:-0.358974,&quot;y&quot;:0.25641,&quot;z&quot;:0},{&quot;x&quot;:-0.358974,&quot;y&quot;:0.358974,&quot;z&quot;:0},{&quot;x&quot;:-0.358974,&quot;y&quot;:0.461538,&quot;z&quot;:0},{&quot;x&quot;:-0.358974,&quot;y&quot;:0.564103,&quot;z&quot;:0},{&quot;x&quot;:-0.358974,&quot;y&quot;:0.666667,&quot;z&quot;:0},{&quot;x&quot;:-0.358974,&quot;y&quot;:0.769231,&quot;z&quot;:0},{&quot;x&quot;:-0.358974,&quot;y&quot;:0.871795,&quot;z&quot;:0},{&quot;x&quot;:-0.358974,&quot;y&quot;:0.974359,&quot;z&quot;:0},{&quot;x&quot;:-0.358974,&quot;y&quot;:1.07692,&quot;z&quot;:0},{&quot;x&quot;:-0.358974,&quot;y&quot;:1.17949,&quot;z&quot;:0},{&quot;x&quot;:-0.358974,&quot;y&quot;:1.28205,&quot;z&quot;:0},{&quot;x&quot;:-0.358974,&quot;y&quot;:1.38462,&quot;z&quot;:0},{&quot;x&quot;:-0.358974,&quot;y&quot;:1.48718,&quot;z&quot;:0},{&quot;x&quot;:-0.358974,&quot;y&quot;:1.58974,&quot;z&quot;:0},{&quot;x&quot;:-0.358974,&quot;y&quot;:1.69231,&quot;z&quot;:0},{&quot;x&quot;:-0.358974,&quot;y&quot;:1.79487,&quot;z&quot;:0},{&quot;x&quot;:-0.358974,&quot;y&quot;:1.89744,&quot;z&quot;:0},{&quot;x&quot;:-0.358974,&quot;y&quot;:2,&quot;z&quot;:0},{&quot;x&quot;:-0.25641,&quot;y&quot;:-1.89744,&quot;z&quot;:0},{&quot;x&quot;:-0.25641,&quot;y&quot;:-2,&quot;z&quot;:0},{&quot;x&quot;:-0.25641,&quot;y&quot;:-1.79487,&quot;z&quot;:0},{&quot;x&quot;:-0.25641,&quot;y&quot;:-1.69231,&quot;z&quot;:0},{&quot;x&quot;:-0.25641,&quot;y&quot;:-1.58974,&quot;z&quot;:0},{&quot;x&quot;:-0.25641,&quot;y&quot;:-1.48718,&quot;z&quot;:0},{&quot;x&quot;:-0.25641,&quot;y&quot;:-1.38462,&quot;z&quot;:0},{&quot;x&quot;:-0.25641,&quot;y&quot;:-1.28205,&quot;z&quot;:0},{&quot;x&quot;:-0.25641,&quot;y&quot;:-1.17949,&quot;z&quot;:0},{&quot;x&quot;:-0.25641,&quot;y&quot;:-1.07692,&quot;z&quot;:0},{&quot;x&quot;:-0.25641,&quot;y&quot;:-0.974359,&quot;z&quot;:0},{&quot;x&quot;:-0.25641,&quot;y&quot;:-0.871795,&quot;z&quot;:0},{&quot;x&quot;:-0.25641,&quot;y&quot;:-0.769231,&quot;z&quot;:0},{&quot;x&quot;:-0.25641,&quot;y&quot;:-0.666667,&quot;z&quot;:0},{&quot;x&quot;:-0.25641,&quot;y&quot;:-0.564103,&quot;z&quot;:0},{&quot;x&quot;:-0.25641,&quot;y&quot;:-0.461538,&quot;z&quot;:0},{&quot;x&quot;:-0.25641,&quot;y&quot;:-0.358974,&quot;z&quot;:0},{&quot;x&quot;:-0.25641,&quot;y&quot;:-0.25641,&quot;z&quot;:0},{&quot;x&quot;:-0.25641,&quot;y&quot;:-0.153846,&quot;z&quot;:0},{&quot;x&quot;:-0.25641,&quot;y&quot;:-0.0512821,&quot;z&quot;:0},{&quot;x&quot;:-0.25641,&quot;y&quot;:0.0512821,&quot;z&quot;:0},{&quot;x&quot;:-0.25641,&quot;y&quot;:0.153846,&quot;z&quot;:0},{&quot;x&quot;:-0.25641,&quot;y&quot;:0.25641,&quot;z&quot;:0},{&quot;x&quot;:-0.25641,&quot;y&quot;:0.358974,&quot;z&quot;:0},{&quot;x&quot;:-0.25641,&quot;y&quot;:0.461538,&quot;z&quot;:0},{&quot;x&quot;:-0.25641,&quot;y&quot;:0.564103,&quot;z&quot;:0},{&quot;x&quot;:-0.25641,&quot;y&quot;:0.666667,&quot;z&quot;:0},{&quot;x&quot;:-0.25641,&quot;y&quot;:0.769231,&quot;z&quot;:0},{&quot;x&quot;:-0.25641,&quot;y&quot;:0.871795,&quot;z&quot;:0},{&quot;x&quot;:-0.25641,&quot;y&quot;:0.974359,&quot;z&quot;:0},{&quot;x&quot;:-0.25641,&quot;y&quot;:1.07692,&quot;z&quot;:0},{&quot;x&quot;:-0.25641,&quot;y&quot;:1.17949,&quot;z&quot;:0},{&quot;x&quot;:-0.25641,&quot;y&quot;:1.28205,&quot;z&quot;:0},{&quot;x&quot;:-0.25641,&quot;y&quot;:1.38462,&quot;z&quot;:0},{&quot;x&quot;:-0.25641,&quot;y&quot;:1.48718,&quot;z&quot;:0},{&quot;x&quot;:-0.25641,&quot;y&quot;:1.58974,&quot;z&quot;:0},{&quot;x&quot;:-0.25641,&quot;y&quot;:1.69231,&quot;z&quot;:0},{&quot;x&quot;:-0.25641,&quot;y&quot;:1.79487,&quot;z&quot;:0},{&quot;x&quot;:-0.25641,&quot;y&quot;:1.89744,&quot;z&quot;:0},{&quot;x&quot;:-0.25641,&quot;y&quot;:2,&quot;z&quot;:0},{&quot;x&quot;:-0.153846,&quot;y&quot;:-1.89744,&quot;z&quot;:0},{&quot;x&quot;:-0.153846,&quot;y&quot;:-2,&quot;z&quot;:0},{&quot;x&quot;:-0.153846,&quot;y&quot;:-1.79487,&quot;z&quot;:0},{&quot;x&quot;:-0.153846,&quot;y&quot;:-1.69231,&quot;z&quot;:0},{&quot;x&quot;:-0.153846,&quot;y&quot;:-1.58974,&quot;z&quot;:0},{&quot;x&quot;:-0.153846,&quot;y&quot;:-1.48718,&quot;z&quot;:0},{&quot;x&quot;:-0.153846,&quot;y&quot;:-1.38462,&quot;z&quot;:0},{&quot;x&quot;:-0.153846,&quot;y&quot;:-1.28205,&quot;z&quot;:0},{&quot;x&quot;:-0.153846,&quot;y&quot;:-1.17949,&quot;z&quot;:0},{&quot;x&quot;:-0.153846,&quot;y&quot;:-1.07692,&quot;z&quot;:0},{&quot;x&quot;:-0.153846,&quot;y&quot;:-0.974359,&quot;z&quot;:0},{&quot;x&quot;:-0.153846,&quot;y&quot;:-0.871795,&quot;z&quot;:0},{&quot;x&quot;:-0.153846,&quot;y&quot;:-0.769231,&quot;z&quot;:0},{&quot;x&quot;:-0.153846,&quot;y&quot;:-0.666667,&quot;z&quot;:0},{&quot;x&quot;:-0.153846,&quot;y&quot;:-0.564103,&quot;z&quot;:0},{&quot;x&quot;:-0.153846,&quot;y&quot;:-0.461538,&quot;z&quot;:0},{&quot;x&quot;:-0.153846,&quot;y&quot;:-0.358974,&quot;z&quot;:0},{&quot;x&quot;:-0.153846,&quot;y&quot;:-0.25641,&quot;z&quot;:0},{&quot;x&quot;:-0.153846,&quot;y&quot;:-0.153846,&quot;z&quot;:0},{&quot;x&quot;:-0.153846,&quot;y&quot;:-0.0512821,&quot;z&quot;:0},{&quot;x&quot;:-0.153846,&quot;y&quot;:0.0512821,&quot;z&quot;:0},{&quot;x&quot;:-0.153846,&quot;y&quot;:0.153846,&quot;z&quot;:0},{&quot;x&quot;:-0.153846,&quot;y&quot;:0.25641,&quot;z&quot;:0},{&quot;x&quot;:-0.153846,&quot;y&quot;:0.358974,&quot;z&quot;:0},{&quot;x&quot;:-0.153846,&quot;y&quot;:0.461538,&quot;z&quot;:0},{&quot;x&quot;:-0.153846,&quot;y&quot;:0.564103,&quot;z&quot;:0},{&quot;x&quot;:-0.153846,&quot;y&quot;:0.666667,&quot;z&quot;:0},{&quot;x&quot;:-0.153846,&quot;y&quot;:0.769231,&quot;z&quot;:0},{&quot;x&quot;:-0.153846,&quot;y&quot;:0.871795,&quot;z&quot;:0},{&quot;x&quot;:-0.153846,&quot;y&quot;:0.974359,&quot;z&quot;:0},{&quot;x&quot;:-0.153846,&quot;y&quot;:1.07692,&quot;z&quot;:0},{&quot;x&quot;:-0.153846,&quot;y&quot;:1.17949,&quot;z&quot;:0},{&quot;x&quot;:-0.153846,&quot;y&quot;:1.28205,&quot;z&quot;:0},{&quot;x&quot;:-0.153846,&quot;y&quot;:1.38462,&quot;z&quot;:0},{&quot;x&quot;:-0.153846,&quot;y&quot;:1.48718,&quot;z&quot;:0},{&quot;x&quot;:-0.153846,&quot;y&quot;:1.58974,&quot;z&quot;:0},{&quot;x&quot;:-0.153846,&quot;y&quot;:1.69231,&quot;z&quot;:0},{&quot;x&quot;:-0.153846,&quot;y&quot;:1.79487,&quot;z&quot;:0},{&quot;x&quot;:-0.153846,&quot;y&quot;:1.89744,&quot;z&quot;:0},{&quot;x&quot;:-0.153846,&quot;y&quot;:2,&quot;z&quot;:0},{&quot;x&quot;:-0.0512821,&quot;y&quot;:-1.89744,&quot;z&quot;:0},{&quot;x&quot;:-0.0512821,&quot;y&quot;:-2,&quot;z&quot;:0},{&quot;x&quot;:-0.0512821,&quot;y&quot;:-1.79487,&quot;z&quot;:0},{&quot;x&quot;:-0.0512821,&quot;y&quot;:-1.69231,&quot;z&quot;:0},{&quot;x&quot;:-0.0512821,&quot;y&quot;:-1.58974,&quot;z&quot;:0},{&quot;x&quot;:-0.0512821,&quot;y&quot;:-1.48718,&quot;z&quot;:0},{&quot;x&quot;:-0.0512821,&quot;y&quot;:-1.38462,&quot;z&quot;:0},{&quot;x&quot;:-0.0512821,&quot;y&quot;:-1.28205,&quot;z&quot;:0},{&quot;x&quot;:-0.0512821,&quot;y&quot;:-1.17949,&quot;z&quot;:0},{&quot;x&quot;:-0.0512821,&quot;y&quot;:-1.07692,&quot;z&quot;:0},{&quot;x&quot;:-0.0512821,&quot;y&quot;:-0.974359,&quot;z&quot;:0},{&quot;x&quot;:-0.0512821,&quot;y&quot;:-0.871795,&quot;z&quot;:0},{&quot;x&quot;:-0.0512821,&quot;y&quot;:-0.769231,&quot;z&quot;:0},{&quot;x&quot;:-0.0512821,&quot;y&quot;:-0.666667,&quot;z&quot;:0},{&quot;x&quot;:-0.0512821,&quot;y&quot;:-0.564103,&quot;z&quot;:0},{&quot;x&quot;:-0.0512821,&quot;y&quot;:-0.461538,&quot;z&quot;:0},{&quot;x&quot;:-0.0512821,&quot;y&quot;:-0.358974,&quot;z&quot;:0},{&quot;x&quot;:-0.0512821,&quot;y&quot;:-0.25641,&quot;z&quot;:0},{&quot;x&quot;:-0.0512821,&quot;y&quot;:-0.153846,&quot;z&quot;:0},{&quot;x&quot;:-0.0512821,&quot;y&quot;:-0.0512821,&quot;z&quot;:0},{&quot;x&quot;:-0.0512821,&quot;y&quot;:0.0512821,&quot;z&quot;:0},{&quot;x&quot;:-0.0512821,&quot;y&quot;:0.153846,&quot;z&quot;:0},{&quot;x&quot;:-0.0512821,&quot;y&quot;:0.25641,&quot;z&quot;:0},{&quot;x&quot;:-0.0512821,&quot;y&quot;:0.358974,&quot;z&quot;:0},{&quot;x&quot;:-0.0512821,&quot;y&quot;:0.461538,&quot;z&quot;:0},{&quot;x&quot;:-0.0512821,&quot;y&quot;:0.564103,&quot;z&quot;:0},{&quot;x&quot;:-0.0512821,&quot;y&quot;:0.666667,&quot;z&quot;:0},{&quot;x&quot;:-0.0512821,&quot;y&quot;:0.769231,&quot;z&quot;:0},{&quot;x&quot;:-0.0512821,&quot;y&quot;:0.871795,&quot;z&quot;:0},{&quot;x&quot;:-0.0512821,&quot;y&quot;:0.974359,&quot;z&quot;:0},{&quot;x&quot;:-0.0512821,&quot;y&quot;:1.07692,&quot;z&quot;:0},{&quot;x&quot;:-0.0512821,&quot;y&quot;:1.17949,&quot;z&quot;:0},{&quot;x&quot;:-0.0512821,&quot;y&quot;:1.28205,&quot;z&quot;:0},{&quot;x&quot;:-0.0512821,&quot;y&quot;:1.38462,&quot;z&quot;:0},{&quot;x&quot;:-0.0512821,&quot;y&quot;:1.48718,&quot;z&quot;:0},{&quot;x&quot;:-0.0512821,&quot;y&quot;:1.58974,&quot;z&quot;:0},{&quot;x&quot;:-0.0512821,&quot;y&quot;:1.69231,&quot;z&quot;:0},{&quot;x&quot;:-0.0512821,&quot;y&quot;:1.79487,&quot;z&quot;:0},{&quot;x&quot;:-0.0512821,&quot;y&quot;:1.89744,&quot;z&quot;:0},{&quot;x&quot;:-0.0512821,&quot;y&quot;:2,&quot;z&quot;:0},{&quot;x&quot;:0.0512821,&quot;y&quot;:-1.89744,&quot;z&quot;:0},{&quot;x&quot;:0.0512821,&quot;y&quot;:-2,&quot;z&quot;:0},{&quot;x&quot;:0.0512821,&quot;y&quot;:-1.79487,&quot;z&quot;:0},{&quot;x&quot;:0.0512821,&quot;y&quot;:-1.69231,&quot;z&quot;:0},{&quot;x&quot;:0.0512821,&quot;y&quot;:-1.58974,&quot;z&quot;:0},{&quot;x&quot;:0.0512821,&quot;y&quot;:-1.48718,&quot;z&quot;:0},{&quot;x&quot;:0.0512821,&quot;y&quot;:-1.38462,&quot;z&quot;:0},{&quot;x&quot;:0.0512821,&quot;y&quot;:-1.28205,&quot;z&quot;:0},{&quot;x&quot;:0.0512821,&quot;y&quot;:-1.17949,&quot;z&quot;:0},{&quot;x&quot;:0.0512821,&quot;y&quot;:-1.07692,&quot;z&quot;:0},{&quot;x&quot;:0.0512821,&quot;y&quot;:-0.974359,&quot;z&quot;:0},{&quot;x&quot;:0.0512821,&quot;y&quot;:-0.871795,&quot;z&quot;:0},{&quot;x&quot;:0.0512821,&quot;y&quot;:-0.769231,&quot;z&quot;:0},{&quot;x&quot;:0.0512821,&quot;y&quot;:-0.666667,&quot;z&quot;:0},{&quot;x&quot;:0.0512821,&quot;y&quot;:-0.564103,&quot;z&quot;:0},{&quot;x&quot;:0.0512821,&quot;y&quot;:-0.461538,&quot;z&quot;:0},{&quot;x&quot;:0.0512821,&quot;y&quot;:-0.358974,&quot;z&quot;:0},{&quot;x&quot;:0.0512821,&quot;y&quot;:-0.25641,&quot;z&quot;:0},{&quot;x&quot;:0.0512821,&quot;y&quot;:-0.153846,&quot;z&quot;:0},{&quot;x&quot;:0.0512821,&quot;y&quot;:-0.0512821,&quot;z&quot;:0},{&quot;x&quot;:0.0512821,&quot;y&quot;:0.0512821,&quot;z&quot;:0},{&quot;x&quot;:0.0512821,&quot;y&quot;:0.153846,&quot;z&quot;:0},{&quot;x&quot;:0.0512821,&quot;y&quot;:0.25641,&quot;z&quot;:0},{&quot;x&quot;:0.0512821,&quot;y&quot;:0.358974,&quot;z&quot;:0},{&quot;x&quot;:0.0512821,&quot;y&quot;:0.461538,&quot;z&quot;:0},{&quot;x&quot;:0.0512821,&quot;y&quot;:0.564103,&quot;z&quot;:0},{&quot;x&quot;:0.0512821,&quot;y&quot;:0.666667,&quot;z&quot;:0},{&quot;x&quot;:0.0512821,&quot;y&quot;:0.769231,&quot;z&quot;:0},{&quot;x&quot;:0.0512821,&quot;y&quot;:0.871795,&quot;z&quot;:0},{&quot;x&quot;:0.0512821,&quot;y&quot;:0.974359,&quot;z&quot;:0},{&quot;x&quot;:0.0512821,&quot;y&quot;:1.07692,&quot;z&quot;:0},{&quot;x&quot;:0.0512821,&quot;y&quot;:1.17949,&quot;z&quot;:0},{&quot;x&quot;:0.0512821,&quot;y&quot;:1.28205,&quot;z&quot;:0},{&quot;x&quot;:0.0512821,&quot;y&quot;:1.38462,&quot;z&quot;:0},{&quot;x&quot;:0.0512821,&quot;y&quot;:1.48718,&quot;z&quot;:0},{&quot;x&quot;:0.0512821,&quot;y&quot;:1.58974,&quot;z&quot;:0},{&quot;x&quot;:0.0512821,&quot;y&quot;:1.69231,&quot;z&quot;:0},{&quot;x&quot;:0.0512821,&quot;y&quot;:1.79487,&quot;z&quot;:0},{&quot;x&quot;:0.0512821,&quot;y&quot;:1.89744,&quot;z&quot;:0},{&quot;x&quot;:0.0512821,&quot;y&quot;:2,&quot;z&quot;:0},{&quot;x&quot;:0.153846,&quot;y&quot;:-1.89744,&quot;z&quot;:0},{&quot;x&quot;:0.153846,&quot;y&quot;:-2,&quot;z&quot;:0},{&quot;x&quot;:0.153846,&quot;y&quot;:-1.79487,&quot;z&quot;:0},{&quot;x&quot;:0.153846,&quot;y&quot;:-1.69231,&quot;z&quot;:0},{&quot;x&quot;:0.153846,&quot;y&quot;:-1.58974,&quot;z&quot;:0},{&quot;x&quot;:0.153846,&quot;y&quot;:-1.48718,&quot;z&quot;:0},{&quot;x&quot;:0.153846,&quot;y&quot;:-1.38462,&quot;z&quot;:0},{&quot;x&quot;:0.153846,&quot;y&quot;:-1.28205,&quot;z&quot;:0},{&quot;x&quot;:0.153846,&quot;y&quot;:-1.17949,&quot;z&quot;:0},{&quot;x&quot;:0.153846,&quot;y&quot;:-1.07692,&quot;z&quot;:0},{&quot;x&quot;:0.153846,&quot;y&quot;:-0.974359,&quot;z&quot;:0},{&quot;x&quot;:0.153846,&quot;y&quot;:-0.871795,&quot;z&quot;:0},{&quot;x&quot;:0.153846,&quot;y&quot;:-0.769231,&quot;z&quot;:0},{&quot;x&quot;:0.153846,&quot;y&quot;:-0.666667,&quot;z&quot;:0},{&quot;x&quot;:0.153846,&quot;y&quot;:-0.564103,&quot;z&quot;:0},{&quot;x&quot;:0.153846,&quot;y&quot;:-0.461538,&quot;z&quot;:0},{&quot;x&quot;:0.153846,&quot;y&quot;:-0.358974,&quot;z&quot;:0},{&quot;x&quot;:0.153846,&quot;y&quot;:-0.25641,&quot;z&quot;:0},{&quot;x&quot;:0.153846,&quot;y&quot;:-0.153846,&quot;z&quot;:0},{&quot;x&quot;:0.153846,&quot;y&quot;:-0.0512821,&quot;z&quot;:0},{&quot;x&quot;:0.153846,&quot;y&quot;:0.0512821,&quot;z&quot;:0},{&quot;x&quot;:0.153846,&quot;y&quot;:0.153846,&quot;z&quot;:0},{&quot;x&quot;:0.153846,&quot;y&quot;:0.25641,&quot;z&quot;:0},{&quot;x&quot;:0.153846,&quot;y&quot;:0.358974,&quot;z&quot;:0},{&quot;x&quot;:0.153846,&quot;y&quot;:0.461538,&quot;z&quot;:0},{&quot;x&quot;:0.153846,&quot;y&quot;:0.564103,&quot;z&quot;:0},{&quot;x&quot;:0.153846,&quot;y&quot;:0.666667,&quot;z&quot;:0},{&quot;x&quot;:0.153846,&quot;y&quot;:0.769231,&quot;z&quot;:0},{&quot;x&quot;:0.153846,&quot;y&quot;:0.871795,&quot;z&quot;:0},{&quot;x&quot;:0.153846,&quot;y&quot;:0.974359,&quot;z&quot;:0},{&quot;x&quot;:0.153846,&quot;y&quot;:1.07692,&quot;z&quot;:0},{&quot;x&quot;:0.153846,&quot;y&quot;:1.17949,&quot;z&quot;:0},{&quot;x&quot;:0.153846,&quot;y&quot;:1.28205,&quot;z&quot;:0},{&quot;x&quot;:0.153846,&quot;y&quot;:1.38462,&quot;z&quot;:0},{&quot;x&quot;:0.153846,&quot;y&quot;:1.48718,&quot;z&quot;:0},{&quot;x&quot;:0.153846,&quot;y&quot;:1.58974,&quot;z&quot;:0},{&quot;x&quot;:0.153846,&quot;y&quot;:1.69231,&quot;z&quot;:0},{&quot;x&quot;:0.153846,&quot;y&quot;:1.79487,&quot;z&quot;:0},{&quot;x&quot;:0.153846,&quot;y&quot;:1.89744,&quot;z&quot;:0},{&quot;x&quot;:0.153846,&quot;y&quot;:2,&quot;z&quot;:0},{&quot;x&quot;:0.25641,&quot;y&quot;:-1.89744,&quot;z&quot;:0},{&quot;x&quot;:0.25641,&quot;y&quot;:-2,&quot;z&quot;:0},{&quot;x&quot;:0.25641,&quot;y&quot;:-1.79487,&quot;z&quot;:0},{&quot;x&quot;:0.25641,&quot;y&quot;:-1.69231,&quot;z&quot;:0},{&quot;x&quot;:0.25641,&quot;y&quot;:-1.58974,&quot;z&quot;:0},{&quot;x&quot;:0.25641,&quot;y&quot;:-1.48718,&quot;z&quot;:0},{&quot;x&quot;:0.25641,&quot;y&quot;:-1.38462,&quot;z&quot;:0},{&quot;x&quot;:0.25641,&quot;y&quot;:-1.28205,&quot;z&quot;:0},{&quot;x&quot;:0.25641,&quot;y&quot;:-1.17949,&quot;z&quot;:0},{&quot;x&quot;:0.25641,&quot;y&quot;:-1.07692,&quot;z&quot;:0},{&quot;x&quot;:0.25641,&quot;y&quot;:-0.974359,&quot;z&quot;:0},{&quot;x&quot;:0.25641,&quot;y&quot;:-0.871795,&quot;z&quot;:0},{&quot;x&quot;:0.25641,&quot;y&quot;:-0.769231,&quot;z&quot;:0},{&quot;x&quot;:0.25641,&quot;y&quot;:-0.666667,&quot;z&quot;:0},{&quot;x&quot;:0.25641,&quot;y&quot;:-0.564103,&quot;z&quot;:0},{&quot;x&quot;:0.25641,&quot;y&quot;:-0.461538,&quot;z&quot;:0},{&quot;x&quot;:0.25641,&quot;y&quot;:-0.358974,&quot;z&quot;:0},{&quot;x&quot;:0.25641,&quot;y&quot;:-0.25641,&quot;z&quot;:0},{&quot;x&quot;:0.25641,&quot;y&quot;:-0.153846,&quot;z&quot;:0},{&quot;x&quot;:0.25641,&quot;y&quot;:-0.0512821,&quot;z&quot;:0},{&quot;x&quot;:0.25641,&quot;y&quot;:0.0512821,&quot;z&quot;:0},{&quot;x&quot;:0.25641,&quot;y&quot;:0.153846,&quot;z&quot;:0},{&quot;x&quot;:0.25641,&quot;y&quot;:0.25641,&quot;z&quot;:0},{&quot;x&quot;:0.25641,&quot;y&quot;:0.358974,&quot;z&quot;:0},{&quot;x&quot;:0.25641,&quot;y&quot;:0.461538,&quot;z&quot;:0},{&quot;x&quot;:0.25641,&quot;y&quot;:0.564103,&quot;z&quot;:0},{&quot;x&quot;:0.25641,&quot;y&quot;:0.666667,&quot;z&quot;:0},{&quot;x&quot;:0.25641,&quot;y&quot;:0.769231,&quot;z&quot;:0},{&quot;x&quot;:0.25641,&quot;y&quot;:0.871795,&quot;z&quot;:0},{&quot;x&quot;:0.25641,&quot;y&quot;:0.974359,&quot;z&quot;:0},{&quot;x&quot;:0.25641,&quot;y&quot;:1.07692,&quot;z&quot;:0},{&quot;x&quot;:0.25641,&quot;y&quot;:1.17949,&quot;z&quot;:0},{&quot;x&quot;:0.25641,&quot;y&quot;:1.28205,&quot;z&quot;:0},{&quot;x&quot;:0.25641,&quot;y&quot;:1.38462,&quot;z&quot;:0},{&quot;x&quot;:0.25641,&quot;y&quot;:1.48718,&quot;z&quot;:0},{&quot;x&quot;:0.25641,&quot;y&quot;:1.58974,&quot;z&quot;:0},{&quot;x&quot;:0.25641,&quot;y&quot;:1.69231,&quot;z&quot;:0},{&quot;x&quot;:0.25641,&quot;y&quot;:1.79487,&quot;z&quot;:0},{&quot;x&quot;:0.25641,&quot;y&quot;:1.89744,&quot;z&quot;:0},{&quot;x&quot;:0.25641,&quot;y&quot;:2,&quot;z&quot;:0},{&quot;x&quot;:0.358974,&quot;y&quot;:-1.89744,&quot;z&quot;:0},{&quot;x&quot;:0.358974,&quot;y&quot;:-2,&quot;z&quot;:0},{&quot;x&quot;:0.358974,&quot;y&quot;:-1.79487,&quot;z&quot;:0},{&quot;x&quot;:0.358974,&quot;y&quot;:-1.69231,&quot;z&quot;:0},{&quot;x&quot;:0.358974,&quot;y&quot;:-1.58974,&quot;z&quot;:0},{&quot;x&quot;:0.358974,&quot;y&quot;:-1.48718,&quot;z&quot;:0},{&quot;x&quot;:0.358974,&quot;y&quot;:-1.38462,&quot;z&quot;:0},{&quot;x&quot;:0.358974,&quot;y&quot;:-1.28205,&quot;z&quot;:0},{&quot;x&quot;:0.358974,&quot;y&quot;:-1.17949,&quot;z&quot;:0},{&quot;x&quot;:0.358974,&quot;y&quot;:-1.07692,&quot;z&quot;:0},{&quot;x&quot;:0.358974,&quot;y&quot;:-0.974359,&quot;z&quot;:0},{&quot;x&quot;:0.358974,&quot;y&quot;:-0.871795,&quot;z&quot;:0},{&quot;x&quot;:0.358974,&quot;y&quot;:-0.769231,&quot;z&quot;:0},{&quot;x&quot;:0.358974,&quot;y&quot;:-0.666667,&quot;z&quot;:0},{&quot;x&quot;:0.358974,&quot;y&quot;:-0.564103,&quot;z&quot;:0},{&quot;x&quot;:0.358974,&quot;y&quot;:-0.461538,&quot;z&quot;:0},{&quot;x&quot;:0.358974,&quot;y&quot;:-0.358974,&quot;z&quot;:0},{&quot;x&quot;:0.358974,&quot;y&quot;:-0.25641,&quot;z&quot;:0},{&quot;x&quot;:0.358974,&quot;y&quot;:-0.153846,&quot;z&quot;:0},{&quot;x&quot;:0.358974,&quot;y&quot;:-0.0512821,&quot;z&quot;:0},{&quot;x&quot;:0.358974,&quot;y&quot;:0.0512821,&quot;z&quot;:0},{&quot;x&quot;:0.358974,&quot;y&quot;:0.153846,&quot;z&quot;:0},{&quot;x&quot;:0.358974,&quot;y&quot;:0.25641,&quot;z&quot;:0},{&quot;x&quot;:0.358974,&quot;y&quot;:0.358974,&quot;z&quot;:0},{&quot;x&quot;:0.358974,&quot;y&quot;:0.461538,&quot;z&quot;:0},{&quot;x&quot;:0.358974,&quot;y&quot;:0.564103,&quot;z&quot;:0},{&quot;x&quot;:0.358974,&quot;y&quot;:0.666667,&quot;z&quot;:0},{&quot;x&quot;:0.358974,&quot;y&quot;:0.769231,&quot;z&quot;:0},{&quot;x&quot;:0.358974,&quot;y&quot;:0.871795,&quot;z&quot;:0},{&quot;x&quot;:0.358974,&quot;y&quot;:0.974359,&quot;z&quot;:0},{&quot;x&quot;:0.358974,&quot;y&quot;:1.07692,&quot;z&quot;:0},{&quot;x&quot;:0.358974,&quot;y&quot;:1.17949,&quot;z&quot;:0},{&quot;x&quot;:0.358974,&quot;y&quot;:1.28205,&quot;z&quot;:0},{&quot;x&quot;:0.358974,&quot;y&quot;:1.38462,&quot;z&quot;:0},{&quot;x&quot;:0.358974,&quot;y&quot;:1.48718,&quot;z&quot;:0},{&quot;x&quot;:0.358974,&quot;y&quot;:1.58974,&quot;z&quot;:0},{&quot;x&quot;:0.358974,&quot;y&quot;:1.69231,&quot;z&quot;:0},{&quot;x&quot;:0.358974,&quot;y&quot;:1.79487,&quot;z&quot;:0},{&quot;x&quot;:0.358974,&quot;y&quot;:1.89744,&quot;z&quot;:0},{&quot;x&quot;:0.358974,&quot;y&quot;:2,&quot;z&quot;:0},{&quot;x&quot;:0.461538,&quot;y&quot;:-1.89744,&quot;z&quot;:0},{&quot;x&quot;:0.461538,&quot;y&quot;:-2,&quot;z&quot;:0},{&quot;x&quot;:0.461538,&quot;y&quot;:-1.79487,&quot;z&quot;:0},{&quot;x&quot;:0.461538,&quot;y&quot;:-1.69231,&quot;z&quot;:0},{&quot;x&quot;:0.461538,&quot;y&quot;:-1.58974,&quot;z&quot;:0},{&quot;x&quot;:0.461538,&quot;y&quot;:-1.48718,&quot;z&quot;:0},{&quot;x&quot;:0.461538,&quot;y&quot;:-1.38462,&quot;z&quot;:0},{&quot;x&quot;:0.461538,&quot;y&quot;:-1.28205,&quot;z&quot;:0},{&quot;x&quot;:0.461538,&quot;y&quot;:-1.17949,&quot;z&quot;:0},{&quot;x&quot;:0.461538,&quot;y&quot;:-1.07692,&quot;z&quot;:0},{&quot;x&quot;:0.461538,&quot;y&quot;:-0.974359,&quot;z&quot;:0},{&quot;x&quot;:0.461538,&quot;y&quot;:-0.871795,&quot;z&quot;:0},{&quot;x&quot;:0.461538,&quot;y&quot;:-0.769231,&quot;z&quot;:0},{&quot;x&quot;:0.461538,&quot;y&quot;:-0.666667,&quot;z&quot;:0},{&quot;x&quot;:0.461538,&quot;y&quot;:-0.564103,&quot;z&quot;:0},{&quot;x&quot;:0.461538,&quot;y&quot;:-0.461538,&quot;z&quot;:0},{&quot;x&quot;:0.461538,&quot;y&quot;:-0.358974,&quot;z&quot;:0},{&quot;x&quot;:0.461538,&quot;y&quot;:-0.25641,&quot;z&quot;:0},{&quot;x&quot;:0.461538,&quot;y&quot;:-0.153846,&quot;z&quot;:0},{&quot;x&quot;:0.461538,&quot;y&quot;:-0.0512821,&quot;z&quot;:0},{&quot;x&quot;:0.461538,&quot;y&quot;:0.0512821,&quot;z&quot;:0},{&quot;x&quot;:0.461538,&quot;y&quot;:0.153846,&quot;z&quot;:0},{&quot;x&quot;:0.461538,&quot;y&quot;:0.25641,&quot;z&quot;:0},{&quot;x&quot;:0.461538,&quot;y&quot;:0.358974,&quot;z&quot;:0},{&quot;x&quot;:0.461538,&quot;y&quot;:0.461538,&quot;z&quot;:0},{&quot;x&quot;:0.461538,&quot;y&quot;:0.564103,&quot;z&quot;:0},{&quot;x&quot;:0.461538,&quot;y&quot;:0.666667,&quot;z&quot;:0},{&quot;x&quot;:0.461538,&quot;y&quot;:0.769231,&quot;z&quot;:0},{&quot;x&quot;:0.461538,&quot;y&quot;:0.871795,&quot;z&quot;:0},{&quot;x&quot;:0.461538,&quot;y&quot;:0.974359,&quot;z&quot;:0},{&quot;x&quot;:0.461538,&quot;y&quot;:1.07692,&quot;z&quot;:0},{&quot;x&quot;:0.461538,&quot;y&quot;:1.17949,&quot;z&quot;:0},{&quot;x&quot;:0.461538,&quot;y&quot;:1.28205,&quot;z&quot;:0},{&quot;x&quot;:0.461538,&quot;y&quot;:1.38462,&quot;z&quot;:0},{&quot;x&quot;:0.461538,&quot;y&quot;:1.48718,&quot;z&quot;:0},{&quot;x&quot;:0.461538,&quot;y&quot;:1.58974,&quot;z&quot;:0},{&quot;x&quot;:0.461538,&quot;y&quot;:1.69231,&quot;z&quot;:0},{&quot;x&quot;:0.461538,&quot;y&quot;:1.79487,&quot;z&quot;:0},{&quot;x&quot;:0.461538,&quot;y&quot;:1.89744,&quot;z&quot;:0},{&quot;x&quot;:0.461538,&quot;y&quot;:2,&quot;z&quot;:0},{&quot;x&quot;:0.564103,&quot;y&quot;:-1.89744,&quot;z&quot;:0},{&quot;x&quot;:0.564103,&quot;y&quot;:-2,&quot;z&quot;:0},{&quot;x&quot;:0.564103,&quot;y&quot;:-1.79487,&quot;z&quot;:0},{&quot;x&quot;:0.564103,&quot;y&quot;:-1.69231,&quot;z&quot;:0},{&quot;x&quot;:0.564103,&quot;y&quot;:-1.58974,&quot;z&quot;:0},{&quot;x&quot;:0.564103,&quot;y&quot;:-1.48718,&quot;z&quot;:0},{&quot;x&quot;:0.564103,&quot;y&quot;:-1.38462,&quot;z&quot;:0},{&quot;x&quot;:0.564103,&quot;y&quot;:-1.28205,&quot;z&quot;:0},{&quot;x&quot;:0.564103,&quot;y&quot;:-1.17949,&quot;z&quot;:0},{&quot;x&quot;:0.564103,&quot;y&quot;:-1.07692,&quot;z&quot;:0},{&quot;x&quot;:0.564103,&quot;y&quot;:-0.974359,&quot;z&quot;:0},{&quot;x&quot;:0.564103,&quot;y&quot;:-0.871795,&quot;z&quot;:0},{&quot;x&quot;:0.564103,&quot;y&quot;:-0.769231,&quot;z&quot;:0},{&quot;x&quot;:0.564103,&quot;y&quot;:-0.666667,&quot;z&quot;:0},{&quot;x&quot;:0.564103,&quot;y&quot;:-0.564103,&quot;z&quot;:0},{&quot;x&quot;:0.564103,&quot;y&quot;:-0.461538,&quot;z&quot;:0},{&quot;x&quot;:0.564103,&quot;y&quot;:-0.358974,&quot;z&quot;:0},{&quot;x&quot;:0.564103,&quot;y&quot;:-0.25641,&quot;z&quot;:0},{&quot;x&quot;:0.564103,&quot;y&quot;:-0.153846,&quot;z&quot;:0},{&quot;x&quot;:0.564103,&quot;y&quot;:-0.0512821,&quot;z&quot;:0},{&quot;x&quot;:0.564103,&quot;y&quot;:0.0512821,&quot;z&quot;:0},{&quot;x&quot;:0.564103,&quot;y&quot;:0.153846,&quot;z&quot;:0},{&quot;x&quot;:0.564103,&quot;y&quot;:0.25641,&quot;z&quot;:0},{&quot;x&quot;:0.564103,&quot;y&quot;:0.358974,&quot;z&quot;:0},{&quot;x&quot;:0.564103,&quot;y&quot;:0.461538,&quot;z&quot;:0},{&quot;x&quot;:0.564103,&quot;y&quot;:0.564103,&quot;z&quot;:0},{&quot;x&quot;:0.564103,&quot;y&quot;:0.666667,&quot;z&quot;:0},{&quot;x&quot;:0.564103,&quot;y&quot;:0.769231,&quot;z&quot;:0},{&quot;x&quot;:0.564103,&quot;y&quot;:0.871795,&quot;z&quot;:0},{&quot;x&quot;:0.564103,&quot;y&quot;:0.974359,&quot;z&quot;:0},{&quot;x&quot;:0.564103,&quot;y&quot;:1.07692,&quot;z&quot;:0},{&quot;x&quot;:0.564103,&quot;y&quot;:1.17949,&quot;z&quot;:0},{&quot;x&quot;:0.564103,&quot;y&quot;:1.28205,&quot;z&quot;:0},{&quot;x&quot;:0.564103,&quot;y&quot;:1.38462,&quot;z&quot;:0},{&quot;x&quot;:0.564103,&quot;y&quot;:1.48718,&quot;z&quot;:0},{&quot;x&quot;:0.564103,&quot;y&quot;:1.58974,&quot;z&quot;:0},{&quot;x&quot;:0.564103,&quot;y&quot;:1.69231,&quot;z&quot;:0},{&quot;x&quot;:0.564103,&quot;y&quot;:1.79487,&quot;z&quot;:0},{&quot;x&quot;:0.564103,&quot;y&quot;:1.89744,&quot;z&quot;:0},{&quot;x&quot;:0.564103,&quot;y&quot;:2,&quot;z&quot;:0},{&quot;x&quot;:0.666667,&quot;y&quot;:-1.89744,&quot;z&quot;:0},{&quot;x&quot;:0.666667,&quot;y&quot;:-2,&quot;z&quot;:0},{&quot;x&quot;:0.666667,&quot;y&quot;:-1.79487,&quot;z&quot;:0},{&quot;x&quot;:0.666667,&quot;y&quot;:-1.69231,&quot;z&quot;:0},{&quot;x&quot;:0.666667,&quot;y&quot;:-1.58974,&quot;z&quot;:0},{&quot;x&quot;:0.666667,&quot;y&quot;:-1.48718,&quot;z&quot;:0},{&quot;x&quot;:0.666667,&quot;y&quot;:-1.38462,&quot;z&quot;:0},{&quot;x&quot;:0.666667,&quot;y&quot;:-1.28205,&quot;z&quot;:0},{&quot;x&quot;:0.666667,&quot;y&quot;:-1.17949,&quot;z&quot;:0},{&quot;x&quot;:0.666667,&quot;y&quot;:-1.07692,&quot;z&quot;:0},{&quot;x&quot;:0.666667,&quot;y&quot;:-0.974359,&quot;z&quot;:0},{&quot;x&quot;:0.666667,&quot;y&quot;:-0.871795,&quot;z&quot;:0},{&quot;x&quot;:0.666667,&quot;y&quot;:-0.769231,&quot;z&quot;:0},{&quot;x&quot;:0.666667,&quot;y&quot;:-0.666667,&quot;z&quot;:0},{&quot;x&quot;:0.666667,&quot;y&quot;:-0.564103,&quot;z&quot;:0},{&quot;x&quot;:0.666667,&quot;y&quot;:-0.461538,&quot;z&quot;:0},{&quot;x&quot;:0.666667,&quot;y&quot;:-0.358974,&quot;z&quot;:0},{&quot;x&quot;:0.666667,&quot;y&quot;:-0.25641,&quot;z&quot;:0},{&quot;x&quot;:0.666667,&quot;y&quot;:-0.153846,&quot;z&quot;:0},{&quot;x&quot;:0.666667,&quot;y&quot;:-0.0512821,&quot;z&quot;:0},{&quot;x&quot;:0.666667,&quot;y&quot;:0.0512821,&quot;z&quot;:0},{&quot;x&quot;:0.666667,&quot;y&quot;:0.153846,&quot;z&quot;:0},{&quot;x&quot;:0.666667,&quot;y&quot;:0.25641,&quot;z&quot;:0},{&quot;x&quot;:0.666667,&quot;y&quot;:0.358974,&quot;z&quot;:0},{&quot;x&quot;:0.666667,&quot;y&quot;:0.461538,&quot;z&quot;:0},{&quot;x&quot;:0.666667,&quot;y&quot;:0.564103,&quot;z&quot;:0},{&quot;x&quot;:0.666667,&quot;y&quot;:0.666667,&quot;z&quot;:0},{&quot;x&quot;:0.666667,&quot;y&quot;:0.769231,&quot;z&quot;:0},{&quot;x&quot;:0.666667,&quot;y&quot;:0.871795,&quot;z&quot;:0},{&quot;x&quot;:0.666667,&quot;y&quot;:0.974359,&quot;z&quot;:0},{&quot;x&quot;:0.666667,&quot;y&quot;:1.07692,&quot;z&quot;:0},{&quot;x&quot;:0.666667,&quot;y&quot;:1.17949,&quot;z&quot;:0},{&quot;x&quot;:0.666667,&quot;y&quot;:1.28205,&quot;z&quot;:0},{&quot;x&quot;:0.666667,&quot;y&quot;:1.38462,&quot;z&quot;:0},{&quot;x&quot;:0.666667,&quot;y&quot;:1.48718,&quot;z&quot;:0},{&quot;x&quot;:0.666667,&quot;y&quot;:1.58974,&quot;z&quot;:0},{&quot;x&quot;:0.666667,&quot;y&quot;:1.69231,&quot;z&quot;:0},{&quot;x&quot;:0.666667,&quot;y&quot;:1.79487,&quot;z&quot;:0},{&quot;x&quot;:0.666667,&quot;y&quot;:1.89744,&quot;z&quot;:0},{&quot;x&quot;:0.666667,&quot;y&quot;:2,&quot;z&quot;:0},{&quot;x&quot;:0.769231,&quot;y&quot;:-1.89744,&quot;z&quot;:0},{&quot;x&quot;:0.769231,&quot;y&quot;:-2,&quot;z&quot;:0},{&quot;x&quot;:0.769231,&quot;y&quot;:-1.79487,&quot;z&quot;:0},{&quot;x&quot;:0.769231,&quot;y&quot;:-1.69231,&quot;z&quot;:0},{&quot;x&quot;:0.769231,&quot;y&quot;:-1.58974,&quot;z&quot;:0},{&quot;x&quot;:0.769231,&quot;y&quot;:-1.48718,&quot;z&quot;:0},{&quot;x&quot;:0.769231,&quot;y&quot;:-1.38462,&quot;z&quot;:0},{&quot;x&quot;:0.769231,&quot;y&quot;:-1.28205,&quot;z&quot;:0},{&quot;x&quot;:0.769231,&quot;y&quot;:-1.17949,&quot;z&quot;:0},{&quot;x&quot;:0.769231,&quot;y&quot;:-1.07692,&quot;z&quot;:0},{&quot;x&quot;:0.769231,&quot;y&quot;:-0.974359,&quot;z&quot;:0},{&quot;x&quot;:0.769231,&quot;y&quot;:-0.871795,&quot;z&quot;:0},{&quot;x&quot;:0.769231,&quot;y&quot;:-0.769231,&quot;z&quot;:0},{&quot;x&quot;:0.769231,&quot;y&quot;:-0.666667,&quot;z&quot;:0},{&quot;x&quot;:0.769231,&quot;y&quot;:-0.564103,&quot;z&quot;:0},{&quot;x&quot;:0.769231,&quot;y&quot;:-0.461538,&quot;z&quot;:0},{&quot;x&quot;:0.769231,&quot;y&quot;:-0.358974,&quot;z&quot;:0},{&quot;x&quot;:0.769231,&quot;y&quot;:-0.25641,&quot;z&quot;:0},{&quot;x&quot;:0.769231,&quot;y&quot;:-0.153846,&quot;z&quot;:0},{&quot;x&quot;:0.769231,&quot;y&quot;:-0.0512821,&quot;z&quot;:0},{&quot;x&quot;:0.769231,&quot;y&quot;:0.0512821,&quot;z&quot;:0},{&quot;x&quot;:0.769231,&quot;y&quot;:0.153846,&quot;z&quot;:0},{&quot;x&quot;:0.769231,&quot;y&quot;:0.25641,&quot;z&quot;:0},{&quot;x&quot;:0.769231,&quot;y&quot;:0.358974,&quot;z&quot;:0},{&quot;x&quot;:0.769231,&quot;y&quot;:0.461538,&quot;z&quot;:0},{&quot;x&quot;:0.769231,&quot;y&quot;:0.564103,&quot;z&quot;:0},{&quot;x&quot;:0.769231,&quot;y&quot;:0.666667,&quot;z&quot;:0},{&quot;x&quot;:0.769231,&quot;y&quot;:0.769231,&quot;z&quot;:0},{&quot;x&quot;:0.769231,&quot;y&quot;:0.871795,&quot;z&quot;:0},{&quot;x&quot;:0.769231,&quot;y&quot;:0.974359,&quot;z&quot;:0},{&quot;x&quot;:0.769231,&quot;y&quot;:1.07692,&quot;z&quot;:0},{&quot;x&quot;:0.769231,&quot;y&quot;:1.17949,&quot;z&quot;:0},{&quot;x&quot;:0.769231,&quot;y&quot;:1.28205,&quot;z&quot;:0},{&quot;x&quot;:0.769231,&quot;y&quot;:1.38462,&quot;z&quot;:0},{&quot;x&quot;:0.769231,&quot;y&quot;:1.48718,&quot;z&quot;:0},{&quot;x&quot;:0.769231,&quot;y&quot;:1.58974,&quot;z&quot;:0},{&quot;x&quot;:0.769231,&quot;y&quot;:1.69231,&quot;z&quot;:0},{&quot;x&quot;:0.769231,&quot;y&quot;:1.79487,&quot;z&quot;:0},{&quot;x&quot;:0.769231,&quot;y&quot;:1.89744,&quot;z&quot;:0},{&quot;x&quot;:0.769231,&quot;y&quot;:2,&quot;z&quot;:0},{&quot;x&quot;:0.871795,&quot;y&quot;:-1.89744,&quot;z&quot;:0},{&quot;x&quot;:0.871795,&quot;y&quot;:-2,&quot;z&quot;:0},{&quot;x&quot;:0.871795,&quot;y&quot;:-1.79487,&quot;z&quot;:0},{&quot;x&quot;:0.871795,&quot;y&quot;:-1.69231,&quot;z&quot;:0},{&quot;x&quot;:0.871795,&quot;y&quot;:-1.58974,&quot;z&quot;:0},{&quot;x&quot;:0.871795,&quot;y&quot;:-1.48718,&quot;z&quot;:0},{&quot;x&quot;:0.871795,&quot;y&quot;:-1.38462,&quot;z&quot;:0},{&quot;x&quot;:0.871795,&quot;y&quot;:-1.28205,&quot;z&quot;:0},{&quot;x&quot;:0.871795,&quot;y&quot;:-1.17949,&quot;z&quot;:0},{&quot;x&quot;:0.871795,&quot;y&quot;:-1.07692,&quot;z&quot;:0},{&quot;x&quot;:0.871795,&quot;y&quot;:-0.974359,&quot;z&quot;:0},{&quot;x&quot;:0.871795,&quot;y&quot;:-0.871795,&quot;z&quot;:0},{&quot;x&quot;:0.871795,&quot;y&quot;:-0.769231,&quot;z&quot;:0},{&quot;x&quot;:0.871795,&quot;y&quot;:-0.666667,&quot;z&quot;:0},{&quot;x&quot;:0.871795,&quot;y&quot;:-0.564103,&quot;z&quot;:0},{&quot;x&quot;:0.871795,&quot;y&quot;:-0.461538,&quot;z&quot;:0},{&quot;x&quot;:0.871795,&quot;y&quot;:-0.358974,&quot;z&quot;:0},{&quot;x&quot;:0.871795,&quot;y&quot;:-0.25641,&quot;z&quot;:0},{&quot;x&quot;:0.871795,&quot;y&quot;:-0.153846,&quot;z&quot;:0},{&quot;x&quot;:0.871795,&quot;y&quot;:-0.0512821,&quot;z&quot;:0},{&quot;x&quot;:0.871795,&quot;y&quot;:0.0512821,&quot;z&quot;:0},{&quot;x&quot;:0.871795,&quot;y&quot;:0.153846,&quot;z&quot;:0},{&quot;x&quot;:0.871795,&quot;y&quot;:0.25641,&quot;z&quot;:0},{&quot;x&quot;:0.871795,&quot;y&quot;:0.358974,&quot;z&quot;:0},{&quot;x&quot;:0.871795,&quot;y&quot;:0.461538,&quot;z&quot;:0},{&quot;x&quot;:0.871795,&quot;y&quot;:0.564103,&quot;z&quot;:0},{&quot;x&quot;:0.871795,&quot;y&quot;:0.666667,&quot;z&quot;:0},{&quot;x&quot;:0.871795,&quot;y&quot;:0.769231,&quot;z&quot;:0},{&quot;x&quot;:0.871795,&quot;y&quot;:0.871795,&quot;z&quot;:0},{&quot;x&quot;:0.871795,&quot;y&quot;:0.974359,&quot;z&quot;:0},{&quot;x&quot;:0.871795,&quot;y&quot;:1.07692,&quot;z&quot;:0},{&quot;x&quot;:0.871795,&quot;y&quot;:1.17949,&quot;z&quot;:0},{&quot;x&quot;:0.871795,&quot;y&quot;:1.28205,&quot;z&quot;:0},{&quot;x&quot;:0.871795,&quot;y&quot;:1.38462,&quot;z&quot;:0},{&quot;x&quot;:0.871795,&quot;y&quot;:1.48718,&quot;z&quot;:0},{&quot;x&quot;:0.871795,&quot;y&quot;:1.58974,&quot;z&quot;:0},{&quot;x&quot;:0.871795,&quot;y&quot;:1.69231,&quot;z&quot;:0},{&quot;x&quot;:0.871795,&quot;y&quot;:1.79487,&quot;z&quot;:0},{&quot;x&quot;:0.871795,&quot;y&quot;:1.89744,&quot;z&quot;:0},{&quot;x&quot;:0.871795,&quot;y&quot;:2,&quot;z&quot;:0},{&quot;x&quot;:0.974359,&quot;y&quot;:-1.89744,&quot;z&quot;:0},{&quot;x&quot;:0.974359,&quot;y&quot;:-2,&quot;z&quot;:0},{&quot;x&quot;:0.974359,&quot;y&quot;:-1.79487,&quot;z&quot;:0},{&quot;x&quot;:0.974359,&quot;y&quot;:-1.69231,&quot;z&quot;:0},{&quot;x&quot;:0.974359,&quot;y&quot;:-1.58974,&quot;z&quot;:0},{&quot;x&quot;:0.974359,&quot;y&quot;:-1.48718,&quot;z&quot;:0},{&quot;x&quot;:0.974359,&quot;y&quot;:-1.38462,&quot;z&quot;:0},{&quot;x&quot;:0.974359,&quot;y&quot;:-1.28205,&quot;z&quot;:0},{&quot;x&quot;:0.974359,&quot;y&quot;:-1.17949,&quot;z&quot;:0},{&quot;x&quot;:0.974359,&quot;y&quot;:-1.07692,&quot;z&quot;:0},{&quot;x&quot;:0.974359,&quot;y&quot;:-0.974359,&quot;z&quot;:0},{&quot;x&quot;:0.974359,&quot;y&quot;:-0.871795,&quot;z&quot;:0},{&quot;x&quot;:0.974359,&quot;y&quot;:-0.769231,&quot;z&quot;:0},{&quot;x&quot;:0.974359,&quot;y&quot;:-0.666667,&quot;z&quot;:0},{&quot;x&quot;:0.974359,&quot;y&quot;:-0.564103,&quot;z&quot;:0},{&quot;x&quot;:0.974359,&quot;y&quot;:-0.461538,&quot;z&quot;:0},{&quot;x&quot;:0.974359,&quot;y&quot;:-0.358974,&quot;z&quot;:0},{&quot;x&quot;:0.974359,&quot;y&quot;:-0.25641,&quot;z&quot;:0},{&quot;x&quot;:0.974359,&quot;y&quot;:-0.153846,&quot;z&quot;:0},{&quot;x&quot;:0.974359,&quot;y&quot;:-0.0512821,&quot;z&quot;:0},{&quot;x&quot;:0.974359,&quot;y&quot;:0.0512821,&quot;z&quot;:0},{&quot;x&quot;:0.974359,&quot;y&quot;:0.153846,&quot;z&quot;:0},{&quot;x&quot;:0.974359,&quot;y&quot;:0.25641,&quot;z&quot;:0},{&quot;x&quot;:0.974359,&quot;y&quot;:0.358974,&quot;z&quot;:0},{&quot;x&quot;:0.974359,&quot;y&quot;:0.461538,&quot;z&quot;:0},{&quot;x&quot;:0.974359,&quot;y&quot;:0.564103,&quot;z&quot;:0},{&quot;x&quot;:0.974359,&quot;y&quot;:0.666667,&quot;z&quot;:0},{&quot;x&quot;:0.974359,&quot;y&quot;:0.769231,&quot;z&quot;:0},{&quot;x&quot;:0.974359,&quot;y&quot;:0.871795,&quot;z&quot;:0},{&quot;x&quot;:0.974359,&quot;y&quot;:0.974359,&quot;z&quot;:0},{&quot;x&quot;:0.974359,&quot;y&quot;:1.07692,&quot;z&quot;:0},{&quot;x&quot;:0.974359,&quot;y&quot;:1.17949,&quot;z&quot;:0},{&quot;x&quot;:0.974359,&quot;y&quot;:1.28205,&quot;z&quot;:0},{&quot;x&quot;:0.974359,&quot;y&quot;:1.38462,&quot;z&quot;:0},{&quot;x&quot;:0.974359,&quot;y&quot;:1.48718,&quot;z&quot;:0},{&quot;x&quot;:0.974359,&quot;y&quot;:1.58974,&quot;z&quot;:0},{&quot;x&quot;:0.974359,&quot;y&quot;:1.69231,&quot;z&quot;:0},{&quot;x&quot;:0.974359,&quot;y&quot;:1.79487,&quot;z&quot;:0},{&quot;x&quot;:0.974359,&quot;y&quot;:1.89744,&quot;z&quot;:0},{&quot;x&quot;:0.974359,&quot;y&quot;:2,&quot;z&quot;:0},{&quot;x&quot;:1.07692,&quot;y&quot;:-1.89744,&quot;z&quot;:0},{&quot;x&quot;:1.07692,&quot;y&quot;:-2,&quot;z&quot;:0},{&quot;x&quot;:1.07692,&quot;y&quot;:-1.79487,&quot;z&quot;:0},{&quot;x&quot;:1.07692,&quot;y&quot;:-1.69231,&quot;z&quot;:0},{&quot;x&quot;:1.07692,&quot;y&quot;:-1.58974,&quot;z&quot;:0},{&quot;x&quot;:1.07692,&quot;y&quot;:-1.48718,&quot;z&quot;:0},{&quot;x&quot;:1.07692,&quot;y&quot;:-1.38462,&quot;z&quot;:0},{&quot;x&quot;:1.07692,&quot;y&quot;:-1.28205,&quot;z&quot;:0},{&quot;x&quot;:1.07692,&quot;y&quot;:-1.17949,&quot;z&quot;:0},{&quot;x&quot;:1.07692,&quot;y&quot;:-1.07692,&quot;z&quot;:0},{&quot;x&quot;:1.07692,&quot;y&quot;:-0.974359,&quot;z&quot;:0},{&quot;x&quot;:1.07692,&quot;y&quot;:-0.871795,&quot;z&quot;:0},{&quot;x&quot;:1.07692,&quot;y&quot;:-0.769231,&quot;z&quot;:0},{&quot;x&quot;:1.07692,&quot;y&quot;:-0.666667,&quot;z&quot;:0},{&quot;x&quot;:1.07692,&quot;y&quot;:-0.564103,&quot;z&quot;:0},{&quot;x&quot;:1.07692,&quot;y&quot;:-0.461538,&quot;z&quot;:0},{&quot;x&quot;:1.07692,&quot;y&quot;:-0.358974,&quot;z&quot;:0},{&quot;x&quot;:1.07692,&quot;y&quot;:-0.25641,&quot;z&quot;:0},{&quot;x&quot;:1.07692,&quot;y&quot;:-0.153846,&quot;z&quot;:0},{&quot;x&quot;:1.07692,&quot;y&quot;:-0.0512821,&quot;z&quot;:0},{&quot;x&quot;:1.07692,&quot;y&quot;:0.0512821,&quot;z&quot;:0},{&quot;x&quot;:1.07692,&quot;y&quot;:0.153846,&quot;z&quot;:0},{&quot;x&quot;:1.07692,&quot;y&quot;:0.25641,&quot;z&quot;:0},{&quot;x&quot;:1.07692,&quot;y&quot;:0.358974,&quot;z&quot;:0},{&quot;x&quot;:1.07692,&quot;y&quot;:0.461538,&quot;z&quot;:0},{&quot;x&quot;:1.07692,&quot;y&quot;:0.564103,&quot;z&quot;:0},{&quot;x&quot;:1.07692,&quot;y&quot;:0.666667,&quot;z&quot;:0},{&quot;x&quot;:1.07692,&quot;y&quot;:0.769231,&quot;z&quot;:0},{&quot;x&quot;:1.07692,&quot;y&quot;:0.871795,&quot;z&quot;:0},{&quot;x&quot;:1.07692,&quot;y&quot;:0.974359,&quot;z&quot;:0},{&quot;x&quot;:1.07692,&quot;y&quot;:1.07692,&quot;z&quot;:0},{&quot;x&quot;:1.07692,&quot;y&quot;:1.17949,&quot;z&quot;:0},{&quot;x&quot;:1.07692,&quot;y&quot;:1.28205,&quot;z&quot;:0},{&quot;x&quot;:1.07692,&quot;y&quot;:1.38462,&quot;z&quot;:0},{&quot;x&quot;:1.07692,&quot;y&quot;:1.48718,&quot;z&quot;:0},{&quot;x&quot;:1.07692,&quot;y&quot;:1.58974,&quot;z&quot;:0},{&quot;x&quot;:1.07692,&quot;y&quot;:1.69231,&quot;z&quot;:0},{&quot;x&quot;:1.07692,&quot;y&quot;:1.79487,&quot;z&quot;:0},{&quot;x&quot;:1.07692,&quot;y&quot;:1.89744,&quot;z&quot;:0},{&quot;x&quot;:1.07692,&quot;y&quot;:2,&quot;z&quot;:0},{&quot;x&quot;:1.17949,&quot;y&quot;:-1.89744,&quot;z&quot;:0},{&quot;x&quot;:1.17949,&quot;y&quot;:-2,&quot;z&quot;:0},{&quot;x&quot;:1.17949,&quot;y&quot;:-1.79487,&quot;z&quot;:0},{&quot;x&quot;:1.17949,&quot;y&quot;:-1.69231,&quot;z&quot;:0},{&quot;x&quot;:1.17949,&quot;y&quot;:-1.58974,&quot;z&quot;:0},{&quot;x&quot;:1.17949,&quot;y&quot;:-1.48718,&quot;z&quot;:0},{&quot;x&quot;:1.17949,&quot;y&quot;:-1.38462,&quot;z&quot;:0},{&quot;x&quot;:1.17949,&quot;y&quot;:-1.28205,&quot;z&quot;:0},{&quot;x&quot;:1.17949,&quot;y&quot;:-1.17949,&quot;z&quot;:0},{&quot;x&quot;:1.17949,&quot;y&quot;:-1.07692,&quot;z&quot;:0},{&quot;x&quot;:1.17949,&quot;y&quot;:-0.974359,&quot;z&quot;:0},{&quot;x&quot;:1.17949,&quot;y&quot;:-0.871795,&quot;z&quot;:0},{&quot;x&quot;:1.17949,&quot;y&quot;:-0.769231,&quot;z&quot;:0},{&quot;x&quot;:1.17949,&quot;y&quot;:-0.666667,&quot;z&quot;:0},{&quot;x&quot;:1.17949,&quot;y&quot;:-0.564103,&quot;z&quot;:0},{&quot;x&quot;:1.17949,&quot;y&quot;:-0.461538,&quot;z&quot;:0},{&quot;x&quot;:1.17949,&quot;y&quot;:-0.358974,&quot;z&quot;:0},{&quot;x&quot;:1.17949,&quot;y&quot;:-0.25641,&quot;z&quot;:0},{&quot;x&quot;:1.17949,&quot;y&quot;:-0.153846,&quot;z&quot;:0},{&quot;x&quot;:1.17949,&quot;y&quot;:-0.0512821,&quot;z&quot;:0},{&quot;x&quot;:1.17949,&quot;y&quot;:0.0512821,&quot;z&quot;:0},{&quot;x&quot;:1.17949,&quot;y&quot;:0.153846,&quot;z&quot;:0},{&quot;x&quot;:1.17949,&quot;y&quot;:0.25641,&quot;z&quot;:0},{&quot;x&quot;:1.17949,&quot;y&quot;:0.358974,&quot;z&quot;:0},{&quot;x&quot;:1.17949,&quot;y&quot;:0.461538,&quot;z&quot;:0},{&quot;x&quot;:1.17949,&quot;y&quot;:0.564103,&quot;z&quot;:0},{&quot;x&quot;:1.17949,&quot;y&quot;:0.666667,&quot;z&quot;:0},{&quot;x&quot;:1.17949,&quot;y&quot;:0.769231,&quot;z&quot;:0},{&quot;x&quot;:1.17949,&quot;y&quot;:0.871795,&quot;z&quot;:0},{&quot;x&quot;:1.17949,&quot;y&quot;:0.974359,&quot;z&quot;:0},{&quot;x&quot;:1.17949,&quot;y&quot;:1.07692,&quot;z&quot;:0},{&quot;x&quot;:1.17949,&quot;y&quot;:1.17949,&quot;z&quot;:0},{&quot;x&quot;:1.17949,&quot;y&quot;:1.28205,&quot;z&quot;:0},{&quot;x&quot;:1.17949,&quot;y&quot;:1.38462,&quot;z&quot;:0},{&quot;x&quot;:1.17949,&quot;y&quot;:1.48718,&quot;z&quot;:0},{&quot;x&quot;:1.17949,&quot;y&quot;:1.58974,&quot;z&quot;:0},{&quot;x&quot;:1.17949,&quot;y&quot;:1.69231,&quot;z&quot;:0},{&quot;x&quot;:1.17949,&quot;y&quot;:1.79487,&quot;z&quot;:0},{&quot;x&quot;:1.17949,&quot;y&quot;:1.89744,&quot;z&quot;:0},{&quot;x&quot;:1.17949,&quot;y&quot;:2,&quot;z&quot;:0},{&quot;x&quot;:1.28205,&quot;y&quot;:-1.89744,&quot;z&quot;:0},{&quot;x&quot;:1.28205,&quot;y&quot;:-2,&quot;z&quot;:0},{&quot;x&quot;:1.28205,&quot;y&quot;:-1.79487,&quot;z&quot;:0},{&quot;x&quot;:1.28205,&quot;y&quot;:-1.69231,&quot;z&quot;:0},{&quot;x&quot;:1.28205,&quot;y&quot;:-1.58974,&quot;z&quot;:0},{&quot;x&quot;:1.28205,&quot;y&quot;:-1.48718,&quot;z&quot;:0},{&quot;x&quot;:1.28205,&quot;y&quot;:-1.38462,&quot;z&quot;:0},{&quot;x&quot;:1.28205,&quot;y&quot;:-1.28205,&quot;z&quot;:0},{&quot;x&quot;:1.28205,&quot;y&quot;:-1.17949,&quot;z&quot;:0},{&quot;x&quot;:1.28205,&quot;y&quot;:-1.07692,&quot;z&quot;:0},{&quot;x&quot;:1.28205,&quot;y&quot;:-0.974359,&quot;z&quot;:0},{&quot;x&quot;:1.28205,&quot;y&quot;:-0.871795,&quot;z&quot;:0},{&quot;x&quot;:1.28205,&quot;y&quot;:-0.769231,&quot;z&quot;:0},{&quot;x&quot;:1.28205,&quot;y&quot;:-0.666667,&quot;z&quot;:0},{&quot;x&quot;:1.28205,&quot;y&quot;:-0.564103,&quot;z&quot;:0},{&quot;x&quot;:1.28205,&quot;y&quot;:-0.461538,&quot;z&quot;:0},{&quot;x&quot;:1.28205,&quot;y&quot;:-0.358974,&quot;z&quot;:0},{&quot;x&quot;:1.28205,&quot;y&quot;:-0.25641,&quot;z&quot;:0},{&quot;x&quot;:1.28205,&quot;y&quot;:-0.153846,&quot;z&quot;:0},{&quot;x&quot;:1.28205,&quot;y&quot;:-0.0512821,&quot;z&quot;:0},{&quot;x&quot;:1.28205,&quot;y&quot;:0.0512821,&quot;z&quot;:0},{&quot;x&quot;:1.28205,&quot;y&quot;:0.153846,&quot;z&quot;:0},{&quot;x&quot;:1.28205,&quot;y&quot;:0.25641,&quot;z&quot;:0},{&quot;x&quot;:1.28205,&quot;y&quot;:0.358974,&quot;z&quot;:0},{&quot;x&quot;:1.28205,&quot;y&quot;:0.461538,&quot;z&quot;:0},{&quot;x&quot;:1.28205,&quot;y&quot;:0.564103,&quot;z&quot;:0},{&quot;x&quot;:1.28205,&quot;y&quot;:0.666667,&quot;z&quot;:0},{&quot;x&quot;:1.28205,&quot;y&quot;:0.769231,&quot;z&quot;:0},{&quot;x&quot;:1.28205,&quot;y&quot;:0.871795,&quot;z&quot;:0},{&quot;x&quot;:1.28205,&quot;y&quot;:0.974359,&quot;z&quot;:0},{&quot;x&quot;:1.28205,&quot;y&quot;:1.07692,&quot;z&quot;:0},{&quot;x&quot;:1.28205,&quot;y&quot;:1.17949,&quot;z&quot;:0},{&quot;x&quot;:1.28205,&quot;y&quot;:1.28205,&quot;z&quot;:0},{&quot;x&quot;:1.28205,&quot;y&quot;:1.38462,&quot;z&quot;:0},{&quot;x&quot;:1.28205,&quot;y&quot;:1.48718,&quot;z&quot;:0},{&quot;x&quot;:1.28205,&quot;y&quot;:1.58974,&quot;z&quot;:0},{&quot;x&quot;:1.28205,&quot;y&quot;:1.69231,&quot;z&quot;:0},{&quot;x&quot;:1.28205,&quot;y&quot;:1.79487,&quot;z&quot;:0},{&quot;x&quot;:1.28205,&quot;y&quot;:1.89744,&quot;z&quot;:0},{&quot;x&quot;:1.28205,&quot;y&quot;:2,&quot;z&quot;:0},{&quot;x&quot;:1.38462,&quot;y&quot;:-1.89744,&quot;z&quot;:0},{&quot;x&quot;:1.38462,&quot;y&quot;:-2,&quot;z&quot;:0},{&quot;x&quot;:1.38462,&quot;y&quot;:-1.79487,&quot;z&quot;:0},{&quot;x&quot;:1.38462,&quot;y&quot;:-1.69231,&quot;z&quot;:0},{&quot;x&quot;:1.38462,&quot;y&quot;:-1.58974,&quot;z&quot;:0},{&quot;x&quot;:1.38462,&quot;y&quot;:-1.48718,&quot;z&quot;:0},{&quot;x&quot;:1.38462,&quot;y&quot;:-1.38462,&quot;z&quot;:0},{&quot;x&quot;:1.38462,&quot;y&quot;:-1.28205,&quot;z&quot;:0},{&quot;x&quot;:1.38462,&quot;y&quot;:-1.17949,&quot;z&quot;:0},{&quot;x&quot;:1.38462,&quot;y&quot;:-1.07692,&quot;z&quot;:0},{&quot;x&quot;:1.38462,&quot;y&quot;:-0.974359,&quot;z&quot;:0},{&quot;x&quot;:1.38462,&quot;y&quot;:-0.871795,&quot;z&quot;:0},{&quot;x&quot;:1.38462,&quot;y&quot;:-0.769231,&quot;z&quot;:0},{&quot;x&quot;:1.38462,&quot;y&quot;:-0.666667,&quot;z&quot;:0},{&quot;x&quot;:1.38462,&quot;y&quot;:-0.564103,&quot;z&quot;:0},{&quot;x&quot;:1.38462,&quot;y&quot;:-0.461538,&quot;z&quot;:0},{&quot;x&quot;:1.38462,&quot;y&quot;:-0.358974,&quot;z&quot;:0},{&quot;x&quot;:1.38462,&quot;y&quot;:-0.25641,&quot;z&quot;:0},{&quot;x&quot;:1.38462,&quot;y&quot;:-0.153846,&quot;z&quot;:0},{&quot;x&quot;:1.38462,&quot;y&quot;:-0.0512821,&quot;z&quot;:0},{&quot;x&quot;:1.38462,&quot;y&quot;:0.0512821,&quot;z&quot;:0},{&quot;x&quot;:1.38462,&quot;y&quot;:0.153846,&quot;z&quot;:0},{&quot;x&quot;:1.38462,&quot;y&quot;:0.25641,&quot;z&quot;:0},{&quot;x&quot;:1.38462,&quot;y&quot;:0.358974,&quot;z&quot;:0},{&quot;x&quot;:1.38462,&quot;y&quot;:0.461538,&quot;z&quot;:0},{&quot;x&quot;:1.38462,&quot;y&quot;:0.564103,&quot;z&quot;:0},{&quot;x&quot;:1.38462,&quot;y&quot;:0.666667,&quot;z&quot;:0},{&quot;x&quot;:1.38462,&quot;y&quot;:0.769231,&quot;z&quot;:0},{&quot;x&quot;:1.38462,&quot;y&quot;:0.871795,&quot;z&quot;:0},{&quot;x&quot;:1.38462,&quot;y&quot;:0.974359,&quot;z&quot;:0},{&quot;x&quot;:1.38462,&quot;y&quot;:1.07692,&quot;z&quot;:0},{&quot;x&quot;:1.38462,&quot;y&quot;:1.17949,&quot;z&quot;:0},{&quot;x&quot;:1.38462,&quot;y&quot;:1.28205,&quot;z&quot;:0},{&quot;x&quot;:1.38462,&quot;y&quot;:1.38462,&quot;z&quot;:0},{&quot;x&quot;:1.38462,&quot;y&quot;:1.48718,&quot;z&quot;:0},{&quot;x&quot;:1.38462,&quot;y&quot;:1.58974,&quot;z&quot;:0},{&quot;x&quot;:1.38462,&quot;y&quot;:1.69231,&quot;z&quot;:0},{&quot;x&quot;:1.38462,&quot;y&quot;:1.79487,&quot;z&quot;:0},{&quot;x&quot;:1.38462,&quot;y&quot;:1.89744,&quot;z&quot;:0},{&quot;x&quot;:1.38462,&quot;y&quot;:2,&quot;z&quot;:0},{&quot;x&quot;:1.48718,&quot;y&quot;:-1.89744,&quot;z&quot;:0},{&quot;x&quot;:1.48718,&quot;y&quot;:-2,&quot;z&quot;:0},{&quot;x&quot;:1.48718,&quot;y&quot;:-1.79487,&quot;z&quot;:0},{&quot;x&quot;:1.48718,&quot;y&quot;:-1.69231,&quot;z&quot;:0},{&quot;x&quot;:1.48718,&quot;y&quot;:-1.58974,&quot;z&quot;:0},{&quot;x&quot;:1.48718,&quot;y&quot;:-1.48718,&quot;z&quot;:0},{&quot;x&quot;:1.48718,&quot;y&quot;:-1.38462,&quot;z&quot;:0},{&quot;x&quot;:1.48718,&quot;y&quot;:-1.28205,&quot;z&quot;:0},{&quot;x&quot;:1.48718,&quot;y&quot;:-1.17949,&quot;z&quot;:0},{&quot;x&quot;:1.48718,&quot;y&quot;:-1.07692,&quot;z&quot;:0},{&quot;x&quot;:1.48718,&quot;y&quot;:-0.974359,&quot;z&quot;:0},{&quot;x&quot;:1.48718,&quot;y&quot;:-0.871795,&quot;z&quot;:0},{&quot;x&quot;:1.48718,&quot;y&quot;:-0.769231,&quot;z&quot;:0},{&quot;x&quot;:1.48718,&quot;y&quot;:-0.666667,&quot;z&quot;:0},{&quot;x&quot;:1.48718,&quot;y&quot;:-0.564103,&quot;z&quot;:0},{&quot;x&quot;:1.48718,&quot;y&quot;:-0.461538,&quot;z&quot;:0},{&quot;x&quot;:1.48718,&quot;y&quot;:-0.358974,&quot;z&quot;:0},{&quot;x&quot;:1.48718,&quot;y&quot;:-0.25641,&quot;z&quot;:0},{&quot;x&quot;:1.48718,&quot;y&quot;:-0.153846,&quot;z&quot;:0},{&quot;x&quot;:1.48718,&quot;y&quot;:-0.0512821,&quot;z&quot;:0},{&quot;x&quot;:1.48718,&quot;y&quot;:0.0512821,&quot;z&quot;:0},{&quot;x&quot;:1.48718,&quot;y&quot;:0.153846,&quot;z&quot;:0},{&quot;x&quot;:1.48718,&quot;y&quot;:0.25641,&quot;z&quot;:0},{&quot;x&quot;:1.48718,&quot;y&quot;:0.358974,&quot;z&quot;:0},{&quot;x&quot;:1.48718,&quot;y&quot;:0.461538,&quot;z&quot;:0},{&quot;x&quot;:1.48718,&quot;y&quot;:0.564103,&quot;z&quot;:0},{&quot;x&quot;:1.48718,&quot;y&quot;:0.666667,&quot;z&quot;:0},{&quot;x&quot;:1.48718,&quot;y&quot;:0.769231,&quot;z&quot;:0},{&quot;x&quot;:1.48718,&quot;y&quot;:0.871795,&quot;z&quot;:0},{&quot;x&quot;:1.48718,&quot;y&quot;:0.974359,&quot;z&quot;:0},{&quot;x&quot;:1.48718,&quot;y&quot;:1.07692,&quot;z&quot;:0},{&quot;x&quot;:1.48718,&quot;y&quot;:1.17949,&quot;z&quot;:0},{&quot;x&quot;:1.48718,&quot;y&quot;:1.28205,&quot;z&quot;:0},{&quot;x&quot;:1.48718,&quot;y&quot;:1.38462,&quot;z&quot;:0},{&quot;x&quot;:1.48718,&quot;y&quot;:1.48718,&quot;z&quot;:0},{&quot;x&quot;:1.48718,&quot;y&quot;:1.58974,&quot;z&quot;:0},{&quot;x&quot;:1.48718,&quot;y&quot;:1.69231,&quot;z&quot;:0},{&quot;x&quot;:1.48718,&quot;y&quot;:1.79487,&quot;z&quot;:0},{&quot;x&quot;:1.48718,&quot;y&quot;:1.89744,&quot;z&quot;:0},{&quot;x&quot;:1.48718,&quot;y&quot;:2,&quot;z&quot;:0},{&quot;x&quot;:1.58974,&quot;y&quot;:-1.89744,&quot;z&quot;:0},{&quot;x&quot;:1.58974,&quot;y&quot;:-2,&quot;z&quot;:0},{&quot;x&quot;:1.58974,&quot;y&quot;:-1.79487,&quot;z&quot;:0},{&quot;x&quot;:1.58974,&quot;y&quot;:-1.69231,&quot;z&quot;:0},{&quot;x&quot;:1.58974,&quot;y&quot;:-1.58974,&quot;z&quot;:0},{&quot;x&quot;:1.58974,&quot;y&quot;:-1.48718,&quot;z&quot;:0},{&quot;x&quot;:1.58974,&quot;y&quot;:-1.38462,&quot;z&quot;:0},{&quot;x&quot;:1.58974,&quot;y&quot;:-1.28205,&quot;z&quot;:0},{&quot;x&quot;:1.58974,&quot;y&quot;:-1.17949,&quot;z&quot;:0},{&quot;x&quot;:1.58974,&quot;y&quot;:-1.07692,&quot;z&quot;:0},{&quot;x&quot;:1.58974,&quot;y&quot;:-0.974359,&quot;z&quot;:0},{&quot;x&quot;:1.58974,&quot;y&quot;:-0.871795,&quot;z&quot;:0},{&quot;x&quot;:1.58974,&quot;y&quot;:-0.769231,&quot;z&quot;:0},{&quot;x&quot;:1.58974,&quot;y&quot;:-0.666667,&quot;z&quot;:0},{&quot;x&quot;:1.58974,&quot;y&quot;:-0.564103,&quot;z&quot;:0},{&quot;x&quot;:1.58974,&quot;y&quot;:-0.461538,&quot;z&quot;:0},{&quot;x&quot;:1.58974,&quot;y&quot;:-0.358974,&quot;z&quot;:0},{&quot;x&quot;:1.58974,&quot;y&quot;:-0.25641,&quot;z&quot;:0},{&quot;x&quot;:1.58974,&quot;y&quot;:-0.153846,&quot;z&quot;:0},{&quot;x&quot;:1.58974,&quot;y&quot;:-0.0512821,&quot;z&quot;:0},{&quot;x&quot;:1.58974,&quot;y&quot;:0.0512821,&quot;z&quot;:0},{&quot;x&quot;:1.58974,&quot;y&quot;:0.153846,&quot;z&quot;:0},{&quot;x&quot;:1.58974,&quot;y&quot;:0.25641,&quot;z&quot;:0},{&quot;x&quot;:1.58974,&quot;y&quot;:0.358974,&quot;z&quot;:0},{&quot;x&quot;:1.58974,&quot;y&quot;:0.461538,&quot;z&quot;:0},{&quot;x&quot;:1.58974,&quot;y&quot;:0.564103,&quot;z&quot;:0},{&quot;x&quot;:1.58974,&quot;y&quot;:0.666667,&quot;z&quot;:0},{&quot;x&quot;:1.58974,&quot;y&quot;:0.769231,&quot;z&quot;:0},{&quot;x&quot;:1.58974,&quot;y&quot;:0.871795,&quot;z&quot;:0},{&quot;x&quot;:1.58974,&quot;y&quot;:0.974359,&quot;z&quot;:0},{&quot;x&quot;:1.58974,&quot;y&quot;:1.07692,&quot;z&quot;:0},{&quot;x&quot;:1.58974,&quot;y&quot;:1.17949,&quot;z&quot;:0},{&quot;x&quot;:1.58974,&quot;y&quot;:1.28205,&quot;z&quot;:0},{&quot;x&quot;:1.58974,&quot;y&quot;:1.38462,&quot;z&quot;:0},{&quot;x&quot;:1.58974,&quot;y&quot;:1.48718,&quot;z&quot;:0},{&quot;x&quot;:1.58974,&quot;y&quot;:1.58974,&quot;z&quot;:0},{&quot;x&quot;:1.58974,&quot;y&quot;:1.69231,&quot;z&quot;:0},{&quot;x&quot;:1.58974,&quot;y&quot;:1.79487,&quot;z&quot;:0},{&quot;x&quot;:1.58974,&quot;y&quot;:1.89744,&quot;z&quot;:0},{&quot;x&quot;:1.58974,&quot;y&quot;:2,&quot;z&quot;:0},{&quot;x&quot;:1.69231,&quot;y&quot;:-1.89744,&quot;z&quot;:0},{&quot;x&quot;:1.69231,&quot;y&quot;:-2,&quot;z&quot;:0},{&quot;x&quot;:1.69231,&quot;y&quot;:-1.79487,&quot;z&quot;:0},{&quot;x&quot;:1.69231,&quot;y&quot;:-1.69231,&quot;z&quot;:0},{&quot;x&quot;:1.69231,&quot;y&quot;:-1.58974,&quot;z&quot;:0},{&quot;x&quot;:1.69231,&quot;y&quot;:-1.48718,&quot;z&quot;:0},{&quot;x&quot;:1.69231,&quot;y&quot;:-1.38462,&quot;z&quot;:0},{&quot;x&quot;:1.69231,&quot;y&quot;:-1.28205,&quot;z&quot;:0},{&quot;x&quot;:1.69231,&quot;y&quot;:-1.17949,&quot;z&quot;:0},{&quot;x&quot;:1.69231,&quot;y&quot;:-1.07692,&quot;z&quot;:0},{&quot;x&quot;:1.69231,&quot;y&quot;:-0.974359,&quot;z&quot;:0},{&quot;x&quot;:1.69231,&quot;y&quot;:-0.871795,&quot;z&quot;:0},{&quot;x&quot;:1.69231,&quot;y&quot;:-0.769231,&quot;z&quot;:0},{&quot;x&quot;:1.69231,&quot;y&quot;:-0.666667,&quot;z&quot;:0},{&quot;x&quot;:1.69231,&quot;y&quot;:-0.564103,&quot;z&quot;:0},{&quot;x&quot;:1.69231,&quot;y&quot;:-0.461538,&quot;z&quot;:0},{&quot;x&quot;:1.69231,&quot;y&quot;:-0.358974,&quot;z&quot;:0},{&quot;x&quot;:1.69231,&quot;y&quot;:-0.25641,&quot;z&quot;:0},{&quot;x&quot;:1.69231,&quot;y&quot;:-0.153846,&quot;z&quot;:0},{&quot;x&quot;:1.69231,&quot;y&quot;:-0.0512821,&quot;z&quot;:0},{&quot;x&quot;:1.69231,&quot;y&quot;:0.0512821,&quot;z&quot;:0},{&quot;x&quot;:1.69231,&quot;y&quot;:0.153846,&quot;z&quot;:0},{&quot;x&quot;:1.69231,&quot;y&quot;:0.25641,&quot;z&quot;:0},{&quot;x&quot;:1.69231,&quot;y&quot;:0.358974,&quot;z&quot;:0},{&quot;x&quot;:1.69231,&quot;y&quot;:0.461538,&quot;z&quot;:0},{&quot;x&quot;:1.69231,&quot;y&quot;:0.564103,&quot;z&quot;:0},{&quot;x&quot;:1.69231,&quot;y&quot;:0.666667,&quot;z&quot;:0},{&quot;x&quot;:1.69231,&quot;y&quot;:0.769231,&quot;z&quot;:0},{&quot;x&quot;:1.69231,&quot;y&quot;:0.871795,&quot;z&quot;:0},{&quot;x&quot;:1.69231,&quot;y&quot;:0.974359,&quot;z&quot;:0},{&quot;x&quot;:1.69231,&quot;y&quot;:1.07692,&quot;z&quot;:0},{&quot;x&quot;:1.69231,&quot;y&quot;:1.17949,&quot;z&quot;:0},{&quot;x&quot;:1.69231,&quot;y&quot;:1.28205,&quot;z&quot;:0},{&quot;x&quot;:1.69231,&quot;y&quot;:1.38462,&quot;z&quot;:0},{&quot;x&quot;:1.69231,&quot;y&quot;:1.48718,&quot;z&quot;:0},{&quot;x&quot;:1.69231,&quot;y&quot;:1.58974,&quot;z&quot;:0},{&quot;x&quot;:1.69231,&quot;y&quot;:1.69231,&quot;z&quot;:0},{&quot;x&quot;:1.69231,&quot;y&quot;:1.79487,&quot;z&quot;:0},{&quot;x&quot;:1.69231,&quot;y&quot;:1.89744,&quot;z&quot;:0},{&quot;x&quot;:1.69231,&quot;y&quot;:2,&quot;z&quot;:0},{&quot;x&quot;:1.79487,&quot;y&quot;:-1.89744,&quot;z&quot;:0},{&quot;x&quot;:1.79487,&quot;y&quot;:-2,&quot;z&quot;:0},{&quot;x&quot;:1.79487,&quot;y&quot;:-1.79487,&quot;z&quot;:0},{&quot;x&quot;:1.79487,&quot;y&quot;:-1.69231,&quot;z&quot;:0},{&quot;x&quot;:1.79487,&quot;y&quot;:-1.58974,&quot;z&quot;:0},{&quot;x&quot;:1.79487,&quot;y&quot;:-1.48718,&quot;z&quot;:0},{&quot;x&quot;:1.79487,&quot;y&quot;:-1.38462,&quot;z&quot;:0},{&quot;x&quot;:1.79487,&quot;y&quot;:-1.28205,&quot;z&quot;:0},{&quot;x&quot;:1.79487,&quot;y&quot;:-1.17949,&quot;z&quot;:0},{&quot;x&quot;:1.79487,&quot;y&quot;:-1.07692,&quot;z&quot;:0},{&quot;x&quot;:1.79487,&quot;y&quot;:-0.974359,&quot;z&quot;:0},{&quot;x&quot;:1.79487,&quot;y&quot;:-0.871795,&quot;z&quot;:0},{&quot;x&quot;:1.79487,&quot;y&quot;:-0.769231,&quot;z&quot;:0},{&quot;x&quot;:1.79487,&quot;y&quot;:-0.666667,&quot;z&quot;:0},{&quot;x&quot;:1.79487,&quot;y&quot;:-0.564103,&quot;z&quot;:0},{&quot;x&quot;:1.79487,&quot;y&quot;:-0.461538,&quot;z&quot;:0},{&quot;x&quot;:1.79487,&quot;y&quot;:-0.358974,&quot;z&quot;:0},{&quot;x&quot;:1.79487,&quot;y&quot;:-0.25641,&quot;z&quot;:0},{&quot;x&quot;:1.79487,&quot;y&quot;:-0.153846,&quot;z&quot;:0},{&quot;x&quot;:1.79487,&quot;y&quot;:-0.0512821,&quot;z&quot;:0},{&quot;x&quot;:1.79487,&quot;y&quot;:0.0512821,&quot;z&quot;:0},{&quot;x&quot;:1.79487,&quot;y&quot;:0.153846,&quot;z&quot;:0},{&quot;x&quot;:1.79487,&quot;y&quot;:0.25641,&quot;z&quot;:0},{&quot;x&quot;:1.79487,&quot;y&quot;:0.358974,&quot;z&quot;:0},{&quot;x&quot;:1.79487,&quot;y&quot;:0.461538,&quot;z&quot;:0},{&quot;x&quot;:1.79487,&quot;y&quot;:0.564103,&quot;z&quot;:0},{&quot;x&quot;:1.79487,&quot;y&quot;:0.666667,&quot;z&quot;:0},{&quot;x&quot;:1.79487,&quot;y&quot;:0.769231,&quot;z&quot;:0},{&quot;x&quot;:1.79487,&quot;y&quot;:0.871795,&quot;z&quot;:0},{&quot;x&quot;:1.79487,&quot;y&quot;:0.974359,&quot;z&quot;:0},{&quot;x&quot;:1.79487,&quot;y&quot;:1.07692,&quot;z&quot;:0},{&quot;x&quot;:1.79487,&quot;y&quot;:1.17949,&quot;z&quot;:0},{&quot;x&quot;:1.79487,&quot;y&quot;:1.28205,&quot;z&quot;:0},{&quot;x&quot;:1.79487,&quot;y&quot;:1.38462,&quot;z&quot;:0},{&quot;x&quot;:1.79487,&quot;y&quot;:1.48718,&quot;z&quot;:0},{&quot;x&quot;:1.79487,&quot;y&quot;:1.58974,&quot;z&quot;:0},{&quot;x&quot;:1.79487,&quot;y&quot;:1.69231,&quot;z&quot;:0},{&quot;x&quot;:1.79487,&quot;y&quot;:1.79487,&quot;z&quot;:0},{&quot;x&quot;:1.79487,&quot;y&quot;:1.89744,&quot;z&quot;:0},{&quot;x&quot;:1.79487,&quot;y&quot;:2,&quot;z&quot;:0},{&quot;x&quot;:1.89744,&quot;y&quot;:-1.89744,&quot;z&quot;:0},{&quot;x&quot;:1.89744,&quot;y&quot;:-2,&quot;z&quot;:0},{&quot;x&quot;:1.89744,&quot;y&quot;:-1.79487,&quot;z&quot;:0},{&quot;x&quot;:1.89744,&quot;y&quot;:-1.69231,&quot;z&quot;:0},{&quot;x&quot;:1.89744,&quot;y&quot;:-1.58974,&quot;z&quot;:0},{&quot;x&quot;:1.89744,&quot;y&quot;:-1.48718,&quot;z&quot;:0},{&quot;x&quot;:1.89744,&quot;y&quot;:-1.38462,&quot;z&quot;:0},{&quot;x&quot;:1.89744,&quot;y&quot;:-1.28205,&quot;z&quot;:0},{&quot;x&quot;:1.89744,&quot;y&quot;:-1.17949,&quot;z&quot;:0},{&quot;x&quot;:1.89744,&quot;y&quot;:-1.07692,&quot;z&quot;:0},{&quot;x&quot;:1.89744,&quot;y&quot;:-0.974359,&quot;z&quot;:0},{&quot;x&quot;:1.89744,&quot;y&quot;:-0.871795,&quot;z&quot;:0},{&quot;x&quot;:1.89744,&quot;y&quot;:-0.769231,&quot;z&quot;:0},{&quot;x&quot;:1.89744,&quot;y&quot;:-0.666667,&quot;z&quot;:0},{&quot;x&quot;:1.89744,&quot;y&quot;:-0.564103,&quot;z&quot;:0},{&quot;x&quot;:1.89744,&quot;y&quot;:-0.461538,&quot;z&quot;:0},{&quot;x&quot;:1.89744,&quot;y&quot;:-0.358974,&quot;z&quot;:0},{&quot;x&quot;:1.89744,&quot;y&quot;:-0.25641,&quot;z&quot;:0},{&quot;x&quot;:1.89744,&quot;y&quot;:-0.153846,&quot;z&quot;:0},{&quot;x&quot;:1.89744,&quot;y&quot;:-0.0512821,&quot;z&quot;:0},{&quot;x&quot;:1.89744,&quot;y&quot;:0.0512821,&quot;z&quot;:0},{&quot;x&quot;:1.89744,&quot;y&quot;:0.153846,&quot;z&quot;:0},{&quot;x&quot;:1.89744,&quot;y&quot;:0.25641,&quot;z&quot;:0},{&quot;x&quot;:1.89744,&quot;y&quot;:0.358974,&quot;z&quot;:0},{&quot;x&quot;:1.89744,&quot;y&quot;:0.461538,&quot;z&quot;:0},{&quot;x&quot;:1.89744,&quot;y&quot;:0.564103,&quot;z&quot;:0},{&quot;x&quot;:1.89744,&quot;y&quot;:0.666667,&quot;z&quot;:0},{&quot;x&quot;:1.89744,&quot;y&quot;:0.769231,&quot;z&quot;:0},{&quot;x&quot;:1.89744,&quot;y&quot;:0.871795,&quot;z&quot;:0},{&quot;x&quot;:1.89744,&quot;y&quot;:0.974359,&quot;z&quot;:0},{&quot;x&quot;:1.89744,&quot;y&quot;:1.07692,&quot;z&quot;:0},{&quot;x&quot;:1.89744,&quot;y&quot;:1.17949,&quot;z&quot;:0},{&quot;x&quot;:1.89744,&quot;y&quot;:1.28205,&quot;z&quot;:0},{&quot;x&quot;:1.89744,&quot;y&quot;:1.38462,&quot;z&quot;:0},{&quot;x&quot;:1.89744,&quot;y&quot;:1.48718,&quot;z&quot;:0},{&quot;x&quot;:1.89744,&quot;y&quot;:1.58974,&quot;z&quot;:0},{&quot;x&quot;:1.89744,&quot;y&quot;:1.69231,&quot;z&quot;:0},{&quot;x&quot;:1.89744,&quot;y&quot;:1.79487,&quot;z&quot;:0},{&quot;x&quot;:1.89744,&quot;y&quot;:1.89744,&quot;z&quot;:0},{&quot;x&quot;:1.89744,&quot;y&quot;:2,&quot;z&quot;:0},{&quot;x&quot;:2,&quot;y&quot;:-1.89744,&quot;z&quot;:0},{&quot;x&quot;:2,&quot;y&quot;:-2,&quot;z&quot;:0},{&quot;x&quot;:2,&quot;y&quot;:-1.79487,&quot;z&quot;:0},{&quot;x&quot;:2,&quot;y&quot;:-1.69231,&quot;z&quot;:0},{&quot;x&quot;:2,&quot;y&quot;:-1.58974,&quot;z&quot;:0},{&quot;x&quot;:2,&quot;y&quot;:-1.48718,&quot;z&quot;:0},{&quot;x&quot;:2,&quot;y&quot;:-1.38462,&quot;z&quot;:0},{&quot;x&quot;:2,&quot;y&quot;:-1.28205,&quot;z&quot;:0},{&quot;x&quot;:2,&quot;y&quot;:-1.17949,&quot;z&quot;:0},{&quot;x&quot;:2,&quot;y&quot;:-1.07692,&quot;z&quot;:0},{&quot;x&quot;:2,&quot;y&quot;:-0.974359,&quot;z&quot;:0},{&quot;x&quot;:2,&quot;y&quot;:-0.871795,&quot;z&quot;:0},{&quot;x&quot;:2,&quot;y&quot;:-0.769231,&quot;z&quot;:0},{&quot;x&quot;:2,&quot;y&quot;:-0.666667,&quot;z&quot;:0},{&quot;x&quot;:2,&quot;y&quot;:-0.564103,&quot;z&quot;:0},{&quot;x&quot;:2,&quot;y&quot;:-0.461538,&quot;z&quot;:0},{&quot;x&quot;:2,&quot;y&quot;:-0.358974,&quot;z&quot;:0},{&quot;x&quot;:2,&quot;y&quot;:-0.25641,&quot;z&quot;:0},{&quot;x&quot;:2,&quot;y&quot;:-0.153846,&quot;z&quot;:0},{&quot;x&quot;:2,&quot;y&quot;:-0.0512821,&quot;z&quot;:0},{&quot;x&quot;:2,&quot;y&quot;:0.0512821,&quot;z&quot;:0},{&quot;x&quot;:2,&quot;y&quot;:0.153846,&quot;z&quot;:0},{&quot;x&quot;:2,&quot;y&quot;:0.25641,&quot;z&quot;:0},{&quot;x&quot;:2,&quot;y&quot;:0.358974,&quot;z&quot;:0},{&quot;x&quot;:2,&quot;y&quot;:0.461538,&quot;z&quot;:0},{&quot;x&quot;:2,&quot;y&quot;:0.564103,&quot;z&quot;:0},{&quot;x&quot;:2,&quot;y&quot;:0.666667,&quot;z&quot;:0},{&quot;x&quot;:2,&quot;y&quot;:0.769231,&quot;z&quot;:0},{&quot;x&quot;:2,&quot;y&quot;:0.871795,&quot;z&quot;:0},{&quot;x&quot;:2,&quot;y&quot;:0.974359,&quot;z&quot;:0},{&quot;x&quot;:2,&quot;y&quot;:1.07692,&quot;z&quot;:0},{&quot;x&quot;:2,&quot;y&quot;:1.17949,&quot;z&quot;:0},{&quot;x&quot;:2,&quot;y&quot;:1.28205,&quot;z&quot;:0},{&quot;x&quot;:2,&quot;y&quot;:1.38462,&quot;z&quot;:0},{&quot;x&quot;:2,&quot;y&quot;:1.48718,&quot;z&quot;:0},{&quot;x&quot;:2,&quot;y&quot;:1.58974,&quot;z&quot;:0},{&quot;x&quot;:2,&quot;y&quot;:1.69231,&quot;z&quot;:0},{&quot;x&quot;:2,&quot;y&quot;:1.79487,&quot;z&quot;:0},{&quot;x&quot;:2,&quot;y&quot;:1.89744,&quot;z&quot;:0},{&quot;x&quot;:2,&quot;y&quot;:2,&quot;z&quot;:0}], &quot;faces&quot;:[[0,1,2,3],[1,4,5,2],[4,6,7,5],[6,8,9,7],[8,10,11,9],[10,12,13,11],[12,14,15,13],[14,16,17,15],[16,18,19,17],[18,20,21,19],[20,22,23,21],[22,24,25,23],[24,26,27,25],[26,28,29,27],[28,30,31,29],[30,32,33,31],[32,34,35,33],[34,36,37,35],[36,38,39,37],[38,40,41,39],[40,42,43,41],[42,44,45,43],[44,46,47,45],[46,48,49,47],[48,50,51,49],[50,52,53,51],[52,54,55,53],[54,56,57,55],[56,58,59,57],[58,60,61,59],[60,62,63,61],[62,64,65,63],[64,66,67,65],[66,68,69,67],[68,70,71,69],[70,72,73,71],[72,74,75,73],[74,76,77,75],[76,78,79,77],[3,2,80,81],[2,5,82,80],[5,7,83,82],[7,9,84,83],[9,11,85,84],[11,13,86,85],[13,15,87,86],[15,17,88,87],[17,19,89,88],[19,21,90,89],[21,23,91,90],[23,25,92,91],[25,27,93,92],[27,29,94,93],[29,31,95,94],[31,33,96,95],[33,35,97,96],[35,37,98,97],[37,39,99,98],[39,41,100,99],[41,43,101,100],[43,45,102,101],[45,47,103,102],[47,49,104,103],[49,51,105,104],[51,53,106,105],[53,55,107,106],[55,57,108,107],[57,59,109,108],[59,61,110,109],[61,63,111,110],[63,65,112,111],[65,67,113,112],[67,69,114,113],[69,71,115,114],[71,73,116,115],[73,75,117,116],[75,77,118,117],[77,79,119,118],[81,80,120,121],[80,82,122,120],[82,83,123,122],[83,84,124,123],[84,85,125,124],[85,86,126,125],[86,87,127,126],[87,88,128,127],[88,89,129,128],[89,90,130,129],[90,91,131,130],[91,92,132,131],[92,93,133,132],[93,94,134,133],[94,95,135,134],[95,96,136,135],[96,97,137,136],[97,98,138,137],[98,99,139,138],[99,100,140,139],[100,101,141,140],[101,102,142,141],[102,103,143,142],[103,104,144,143],[104,105,145,144],[105,106,146,145],[106,107,147,146],[107,108,148,147],[108,109,149,148],[109,110,150,149],[110,111,151,150],[111,112,152,151],[112,113,153,152],[113,114,154,153],[114,115,155,154],[115,116,156,155],[116,117,157,156],[117,118,158,157],[118,119,159,158],[121,120,160,161],[120,122,162,160],[122,123,163,162],[123,124,164,163],[124,125,165,164],[125,126,166,165],[126,127,167,166],[127,128,168,167],[128,129,169,168],[129,130,170,169],[130,131,171,170],[131,132,172,171],[132,133,173,172],[133,134,174,173],[134,135,175,174],[135,136,176,175],[136,137,177,176],[137,138,178,177],[138,139,179,178],[139,140,180,179],[140,141,181,180],[141,142,182,181],[142,143,183,182],[143,144,184,183],[144,145,185,184],[145,146,186,185],[146,147,187,186],[147,148,188,187],[148,149,189,188],[149,150,190,189],[150,151,191,190],[151,152,192,191],[152,153,193,192],[153,154,194,193],[154,155,195,194],[155,156,196,195],[156,157,197,196],[157,158,198,197],[158,159,199,198],[161,160,200,201],[160,162,202,200],[162,163,203,202],[163,164,204,203],[164,165,205,204],[165,166,206,205],[166,167,207,206],[167,168,208,207],[168,169,209,208],[169,170,210,209],[170,171,211,210],[171,172,212,211],[172,173,213,212],[173,174,214,213],[174,175,215,214],[175,176,216,215],[176,177,217,216],[177,178,218,217],[178,179,219,218],[179,180,220,219],[180,181,221,220],[181,182,222,221],[182,183,223,222],[183,184,224,223],[184,185,225,224],[185,186,226,225],[186,187,227,226],[187,188,228,227],[188,189,229,228],[189,190,230,229],[190,191,231,230],[191,192,232,231],[192,193,233,232],[193,194,234,233],[194,195,235,234],[195,196,236,235],[196,197,237,236],[197,198,238,237],[198,199,239,238],[201,200,240,241],[200,202,242,240],[202,203,243,242],[203,204,244,243],[204,205,245,244],[205,206,246,245],[206,207,247,246],[207,208,248,247],[208,209,249,248],[209,210,250,249],[210,211,251,250],[211,212,252,251],[212,213,253,252],[213,214,254,253],[214,215,255,254],[215,216,256,255],[216,217,257,256],[217,218,258,257],[218,219,259,258],[219,220,260,259],[220,221,261,260],[221,222,262,261],[222,223,263,262],[223,224,264,263],[224,225,265,264],[225,226,266,265],[226,227,267,266],[227,228,268,267],[228,229,269,268],[229,230,270,269],[230,231,271,270],[231,232,272,271],[232,233,273,272],[233,234,274,273],[234,235,275,274],[235,236,276,275],[236,237,277,276],[237,238,278,277],[238,239,279,278],[241,240,280,281],[240,242,282,280],[242,243,283,282],[243,244,284,283],[244,245,285,284],[245,246,286,285],[246,247,287,286],[247,248,288,287],[248,249,289,288],[249,250,290,289],[250,251,291,290],[251,252,292,291],[252,253,293,292],[253,254,294,293],[254,255,295,294],[255,256,296,295],[256,257,297,296],[257,258,298,297],[258,259,299,298],[259,260,300,299],[260,261,301,300],[261,262,302,301],[262,263,303,302],[263,264,304,303],[264,265,305,304],[265,266,306,305],[266,267,307,306],[267,268,308,307],[268,269,309,308],[269,270,310,309],[270,271,311,310],[271,272,312,311],[272,273,313,312],[273,274,314,313],[274,275,315,314],[275,276,316,315],[276,277,317,316],[277,278,318,317],[278,279,319,318],[281,280,320,321],[280,282,322,320],[282,283,323,322],[283,284,324,323],[284,285,325,324],[285,286,326,325],[286,287,327,326],[287,288,328,327],[288,289,329,328],[289,290,330,329],[290,291,331,330],[291,292,332,331],[292,293,333,332],[293,294,334,333],[294,295,335,334],[295,296,336,335],[296,297,337,336],[297,298,338,337],[298,299,339,338],[299,300,340,339],[300,301,341,340],[301,302,342,341],[302,303,343,342],[303,304,344,343],[304,305,345,344],[305,306,346,345],[306,307,347,346],[307,308,348,347],[308,309,349,348],[309,310,350,349],[310,311,351,350],[311,312,352,351],[312,313,353,352],[313,314,354,353],[314,315,355,354],[315,316,356,355],[316,317,357,356],[317,318,358,357],[318,319,359,358],[321,320,360,361],[320,322,362,360],[322,323,363,362],[323,324,364,363],[324,325,365,364],[325,326,366,365],[326,327,367,366],[327,328,368,367],[328,329,369,368],[329,330,370,369],[330,331,371,370],[331,332,372,371],[332,333,373,372],[333,334,374,373],[334,335,375,374],[335,336,376,375],[336,337,377,376],[337,338,378,377],[338,339,379,378],[339,340,380,379],[340,341,381,380],[341,342,382,381],[342,343,383,382],[343,344,384,383],[344,345,385,384],[345,346,386,385],[346,347,387,386],[347,348,388,387],[348,349,389,388],[349,350,390,389],[350,351,391,390],[351,352,392,391],[352,353,393,392],[353,354,394,393],[354,355,395,394],[355,356,396,395],[356,357,397,396],[357,358,398,397],[358,359,399,398],[361,360,400,401],[360,362,402,400],[362,363,403,402],[363,364,404,403],[364,365,405,404],[365,366,406,405],[366,367,407,406],[367,368,408,407],[368,369,409,408],[369,370,410,409],[370,371,411,410],[371,372,412,411],[372,373,413,412],[373,374,414,413],[374,375,415,414],[375,376,416,415],[376,377,417,416],[377,378,418,417],[378,379,419,418],[379,380,420,419],[380,381,421,420],[381,382,422,421],[382,383,423,422],[383,384,424,423],[384,385,425,424],[385,386,426,425],[386,387,427,426],[387,388,428,427],[388,389,429,428],[389,390,430,429],[390,391,431,430],[391,392,432,431],[392,393,433,432],[393,394,434,433],[394,395,435,434],[395,396,436,435],[396,397,437,436],[397,398,438,437],[398,399,439,438],[401,400,440,441],[400,402,442,440],[402,403,443,442],[403,404,444,443],[404,405,445,444],[405,406,446,445],[406,407,447,446],[407,408,448,447],[408,409,449,448],[409,410,450,449],[410,411,451,450],[411,412,452,451],[412,413,453,452],[413,414,454,453],[414,415,455,454],[415,416,456,455],[416,417,457,456],[417,418,458,457],[418,419,459,458],[419,420,460,459],[420,421,461,460],[421,422,462,461],[422,423,463,462],[423,424,464,463],[424,425,465,464],[425,426,466,465],[426,427,467,466],[427,428,468,467],[428,429,469,468],[429,430,470,469],[430,431,471,470],[431,432,472,471],[432,433,473,472],[433,434,474,473],[434,435,475,474],[435,436,476,475],[436,437,477,476],[437,438,478,477],[438,439,479,478],[441,440,480,481],[440,442,482,480],[442,443,483,482],[443,444,484,483],[444,445,485,484],[445,446,486,485],[446,447,487,486],[447,448,488,487],[448,449,489,488],[449,450,490,489],[450,451,491,490],[451,452,492,491],[452,453,493,492],[453,454,494,493],[454,455,495,494],[455,456,496,495],[456,457,497,496],[457,458,498,497],[458,459,499,498],[459,460,500,499],[460,461,501,500],[461,462,502,501],[462,463,503,502],[463,464,504,503],[464,465,505,504],[465,466,506,505],[466,467,507,506],[467,468,508,507],[468,469,509,508],[469,470,510,509],[470,471,511,510],[471,472,512,511],[472,473,513,512],[473,474,514,513],[474,475,515,514],[475,476,516,515],[476,477,517,516],[477,478,518,517],[478,479,519,518],[481,480,520,521],[480,482,522,520],[482,483,523,522],[483,484,524,523],[484,485,525,524],[485,486,526,525],[486,487,527,526],[487,488,528,527],[488,489,529,528],[489,490,530,529],[490,491,531,530],[491,492,532,531],[492,493,533,532],[493,494,534,533],[494,495,535,534],[495,496,536,535],[496,497,537,536],[497,498,538,537],[498,499,539,538],[499,500,540,539],[500,501,541,540],[501,502,542,541],[502,503,543,542],[503,504,544,543],[504,505,545,544],[505,506,546,545],[506,507,547,546],[507,508,548,547],[508,509,549,548],[509,510,550,549],[510,511,551,550],[511,512,552,551],[512,513,553,552],[513,514,554,553],[514,515,555,554],[515,516,556,555],[516,517,557,556],[517,518,558,557],[518,519,559,558],[521,520,560,561],[520,522,562,560],[522,523,563,562],[523,524,564,563],[524,525,565,564],[525,526,566,565],[526,527,567,566],[527,528,568,567],[528,529,569,568],[529,530,570,569],[530,531,571,570],[531,532,572,571],[532,533,573,572],[533,534,574,573],[534,535,575,574],[535,536,576,575],[536,537,577,576],[537,538,578,577],[538,539,579,578],[539,540,580,579],[540,541,581,580],[541,542,582,581],[542,543,583,582],[543,544,584,583],[544,545,585,584],[545,546,586,585],[546,547,587,586],[547,548,588,587],[548,549,589,588],[549,550,590,589],[550,551,591,590],[551,552,592,591],[552,553,593,592],[553,554,594,593],[554,555,595,594],[555,556,596,595],[556,557,597,596],[557,558,598,597],[558,559,599,598],[561,560,600,601],[560,562,602,600],[562,563,603,602],[563,564,604,603],[564,565,605,604],[565,566,606,605],[566,567,607,606],[567,568,608,607],[568,569,609,608],[569,570,610,609],[570,571,611,610],[571,572,612,611],[572,573,613,612],[573,574,614,613],[574,575,615,614],[575,576,616,615],[576,577,617,616],[577,578,618,617],[578,579,619,618],[579,580,620,619],[580,581,621,620],[581,582,622,621],[582,583,623,622],[583,584,624,623],[584,585,625,624],[585,586,626,625],[586,587,627,626],[587,588,628,627],[588,589,629,628],[589,590,630,629],[590,591,631,630],[591,592,632,631],[592,593,633,632],[593,594,634,633],[594,595,635,634],[595,596,636,635],[596,597,637,636],[597,598,638,637],[598,599,639,638],[601,600,640,641],[600,602,642,640],[602,603,643,642],[603,604,644,643],[604,605,645,644],[605,606,646,645],[606,607,647,646],[607,608,648,647],[608,609,649,648],[609,610,650,649],[610,611,651,650],[611,612,652,651],[612,613,653,652],[613,614,654,653],[614,615,655,654],[615,616,656,655],[616,617,657,656],[617,618,658,657],[618,619,659,658],[619,620,660,659],[620,621,661,660],[621,622,662,661],[622,623,663,662],[623,624,664,663],[624,625,665,664],[625,626,666,665],[626,627,667,666],[627,628,668,667],[628,629,669,668],[629,630,670,669],[630,631,671,670],[631,632,672,671],[632,633,673,672],[633,634,674,673],[634,635,675,674],[635,636,676,675],[636,637,677,676],[637,638,678,677],[638,639,679,678],[641,640,680,681],[640,642,682,680],[642,643,683,682],[643,644,684,683],[644,645,685,684],[645,646,686,685],[646,647,687,686],[647,648,688,687],[648,649,689,688],[649,650,690,689],[650,651,691,690],[651,652,692,691],[652,653,693,692],[653,654,694,693],[654,655,695,694],[655,656,696,695],[656,657,697,696],[657,658,698,697],[658,659,699,698],[659,660,700,699],[660,661,701,700],[661,662,702,701],[662,663,703,702],[663,664,704,703],[664,665,705,704],[665,666,706,705],[666,667,707,706],[667,668,708,707],[668,669,709,708],[669,670,710,709],[670,671,711,710],[671,672,712,711],[672,673,713,712],[673,674,714,713],[674,675,715,714],[675,676,716,715],[676,677,717,716],[677,678,718,717],[678,679,719,718],[681,680,720,721],[680,682,722,720],[682,683,723,722],[683,684,724,723],[684,685,725,724],[685,686,726,725],[686,687,727,726],[687,688,728,727],[688,689,729,728],[689,690,730,729],[690,691,731,730],[691,692,732,731],[692,693,733,732],[693,694,734,733],[694,695,735,734],[695,696,736,735],[696,697,737,736],[697,698,738,737],[698,699,739,738],[699,700,740,739],[700,701,741,740],[701,702,742,741],[702,703,743,742],[703,704,744,743],[704,705,745,744],[705,706,746,745],[706,707,747,746],[707,708,748,747],[708,709,749,748],[709,710,750,749],[710,711,751,750],[711,712,752,751],[712,713,753,752],[713,714,754,753],[714,715,755,754],[715,716,756,755],[716,717,757,756],[717,718,758,757],[718,719,759,758],[721,720,760,761],[720,722,762,760],[722,723,763,762],[723,724,764,763],[724,725,765,764],[725,726,766,765],[726,727,767,766],[727,728,768,767],[728,729,769,768],[729,730,770,769],[730,731,771,770],[731,732,772,771],[732,733,773,772],[733,734,774,773],[734,735,775,774],[735,736,776,775],[736,737,777,776],[737,738,778,777],[738,739,779,778],[739,740,780,779],[740,741,781,780],[741,742,782,781],[742,743,783,782],[743,744,784,783],[744,745,785,784],[745,746,786,785],[746,747,787,786],[747,748,788,787],[748,749,789,788],[749,750,790,789],[750,751,791,790],[751,752,792,791],[752,753,793,792],[753,754,794,793],[754,755,795,794],[755,756,796,795],[756,757,797,796],[757,758,798,797],[758,759,799,798],[761,760,800,801],[760,762,802,800],[762,763,803,802],[763,764,804,803],[764,765,805,804],[765,766,806,805],[766,767,807,806],[767,768,808,807],[768,769,809,808],[769,770,810,809],[770,771,811,810],[771,772,812,811],[772,773,813,812],[773,774,814,813],[774,775,815,814],[775,776,816,815],[776,777,817,816],[777,778,818,817],[778,779,819,818],[779,780,820,819],[780,781,821,820],[781,782,822,821],[782,783,823,822],[783,784,824,823],[784,785,825,824],[785,786,826,825],[786,787,827,826],[787,788,828,827],[788,789,829,828],[789,790,830,829],[790,791,831,830],[791,792,832,831],[792,793,833,832],[793,794,834,833],[794,795,835,834],[795,796,836,835],[796,797,837,836],[797,798,838,837],[798,799,839,838],[801,800,840,841],[800,802,842,840],[802,803,843,842],[803,804,844,843],[804,805,845,844],[805,806,846,845],[806,807,847,846],[807,808,848,847],[808,809,849,848],[809,810,850,849],[810,811,851,850],[811,812,852,851],[812,813,853,852],[813,814,854,853],[814,815,855,854],[815,816,856,855],[816,817,857,856],[817,818,858,857],[818,819,859,858],[819,820,860,859],[820,821,861,860],[821,822,862,861],[822,823,863,862],[823,824,864,863],[824,825,865,864],[825,826,866,865],[826,827,867,866],[827,828,868,867],[828,829,869,868],[829,830,870,869],[830,831,871,870],[831,832,872,871],[832,833,873,872],[833,834,874,873],[834,835,875,874],[835,836,876,875],[836,837,877,876],[837,838,878,877],[838,839,879,878],[841,840,880,881],[840,842,882,880],[842,843,883,882],[843,844,884,883],[844,845,885,884],[845,846,886,885],[846,847,887,886],[847,848,888,887],[848,849,889,888],[849,850,890,889],[850,851,891,890],[851,852,892,891],[852,853,893,892],[853,854,894,893],[854,855,895,894],[855,856,896,895],[856,857,897,896],[857,858,898,897],[858,859,899,898],[859,860,900,899],[860,861,901,900],[861,862,902,901],[862,863,903,902],[863,864,904,903],[864,865,905,904],[865,866,906,905],[866,867,907,906],[867,868,908,907],[868,869,909,908],[869,870,910,909],[870,871,911,910],[871,872,912,911],[872,873,913,912],[873,874,914,913],[874,875,915,914],[875,876,916,915],[876,877,917,916],[877,878,918,917],[878,879,919,918],[881,880,920,921],[880,882,922,920],[882,883,923,922],[883,884,924,923],[884,885,925,924],[885,886,926,925],[886,887,927,926],[887,888,928,927],[888,889,929,928],[889,890,930,929],[890,891,931,930],[891,892,932,931],[892,893,933,932],[893,894,934,933],[894,895,935,934],[895,896,936,935],[896,897,937,936],[897,898,938,937],[898,899,939,938],[899,900,940,939],[900,901,941,940],[901,902,942,941],[902,903,943,942],[903,904,944,943],[904,905,945,944],[905,906,946,945],[906,907,947,946],[907,908,948,947],[908,909,949,948],[909,910,950,949],[910,911,951,950],[911,912,952,951],[912,913,953,952],[913,914,954,953],[914,915,955,954],[915,916,956,955],[916,917,957,956],[917,918,958,957],[918,919,959,958],[921,920,960,961],[920,922,962,960],[922,923,963,962],[923,924,964,963],[924,925,965,964],[925,926,966,965],[926,927,967,966],[927,928,968,967],[928,929,969,968],[929,930,970,969],[930,931,971,970],[931,932,972,971],[932,933,973,972],[933,934,974,973],[934,935,975,974],[935,936,976,975],[936,937,977,976],[937,938,978,977],[938,939,979,978],[939,940,980,979],[940,941,981,980],[941,942,982,981],[942,943,983,982],[943,944,984,983],[944,945,985,984],[945,946,986,985],[946,947,987,986],[947,948,988,987],[948,949,989,988],[949,950,990,989],[950,951,991,990],[951,952,992,991],[952,953,993,992],[953,954,994,993],[954,955,995,994],[955,956,996,995],[956,957,997,996],[957,958,998,997],[958,959,999,998],[961,960,1000,1001],[960,962,1002,1000],[962,963,1003,1002],[963,964,1004,1003],[964,965,1005,1004],[965,966,1006,1005],[966,967,1007,1006],[967,968,1008,1007],[968,969,1009,1008],[969,970,1010,1009],[970,971,1011,1010],[971,972,1012,1011],[972,973,1013,1012],[973,974,1014,1013],[974,975,1015,1014],[975,976,1016,1015],[976,977,1017,1016],[977,978,1018,1017],[978,979,1019,1018],[979,980,1020,1019],[980,981,1021,1020],[981,982,1022,1021],[982,983,1023,1022],[983,984,1024,1023],[984,985,1025,1024],[985,986,1026,1025],[986,987,1027,1026],[987,988,1028,1027],[988,989,1029,1028],[989,990,1030,1029],[990,991,1031,1030],[991,992,1032,1031],[992,993,1033,1032],[993,994,1034,1033],[994,995,1035,1034],[995,996,1036,1035],[996,997,1037,1036],[997,998,1038,1037],[998,999,1039,1038],[1001,1000,1040,1041],[1000,1002,1042,1040],[1002,1003,1043,1042],[1003,1004,1044,1043],[1004,1005,1045,1044],[1005,1006,1046,1045],[1006,1007,1047,1046],[1007,1008,1048,1047],[1008,1009,1049,1048],[1009,1010,1050,1049],[1010,1011,1051,1050],[1011,1012,1052,1051],[1012,1013,1053,1052],[1013,1014,1054,1053],[1014,1015,1055,1054],[1015,1016,1056,1055],[1016,1017,1057,1056],[1017,1018,1058,1057],[1018,1019,1059,1058],[1019,1020,1060,1059],[1020,1021,1061,1060],[1021,1022,1062,1061],[1022,1023,1063,1062],[1023,1024,1064,1063],[1024,1025,1065,1064],[1025,1026,1066,1065],[1026,1027,1067,1066],[1027,1028,1068,1067],[1028,1029,1069,1068],[1029,1030,1070,1069],[1030,1031,1071,1070],[1031,1032,1072,1071],[1032,1033,1073,1072],[1033,1034,1074,1073],[1034,1035,1075,1074],[1035,1036,1076,1075],[1036,1037,1077,1076],[1037,1038,1078,1077],[1038,1039,1079,1078],[1041,1040,1080,1081],[1040,1042,1082,1080],[1042,1043,1083,1082],[1043,1044,1084,1083],[1044,1045,1085,1084],[1045,1046,1086,1085],[1046,1047,1087,1086],[1047,1048,1088,1087],[1048,1049,1089,1088],[1049,1050,1090,1089],[1050,1051,1091,1090],[1051,1052,1092,1091],[1052,1053,1093,1092],[1053,1054,1094,1093],[1054,1055,1095,1094],[1055,1056,1096,1095],[1056,1057,1097,1096],[1057,1058,1098,1097],[1058,1059,1099,1098],[1059,1060,1100,1099],[1060,1061,1101,1100],[1061,1062,1102,1101],[1062,1063,1103,1102],[1063,1064,1104,1103],[1064,1065,1105,1104],[1065,1066,1106,1105],[1066,1067,1107,1106],[1067,1068,1108,1107],[1068,1069,1109,1108],[1069,1070,1110,1109],[1070,1071,1111,1110],[1071,1072,1112,1111],[1072,1073,1113,1112],[1073,1074,1114,1113],[1074,1075,1115,1114],[1075,1076,1116,1115],[1076,1077,1117,1116],[1077,1078,1118,1117],[1078,1079,1119,1118],[1081,1080,1120,1121],[1080,1082,1122,1120],[1082,1083,1123,1122],[1083,1084,1124,1123],[1084,1085,1125,1124],[1085,1086,1126,1125],[1086,1087,1127,1126],[1087,1088,1128,1127],[1088,1089,1129,1128],[1089,1090,1130,1129],[1090,1091,1131,1130],[1091,1092,1132,1131],[1092,1093,1133,1132],[1093,1094,1134,1133],[1094,1095,1135,1134],[1095,1096,1136,1135],[1096,1097,1137,1136],[1097,1098,1138,1137],[1098,1099,1139,1138],[1099,1100,1140,1139],[1100,1101,1141,1140],[1101,1102,1142,1141],[1102,1103,1143,1142],[1103,1104,1144,1143],[1104,1105,1145,1144],[1105,1106,1146,1145],[1106,1107,1147,1146],[1107,1108,1148,1147],[1108,1109,1149,1148],[1109,1110,1150,1149],[1110,1111,1151,1150],[1111,1112,1152,1151],[1112,1113,1153,1152],[1113,1114,1154,1153],[1114,1115,1155,1154],[1115,1116,1156,1155],[1116,1117,1157,1156],[1117,1118,1158,1157],[1118,1119,1159,1158],[1121,1120,1160,1161],[1120,1122,1162,1160],[1122,1123,1163,1162],[1123,1124,1164,1163],[1124,1125,1165,1164],[1125,1126,1166,1165],[1126,1127,1167,1166],[1127,1128,1168,1167],[1128,1129,1169,1168],[1129,1130,1170,1169],[1130,1131,1171,1170],[1131,1132,1172,1171],[1132,1133,1173,1172],[1133,1134,1174,1173],[1134,1135,1175,1174],[1135,1136,1176,1175],[1136,1137,1177,1176],[1137,1138,1178,1177],[1138,1139,1179,1178],[1139,1140,1180,1179],[1140,1141,1181,1180],[1141,1142,1182,1181],[1142,1143,1183,1182],[1143,1144,1184,1183],[1144,1145,1185,1184],[1145,1146,1186,1185],[1146,1147,1187,1186],[1147,1148,1188,1187],[1148,1149,1189,1188],[1149,1150,1190,1189],[1150,1151,1191,1190],[1151,1152,1192,1191],[1152,1153,1193,1192],[1153,1154,1194,1193],[1154,1155,1195,1194],[1155,1156,1196,1195],[1156,1157,1197,1196],[1157,1158,1198,1197],[1158,1159,1199,1198],[1161,1160,1200,1201],[1160,1162,1202,1200],[1162,1163,1203,1202],[1163,1164,1204,1203],[1164,1165,1205,1204],[1165,1166,1206,1205],[1166,1167,1207,1206],[1167,1168,1208,1207],[1168,1169,1209,1208],[1169,1170,1210,1209],[1170,1171,1211,1210],[1171,1172,1212,1211],[1172,1173,1213,1212],[1173,1174,1214,1213],[1174,1175,1215,1214],[1175,1176,1216,1215],[1176,1177,1217,1216],[1177,1178,1218,1217],[1178,1179,1219,1218],[1179,1180,1220,1219],[1180,1181,1221,1220],[1181,1182,1222,1221],[1182,1183,1223,1222],[1183,1184,1224,1223],[1184,1185,1225,1224],[1185,1186,1226,1225],[1186,1187,1227,1226],[1187,1188,1228,1227],[1188,1189,1229,1228],[1189,1190,1230,1229],[1190,1191,1231,1230],[1191,1192,1232,1231],[1192,1193,1233,1232],[1193,1194,1234,1233],[1194,1195,1235,1234],[1195,1196,1236,1235],[1196,1197,1237,1236],[1197,1198,1238,1237],[1198,1199,1239,1238],[1201,1200,1240,1241],[1200,1202,1242,1240],[1202,1203,1243,1242],[1203,1204,1244,1243],[1204,1205,1245,1244],[1205,1206,1246,1245],[1206,1207,1247,1246],[1207,1208,1248,1247],[1208,1209,1249,1248],[1209,1210,1250,1249],[1210,1211,1251,1250],[1211,1212,1252,1251],[1212,1213,1253,1252],[1213,1214,1254,1253],[1214,1215,1255,1254],[1215,1216,1256,1255],[1216,1217,1257,1256],[1217,1218,1258,1257],[1218,1219,1259,1258],[1219,1220,1260,1259],[1220,1221,1261,1260],[1221,1222,1262,1261],[1222,1223,1263,1262],[1223,1224,1264,1263],[1224,1225,1265,1264],[1225,1226,1266,1265],[1226,1227,1267,1266],[1227,1228,1268,1267],[1228,1229,1269,1268],[1229,1230,1270,1269],[1230,1231,1271,1270],[1231,1232,1272,1271],[1232,1233,1273,1272],[1233,1234,1274,1273],[1234,1235,1275,1274],[1235,1236,1276,1275],[1236,1237,1277,1276],[1237,1238,1278,1277],[1238,1239,1279,1278],[1241,1240,1280,1281],[1240,1242,1282,1280],[1242,1243,1283,1282],[1243,1244,1284,1283],[1244,1245,1285,1284],[1245,1246,1286,1285],[1246,1247,1287,1286],[1247,1248,1288,1287],[1248,1249,1289,1288],[1249,1250,1290,1289],[1250,1251,1291,1290],[1251,1252,1292,1291],[1252,1253,1293,1292],[1253,1254,1294,1293],[1254,1255,1295,1294],[1255,1256,1296,1295],[1256,1257,1297,1296],[1257,1258,1298,1297],[1258,1259,1299,1298],[1259,1260,1300,1299],[1260,1261,1301,1300],[1261,1262,1302,1301],[1262,1263,1303,1302],[1263,1264,1304,1303],[1264,1265,1305,1304],[1265,1266,1306,1305],[1266,1267,1307,1306],[1267,1268,1308,1307],[1268,1269,1309,1308],[1269,1270,1310,1309],[1270,1271,1311,1310],[1271,1272,1312,1311],[1272,1273,1313,1312],[1273,1274,1314,1313],[1274,1275,1315,1314],[1275,1276,1316,1315],[1276,1277,1317,1316],[1277,1278,1318,1317],[1278,1279,1319,1318],[1281,1280,1320,1321],[1280,1282,1322,1320],[1282,1283,1323,1322],[1283,1284,1324,1323],[1284,1285,1325,1324],[1285,1286,1326,1325],[1286,1287,1327,1326],[1287,1288,1328,1327],[1288,1289,1329,1328],[1289,1290,1330,1329],[1290,1291,1331,1330],[1291,1292,1332,1331],[1292,1293,1333,1332],[1293,1294,1334,1333],[1294,1295,1335,1334],[1295,1296,1336,1335],[1296,1297,1337,1336],[1297,1298,1338,1337],[1298,1299,1339,1338],[1299,1300,1340,1339],[1300,1301,1341,1340],[1301,1302,1342,1341],[1302,1303,1343,1342],[1303,1304,1344,1343],[1304,1305,1345,1344],[1305,1306,1346,1345],[1306,1307,1347,1346],[1307,1308,1348,1347],[1308,1309,1349,1348],[1309,1310,1350,1349],[1310,1311,1351,1350],[1311,1312,1352,1351],[1312,1313,1353,1352],[1313,1314,1354,1353],[1314,1315,1355,1354],[1315,1316,1356,1355],[1316,1317,1357,1356],[1317,1318,1358,1357],[1318,1319,1359,1358],[1321,1320,1360,1361],[1320,1322,1362,1360],[1322,1323,1363,1362],[1323,1324,1364,1363],[1324,1325,1365,1364],[1325,1326,1366,1365],[1326,1327,1367,1366],[1327,1328,1368,1367],[1328,1329,1369,1368],[1329,1330,1370,1369],[1330,1331,1371,1370],[1331,1332,1372,1371],[1332,1333,1373,1372],[1333,1334,1374,1373],[1334,1335,1375,1374],[1335,1336,1376,1375],[1336,1337,1377,1376],[1337,1338,1378,1377],[1338,1339,1379,1378],[1339,1340,1380,1379],[1340,1341,1381,1380],[1341,1342,1382,1381],[1342,1343,1383,1382],[1343,1344,1384,1383],[1344,1345,1385,1384],[1345,1346,1386,1385],[1346,1347,1387,1386],[1347,1348,1388,1387],[1348,1349,1389,1388],[1349,1350,1390,1389],[1350,1351,1391,1390],[1351,1352,1392,1391],[1352,1353,1393,1392],[1353,1354,1394,1393],[1354,1355,1395,1394],[1355,1356,1396,1395],[1356,1357,1397,1396],[1357,1358,1398,1397],[1358,1359,1399,1398],[1361,1360,1400,1401],[1360,1362,1402,1400],[1362,1363,1403,1402],[1363,1364,1404,1403],[1364,1365,1405,1404],[1365,1366,1406,1405],[1366,1367,1407,1406],[1367,1368,1408,1407],[1368,1369,1409,1408],[1369,1370,1410,1409],[1370,1371,1411,1410],[1371,1372,1412,1411],[1372,1373,1413,1412],[1373,1374,1414,1413],[1374,1375,1415,1414],[1375,1376,1416,1415],[1376,1377,1417,1416],[1377,1378,1418,1417],[1378,1379,1419,1418],[1379,1380,1420,1419],[1380,1381,1421,1420],[1381,1382,1422,1421],[1382,1383,1423,1422],[1383,1384,1424,1423],[1384,1385,1425,1424],[1385,1386,1426,1425],[1386,1387,1427,1426],[1387,1388,1428,1427],[1388,1389,1429,1428],[1389,1390,1430,1429],[1390,1391,1431,1430],[1391,1392,1432,1431],[1392,1393,1433,1432],[1393,1394,1434,1433],[1394,1395,1435,1434],[1395,1396,1436,1435],[1396,1397,1437,1436],[1397,1398,1438,1437],[1398,1399,1439,1438],[1401,1400,1440,1441],[1400,1402,1442,1440],[1402,1403,1443,1442],[1403,1404,1444,1443],[1404,1405,1445,1444],[1405,1406,1446,1445],[1406,1407,1447,1446],[1407,1408,1448,1447],[1408,1409,1449,1448],[1409,1410,1450,1449],[1410,1411,1451,1450],[1411,1412,1452,1451],[1412,1413,1453,1452],[1413,1414,1454,1453],[1414,1415,1455,1454],[1415,1416,1456,1455],[1416,1417,1457,1456],[1417,1418,1458,1457],[1418,1419,1459,1458],[1419,1420,1460,1459],[1420,1421,1461,1460],[1421,1422,1462,1461],[1422,1423,1463,1462],[1423,1424,1464,1463],[1424,1425,1465,1464],[1425,1426,1466,1465],[1426,1427,1467,1466],[1427,1428,1468,1467],[1428,1429,1469,1468],[1429,1430,1470,1469],[1430,1431,1471,1470],[1431,1432,1472,1471],[1432,1433,1473,1472],[1433,1434,1474,1473],[1434,1435,1475,1474],[1435,1436,1476,1475],[1436,1437,1477,1476],[1437,1438,1478,1477],[1438,1439,1479,1478],[1441,1440,1480,1481],[1440,1442,1482,1480],[1442,1443,1483,1482],[1443,1444,1484,1483],[1444,1445,1485,1484],[1445,1446,1486,1485],[1446,1447,1487,1486],[1447,1448,1488,1487],[1448,1449,1489,1488],[1449,1450,1490,1489],[1450,1451,1491,1490],[1451,1452,1492,1491],[1452,1453,1493,1492],[1453,1454,1494,1493],[1454,1455,1495,1494],[1455,1456,1496,1495],[1456,1457,1497,1496],[1457,1458,1498,1497],[1458,1459,1499,1498],[1459,1460,1500,1499],[1460,1461,1501,1500],[1461,1462,1502,1501],[1462,1463,1503,1502],[1463,1464,1504,1503],[1464,1465,1505,1504],[1465,1466,1506,1505],[1466,1467,1507,1506],[1467,1468,1508,1507],[1468,1469,1509,1508],[1469,1470,1510,1509],[1470,1471,1511,1510],[1471,1472,1512,1511],[1472,1473,1513,1512],[1473,1474,1514,1513],[1474,1475,1515,1514],[1475,1476,1516,1515],[1476,1477,1517,1516],[1477,1478,1518,1517],[1478,1479,1519,1518],[1481,1480,1520,1521],[1480,1482,1522,1520],[1482,1483,1523,1522],[1483,1484,1524,1523],[1484,1485,1525,1524],[1485,1486,1526,1525],[1486,1487,1527,1526],[1487,1488,1528,1527],[1488,1489,1529,1528],[1489,1490,1530,1529],[1490,1491,1531,1530],[1491,1492,1532,1531],[1492,1493,1533,1532],[1493,1494,1534,1533],[1494,1495,1535,1534],[1495,1496,1536,1535],[1496,1497,1537,1536],[1497,1498,1538,1537],[1498,1499,1539,1538],[1499,1500,1540,1539],[1500,1501,1541,1540],[1501,1502,1542,1541],[1502,1503,1543,1542],[1503,1504,1544,1543],[1504,1505,1545,1544],[1505,1506,1546,1545],[1506,1507,1547,1546],[1507,1508,1548,1547],[1508,1509,1549,1548],[1509,1510,1550,1549],[1510,1511,1551,1550],[1511,1512,1552,1551],[1512,1513,1553,1552],[1513,1514,1554,1553],[1514,1515,1555,1554],[1515,1516,1556,1555],[1516,1517,1557,1556],[1517,1518,1558,1557],[1518,1519,1559,1558],[1521,1520,1560,1561],[1520,1522,1562,1560],[1522,1523,1563,1562],[1523,1524,1564,1563],[1524,1525,1565,1564],[1525,1526,1566,1565],[1526,1527,1567,1566],[1527,1528,1568,1567],[1528,1529,1569,1568],[1529,1530,1570,1569],[1530,1531,1571,1570],[1531,1532,1572,1571],[1532,1533,1573,1572],[1533,1534,1574,1573],[1534,1535,1575,1574],[1535,1536,1576,1575],[1536,1537,1577,1576],[1537,1538,1578,1577],[1538,1539,1579,1578],[1539,1540,1580,1579],[1540,1541,1581,1580],[1541,1542,1582,1581],[1542,1543,1583,1582],[1543,1544,1584,1583],[1544,1545,1585,1584],[1545,1546,1586,1585],[1546,1547,1587,1586],[1547,1548,1588,1587],[1548,1549,1589,1588],[1549,1550,1590,1589],[1550,1551,1591,1590],[1551,1552,1592,1591],[1552,1553,1593,1592],[1553,1554,1594,1593],[1554,1555,1595,1594],[1555,1556,1596,1595],[1556,1557,1597,1596],[1557,1558,1598,1597],[1558,1559,1599,1598]], &quot;color&quot;:&quot;#6666ff&quot;, &quot;opacity&quot;:1.0}];\n",
       "    for ( var i=0 ; i < surfaces.length ; i++ ) addSurface( surfaces[i] );\n",
       "\n",
       "    function addSurface( json ) {\n",
       "\n",
       "        var useFaceColors = 'faceColors' in json ? true : false;\n",
       "\n",
       "        var geometry = new THREE.Geometry();\n",
       "        for ( var i=0 ; i < json.vertices.length ; i++ ) {\n",
       "            var v = json.vertices[i];\n",
       "            geometry.vertices.push( new THREE.Vector3( a[0]*v.x, a[1]*v.y, a[2]*v.z ) );\n",
       "        }\n",
       "        for ( var i=0 ; i < json.faces.length ; i++ ) {\n",
       "            var f = json.faces[i];\n",
       "            for ( var j=0 ; j < f.length - 2 ; j++ ) {\n",
       "                var face = new THREE.Face3( f[0], f[j+1], f[j+2] );\n",
       "                if ( useFaceColors ) face.color.set( json.faceColors[i] );\n",
       "                geometry.faces.push( face );\n",
       "            }\n",
       "        }\n",
       "        geometry.computeVertexNormals();\n",
       "\n",
       "        var side = json.singleSide ? THREE.FrontSide : THREE.DoubleSide;\n",
       "        var transparent = json.opacity < 1 ? true : false;\n",
       "\n",
       "        var material = new THREE.MeshPhongMaterial( { side: side,\n",
       "                                     color: useFaceColors ? 'white' : json.color,\n",
       "                                     vertexColors: useFaceColors ? THREE.FaceColors : THREE.NoColors,\n",
       "                                     transparent: transparent, opacity: json.opacity,\n",
       "                                     shininess: 20, flatShading: json.useFlatShading } );\n",
       "\n",
       "        var c = new THREE.Vector3();\n",
       "        geometry.computeBoundingBox();\n",
       "        geometry.boundingBox.getCenter( c );\n",
       "        geometry.translate( -c.x, -c.y, -c.z );\n",
       "\n",
       "        var mesh = new THREE.Mesh( geometry, material );\n",
       "        mesh.position.set( c.x, c.y, c.z );\n",
       "        if ( transparent && json.renderOrder ) mesh.renderOrder = json.renderOrder;\n",
       "        scene.add( mesh );\n",
       "\n",
       "        if ( json.showMeshGrid ) {\n",
       "\n",
       "            var geometry = new THREE.Geometry();\n",
       "\n",
       "            for ( var i=0 ; i < json.faces.length ; i++ ) {\n",
       "                var f = json.faces[i];\n",
       "                for ( var j=0 ; j < f.length ; j++ ) {\n",
       "                    var k = j === f.length-1 ? 0 : j+1;\n",
       "                    var v1 = json.vertices[f[j]];\n",
       "                    var v2 = json.vertices[f[k]];\n",
       "                    // vertices in opposite directions on neighboring faces\n",
       "                    var nudge = f[j] < f[k] ? .0005*zRange : -.0005*zRange;\n",
       "                    geometry.vertices.push( new THREE.Vector3( a[0]*v1.x, a[1]*v1.y, a[2]*(v1.z+nudge) ) );\n",
       "                    geometry.vertices.push( new THREE.Vector3( a[0]*v2.x, a[1]*v2.y, a[2]*(v2.z+nudge) ) );\n",
       "                }\n",
       "            }\n",
       "\n",
       "            var material = new THREE.LineBasicMaterial( { color: 'black', linewidth: 1 } );\n",
       "\n",
       "            var c = new THREE.Vector3();\n",
       "            geometry.computeBoundingBox();\n",
       "            geometry.boundingBox.getCenter( c );\n",
       "            geometry.translate( -c.x, -c.y, -c.z );\n",
       "\n",
       "            var mesh = new THREE.LineSegments( geometry, material );\n",
       "            mesh.position.set( c.x, c.y, c.z );\n",
       "            scene.add( mesh );\n",
       "\n",
       "        }\n",
       "\n",
       "    }\n",
       "\n",
       "    var scratch = new THREE.Vector3();\n",
       "\n",
       "    function render() {\n",
       "\n",
       "        if ( animate ) requestAnimationFrame( render );\n",
       "        renderer.render( scene, camera );\n",
       "\n",
       "        // Resize text based on distance from camera.\n",
       "        // Not neccessary for orthographic due to the nature of the projection (preserves sizes).\n",
       "        if ( !camera.isOrthographicCamera ) {\n",
       "            for ( var i=0 ; i < scene.children.length ; i++ ) {\n",
       "                if ( scene.children[i].type === 'Sprite' ) {\n",
       "                    var sprite = scene.children[i];\n",
       "                    var adjust = scratch.addVectors( sprite.position, scene.position )\n",
       "                                    .sub( camera.position ).length() / 5;\n",
       "                    sprite.scale.set( adjust, .25*adjust ); // ratio of canvas width to height\n",
       "                }\n",
       "            }\n",
       "        }\n",
       "    }\n",
       "    \n",
       "    render();\n",
       "    controls.update();\n",
       "    if ( !animate ) render();\n",
       "\n",
       "\n",
       "    // menu functions\n",
       "\n",
       "    function toggleMenu() {\n",
       "\n",
       "        var m = document.getElementById( 'menu-content' );\n",
       "        if ( m.style.display === 'block' ) m.style.display = 'none'\n",
       "        else m.style.display = 'block';\n",
       "\n",
       "    }\n",
       "\n",
       "\n",
       "    function saveAsPNG() {\n",
       "\n",
       "        var a = document.body.appendChild( document.createElement( 'a' ) );\n",
       "        a.href = renderer.domElement.toDataURL( 'image/png' );\n",
       "        a.download = 'screenshot';\n",
       "        a.click();\n",
       "\n",
       "    }\n",
       "\n",
       "    function saveAsHTML() {\n",
       "\n",
       "        toggleMenu(); // otherwise visible in output\n",
       "        event.stopPropagation();\n",
       "\n",
       "        var blob = new Blob( [ '<!DOCTYPE html>\\n' + document.documentElement.outerHTML ] );\n",
       "        var a = document.body.appendChild( document.createElement( 'a' ) );\n",
       "        a.href = window.URL.createObjectURL( blob );\n",
       "        a.download = 'graphic.html';\n",
       "        a.click();\n",
       "\n",
       "    }\n",
       "\n",
       "    function getViewpoint() {\n",
       "\n",
       "        var info = '<pre>' + JSON.stringify( camera, null, '\\t' ) + '</pre>';\n",
       "        window.open().document.write( info );\n",
       "\n",
       "    }\n",
       "\n",
       "</script>\n",
       "\n",
       "<div id=&quot;menu-container&quot; onclick=&quot;toggleMenu()&quot;>&#x24d8;\n",
       "<div id=&quot;menu-content&quot;>\n",
       "<div onclick=&quot;saveAsPNG()&quot;>Save as PNG</div>\n",
       "<div onclick=&quot;saveAsHTML()&quot;>Save as HTML</div>\n",
       "<div onclick=&quot;getViewpoint()&quot;>Camera Info</div>\n",
       "<div>Close Menu</div>\n",
       "</div></div>\n",
       "\n",
       "</body>\n",
       "</html>\n",
       "\"\n",
       "        width=\"100%\"\n",
       "        height=\"400\"\n",
       "        style=\"border: 0;\">\n",
       "</iframe>\n"
      ],
      "text/plain": [
       "Graphics3d Object"
      ]
     },
     "metadata": {},
     "output_type": "display_data"
    }
   ],
   "source": [
    "from sage.plot.plot3d.shapes2 import Line\n",
    "def to_float(v): # Temp fix to convert to float from Sage type (see https://trac.sagemath.org/ticket/28949) for Sage 9\n",
    "    vv = [None] * len(v)\n",
    "    for i in range(0, len(v)):\n",
    "        vv[i] = float(v[i])\n",
    "    return vv    \n",
    "twosq = 1/1.4142\n",
    "Pn = (0.5, 0.5, twosq)\n",
    "Ps = (0.5, 0.5, -twosq)\n",
    "Sn = sphere(center=(0, 0, 0),size=1, color='green', aspect_ratio=[1,1,1], opacity=5/10)\n",
    "Fn = plot3d(lambda x, y: 0, (-2,2), (-2,2))\n",
    "on = point(On, rgbcolor=(1,0,0), size=20)\n",
    "os = point(Os, rgbcolor=(0,0,0), size=20)\n",
    "pn = point(Pn, rgbcolor=(1,0,0), size=20)\n",
    "tpn = text3d('  (%.2f,%.2f,%.2f)'%(Pn[0], Pn[1], Pn[2]), (Pn[0], Pn[1], Pn[2]+0.2), horizontal_alignment='left',color='red', fonsize='x-small')\n",
    "ps = point(Ps, rgbcolor=(0,0,0), size=20)\n",
    "tps = text3d('  (%.2f,%.2f,%.2f)'%(Ps[0], Ps[1], Ps[2]), (Ps[0], Ps[1], Ps[2]-0.2), horizontal_alignment='left',color='black', fonsize='x-small')\n",
    "Bn = (Cn[0].substitute({x:Pn[0], z:Pn[2]}).rhs(), Cn[1].substitute({y:Pn[1], z:Pn[2]}).rhs(), 0)\n",
    "bn = point(Bn, rgbcolor=(0,0,0), size=20)\n",
    "tbn = text3d('  (%.2f,%.2f)'%(Bn[0], Bn[1]), (Bn[0], Bn[1]+0.6, 0.2), horizontal_alignment='left',color='red', fonsize='x-small')\n",
    "Bs = (Cs[0].substitute({x:Ps[0], z:Ps[2]}).rhs(), Cs[1].substitute({y:Ps[1], z:Ps[2]}).rhs(), 0)\n",
    "bs = point(Bs, rgbcolor=(0,0,0), size=20)\n",
    "#Ln = Line([On, Pn, Bn], color='red')\n",
    "#Ls = Line([Os, Ps, Bs], color='black')\n",
    "Ln = Line([to_float(On), to_float(Pn), to_float(Bn)], color='red')\n",
    "Ls = Line([to_float(Os), to_float(Ps), to_float(Bs)], color='black')\n",
    "show(Sn+Fn+on+pn+tpn+bn+tbn+os+ps+tps+bs+Ln+Ls, figsize=8)"
   ]
  },
  {
   "cell_type": "code",
   "execution_count": 9,
   "metadata": {},
   "outputs": [],
   "source": [
    "var('x', 'y', 'z', 'u', 'v', 'l')\n",
    "assume(x, 'real', y, 'real', z, 'real', u, 'real', v, 'real', l, 'real')\n",
    "o_n = vector(SR, On)\n",
    "uv = vector(SR, (u, v, 0))\n",
    "d = (o_n - uv).normalized()"
   ]
  },
  {
   "cell_type": "markdown",
   "metadata": {},
   "source": [
    "## Chart Inverses\n",
    "The above charts are bijective and continuous within the domain $S^2 - (0, 0, 1), S^2 - (0, 0, -1)$ and codomain $(u, v) \\in R^2$, \n",
    "however to be valid charts they must also be bicontinuous, ie the inverse must be continuous too, that is they must be \n",
    "homeomorphic to $R^2$.\n",
    "\n",
    "To find the inverse first find the unit vector in the direction of the line \n",
    "joining the pole to the projected coordinates, for example \n",
    "$\\vec{d} = \\frac{((0, 0, 1) - (u, v, 0))}{|(0, 0, 1) - (u, v, 0))|}$:"
   ]
  },
  {
   "cell_type": "code",
   "execution_count": 10,
   "metadata": {},
   "outputs": [
    {
     "data": {
      "text/html": [
       "<html><script type=\"math/tex; mode=display\">\\newcommand{\\Bold}[1]{\\mathbf{#1}}\\left(-\\frac{u}{\\sqrt{u^{2} + v^{2} + 1}},\\,-\\frac{v}{\\sqrt{u^{2} + v^{2} + 1}},\\,\\frac{1}{\\sqrt{u^{2} + v^{2} + 1}}\\right)</script></html>"
      ],
      "text/plain": [
       "(-u/sqrt(u^2 + v^2 + 1), -v/sqrt(u^2 + v^2 + 1), 1/sqrt(u^2 + v^2 + 1))"
      ]
     },
     "execution_count": 10,
     "metadata": {},
     "output_type": "execute_result"
    }
   ],
   "source": [
    "d"
   ]
  },
  {
   "cell_type": "markdown",
   "metadata": {},
   "source": [
    "Now express the line from the pole to the projection as a vector equation $(0, 0, 1) + l \\vec{d}$:"
   ]
  },
  {
   "cell_type": "code",
   "execution_count": 11,
   "metadata": {},
   "outputs": [
    {
     "data": {
      "text/html": [
       "<html><script type=\"math/tex; mode=display\">\\newcommand{\\Bold}[1]{\\mathbf{#1}}\\left(-\\frac{l u}{\\sqrt{u^{2} + v^{2} + 1}},\\,-\\frac{l v}{\\sqrt{u^{2} + v^{2} + 1}},\\,\\frac{l}{\\sqrt{u^{2} + v^{2} + 1}} + 1\\right)</script></html>"
      ],
      "text/plain": [
       "(-l*u/sqrt(u^2 + v^2 + 1), -l*v/sqrt(u^2 + v^2 + 1), l/sqrt(u^2 + v^2 + 1) + 1)"
      ]
     },
     "metadata": {},
     "output_type": "display_data"
    }
   ],
   "source": [
    "Ln = o_n + d*l\n",
    "pretty_print(Ln)"
   ]
  },
  {
   "cell_type": "markdown",
   "metadata": {},
   "source": [
    "The intersection of this line with the sphere occurs where  $|(0, 0, 1) + l\\vec{d} - (0, 0, 0)| = 1$, or more generally \n",
    "$|(0, 0, 1) + l\\vec{d} - \\vec{c}| = r$ where $\\vec{c}$ is the sphere centre and r is the radius. This can also be\n",
    "expressed as $[(0, 0, 1) + l\\vec{d} - (0, 0, 0)] \\bullet [(0, 0, 1) + l\\vec{d} - (0, 0, 0)] = r$:"
   ]
  },
  {
   "cell_type": "code",
   "execution_count": 12,
   "metadata": {},
   "outputs": [
    {
     "data": {
      "text/html": [
       "<html><script type=\"math/tex; mode=display\">\\newcommand{\\Bold}[1]{\\mathbf{#1}}\\frac{l^{2} u^{2}}{u^{2} + v^{2} + 1} + \\frac{l^{2} v^{2}}{u^{2} + v^{2} + 1} + {\\left(\\frac{l}{\\sqrt{u^{2} + v^{2} + 1}} + 1\\right)}^{2} = 1</script></html>"
      ],
      "text/plain": [
       "l^2*u^2/(u^2 + v^2 + 1) + l^2*v^2/(u^2 + v^2 + 1) + (l/sqrt(u^2 + v^2 + 1) + 1)^2 == 1"
      ]
     },
     "metadata": {},
     "output_type": "display_data"
    }
   ],
   "source": [
    "c_o = vector(SR, (0, 0, 0))\n",
    "eq4 = (Ln - c_o).dot_product(Ln - c_o) == 1\n",
    "pretty_print(eq4)"
   ]
  },
  {
   "cell_type": "markdown",
   "metadata": {},
   "source": [
    "This quadratic will have one solution for $l = 0$ at the pole. The other solution will be the required $(x, y, z)$ on the sphere\n",
    "manifold. Letting Sage do the PT:"
   ]
  },
  {
   "cell_type": "code",
   "execution_count": 13,
   "metadata": {},
   "outputs": [
    {
     "data": {
      "text/html": [
       "<html><script type=\"math/tex; mode=display\">\\newcommand{\\Bold}[1]{\\mathbf{#1}}\\left[l = -\\frac{2}{\\sqrt{u^{2} + v^{2} + 1}}, l = 0\\right]</script></html>"
      ],
      "text/plain": [
       "[l == -2/sqrt(u^2 + v^2 + 1), l == 0]"
      ]
     },
     "metadata": {},
     "output_type": "display_data"
    }
   ],
   "source": [
    "sols = solve(eq4, l)\n",
    "pretty_print(sols)"
   ]
  },
  {
   "cell_type": "markdown",
   "metadata": {},
   "source": [
    "and substituting the appropriate $l$ back into the line equation:"
   ]
  },
  {
   "cell_type": "code",
   "execution_count": 14,
   "metadata": {},
   "outputs": [
    {
     "data": {
      "text/html": [
       "<html><script type=\"math/tex; mode=display\">\\newcommand{\\Bold}[1]{\\mathbf{#1}}\\left(\\frac{2 \\, u}{u^{2} + v^{2} + 1},\\,\\frac{2 \\, v}{u^{2} + v^{2} + 1},\\,-\\frac{2}{u^{2} + v^{2} + 1} + 1\\right)</script></html>"
      ],
      "text/plain": [
       "(2*u/(u^2 + v^2 + 1), 2*v/(u^2 + v^2 + 1), -2/(u^2 + v^2 + 1) + 1)"
      ]
     },
     "metadata": {},
     "output_type": "display_data"
    }
   ],
   "source": [
    "solution = the_solution(sols, {u:1, v:1})\n",
    "In = (Ln - c_o).substitute(l=solution.rhs())\n",
    "pretty_print(In)\n",
    "cn_ix = In[0]\n",
    "cn_iy = In[1]\n",
    "cn_iz = In[2]"
   ]
  },
  {
   "cell_type": "markdown",
   "metadata": {},
   "source": [
    "See also the [Wikipeadia](https://en.wikipedia.org/wiki/Line%E2%80%93sphere_intersection) page on sphere-line intersection (note their notation\n",
    "swops $\\vec{d}$ and $l$ as used in the above)."
   ]
  },
  {
   "cell_type": "code",
   "execution_count": 15,
   "metadata": {},
   "outputs": [],
   "source": [
    "o_s = vector(SR, Os)\n",
    "d = (o_s - uv).normalized()\n",
    "Ls = o_s + d*l\n",
    "eq5 = (Ls - c_o).dot_product(Ls - c_o) == 1\n",
    "sols = solve(eq5, l)\n",
    "solution = the_solution(sols, {u:1, v:1})        \n",
    "Is = (Ls - c_o).substitute(l=solution.rhs())\n",
    "cs_ix = Is[0]\n",
    "cs_iy = Is[1]\n",
    "cs_iz = Is[2]"
   ]
  },
  {
   "cell_type": "markdown",
   "metadata": {},
   "source": [
    "Similarly the inverse for the south pole chart is given by (it could probably also be derived by symmetry):"
   ]
  },
  {
   "cell_type": "code",
   "execution_count": 16,
   "metadata": {},
   "outputs": [
    {
     "data": {
      "text/html": [
       "<html><script type=\"math/tex; mode=display\">\\newcommand{\\Bold}[1]{\\mathbf{#1}}\\left(\\frac{2 \\, u}{u^{2} + v^{2} + 1},\\,\\frac{2 \\, v}{u^{2} + v^{2} + 1},\\,\\frac{2}{u^{2} + v^{2} + 1} - 1\\right)</script></html>"
      ],
      "text/plain": [
       "(2*u/(u^2 + v^2 + 1), 2*v/(u^2 + v^2 + 1), 2/(u^2 + v^2 + 1) - 1)"
      ]
     },
     "metadata": {},
     "output_type": "display_data"
    }
   ],
   "source": [
    "pretty_print(Is)"
   ]
  },
  {
   "cell_type": "markdown",
   "metadata": {},
   "source": [
    "## Verifying the Charts "
   ]
  },
  {
   "cell_type": "markdown",
   "metadata": {},
   "source": [
    "The two charts described above are homeomorphic and are also differentiable with a differentiable inverse, therefore they are\n",
    "diffeomorphic too. Assume the charts are named $c_n$ and $c_s$, then to verify the two charts define a compatible atlas it is required \n",
    "that the intersection of their domain open sets be empty ie $S^2 - (0, 0, 1) \\cap S^2 - (0, 0, -1) = \\emptyset,$\n",
    "(definitely not the case) or\n",
    "\n",
    "$c_s \\circ c_n^{-1} : c_n(S^2 - (0, 0, 1) \\cap S^2 - (0, 0, -1)) \\rightarrow c_s(S^2 - (0, 0, 1) \\cap S^2 - (0, 0, -1))$ \n",
    "\n",
    "and the opposite ($c_n \\circ c_s^{-1}$) is diffeomorphic. After performing the composition we get:"
   ]
  },
  {
   "cell_type": "code",
   "execution_count": 17,
   "metadata": {},
   "outputs": [
    {
     "data": {
      "text/html": [
       "<html><script type=\"math/tex; mode=display\">\\newcommand{\\Bold}[1]{\\mathbf{#1}}\\verb|(| \\frac{u}{u^{2} + v^{2}} \\verb|,| \\frac{v}{u^{2} + v^{2}} \\verb|)|</script></html>"
      ],
      "text/plain": [
       "'(' u/(u^2 + v^2) ', ' v/(u^2 + v^2) ')'"
      ]
     },
     "metadata": {},
     "output_type": "display_data"
    }
   ],
   "source": [
    "# from IPython.display import display, Math, Latex\n",
    "uu = cs_0.substitute({x: cn_ix, z: cn_iz}).full_simplify()\n",
    "vv = cs_1.substitute({y: cn_iy, z: cn_iz}).full_simplify()\n",
    "# display(Math(r'(' + latex(uu) + r',' + latex(vv) + r')'))\n",
    "pretty_print(\"(\", uu, \", \", vv, \")\")"
   ]
  },
  {
   "cell_type": "markdown",
   "metadata": {},
   "source": [
    "which is homeomorphic and smooth over the specified domain."
   ]
  },
  {
   "cell_type": "markdown",
   "metadata": {},
   "source": [
    "## Smooth Functions between Manifolds\n",
    "A smooth map $F: M \\rightarrow N$ can be described  [Lee, 2012] as \n",
    "> if for every $p \\in M$, there exist smooth charts $(U, \\phi)$ containing $p$ and $(V, \\psi)$ containing $F(p)$ such that \n",
    "$F(U) \\subseteq V$ and the composite map $\\psi \\circ F \\circ \\phi^{-1}$ is smooth from $\\phi(U)$ to $\\psi(V)$.\n",
    "\n",
    "We will start by defining a manifold E on an ellipsoid to use as the destination manifold corresponding to N above for the map. \n",
    "U will then correspond to either $S^2 - (0, 0, 1)$ or  $S^2 - (0, 0, -1)$ depending on the source chart selection. \n",
    "N will similarly correspond to $E - (0, 0, 1)$ or  $E - (0, 0, -1)$.\n",
    "Because E uses $(0, 0, 1)$ and $(0, 0, -1)$ the a and b ellipse axes are arbitarily defined but $c = 1$ (the z semi-axis) to ensure that\n",
    "the poles are at $(0, 0, 1)$ and $(0, 0, -1)$.\n",
    "\n",
    "### The Ellipsoid as a Stereographical Manifold\n",
    "The chart map from the ellipsoid to $R^2$ can be derived similarly to the sphere,resulting in $u=-\\frac{x}{z-1}, v=-\\frac{y}{z-1}$ \n",
    "for the north chart and $u=\\frac{x}{z+1}, v=\\frac{y}{z+1}$, but with $z$ calculated for the ellipse. The inverse is a little more\n",
    "problematic however. As with the sphere start by describing the line from the pole to the projection in terms of a unit vector \n",
    "pointing in the direction of the line $L = (0, 0, 1) + l \\frac{(0, 0, 1) - (u, v, 0)}{|(0, 0, 1) - (u, v, 0)|}$:"
   ]
  },
  {
   "cell_type": "code",
   "execution_count": 18,
   "metadata": {},
   "outputs": [
    {
     "data": {
      "text/html": [
       "<html><script type=\"math/tex; mode=display\">\\newcommand{\\Bold}[1]{\\mathbf{#1}}\\left(-\\frac{l u}{\\sqrt{u^{2} + v^{2} + 1}},\\,-\\frac{l v}{\\sqrt{u^{2} + v^{2} + 1}},\\,\\frac{l}{\\sqrt{u^{2} + v^{2} + 1}} + 1\\right)</script></html>"
      ],
      "text/plain": [
       "(-l*u/sqrt(u^2 + v^2 + 1), -l*v/sqrt(u^2 + v^2 + 1), l/sqrt(u^2 + v^2 + 1) + 1)"
      ]
     },
     "metadata": {},
     "output_type": "display_data"
    }
   ],
   "source": [
    "en_0 = cn_0\n",
    "en_1 = cn_1\n",
    "es_0 = cs_0\n",
    "es_1 = cs_1\n",
    "var('x', 'y', 'z', 'u', 'v', 'l', 'a', 'b', 'c')\n",
    "assume(x, 'real', y, 'real', z, 'real', u, 'real', v, 'real', l, 'real', a, 'real', b, 'real', c, 'real')\n",
    "o_n = vector(SR, (0, 0, 1))\n",
    "uv = vector(SR, (u, v, 0))\n",
    "d = (o_n - uv).normalized()\n",
    "Ln = o_n + d*l - vector(SR, (0, 0, 0))\n",
    "pretty_print(Ln)"
   ]
  },
  {
   "cell_type": "markdown",
   "metadata": {},
   "source": [
    "Recall that a vector equation for an ellipsoid can be [defined](https://en.wikipedia.org/wiki/Ellipsoid#In_general_position)\n",
    "as $(\\mathbf{x}-\\mathbf{o})^{\\mathrm{T}} A(\\mathbf{x}-\\mathbf{o})=1$ where $0$ is the origin coordinates and A is a \n",
    "positive definite matrix which in the general case may include rotation, but in our case contains only the ellipsoid axes:"
   ]
  },
  {
   "cell_type": "code",
   "execution_count": 19,
   "metadata": {},
   "outputs": [
    {
     "data": {
      "text/html": [
       "<html><script type=\"math/tex; mode=display\">\\newcommand{\\Bold}[1]{\\mathbf{#1}}\\verb|A|\\phantom{\\verb!x!}\\verb|=| \\left(\\begin{array}{rrr}\n",
       "\\frac{1}{a^{2}} & 0 & 0 \\\\\n",
       "0 & \\frac{1}{b^{2}} & 0 \\\\\n",
       "0 & 0 & 1\n",
       "\\end{array}\\right)</script></html>"
      ],
      "text/plain": [
       "'A = ' [a^(-2)      0      0]\n",
       "[     0 b^(-2)      0]\n",
       "[     0      0      1]"
      ]
     },
     "metadata": {},
     "output_type": "display_data"
    }
   ],
   "source": [
    "A = matrix(SR, 3, 3, [1/a^2, 0, 0,  0, 1/b^2, 0,   0, 0, 1]) # c = 1 to make (0,0,1) possible\n",
    "pretty_print('A = ', A)"
   ]
  },
  {
   "cell_type": "markdown",
   "metadata": {},
   "source": [
    "The ellipsoid equation is then $L^\\intercal A L$ "
   ]
  },
  {
   "cell_type": "code",
   "execution_count": 20,
   "metadata": {},
   "outputs": [
    {
     "data": {
      "text/html": [
       "<html><script type=\"math/tex; mode=display\">\\newcommand{\\Bold}[1]{\\mathbf{#1}}{\\left(\\frac{l}{\\sqrt{u^{2} + v^{2} + 1}} + 1\\right)}^{2} + \\frac{l^{2} u^{2}}{{\\left(u^{2} + v^{2} + 1\\right)} a^{2}} + \\frac{l^{2} v^{2}}{{\\left(u^{2} + v^{2} + 1\\right)} b^{2}} = 1</script></html>"
      ],
      "text/plain": [
       "(l/sqrt(u^2 + v^2 + 1) + 1)^2 + l^2*u^2/((u^2 + v^2 + 1)*a^2) + l^2*v^2/((u^2 + v^2 + 1)*b^2) == 1"
      ]
     },
     "metadata": {},
     "output_type": "display_data"
    }
   ],
   "source": [
    "el = Ln.row()*A*Ln\n",
    "eq1 = el[0] == 1\n",
    "pretty_print(eq1)"
   ]
  },
  {
   "cell_type": "markdown",
   "metadata": {},
   "source": [
    "with two solutions again with one at 0 corresponding to the pole:"
   ]
  },
  {
   "cell_type": "code",
   "execution_count": 21,
   "metadata": {},
   "outputs": [
    {
     "data": {
      "text/html": [
       "<html><script type=\"math/tex; mode=display\">\\newcommand{\\Bold}[1]{\\mathbf{#1}}\\left[l = -\\frac{2 \\, \\sqrt{u^{2} + v^{2} + 1} a^{2} b^{2}}{a^{2} b^{2} + b^{2} u^{2} + a^{2} v^{2}}, l = 0\\right]</script></html>"
      ],
      "text/plain": [
       "[l == -2*sqrt(u^2 + v^2 + 1)*a^2*b^2/(a^2*b^2 + b^2*u^2 + a^2*v^2), l == 0]"
      ]
     },
     "metadata": {},
     "output_type": "display_data"
    }
   ],
   "source": [
    "sols = solve(eq1, l)\n",
    "pretty_print(sols)"
   ]
  },
  {
   "cell_type": "markdown",
   "metadata": {},
   "source": [
    "Substituting back into $L$:"
   ]
  },
  {
   "cell_type": "code",
   "execution_count": 22,
   "metadata": {},
   "outputs": [
    {
     "data": {
      "text/html": [
       "<html><script type=\"math/tex; mode=display\">\\newcommand{\\Bold}[1]{\\mathbf{#1}}\\left(\\frac{2 \\, a^{2} b^{2} u}{a^{2} b^{2} + b^{2} u^{2} + a^{2} v^{2}},\\,\\frac{2 \\, a^{2} b^{2} v}{a^{2} b^{2} + b^{2} u^{2} + a^{2} v^{2}},\\,-\\frac{2 \\, a^{2} b^{2}}{a^{2} b^{2} + b^{2} u^{2} + a^{2} v^{2}} + 1\\right)</script></html>"
      ],
      "text/plain": [
       "(2*a^2*b^2*u/(a^2*b^2 + b^2*u^2 + a^2*v^2), 2*a^2*b^2*v/(a^2*b^2 + b^2*u^2 + a^2*v^2), -2*a^2*b^2/(a^2*b^2 + b^2*u^2 + a^2*v^2) + 1)"
      ]
     },
     "metadata": {},
     "output_type": "display_data"
    }
   ],
   "source": [
    "solution = the_solution(sols, {u:1, v:1, a:1, b:1})        \n",
    "EIn = Ln.substitute(l=solution.rhs())\n",
    "en_ix = EIn[0]\n",
    "en_iy = EIn[1]\n",
    "en_iz = EIn[2]\n",
    "pretty_print(EIn)"
   ]
  },
  {
   "cell_type": "code",
   "execution_count": 23,
   "metadata": {},
   "outputs": [],
   "source": [
    "o_s = vector(SR, (0, 0, -1))\n",
    "d = (o_s - uv).normalized()\n",
    "Ls = o_s + d*l - vector(SR, (0, 0, 0))\n",
    "el = Ls.row()*A*Ls\n",
    "eq1 = el[0] == 1\n",
    "sols = solve(eq1, l)\n",
    "solution = the_solution(sols, {u:1, v:1, a:1, b:1})          \n",
    "EIs = Ls.substitute(l=solution.rhs())\n",
    "es_ix = EIs[0]\n",
    "es_iy = EIs[1]\n",
    "es_iz = EIs[2]"
   ]
  },
  {
   "cell_type": "markdown",
   "metadata": {},
   "source": [
    "Similarly for the south pole we get:"
   ]
  },
  {
   "cell_type": "code",
   "execution_count": 24,
   "metadata": {},
   "outputs": [
    {
     "data": {
      "text/html": [
       "<html><script type=\"math/tex; mode=display\">\\newcommand{\\Bold}[1]{\\mathbf{#1}}\\left(\\frac{2 \\, a^{2} b^{2} u}{a^{2} b^{2} + b^{2} u^{2} + a^{2} v^{2}},\\,\\frac{2 \\, a^{2} b^{2} v}{a^{2} b^{2} + b^{2} u^{2} + a^{2} v^{2}},\\,\\frac{2 \\, a^{2} b^{2}}{a^{2} b^{2} + b^{2} u^{2} + a^{2} v^{2}} - 1\\right)</script></html>"
      ],
      "text/plain": [
       "(2*a^2*b^2*u/(a^2*b^2 + b^2*u^2 + a^2*v^2), 2*a^2*b^2*v/(a^2*b^2 + b^2*u^2 + a^2*v^2), 2*a^2*b^2/(a^2*b^2 + b^2*u^2 + a^2*v^2) - 1)"
      ]
     },
     "metadata": {},
     "output_type": "display_data"
    }
   ],
   "source": [
    "pretty_print(EIs)"
   ]
  },
  {
   "cell_type": "markdown",
   "metadata": {},
   "source": [
    "## Defining the Inter-Manifold Function\n",
    "A linear transformation applied to a sphere results in an ellipse. In this case we use a linear transformation matrix:"
   ]
  },
  {
   "cell_type": "code",
   "execution_count": 25,
   "metadata": {},
   "outputs": [
    {
     "data": {
      "text/html": [
       "<html><script type=\"math/tex; mode=display\">\\newcommand{\\Bold}[1]{\\mathbf{#1}}\\verb|T|\\phantom{\\verb!x!}\\verb|=| \\left(\\begin{array}{rrr}\n",
       "a & 0 & 0 \\\\\n",
       "0 & b & 0 \\\\\n",
       "0 & 0 & 1\n",
       "\\end{array}\\right)</script></html>"
      ],
      "text/plain": [
       "'T = ' [a 0 0]\n",
       "[0 b 0]\n",
       "[0 0 1]"
      ]
     },
     "metadata": {},
     "output_type": "display_data"
    }
   ],
   "source": [
    "T = matrix(SR, 3, 3, [a, 0, 0,  0, b, 0,   0, 0, 1]) \n",
    "pretty_print('T = ',T)\n",
    "#v = vector(SR, (x, y, sqrt(1 - x^2 - y^2)))\n",
    "#ve = T*v\n",
    "#pretty_print(ve)\n",
    "#sqrt(1 - (a*x)^2/a^2 - (b*y)^2/b^2)"
   ]
  },
  {
   "cell_type": "markdown",
   "metadata": {},
   "source": [
    "Applied to:"
   ]
  },
  {
   "cell_type": "code",
   "execution_count": 26,
   "metadata": {},
   "outputs": [
    {
     "data": {
      "text/html": [
       "<html><script type=\"math/tex; mode=display\">\\newcommand{\\Bold}[1]{\\mathbf{#1}}\\left(x,\\,y,\\,\\sqrt{-x^{2} - y^{2} + 1}\\right)</script></html>"
      ],
      "text/plain": [
       "(x, y, sqrt(-x^2 - y^2 + 1))"
      ]
     },
     "metadata": {},
     "output_type": "display_data"
    }
   ],
   "source": [
    "ev = vector(SR, (x, y, sqrt(1 - x^2 - y^2)))\n",
    "pretty_print(ev)"
   ]
  },
  {
   "cell_type": "markdown",
   "metadata": {},
   "source": [
    "Resulting in $F: S \\rightarrow E$ where S is the sphere manifold and E is the ellipsoid one:"
   ]
  },
  {
   "cell_type": "code",
   "execution_count": 27,
   "metadata": {},
   "outputs": [
    {
     "data": {
      "text/html": [
       "<html><script type=\"math/tex; mode=display\">\\newcommand{\\Bold}[1]{\\mathbf{#1}}\\verb|F|\\phantom{\\verb!x!}\\verb|=| \\left(a x,\\,b y,\\,\\sqrt{-x^{2} - y^{2} + 1}\\right)</script></html>"
      ],
      "text/plain": [
       "'F = ' (a*x, b*y, sqrt(-x^2 - y^2 + 1))"
      ]
     },
     "metadata": {},
     "output_type": "display_data"
    }
   ],
   "source": [
    "F = T*ev\n",
    "pretty_print('F = ', F)\n",
    "Fx = F[0]\n",
    "Fy = F[1]\n",
    "Fz = F[2]"
   ]
  },
  {
   "cell_type": "markdown",
   "metadata": {},
   "source": [
    "Let the ellipse chart be $(V, e_n): V \\subset E$ (or $(V, e_s): V \\subset E$) and the sphere chart be\n",
    "$(U, s_n): U \\subset S$ (or $(U, s_s): U \\subset S$), then \n",
    "\n",
    "$e_n \\circ F \\circ s_n^{-1}[s_n(U)]$\n",
    "\n",
    "should be a smooth function from $R^2$ (the stereographic projection coordinates for the sphere) to $R^2$ \n",
    "(the stereographic projection coordinates for the ellipse) (its probably best to take Sage's word for it unless\n",
    "you **really** enjoy Algebra):"
   ]
  },
  {
   "cell_type": "code",
   "execution_count": 28,
   "metadata": {},
   "outputs": [
    {
     "data": {
      "text/html": [
       "<html><script type=\"math/tex; mode=display\">\\newcommand{\\Bold}[1]{\\mathbf{#1}}\\verb|(| \\frac{2 \\, a u}{u^{2} + v^{2} - {\\left(u^{2} + v^{2} + 1\\right)} \\sqrt{\\frac{u^{4} + v^{4} + 2 \\, {\\left(u^{2} - 1\\right)} v^{2} - 2 \\, u^{2} + 1}{u^{4} + v^{4} + 2 \\, {\\left(u^{2} + 1\\right)} v^{2} + 2 \\, u^{2} + 1}} + 1} \\verb|,| \\frac{2 \\, b v}{u^{2} + v^{2} - {\\left(u^{2} + v^{2} + 1\\right)} \\sqrt{\\frac{u^{4} + v^{4} + 2 \\, {\\left(u^{2} - 1\\right)} v^{2} - 2 \\, u^{2} + 1}{u^{4} + v^{4} + 2 \\, {\\left(u^{2} + 1\\right)} v^{2} + 2 \\, u^{2} + 1}} + 1} \\verb|)|</script></html>"
      ],
      "text/plain": [
       "'(' 2*a*u/(u^2 + v^2 - (u^2 + v^2 + 1)*sqrt((u^4 + v^4 + 2*(u^2 - 1)*v^2 - 2*u^2 + 1)/(u^4 + v^4 + 2*(u^2 + 1)*v^2 + 2*u^2 + 1)) + 1) ', ' 2*b*v/(u^2 + v^2 - (u^2 + v^2 + 1)*sqrt((u^4 + v^4 + 2*(u^2 - 1)*v^2 - 2*u^2 + 1)/(u^4 + v^4 + 2*(u^2 + 1)*v^2 + 2*u^2 + 1)) + 1) ')'"
      ]
     },
     "metadata": {},
     "output_type": "display_data"
    }
   ],
   "source": [
    "Ellips = F.substitute({x: cn_ix, y: cn_iy})\n",
    "# pretty_print(Ellips)\n",
    "f1 = en_0.substitute({x:Ellips[0], z:Ellips[2]}).full_simplify()\n",
    "f2 = en_1.substitute({y:Ellips[1], z:Ellips[2]}).full_simplify()\n",
    "pretty_print(\"(\", f1, \", \", f2, \")\")"
   ]
  },
  {
   "cell_type": "markdown",
   "metadata": {},
   "source": [
    "## Tangent Vectors and Spaces\n",
    "Confusingly there are three different approaches to defining tangent spaces on manifolds [Montgomery 2016]. These examples will cover the \n",
    "geometrically based curve approach and the more algebraic derivation approach.\n",
    "\n",
    "### Tangent Spaces defined as Equivalence class of Curves\n",
    "This approach starts with a curve with a domain on an interval of $R^1$ and the manifold $M$ as the co-domain i.e $\\lambda: I \\subset R^1 \\rightarrow M$. \n",
    "The simplest approach combines the co-domain of the curve with a chart map to define curves as being tangent at a point $p$ if [Isham 1999 page 73]:\n",
    "1. Values on the manifold correspond ie $\\lambda_{1}(t_0)=\\lambda_{2}(t_1) = p$\n",
    "2. The velocities at the point in a chart are the same ie $(c_n \\circ \\lambda_{1})^\\prime\\lvert_{t=t_0} = (c_n \\circ \\lambda_{2})^\\prime\\lvert_{t=t_1}$\n",
    "\n",
    "The curve used in the example is a spiral on $S^2$ (from [math.stackexchange](https://math.stackexchange.com/questions/140541/finding-parametric-curves-on-a-sphere))\n",
    "\n",
    "$\\lambda_1 = (x, y, z): (\\sqrt{1-t^{2}} \\cos (a \\pi t), \\sqrt{1-t^{2}} \\sin (a \\pi t), t)$\n",
    "\n",
    "To find the geometric tangent vector at a point we use the north pole chart to project a point from the manifold specified by the curve to the $R^2$ \n",
    "Euclidean space of the stereographic projection:"
   ]
  },
  {
   "cell_type": "code",
   "execution_count": 29,
   "metadata": {},
   "outputs": [
    {
     "data": {
      "text/html": [
       "<html><script type=\"math/tex; mode=display\">\\newcommand{\\Bold}[1]{\\mathbf{#1}}\\verb|As|\\phantom{\\verb!x!}\\verb|a|\\phantom{\\verb!x!}\\verb|reminder,|\\phantom{\\verb!x!}\\verb|the|\\phantom{\\verb!x!}\\verb|north|\\phantom{\\verb!x!}\\verb|chart:|\\phantom{\\verb!x!}\\verb|(| -\\frac{x}{z - 1} -\\frac{y}{z - 1} \\verb|)|</script></html>"
      ],
      "text/plain": [
       "'As a reminder, the north chart: (' -x/(z - 1) -y/(z - 1) ')'"
      ]
     },
     "metadata": {},
     "output_type": "display_data"
    },
    {
     "data": {
      "text/html": [
       "<html><script type=\"math/tex; mode=display\">\\newcommand{\\Bold}[1]{\\mathbf{#1}}(c_n \\circ \\lambda_1) =  \\left(-\\frac{\\sqrt{-t^{2} + 1} \\cos\\left(7 \\, \\pi t\\right)}{t - 1},\\,-\\frac{\\sqrt{-t^{2} + 1} \\sin\\left(7 \\, \\pi t\\right)}{t - 1}\\right)</script></html>"
      ],
      "text/plain": [
       "(c_n \\circ \\lambda_1) =  (-sqrt(-t^2 + 1)*cos(7*pi*t)/(t - 1), -sqrt(-t^2 + 1)*sin(7*pi*t)/(t - 1))"
      ]
     },
     "metadata": {},
     "output_type": "display_data"
    }
   ],
   "source": [
    "var('s', 't', 'p_4', 'a', 'pt')\n",
    "a = 3\n",
    "pt = 4/5\n",
    "p_4 = pi/a\n",
    "K_1 = (sqrt(1-t*t)*cos(7*pi*t), sqrt(1-t*t)*sin(7*pi*t), t)\n",
    "pretty_print('As a reminder, the north chart: (',cn_0, cn_1, ')')\n",
    "T1 = vector(SR, (cn_0.substitute({x:K_1[0], z:K_1[2]}), cn_1.substitute({y:K_1[1], z:K_1[2]})))\n",
    "pretty_print(LatexExpr(r\"(c_n \\circ \\lambda_1) = \"), T1)"
   ]
  },
  {
   "cell_type": "markdown",
   "metadata": {},
   "source": [
    "Next we differentiate the above to get the tangent vector:"
   ]
  },
  {
   "cell_type": "code",
   "execution_count": 30,
   "metadata": {},
   "outputs": [
    {
     "data": {
      "text/html": [
       "<html><script type=\"math/tex; mode=display\">\\newcommand{\\Bold}[1]{\\mathbf{#1}}\\left(\\frac{7 \\, \\pi \\sqrt{-t^{2} + 1} \\sin\\left(7 \\, \\pi t\\right)}{t - 1} + \\frac{t \\cos\\left(7 \\, \\pi t\\right)}{\\sqrt{-t^{2} + 1} {\\left(t - 1\\right)}} + \\frac{\\sqrt{-t^{2} + 1} \\cos\\left(7 \\, \\pi t\\right)}{{\\left(t - 1\\right)}^{2}},\\,-\\frac{7 \\, \\pi \\sqrt{-t^{2} + 1} \\cos\\left(7 \\, \\pi t\\right)}{t - 1} + \\frac{t \\sin\\left(7 \\, \\pi t\\right)}{\\sqrt{-t^{2} + 1} {\\left(t - 1\\right)}} + \\frac{\\sqrt{-t^{2} + 1} \\sin\\left(7 \\, \\pi t\\right)}{{\\left(t - 1\\right)}^{2}}\\right)</script></html>"
      ],
      "text/plain": [
       "(7*pi*sqrt(-t^2 + 1)*sin(7*pi*t)/(t - 1) + t*cos(7*pi*t)/(sqrt(-t^2 + 1)*(t - 1)) + sqrt(-t^2 + 1)*cos(7*pi*t)/(t - 1)^2, -7*pi*sqrt(-t^2 + 1)*cos(7*pi*t)/(t - 1) + t*sin(7*pi*t)/(sqrt(-t^2 + 1)*(t - 1)) + sqrt(-t^2 + 1)*sin(7*pi*t)/(t - 1)^2)"
      ]
     },
     "metadata": {},
     "output_type": "display_data"
    }
   ],
   "source": [
    "V = T1.diff(t)\n",
    "pretty_print(V)"
   ]
  },
  {
   "cell_type": "markdown",
   "metadata": {},
   "source": [
    "Next to find another tangent vector with the necessary properties (having the same value in the manifold at $t$ and equal velocity (derivitive) in the chart),\n",
    "we find the inverse of the tangent line in the chart which results in a circle in the manifold ($s$ is the parametric variable for the tangent line/circle):"
   ]
  },
  {
   "cell_type": "code",
   "execution_count": 31,
   "metadata": {},
   "outputs": [
    {
     "data": {
      "text/html": [
       "<html><script type=\"math/tex; mode=display\">\\newcommand{\\Bold}[1]{\\mathbf{#1}}\\lambda_2~=~ \\left(\\frac{3 \\, {\\left(63 \\, \\pi s \\sqrt{2 \\, \\sqrt{5} + 10} + 25 \\, s {\\left(\\sqrt{5} - 1\\right)} + 9 \\, \\sqrt{5} - 9\\right)}}{2 \\, {\\left({\\left(3969 \\, \\pi^{2} + 625\\right)} s^{2} + 450 \\, s + 90\\right)}},\\,\\frac{3 \\, {\\left(63 \\, \\pi s {\\left(\\sqrt{5} - 1\\right)} - {\\left(25 \\, s + 9\\right)} \\sqrt{2 \\, \\sqrt{5} + 10}\\right)}}{2 \\, {\\left({\\left(3969 \\, \\pi^{2} + 625\\right)} s^{2} + 450 \\, s + 90\\right)}},\\,\\frac{{\\left(3969 \\, \\pi^{2} + 625\\right)} s^{2} + 450 \\, s + 72}{{\\left(3969 \\, \\pi^{2} + 625\\right)} s^{2} + 450 \\, s + 90}\\right)</script></html>"
      ],
      "text/plain": [
       "\\lambda_2~=~ (3/2*(63*pi*s*sqrt(2*sqrt(5) + 10) + 25*s*(sqrt(5) - 1) + 9*sqrt(5) - 9)/((3969*pi^2 + 625)*s^2 + 450*s + 90), 3/2*(63*pi*s*(sqrt(5) - 1) - (25*s + 9)*sqrt(2*sqrt(5) + 10))/((3969*pi^2 + 625)*s^2 + 450*s + 90), ((3969*pi^2 + 625)*s^2 + 450*s + 72)/((3969*pi^2 + 625)*s^2 + 450*s + 90))"
      ]
     },
     "metadata": {},
     "output_type": "display_data"
    }
   ],
   "source": [
    "Tn = T1.substitute(t=pt) + V.substitute(t=pt)*s # Tangent line in projection\n",
    "Tm = vector(SR, (cn_ix.substitute(u=Tn[0], v=Tn[1]), cn_iy.substitute(u=Tn[0], v=Tn[1]), cn_iz.substitute(u=Tn[0], v=Tn[1]))).simplify_full()\n",
    "pretty_print(LatexExpr(\"\\\\lambda_2~=~\"),Tm)"
   ]
  },
  {
   "cell_type": "markdown",
   "metadata": {},
   "source": [
    "Plotting the results on the manifold:"
   ]
  },
  {
   "cell_type": "code",
   "execution_count": 32,
   "metadata": {},
   "outputs": [
    {
     "data": {
      "text/html": [
       "\n",
       "<iframe srcdoc=\"<!DOCTYPE html>\n",
       "<html>\n",
       "<head>\n",
       "<title></title>\n",
       "<meta charset=&quot;utf-8&quot;>\n",
       "<meta name=viewport content=&quot;width=device-width, user-scalable=no, minimum-scale=1.0, maximum-scale=1.0&quot;>\n",
       "<style>\n",
       "\n",
       "    body { margin: 0px; overflow: hidden; }\n",
       "\n",
       "    #menu-container { position: absolute; bottom: 30px; right: 40px; }\n",
       "\n",
       "    #menu-content { position: absolute; bottom: 0px; right: 0px;\n",
       "                    display: none; background-color: #F5F5F5; border-bottom: 1px solid black;\n",
       "                    border-right: 1px solid black; border-left: 1px solid black; }\n",
       "\n",
       "    #menu-content div { border-top: 1px solid black; padding: 10px; white-space: nowrap; }\n",
       "  \n",
       "</style>\n",
       "</head>\n",
       "\n",
       "<body>\n",
       "\n",
       "<script src=&quot;/nbextensions/threejs/build/three.min.js&quot;></script>\n",
       "<script src=&quot;/nbextensions/threejs/examples/js/controls/OrbitControls.js&quot;></script>\n",
       "<script>\n",
       "  if ( !window.THREE ) document.write(' \\\n",
       "<script src=&quot;https://cdn.jsdelivr.net/gh/mrdoob/three.js@r112/build/three.min.js&quot;><\\/script> \\\n",
       "<script src=&quot;https://cdn.jsdelivr.net/gh/mrdoob/three.js@r112/examples/js/controls/OrbitControls.js&quot;><\\/script> \\\n",
       "            ');\n",
       "</script>\n",
       "        \n",
       "<script>\n",
       "\n",
       "    var scene = new THREE.Scene();\n",
       "\n",
       "    var renderer = new THREE.WebGLRenderer( { antialias: true, preserveDrawingBuffer: true } );\n",
       "    renderer.setPixelRatio( window.devicePixelRatio );\n",
       "    renderer.setSize( window.innerWidth, window.innerHeight );\n",
       "    renderer.setClearColor( 0xffffff, 1 );\n",
       "    document.body.appendChild( renderer.domElement );\n",
       "\n",
       "    var options = {&quot;aspect_ratio&quot;: [1.0, 1.0, 1.0], &quot;axes&quot;: false, &quot;axes_labels&quot;: [&quot;x&quot;, &quot;y&quot;, &quot;z&quot;], &quot;decimals&quot;: 2, &quot;frame&quot;: true, &quot;projection&quot;: &quot;perspective&quot;};\n",
       "\n",
       "    // When animations are supported by the viewer, the value 'false'\n",
       "    // will be replaced with an option set in Python by the user\n",
       "    var animate = false; // options.animate;\n",
       "\n",
       "    var b = [{&quot;x&quot;:-1.0, &quot;y&quot;:-1.0, &quot;z&quot;:-1.0}, {&quot;x&quot;:1.0, &quot;y&quot;:1.0, &quot;z&quot;:1.0}]; // bounds\n",
       "\n",
       "    if ( b[0].x === b[1].x ) {\n",
       "        b[0].x -= 1;\n",
       "        b[1].x += 1;\n",
       "    }\n",
       "    if ( b[0].y === b[1].y ) {\n",
       "        b[0].y -= 1;\n",
       "        b[1].y += 1;\n",
       "    }\n",
       "    if ( b[0].z === b[1].z ) {\n",
       "        b[0].z -= 1;\n",
       "        b[1].z += 1;\n",
       "    }\n",
       "\n",
       "    var rRange = Math.sqrt( Math.pow( b[1].x - b[0].x, 2 )\n",
       "                            + Math.pow( b[1].y - b[0].y, 2 ) );\n",
       "    var xRange = b[1].x - b[0].x;\n",
       "    var yRange = b[1].y - b[0].y;\n",
       "    var zRange = b[1].z - b[0].z;\n",
       "\n",
       "    var ar = options.aspect_ratio;\n",
       "    var a = [ ar[0], ar[1], ar[2] ]; // aspect multipliers\n",
       "    var autoAspect = 2.5;\n",
       "    if ( zRange > autoAspect * rRange && a[2] === 1 ) a[2] = autoAspect * rRange / zRange;\n",
       "\n",
       "    // Distance from (xMid,yMid,zMid) to any corner of the bounding box, after applying aspect_ratio.\n",
       "    var midToCorner = Math.sqrt( a[0]*a[0]*xRange*xRange + a[1]*a[1]*yRange*yRange + a[2]*a[2]*zRange*zRange ) / 2;\n",
       "\n",
       "    var xMid = ( b[0].x + b[1].x ) / 2;\n",
       "    var yMid = ( b[0].y + b[1].y ) / 2;\n",
       "    var zMid = ( b[0].z + b[1].z ) / 2;\n",
       "\n",
       "    var box = new THREE.Geometry();\n",
       "    box.vertices.push( new THREE.Vector3( a[0]*b[0].x, a[1]*b[0].y, a[2]*b[0].z ) );\n",
       "    box.vertices.push( new THREE.Vector3( a[0]*b[1].x, a[1]*b[1].y, a[2]*b[1].z ) );\n",
       "    var boxMesh = new THREE.Line( box );\n",
       "    if ( options.frame ) scene.add( new THREE.BoxHelper( boxMesh, 'black' ) );\n",
       "\n",
       "    if ( options.axes_labels ) {\n",
       "\n",
       "        var d = options.decimals; // decimals\n",
       "        var offsetRatio = 0.1;\n",
       "        var al = options.axes_labels;\n",
       "\n",
       "        var offset = offsetRatio * a[1]*( b[1].y - b[0].y );\n",
       "        var xm = xMid.toFixed(d);\n",
       "        if ( /^-0.?0*$/.test(xm) ) xm = xm.substr(1);\n",
       "        addLabel( al[0] + '=' + xm, a[0]*xMid, a[1]*b[1].y+offset, a[2]*b[0].z );\n",
       "        addLabel( ( b[0].x ).toFixed(d), a[0]*b[0].x, a[1]*b[1].y+offset, a[2]*b[0].z );\n",
       "        addLabel( ( b[1].x ).toFixed(d), a[0]*b[1].x, a[1]*b[1].y+offset, a[2]*b[0].z );\n",
       "\n",
       "        var offset = offsetRatio * a[0]*( b[1].x - b[0].x );\n",
       "        var ym = yMid.toFixed(d);\n",
       "        if ( /^-0.?0*$/.test(ym) ) ym = ym.substr(1);\n",
       "        addLabel( al[1] + '=' + ym, a[0]*b[1].x+offset, a[1]*yMid, a[2]*b[0].z );\n",
       "        addLabel( ( b[0].y ).toFixed(d), a[0]*b[1].x+offset, a[1]*b[0].y, a[2]*b[0].z );\n",
       "        addLabel( ( b[1].y ).toFixed(d), a[0]*b[1].x+offset, a[1]*b[1].y, a[2]*b[0].z );\n",
       "\n",
       "        var offset = offsetRatio * a[1]*( b[1].y - b[0].y );\n",
       "        var zm = zMid.toFixed(d);\n",
       "        if ( /^-0.?0*$/.test(zm) ) zm = zm.substr(1);\n",
       "        addLabel( al[2] + '=' + zm, a[0]*b[1].x, a[1]*b[0].y-offset, a[2]*zMid );\n",
       "        addLabel( ( b[0].z ).toFixed(d), a[0]*b[1].x, a[1]*b[0].y-offset, a[2]*b[0].z );\n",
       "        addLabel( ( b[1].z ).toFixed(d), a[0]*b[1].x, a[1]*b[0].y-offset, a[2]*b[1].z );\n",
       "\n",
       "    }\n",
       "\n",
       "    function addLabel( text, x, y, z ) {\n",
       "\n",
       "        var fontsize = 14;\n",
       "\n",
       "        var canvas = document.createElement( 'canvas' );\n",
       "        var pixelRatio = Math.round( window.devicePixelRatio );\n",
       "        canvas.width = 128 * pixelRatio;\n",
       "        canvas.height = 32 * pixelRatio; // powers of two\n",
       "        canvas.style.width = '128px';\n",
       "        canvas.style.height = '32px';\n",
       "\n",
       "        var context = canvas.getContext( '2d' );\n",
       "        context.scale( pixelRatio, pixelRatio );\n",
       "        context.fillStyle = 'black';\n",
       "        context.font = fontsize + 'px monospace';\n",
       "        context.textAlign = 'center';\n",
       "        context.textBaseline = 'middle';\n",
       "        context.fillText( text, canvas.width/2/pixelRatio, canvas.height/2/pixelRatio );\n",
       "\n",
       "        var texture = new THREE.Texture( canvas );\n",
       "        texture.needsUpdate = true;\n",
       "\n",
       "        var sprite = new THREE.Sprite( new THREE.SpriteMaterial( { map: texture } ) );\n",
       "        sprite.position.set( x, y, z );\n",
       "\n",
       "        // Set the initial scale based on plot size to accomodate orthographic projection.\n",
       "        // For other projections, the scale will get reset each frame based on camera distance.\n",
       "        var scale = midToCorner/2;\n",
       "        sprite.scale.set( scale, scale*.25 ); // ratio of canvas width to height\n",
       "\n",
       "        scene.add( sprite );\n",
       "\n",
       "    }\n",
       "\n",
       "    if ( options.axes ) scene.add( new THREE.AxesHelper( Math.min( a[0]*b[1].x, a[1]*b[1].y, a[2]*b[1].z ) ) );\n",
       "\n",
       "    var camera = createCamera();\n",
       "    camera.up.set( 0, 0, 1 );\n",
       "    camera.position.set( a[0]*(xMid+xRange), a[1]*(yMid+yRange), a[2]*(zMid+zRange) );\n",
       "\n",
       "    function createCamera() {\n",
       "\n",
       "        var aspect = window.innerWidth / window.innerHeight;\n",
       "\n",
       "        if ( options.projection === 'orthographic' ) {\n",
       "            var camera = new THREE.OrthographicCamera( -1, 1, 1, -1, -1000, 1000 );\n",
       "            updateCameraAspect( camera, aspect );\n",
       "            return camera;\n",
       "        }\n",
       "\n",
       "        return new THREE.PerspectiveCamera( 45, aspect, 0.1, 1000 );\n",
       "\n",
       "    }\n",
       "\n",
       "    function updateCameraAspect( camera, aspect ) {\n",
       "\n",
       "        if ( camera.isPerspectiveCamera ) {\n",
       "            camera.aspect = aspect;\n",
       "        } else if ( camera.isOrthographicCamera ) {\n",
       "            // Fit the camera frustum to the bounding box's diagonal so that the entire plot fits\n",
       "            // within at the default zoom level and camera position.\n",
       "            if ( aspect > 1 ) { // Wide window\n",
       "                camera.top = midToCorner;\n",
       "                camera.right = midToCorner * aspect;\n",
       "            } else { // Tall or square window\n",
       "                camera.top = midToCorner / aspect;\n",
       "                camera.right = midToCorner;\n",
       "            }\n",
       "            camera.bottom = -camera.top;\n",
       "            camera.left = -camera.right;\n",
       "        }\n",
       "\n",
       "        camera.updateProjectionMatrix();\n",
       "\n",
       "    }\n",
       "\n",
       "    var lights = [{&quot;x&quot;:-5, &quot;y&quot;:3, &quot;z&quot;:0, &quot;color&quot;:&quot;#7f7f7f&quot;, &quot;parent&quot;:&quot;camera&quot;}];\n",
       "    for ( var i=0 ; i < lights.length ; i++ ) {\n",
       "        var light = new THREE.DirectionalLight( lights[i].color, 1 );\n",
       "        light.position.set( a[0]*lights[i].x, a[1]*lights[i].y, a[2]*lights[i].z );\n",
       "        if ( lights[i].parent === 'camera' ) {\n",
       "            light.target.position.set( a[0]*xMid, a[1]*yMid, a[2]*zMid );\n",
       "            scene.add( light.target );\n",
       "            camera.add( light );\n",
       "        } else scene.add( light );\n",
       "    }\n",
       "    scene.add( camera );\n",
       "\n",
       "    var ambient = {&quot;color&quot;:&quot;#7f7f7f&quot;};\n",
       "    scene.add( new THREE.AmbientLight( ambient.color, 1 ) );\n",
       "\n",
       "    var controls = new THREE.OrbitControls( camera, renderer.domElement );\n",
       "    controls.target.set( a[0]*xMid, a[1]*yMid, a[2]*zMid );\n",
       "    controls.addEventListener( 'change', function() { if ( !animate ) render(); } );\n",
       "\n",
       "    window.addEventListener( 'resize', function() {\n",
       "        \n",
       "        renderer.setSize( window.innerWidth, window.innerHeight );\n",
       "        updateCameraAspect( camera, window.innerWidth / window.innerHeight );\n",
       "        if ( !animate ) render();\n",
       "        \n",
       "    } );\n",
       "\n",
       "    var texts = [];\n",
       "    for ( var i=0 ; i < texts.length ; i++ )\n",
       "        addLabel( texts[i].text, a[0]*texts[i].x, a[1]*texts[i].y, a[2]*texts[i].z );\n",
       "\n",
       "    var points = [{&quot;point&quot;:[0.18541019662496847, -0.570633909777092, 0.8], &quot;size&quot;:20, &quot;color&quot;:&quot;blue&quot;, &quot;opacity&quot;:1.0}];\n",
       "    for ( var i=0 ; i < points.length ; i++ ) addPoint( points[i] );\n",
       "\n",
       "    function addPoint( json ) {\n",
       "\n",
       "        var geometry = new THREE.Geometry();\n",
       "        var v = json.point;\n",
       "        geometry.vertices.push( new THREE.Vector3( a[0]*v[0], a[1]*v[1], a[2]*v[2] ) );\n",
       "\n",
       "        var canvas = document.createElement( 'canvas' );\n",
       "        canvas.width = 128;\n",
       "        canvas.height = 128;\n",
       "\n",
       "        var context = canvas.getContext( '2d' );\n",
       "        context.arc( 64, 64, 64, 0, 2 * Math.PI );\n",
       "        context.fillStyle = json.color;\n",
       "        context.fill();\n",
       "\n",
       "        var texture = new THREE.Texture( canvas );\n",
       "        texture.needsUpdate = true;\n",
       "\n",
       "        var transparent = json.opacity < 1 ? true : false;\n",
       "        var size = camera.isOrthographicCamera ? json.size : json.size/100;\n",
       "        var material = new THREE.PointsMaterial( { size: size, map: texture,\n",
       "                                                   transparent: transparent, opacity: json.opacity,\n",
       "                                                   alphaTest: .1 } );\n",
       "\n",
       "        var c = new THREE.Vector3();\n",
       "        geometry.computeBoundingBox();\n",
       "        geometry.boundingBox.getCenter( c );\n",
       "        geometry.translate( -c.x, -c.y, -c.z );\n",
       "\n",
       "        var mesh = new THREE.Points( geometry, material );\n",
       "        mesh.position.set( c.x, c.y, c.z );\n",
       "        scene.add( mesh );\n",
       "\n",
       "    }\n",
       "\n",
       "    var lines = [{&quot;points&quot;:[[-0.0, -0.0, -1.0], [-0.19131863638300275, -0.12930882892008067, -0.972972972972973], [-0.12092642522604698, -0.3009369818258941, -0.945945945945946], [0.0831016950883793, -0.3855932166497785, -0.9189189189189191], [0.3265036782294199, -0.3129284283668725, -0.8918918918918921], [0.494783865233965, -0.08483921396627961, -0.8648648648648651], [0.49745711560276823, 0.22486479409500837, -0.8378378378378382], [0.306881415128463, 0.49840708875483186, -0.8108108108108112], [-0.026357421681585617, 0.6204742271842346, -0.7837837837837842], [-0.38870967024766645, 0.5255701697765434, -0.7567567567567572], [-0.6446789799044761, 0.22777957418938793, -0.7297297297297303], [-0.6885261199335815, -0.17927825797771355, -0.7027027027027033], [-0.4870487524432406, -0.553394880753067, -0.6756756756756763], [-0.0966717372992487, -0.7549235099093325, -0.6486486486486494], [0.3526525447944876, -0.6994445955059461, -0.6216216216216224], [0.7019257518573961, -0.39211925094072836, -0.5945945945945954], [0.8203607779451375, 0.06982299230685028, -0.5675675675675684], [0.6545754602024917, 0.5285327718626683, -0.5405405405405415], [0.2512658046533674, 0.820468992010607, -0.5135135135135145], [-0.25583577107290506, 0.8353914990623047, -0.48648648648648746], [-0.6910503781390531, 0.5579842112345941, -0.45945945945946043], [-0.8984180781665083, 0.07646664765874531, -0.4324324324324334], [-0.7980545035561667, -0.4458199935195802, -0.40540540540540637], [-0.416731553640386, -0.8265377274971893, -0.37837837837837934], [0.11891963095577499, -0.928660513469223, -0.3513513513513523], [0.6249625761797921, -0.7100954238877246, -0.3243243243243253], [0.9239768615982, -0.24058486288805206, -0.29729729729729826], [0.9077877838019538, 0.3207418285599364, -0.27027027027027123], [0.5767735599378112, 0.7798493349187213, -0.2432432432432442], [0.04143727802630321, 0.9754657860914, -0.21621621621621717], [-0.5148386376382355, 0.8361510795835538, -0.18918918918919014], [-0.8991675815807996, 0.4064493737195672, -0.16216216216216311], [-0.9765750303397186, -0.16745060575879145, -0.1351351351351361], [-0.717724813005626, -0.6878835146718699, -0.10810810810810906], [-0.20998561037359958, -0.9743366470202944, -0.08108108108108203], [0.3723113656791739, -0.9265324636656989, -0.054054054054055], [0.8282069973070676, -0.5597702291312848, -0.027027027027027972], [1.0, -2.075281756315136e-14, -9.43689570931383e-16], [0.8282069973070909, 0.5597702291312505, 0.027027027027026085], [0.3723113656792122, 0.9265324636656835, 0.05405405405405311], [-0.20998561037355912, 0.9743366470203032, 0.08108108108108014], [-0.7177248130055974, 0.6878835146719, 0.10810810810810717], [-0.976575030339712, 0.16745060575883183, 0.1351351351351342], [-0.8991675815808171, -0.40644937371952944, 0.16216216216216123], [-0.5148386376382705, -0.8361510795835326, 0.18918918918918826], [0.04143727802626337, -0.975465786091402, 0.21621621621621528], [0.5767735599377789, -0.7798493349187458, 0.2432432432432423], [0.9077877838019409, -0.32074182855997446, 0.27027027027026934], [0.9239768615982102, 0.24058486288801445, 0.29729729729729637], [0.624962576179821, 0.7100954238877002, 0.3243243243243234], [0.11891963095581301, 0.9286605134692187, 0.3513513513513504], [-0.41673155364035114, 0.8265377274972078, 0.37837837837837746], [-0.7980545035561484, 0.4458199935196146, 0.4054054054054045], [-0.8984180781665124, -0.07646664765870707, 0.4324324324324315], [-0.6910503781390767, -0.5579842112345664, 0.45945945945945854], [-0.2558357710729395, -0.8353914990622953, 0.48648648648648557], [0.2512658046533357, -0.820468992010618, 0.5135135135135126], [0.6545754602024728, -0.5285327718626935, 0.5405405405405397], [0.820360777945136, -0.06982299230688245, 0.5675675675675667], [0.7019257518574127, 0.39211925094070155, 0.5945945945945936], [0.3526525447945156, 0.6994445955059335, 0.6216216216216206], [-0.09667173729921805, 0.754923509909338, 0.6486486486486476], [-0.48704875244321905, 0.5533948807530881, 0.6756756756756745], [-0.6885261199335759, 0.17927825797774213, 0.7027027027027015], [-0.644678979904486, -0.22777957418936567, 0.7297297297297285], [-0.3887096702476864, -0.5255701697765311, 0.7567567567567555], [-0.02635742168160996, -0.6204742271842358, 0.7837837837837824], [0.30688141512844486, -0.498407088754846, 0.8108108108108094], [0.497457115602762, -0.22486479409502896, 0.8378378378378364], [0.49478386523397133, 0.08483921396626079, 0.8648648648648634], [0.3265036782294346, 0.31292842836686213, 0.8918918918918903], [0.08310169508839525, 0.3855932166497794, 0.9189189189189173], [-0.12092642522603608, 0.3009369818259041, 0.9459459459459443], [-0.1913186363830039, 0.12930882892009232, 0.9729729729729713], [-0.0, 0.0, 1.0]], &quot;color&quot;:&quot;red&quot;, &quot;opacity&quot;:1.0, &quot;linewidth&quot;:1},{&quot;points&quot;:[[-0.029389980835835373, -0.006989878701061783, 0.9995435811520245], [-0.030199979364642388, -0.007222580989508051, 0.9995177815177803], [-0.031055766294290525, -0.007470833329327229, 0.9994897328283266], [-0.0319613252499614, -0.0077362106833948445, 0.9994591661156189], [-0.03292111420451353, -0.008020503961896748, 0.9994257710083979], [-0.03394013798281404, -0.008325757737218924, 0.9993891878501632], [-0.035024034427981486, -0.008654316036770866, 0.999348998011367], [-0.03617917731579012, -0.009008878281684776, 0.9993047119076636], [-0.037412799922408244, -0.009392568060493982, 0.9992557540826046], [-0.03873314422081458, -0.00980901826398079, 0.9992014445042934], [-0.040149642090660874, -0.010262477246344878, 0.9991409749383517], [-0.041673136797841306, -0.010757942243475925, 0.9990733788606894], [-0.04331615550663014, -0.011301328454878426, 0.9989974928133105], [-0.04509324697517205, -0.011899685254960005, 0.9989119063100955], [-0.04702140320832938, -0.012561475354769938, 0.9988148962531702], [-0.049120590214751327, -0.013296939019948608, 0.9987043401476006], [-0.05141442189316854, -0.014118574651374727, 0.9985775999246151], [-0.053931023578941625, -0.015041780716800752, 0.998431364455562], [-0.05670414960236592, -0.016085724713963304, 0.9982614331317718], [-0.059774644906672406, -0.017274536720016595, 0.9980624139839102], [-0.06319237827538961, -0.018638975173021818, 0.9978272956440907], [-0.06701883010206783, -0.02021879298809345, 0.9975468293879014], [-0.07133060033737687, -0.022066164474654985, 0.997208619016546], [-0.07622422688136381, -0.024250757094478086, 0.9967957504005939], [-0.0818228934696697, -0.026867420880153807, 0.996284676083849], [-0.08828589106918755, -0.03004816653189882, 0.9956418578616464], [-0.09582211753462366, -0.03398140273748111, 0.9948182678555787], [-0.10470948000063111, -0.03894392006964707, 0.993740054484877], [-0.1153226995750909, -0.045356202707818996, 0.9922920385847307], [-0.1281720339277971, -0.05388247020956364, 0.9902871346851514], [-0.14395183185023042, -0.06562106024143695, 0.9874065761173321], [-0.16357813481494873, -0.08248777981652763, 0.9830757651327808], [-0.18810570445375577, -0.10803439379899293, 0.9761889231641795], [-0.21801809937777297, -0.14927843603093302, 0.964460500424907], [-0.24954783655167137, -0.22067124603841565, 0.9428839156779764], [-0.2575727859143854, -0.3488819939213468, 0.9010758093932871], [-0.141150814364624, -0.5370899879168481, 0.8316314042192511], [0.18541019662495706, -0.570633909777097, 0.799999999999999], [0.36929863836321664, -0.3451483825990517, 0.8628389824830197], [0.3479574790399118, -0.17012729387755735, 0.9219448446941327], [0.2886171021167613, -0.08546332210113988, 0.9536226659120262], [0.23816011124447445, -0.04489703659598193, 0.9701876197503855], [0.20006610295688848, -0.02398141867482981, 0.9794888697713651], [0.1714327812525677, -0.012387752262133211, 0.9851179346179326], [0.14949270853355331, -0.005576924631127655, 0.9887471001256898], [0.13228973226023627, -0.0013958618780033948, 0.9912101080538538], [0.11850476071021582, 0.0012543696399384603, 0.9929526918468075], [0.10724388341071214, 0.0029712027244917605, 0.9942283044780809], [0.09788956065244957, 0.004097099828307246, 0.9951888502632389], [0.0900054164155787, 0.0048372675027386226, 0.9959295285606132], [0.08327611698562834, 0.00531933405717524, 0.9965123145375495], [0.0774689895246398, 0.0056252164279871055, 0.9969788927565967], [0.07240905287699788, 0.005808917584436989, 0.997358102958989], [0.06796242763427823, 0.0059068607009079895, 0.9976703951840585], [0.06402507927912247, 0.005944096810942013, 0.9979305872336033], [0.0605150253232945, 0.005938146253331606, 0.9981496231172935], [0.05736683848657304, 0.0059014389980543485, 0.998335724523473], [0.05452770163846722, 0.005842901333103586, 0.9984951628616124], [0.05195453085786188, 0.005769009085662217, 0.9986327879944205], [0.04961184636254381, 0.0056844997906883915, 0.9987523973250972], [0.04747017544421624, 0.005592862309580578, 0.9988569979403865], [0.04550483945207437, 0.005496678515888132, 0.9989489957509011], [0.04369502181638449, 0.005397864984809299, 0.9990303339348968], [0.042023044344577785, 0.005297846051006869, 0.9991025956183046], [0.04047379968270387, 0.005197679101782242, 0.9991670809585348], [0.039034302154242716, 0.005098146202624549, 0.9992248656636943], [0.03769332924697057, 0.004999821713381773, 0.9992768458806167], [0.036441133174069704, 0.004903122598416119, 0.9993237729593821], [0.035269207086390836, 0.004808346139202052, 0.9993662806193248], [0.03417009426170627, 0.0047156983933782405, 0.9994049063551813], [0.033137231353973395, 0.004625315799682877, 0.9994401084366918], [0.032164818833350324, 0.004537281666893769, 0.9994722795077876], [0.03124771328259083, 0.004451638817032832, 0.9995017575404516], [0.030381337375957395, 0.004368399318839987, 0.9995288347149568], [0.029561604251462186, 0.00428755200652659, 0.9995537646629477]], &quot;color&quot;:&quot;blue&quot;, &quot;opacity&quot;:1.0, &quot;linewidth&quot;:1}];\n",
       "    for ( var i=0 ; i < lines.length ; i++ ) addLine( lines[i] );\n",
       "\n",
       "    function addLine( json ) {\n",
       "\n",
       "        var geometry = new THREE.Geometry();\n",
       "        for ( var i=0 ; i < json.points.length ; i++ ) {\n",
       "            var v = json.points[i];\n",
       "            geometry.vertices.push( new THREE.Vector3( a[0]*v[0], a[1]*v[1], a[2]*v[2] ) );\n",
       "        }\n",
       "\n",
       "        var transparent = json.opacity < 1 ? true : false;\n",
       "        var material = new THREE.LineBasicMaterial( { color: json.color, linewidth: json.linewidth,\n",
       "                                                      transparent: transparent, opacity: json.opacity } );\n",
       "\n",
       "        var c = new THREE.Vector3();\n",
       "        geometry.computeBoundingBox();\n",
       "        geometry.boundingBox.getCenter( c );\n",
       "        geometry.translate( -c.x, -c.y, -c.z );\n",
       "\n",
       "        var mesh = new THREE.Line( geometry, material );\n",
       "        mesh.position.set( c.x, c.y, c.z );\n",
       "        scene.add( mesh );\n",
       "\n",
       "    }\n",
       "\n",
       "    var surfaces = [{&quot;vertices&quot;:[{&quot;x&quot;:0,&quot;y&quot;:0,&quot;z&quot;:-1},{&quot;x&quot;:0.154058,&quot;y&quot;:0.0271646,&quot;z&quot;:-0.987688},{&quot;x&quot;:0.156434,&quot;y&quot;:0,&quot;z&quot;:-0.987688},{&quot;x&quot;:0.147,&quot;y&quot;:0.0535037,&quot;z&quot;:-0.987688},{&quot;x&quot;:0.135476,&quot;y&quot;:0.0782172,&quot;z&quot;:-0.987688},{&quot;x&quot;:0.119836,&quot;y&quot;:0.100554,&quot;z&quot;:-0.987688},{&quot;x&quot;:0.100554,&quot;y&quot;:0.119836,&quot;z&quot;:-0.987688},{&quot;x&quot;:0.0782172,&quot;y&quot;:0.135476,&quot;z&quot;:-0.987688},{&quot;x&quot;:0.0535037,&quot;y&quot;:0.147,&quot;z&quot;:-0.987688},{&quot;x&quot;:0.0271646,&quot;y&quot;:0.154058,&quot;z&quot;:-0.987688},{&quot;x&quot;:9.57885e-18,&quot;y&quot;:0.156434,&quot;z&quot;:-0.987688},{&quot;x&quot;:-0.0271646,&quot;y&quot;:0.154058,&quot;z&quot;:-0.987688},{&quot;x&quot;:-0.0535037,&quot;y&quot;:0.147,&quot;z&quot;:-0.987688},{&quot;x&quot;:-0.0782172,&quot;y&quot;:0.135476,&quot;z&quot;:-0.987688},{&quot;x&quot;:-0.100554,&quot;y&quot;:0.119836,&quot;z&quot;:-0.987688},{&quot;x&quot;:-0.119836,&quot;y&quot;:0.100554,&quot;z&quot;:-0.987688},{&quot;x&quot;:-0.135476,&quot;y&quot;:0.0782172,&quot;z&quot;:-0.987688},{&quot;x&quot;:-0.147,&quot;y&quot;:0.0535037,&quot;z&quot;:-0.987688},{&quot;x&quot;:-0.154058,&quot;y&quot;:0.0271646,&quot;z&quot;:-0.987688},{&quot;x&quot;:-0.156434,&quot;y&quot;:1.91577e-17,&quot;z&quot;:-0.987688},{&quot;x&quot;:-0.154058,&quot;y&quot;:-0.0271646,&quot;z&quot;:-0.987688},{&quot;x&quot;:-0.147,&quot;y&quot;:-0.0535037,&quot;z&quot;:-0.987688},{&quot;x&quot;:-0.135476,&quot;y&quot;:-0.0782172,&quot;z&quot;:-0.987688},{&quot;x&quot;:-0.119836,&quot;y&quot;:-0.100554,&quot;z&quot;:-0.987688},{&quot;x&quot;:-0.100554,&quot;y&quot;:-0.119836,&quot;z&quot;:-0.987688},{&quot;x&quot;:-0.0782172,&quot;y&quot;:-0.135476,&quot;z&quot;:-0.987688},{&quot;x&quot;:-0.0535037,&quot;y&quot;:-0.147,&quot;z&quot;:-0.987688},{&quot;x&quot;:-0.0271646,&quot;y&quot;:-0.154058,&quot;z&quot;:-0.987688},{&quot;x&quot;:-2.87365e-17,&quot;y&quot;:-0.156434,&quot;z&quot;:-0.987688},{&quot;x&quot;:0.0271646,&quot;y&quot;:-0.154058,&quot;z&quot;:-0.987688},{&quot;x&quot;:0.0535037,&quot;y&quot;:-0.147,&quot;z&quot;:-0.987688},{&quot;x&quot;:0.0782172,&quot;y&quot;:-0.135476,&quot;z&quot;:-0.987688},{&quot;x&quot;:0.100554,&quot;y&quot;:-0.119836,&quot;z&quot;:-0.987688},{&quot;x&quot;:0.119836,&quot;y&quot;:-0.100554,&quot;z&quot;:-0.987688},{&quot;x&quot;:0.135476,&quot;y&quot;:-0.0782172,&quot;z&quot;:-0.987688},{&quot;x&quot;:0.147,&quot;y&quot;:-0.0535037,&quot;z&quot;:-0.987688},{&quot;x&quot;:0.154058,&quot;y&quot;:-0.0271646,&quot;z&quot;:-0.987688},{&quot;x&quot;:0.304322,&quot;y&quot;:0.0536602,&quot;z&quot;:-0.951057},{&quot;x&quot;:0.309017,&quot;y&quot;:0,&quot;z&quot;:-0.951057},{&quot;x&quot;:0.290381,&quot;y&quot;:0.10569,&quot;z&quot;:-0.951057},{&quot;x&quot;:0.267617,&quot;y&quot;:0.154508,&quot;z&quot;:-0.951057},{&quot;x&quot;:0.236721,&quot;y&quot;:0.198632,&quot;z&quot;:-0.951057},{&quot;x&quot;:0.198632,&quot;y&quot;:0.236721,&quot;z&quot;:-0.951057},{&quot;x&quot;:0.154508,&quot;y&quot;:0.267617,&quot;z&quot;:-0.951057},{&quot;x&quot;:0.10569,&quot;y&quot;:0.290381,&quot;z&quot;:-0.951057},{&quot;x&quot;:0.0536602,&quot;y&quot;:0.304322,&quot;z&quot;:-0.951057},{&quot;x&quot;:1.89218e-17,&quot;y&quot;:0.309017,&quot;z&quot;:-0.951057},{&quot;x&quot;:-0.0536602,&quot;y&quot;:0.304322,&quot;z&quot;:-0.951057},{&quot;x&quot;:-0.10569,&quot;y&quot;:0.290381,&quot;z&quot;:-0.951057},{&quot;x&quot;:-0.154508,&quot;y&quot;:0.267617,&quot;z&quot;:-0.951057},{&quot;x&quot;:-0.198632,&quot;y&quot;:0.236721,&quot;z&quot;:-0.951057},{&quot;x&quot;:-0.236721,&quot;y&quot;:0.198632,&quot;z&quot;:-0.951057},{&quot;x&quot;:-0.267617,&quot;y&quot;:0.154508,&quot;z&quot;:-0.951057},{&quot;x&quot;:-0.290381,&quot;y&quot;:0.10569,&quot;z&quot;:-0.951057},{&quot;x&quot;:-0.304322,&quot;y&quot;:0.0536602,&quot;z&quot;:-0.951057},{&quot;x&quot;:-0.309017,&quot;y&quot;:3.78437e-17,&quot;z&quot;:-0.951057},{&quot;x&quot;:-0.304322,&quot;y&quot;:-0.0536602,&quot;z&quot;:-0.951057},{&quot;x&quot;:-0.290381,&quot;y&quot;:-0.10569,&quot;z&quot;:-0.951057},{&quot;x&quot;:-0.267617,&quot;y&quot;:-0.154508,&quot;z&quot;:-0.951057},{&quot;x&quot;:-0.236721,&quot;y&quot;:-0.198632,&quot;z&quot;:-0.951057},{&quot;x&quot;:-0.198632,&quot;y&quot;:-0.236721,&quot;z&quot;:-0.951057},{&quot;x&quot;:-0.154508,&quot;y&quot;:-0.267617,&quot;z&quot;:-0.951057},{&quot;x&quot;:-0.10569,&quot;y&quot;:-0.290381,&quot;z&quot;:-0.951057},{&quot;x&quot;:-0.0536602,&quot;y&quot;:-0.304322,&quot;z&quot;:-0.951057},{&quot;x&quot;:-5.67655e-17,&quot;y&quot;:-0.309017,&quot;z&quot;:-0.951057},{&quot;x&quot;:0.0536602,&quot;y&quot;:-0.304322,&quot;z&quot;:-0.951057},{&quot;x&quot;:0.10569,&quot;y&quot;:-0.290381,&quot;z&quot;:-0.951057},{&quot;x&quot;:0.154508,&quot;y&quot;:-0.267617,&quot;z&quot;:-0.951057},{&quot;x&quot;:0.198632,&quot;y&quot;:-0.236721,&quot;z&quot;:-0.951057},{&quot;x&quot;:0.236721,&quot;y&quot;:-0.198632,&quot;z&quot;:-0.951057},{&quot;x&quot;:0.267617,&quot;y&quot;:-0.154508,&quot;z&quot;:-0.951057},{&quot;x&quot;:0.290381,&quot;y&quot;:-0.10569,&quot;z&quot;:-0.951057},{&quot;x&quot;:0.304322,&quot;y&quot;:-0.0536602,&quot;z&quot;:-0.951057},{&quot;x&quot;:0.447093,&quot;y&quot;:0.0788346,&quot;z&quot;:-0.891007},{&quot;x&quot;:0.45399,&quot;y&quot;:0,&quot;z&quot;:-0.891007},{&quot;x&quot;:0.426612,&quot;y&quot;:0.155274,&quot;z&quot;:-0.891007},{&quot;x&quot;:0.393167,&quot;y&quot;:0.226995,&quot;z&quot;:-0.891007},{&quot;x&quot;:0.347777,&quot;y&quot;:0.291819,&quot;z&quot;:-0.891007},{&quot;x&quot;:0.291819,&quot;y&quot;:0.347777,&quot;z&quot;:-0.891007},{&quot;x&quot;:0.226995,&quot;y&quot;:0.393167,&quot;z&quot;:-0.891007},{&quot;x&quot;:0.155274,&quot;y&quot;:0.426612,&quot;z&quot;:-0.891007},{&quot;x&quot;:0.0788346,&quot;y&quot;:0.447093,&quot;z&quot;:-0.891007},{&quot;x&quot;:2.77989e-17,&quot;y&quot;:0.45399,&quot;z&quot;:-0.891007},{&quot;x&quot;:-0.0788346,&quot;y&quot;:0.447093,&quot;z&quot;:-0.891007},{&quot;x&quot;:-0.155274,&quot;y&quot;:0.426612,&quot;z&quot;:-0.891007},{&quot;x&quot;:-0.226995,&quot;y&quot;:0.393167,&quot;z&quot;:-0.891007},{&quot;x&quot;:-0.291819,&quot;y&quot;:0.347777,&quot;z&quot;:-0.891007},{&quot;x&quot;:-0.347777,&quot;y&quot;:0.291819,&quot;z&quot;:-0.891007},{&quot;x&quot;:-0.393167,&quot;y&quot;:0.226995,&quot;z&quot;:-0.891007},{&quot;x&quot;:-0.426612,&quot;y&quot;:0.155274,&quot;z&quot;:-0.891007},{&quot;x&quot;:-0.447093,&quot;y&quot;:0.0788346,&quot;z&quot;:-0.891007},{&quot;x&quot;:-0.45399,&quot;y&quot;:5.55978e-17,&quot;z&quot;:-0.891007},{&quot;x&quot;:-0.447093,&quot;y&quot;:-0.0788346,&quot;z&quot;:-0.891007},{&quot;x&quot;:-0.426612,&quot;y&quot;:-0.155274,&quot;z&quot;:-0.891007},{&quot;x&quot;:-0.393167,&quot;y&quot;:-0.226995,&quot;z&quot;:-0.891007},{&quot;x&quot;:-0.347777,&quot;y&quot;:-0.291819,&quot;z&quot;:-0.891007},{&quot;x&quot;:-0.291819,&quot;y&quot;:-0.347777,&quot;z&quot;:-0.891007},{&quot;x&quot;:-0.226995,&quot;y&quot;:-0.393167,&quot;z&quot;:-0.891007},{&quot;x&quot;:-0.155274,&quot;y&quot;:-0.426612,&quot;z&quot;:-0.891007},{&quot;x&quot;:-0.0788346,&quot;y&quot;:-0.447093,&quot;z&quot;:-0.891007},{&quot;x&quot;:-8.33967e-17,&quot;y&quot;:-0.45399,&quot;z&quot;:-0.891007},{&quot;x&quot;:0.0788346,&quot;y&quot;:-0.447093,&quot;z&quot;:-0.891007},{&quot;x&quot;:0.155274,&quot;y&quot;:-0.426612,&quot;z&quot;:-0.891007},{&quot;x&quot;:0.226995,&quot;y&quot;:-0.393167,&quot;z&quot;:-0.891007},{&quot;x&quot;:0.291819,&quot;y&quot;:-0.347777,&quot;z&quot;:-0.891007},{&quot;x&quot;:0.347777,&quot;y&quot;:-0.291819,&quot;z&quot;:-0.891007},{&quot;x&quot;:0.393167,&quot;y&quot;:-0.226995,&quot;z&quot;:-0.891007},{&quot;x&quot;:0.426612,&quot;y&quot;:-0.155274,&quot;z&quot;:-0.891007},{&quot;x&quot;:0.447093,&quot;y&quot;:-0.0788346,&quot;z&quot;:-0.891007},{&quot;x&quot;:0.578855,&quot;y&quot;:0.102068,&quot;z&quot;:-0.809017},{&quot;x&quot;:0.587785,&quot;y&quot;:0,&quot;z&quot;:-0.809017},{&quot;x&quot;:0.552337,&quot;y&quot;:0.201034,&quot;z&quot;:-0.809017},{&quot;x&quot;:0.509037,&quot;y&quot;:0.293893,&quot;z&quot;:-0.809017},{&quot;x&quot;:0.45027,&quot;y&quot;:0.377821,&quot;z&quot;:-0.809017},{&quot;x&quot;:0.377821,&quot;y&quot;:0.45027,&quot;z&quot;:-0.809017},{&quot;x&quot;:0.293893,&quot;y&quot;:0.509037,&quot;z&quot;:-0.809017},{&quot;x&quot;:0.201034,&quot;y&quot;:0.552337,&quot;z&quot;:-0.809017},{&quot;x&quot;:0.102068,&quot;y&quot;:0.578855,&quot;z&quot;:-0.809017},{&quot;x&quot;:3.59915e-17,&quot;y&quot;:0.587785,&quot;z&quot;:-0.809017},{&quot;x&quot;:-0.102068,&quot;y&quot;:0.578855,&quot;z&quot;:-0.809017},{&quot;x&quot;:-0.201034,&quot;y&quot;:0.552337,&quot;z&quot;:-0.809017},{&quot;x&quot;:-0.293893,&quot;y&quot;:0.509037,&quot;z&quot;:-0.809017},{&quot;x&quot;:-0.377821,&quot;y&quot;:0.45027,&quot;z&quot;:-0.809017},{&quot;x&quot;:-0.45027,&quot;y&quot;:0.377821,&quot;z&quot;:-0.809017},{&quot;x&quot;:-0.509037,&quot;y&quot;:0.293893,&quot;z&quot;:-0.809017},{&quot;x&quot;:-0.552337,&quot;y&quot;:0.201034,&quot;z&quot;:-0.809017},{&quot;x&quot;:-0.578855,&quot;y&quot;:0.102068,&quot;z&quot;:-0.809017},{&quot;x&quot;:-0.587785,&quot;y&quot;:7.19829e-17,&quot;z&quot;:-0.809017},{&quot;x&quot;:-0.578855,&quot;y&quot;:-0.102068,&quot;z&quot;:-0.809017},{&quot;x&quot;:-0.552337,&quot;y&quot;:-0.201034,&quot;z&quot;:-0.809017},{&quot;x&quot;:-0.509037,&quot;y&quot;:-0.293893,&quot;z&quot;:-0.809017},{&quot;x&quot;:-0.45027,&quot;y&quot;:-0.377821,&quot;z&quot;:-0.809017},{&quot;x&quot;:-0.377821,&quot;y&quot;:-0.45027,&quot;z&quot;:-0.809017},{&quot;x&quot;:-0.293893,&quot;y&quot;:-0.509037,&quot;z&quot;:-0.809017},{&quot;x&quot;:-0.201034,&quot;y&quot;:-0.552337,&quot;z&quot;:-0.809017},{&quot;x&quot;:-0.102068,&quot;y&quot;:-0.578855,&quot;z&quot;:-0.809017},{&quot;x&quot;:-1.07974e-16,&quot;y&quot;:-0.587785,&quot;z&quot;:-0.809017},{&quot;x&quot;:0.102068,&quot;y&quot;:-0.578855,&quot;z&quot;:-0.809017},{&quot;x&quot;:0.201034,&quot;y&quot;:-0.552337,&quot;z&quot;:-0.809017},{&quot;x&quot;:0.293893,&quot;y&quot;:-0.509037,&quot;z&quot;:-0.809017},{&quot;x&quot;:0.377821,&quot;y&quot;:-0.45027,&quot;z&quot;:-0.809017},{&quot;x&quot;:0.45027,&quot;y&quot;:-0.377821,&quot;z&quot;:-0.809017},{&quot;x&quot;:0.509037,&quot;y&quot;:-0.293893,&quot;z&quot;:-0.809017},{&quot;x&quot;:0.552337,&quot;y&quot;:-0.201034,&quot;z&quot;:-0.809017},{&quot;x&quot;:0.578855,&quot;y&quot;:-0.102068,&quot;z&quot;:-0.809017},{&quot;x&quot;:0.696364,&quot;y&quot;:0.122788,&quot;z&quot;:-0.707107},{&quot;x&quot;:0.707107,&quot;y&quot;:0,&quot;z&quot;:-0.707107},{&quot;x&quot;:0.664463,&quot;y&quot;:0.241845,&quot;z&quot;:-0.707107},{&quot;x&quot;:0.612372,&quot;y&quot;:0.353553,&quot;z&quot;:-0.707107},{&quot;x&quot;:0.541675,&quot;y&quot;:0.454519,&quot;z&quot;:-0.707107},{&quot;x&quot;:0.454519,&quot;y&quot;:0.541675,&quot;z&quot;:-0.707107},{&quot;x&quot;:0.353553,&quot;y&quot;:0.612372,&quot;z&quot;:-0.707107},{&quot;x&quot;:0.241845,&quot;y&quot;:0.664463,&quot;z&quot;:-0.707107},{&quot;x&quot;:0.122788,&quot;y&quot;:0.696364,&quot;z&quot;:-0.707107},{&quot;x&quot;:4.32978e-17,&quot;y&quot;:0.707107,&quot;z&quot;:-0.707107},{&quot;x&quot;:-0.122788,&quot;y&quot;:0.696364,&quot;z&quot;:-0.707107},{&quot;x&quot;:-0.241845,&quot;y&quot;:0.664463,&quot;z&quot;:-0.707107},{&quot;x&quot;:-0.353553,&quot;y&quot;:0.612372,&quot;z&quot;:-0.707107},{&quot;x&quot;:-0.454519,&quot;y&quot;:0.541675,&quot;z&quot;:-0.707107},{&quot;x&quot;:-0.541675,&quot;y&quot;:0.454519,&quot;z&quot;:-0.707107},{&quot;x&quot;:-0.612372,&quot;y&quot;:0.353553,&quot;z&quot;:-0.707107},{&quot;x&quot;:-0.664463,&quot;y&quot;:0.241845,&quot;z&quot;:-0.707107},{&quot;x&quot;:-0.696364,&quot;y&quot;:0.122788,&quot;z&quot;:-0.707107},{&quot;x&quot;:-0.707107,&quot;y&quot;:8.65956e-17,&quot;z&quot;:-0.707107},{&quot;x&quot;:-0.696364,&quot;y&quot;:-0.122788,&quot;z&quot;:-0.707107},{&quot;x&quot;:-0.664463,&quot;y&quot;:-0.241845,&quot;z&quot;:-0.707107},{&quot;x&quot;:-0.612372,&quot;y&quot;:-0.353553,&quot;z&quot;:-0.707107},{&quot;x&quot;:-0.541675,&quot;y&quot;:-0.454519,&quot;z&quot;:-0.707107},{&quot;x&quot;:-0.454519,&quot;y&quot;:-0.541675,&quot;z&quot;:-0.707107},{&quot;x&quot;:-0.353553,&quot;y&quot;:-0.612372,&quot;z&quot;:-0.707107},{&quot;x&quot;:-0.241845,&quot;y&quot;:-0.664463,&quot;z&quot;:-0.707107},{&quot;x&quot;:-0.122788,&quot;y&quot;:-0.696364,&quot;z&quot;:-0.707107},{&quot;x&quot;:-1.29893e-16,&quot;y&quot;:-0.707107,&quot;z&quot;:-0.707107},{&quot;x&quot;:0.122788,&quot;y&quot;:-0.696364,&quot;z&quot;:-0.707107},{&quot;x&quot;:0.241845,&quot;y&quot;:-0.664463,&quot;z&quot;:-0.707107},{&quot;x&quot;:0.353553,&quot;y&quot;:-0.612372,&quot;z&quot;:-0.707107},{&quot;x&quot;:0.454519,&quot;y&quot;:-0.541675,&quot;z&quot;:-0.707107},{&quot;x&quot;:0.541675,&quot;y&quot;:-0.454519,&quot;z&quot;:-0.707107},{&quot;x&quot;:0.612372,&quot;y&quot;:-0.353553,&quot;z&quot;:-0.707107},{&quot;x&quot;:0.664463,&quot;y&quot;:-0.241845,&quot;z&quot;:-0.707107},{&quot;x&quot;:0.696364,&quot;y&quot;:-0.122788,&quot;z&quot;:-0.707107},{&quot;x&quot;:0.796726,&quot;y&quot;:0.140484,&quot;z&quot;:-0.587785},{&quot;x&quot;:0.809017,&quot;y&quot;:0,&quot;z&quot;:-0.587785},{&quot;x&quot;:0.760227,&quot;y&quot;:0.2767,&quot;z&quot;:-0.587785},{&quot;x&quot;:0.700629,&quot;y&quot;:0.404508,&quot;z&quot;:-0.587785},{&quot;x&quot;:0.619743,&quot;y&quot;:0.520026,&quot;z&quot;:-0.587785},{&quot;x&quot;:0.520026,&quot;y&quot;:0.619743,&quot;z&quot;:-0.587785},{&quot;x&quot;:0.404508,&quot;y&quot;:0.700629,&quot;z&quot;:-0.587785},{&quot;x&quot;:0.2767,&quot;y&quot;:0.760227,&quot;z&quot;:-0.587785},{&quot;x&quot;:0.140484,&quot;y&quot;:0.796726,&quot;z&quot;:-0.587785},{&quot;x&quot;:4.9538e-17,&quot;y&quot;:0.809017,&quot;z&quot;:-0.587785},{&quot;x&quot;:-0.140484,&quot;y&quot;:0.796726,&quot;z&quot;:-0.587785},{&quot;x&quot;:-0.2767,&quot;y&quot;:0.760227,&quot;z&quot;:-0.587785},{&quot;x&quot;:-0.404508,&quot;y&quot;:0.700629,&quot;z&quot;:-0.587785},{&quot;x&quot;:-0.520026,&quot;y&quot;:0.619743,&quot;z&quot;:-0.587785},{&quot;x&quot;:-0.619743,&quot;y&quot;:0.520026,&quot;z&quot;:-0.587785},{&quot;x&quot;:-0.700629,&quot;y&quot;:0.404508,&quot;z&quot;:-0.587785},{&quot;x&quot;:-0.760227,&quot;y&quot;:0.2767,&quot;z&quot;:-0.587785},{&quot;x&quot;:-0.796726,&quot;y&quot;:0.140484,&quot;z&quot;:-0.587785},{&quot;x&quot;:-0.809017,&quot;y&quot;:9.9076e-17,&quot;z&quot;:-0.587785},{&quot;x&quot;:-0.796726,&quot;y&quot;:-0.140484,&quot;z&quot;:-0.587785},{&quot;x&quot;:-0.760227,&quot;y&quot;:-0.2767,&quot;z&quot;:-0.587785},{&quot;x&quot;:-0.700629,&quot;y&quot;:-0.404508,&quot;z&quot;:-0.587785},{&quot;x&quot;:-0.619743,&quot;y&quot;:-0.520026,&quot;z&quot;:-0.587785},{&quot;x&quot;:-0.520026,&quot;y&quot;:-0.619743,&quot;z&quot;:-0.587785},{&quot;x&quot;:-0.404508,&quot;y&quot;:-0.700629,&quot;z&quot;:-0.587785},{&quot;x&quot;:-0.2767,&quot;y&quot;:-0.760227,&quot;z&quot;:-0.587785},{&quot;x&quot;:-0.140484,&quot;y&quot;:-0.796726,&quot;z&quot;:-0.587785},{&quot;x&quot;:-1.48614e-16,&quot;y&quot;:-0.809017,&quot;z&quot;:-0.587785},{&quot;x&quot;:0.140484,&quot;y&quot;:-0.796726,&quot;z&quot;:-0.587785},{&quot;x&quot;:0.2767,&quot;y&quot;:-0.760227,&quot;z&quot;:-0.587785},{&quot;x&quot;:0.404508,&quot;y&quot;:-0.700629,&quot;z&quot;:-0.587785},{&quot;x&quot;:0.520026,&quot;y&quot;:-0.619743,&quot;z&quot;:-0.587785},{&quot;x&quot;:0.619743,&quot;y&quot;:-0.520026,&quot;z&quot;:-0.587785},{&quot;x&quot;:0.700629,&quot;y&quot;:-0.404508,&quot;z&quot;:-0.587785},{&quot;x&quot;:0.760227,&quot;y&quot;:-0.2767,&quot;z&quot;:-0.587785},{&quot;x&quot;:0.796726,&quot;y&quot;:-0.140484,&quot;z&quot;:-0.587785},{&quot;x&quot;:0.87747,&quot;y&quot;:0.154722,&quot;z&quot;:-0.45399},{&quot;x&quot;:0.891007,&quot;y&quot;:0,&quot;z&quot;:-0.45399},{&quot;x&quot;:0.837272,&quot;y&quot;:0.304742,&quot;z&quot;:-0.45399},{&quot;x&quot;:0.771634,&quot;y&quot;:0.445503,&quot;z&quot;:-0.45399},{&quot;x&quot;:0.682551,&quot;y&quot;:0.572728,&quot;z&quot;:-0.45399},{&quot;x&quot;:0.572728,&quot;y&quot;:0.682551,&quot;z&quot;:-0.45399},{&quot;x&quot;:0.445503,&quot;y&quot;:0.771634,&quot;z&quot;:-0.45399},{&quot;x&quot;:0.304742,&quot;y&quot;:0.837272,&quot;z&quot;:-0.45399},{&quot;x&quot;:0.154722,&quot;y&quot;:0.87747,&quot;z&quot;:-0.45399},{&quot;x&quot;:5.45584e-17,&quot;y&quot;:0.891007,&quot;z&quot;:-0.45399},{&quot;x&quot;:-0.154722,&quot;y&quot;:0.87747,&quot;z&quot;:-0.45399},{&quot;x&quot;:-0.304742,&quot;y&quot;:0.837272,&quot;z&quot;:-0.45399},{&quot;x&quot;:-0.445503,&quot;y&quot;:0.771634,&quot;z&quot;:-0.45399},{&quot;x&quot;:-0.572728,&quot;y&quot;:0.682551,&quot;z&quot;:-0.45399},{&quot;x&quot;:-0.682551,&quot;y&quot;:0.572728,&quot;z&quot;:-0.45399},{&quot;x&quot;:-0.771634,&quot;y&quot;:0.445503,&quot;z&quot;:-0.45399},{&quot;x&quot;:-0.837272,&quot;y&quot;:0.304742,&quot;z&quot;:-0.45399},{&quot;x&quot;:-0.87747,&quot;y&quot;:0.154722,&quot;z&quot;:-0.45399},{&quot;x&quot;:-0.891007,&quot;y&quot;:1.09117e-16,&quot;z&quot;:-0.45399},{&quot;x&quot;:-0.87747,&quot;y&quot;:-0.154722,&quot;z&quot;:-0.45399},{&quot;x&quot;:-0.837272,&quot;y&quot;:-0.304742,&quot;z&quot;:-0.45399},{&quot;x&quot;:-0.771634,&quot;y&quot;:-0.445503,&quot;z&quot;:-0.45399},{&quot;x&quot;:-0.682551,&quot;y&quot;:-0.572728,&quot;z&quot;:-0.45399},{&quot;x&quot;:-0.572728,&quot;y&quot;:-0.682551,&quot;z&quot;:-0.45399},{&quot;x&quot;:-0.445503,&quot;y&quot;:-0.771634,&quot;z&quot;:-0.45399},{&quot;x&quot;:-0.304742,&quot;y&quot;:-0.837272,&quot;z&quot;:-0.45399},{&quot;x&quot;:-0.154722,&quot;y&quot;:-0.87747,&quot;z&quot;:-0.45399},{&quot;x&quot;:-1.63675e-16,&quot;y&quot;:-0.891007,&quot;z&quot;:-0.45399},{&quot;x&quot;:0.154722,&quot;y&quot;:-0.87747,&quot;z&quot;:-0.45399},{&quot;x&quot;:0.304742,&quot;y&quot;:-0.837272,&quot;z&quot;:-0.45399},{&quot;x&quot;:0.445503,&quot;y&quot;:-0.771634,&quot;z&quot;:-0.45399},{&quot;x&quot;:0.572728,&quot;y&quot;:-0.682551,&quot;z&quot;:-0.45399},{&quot;x&quot;:0.682551,&quot;y&quot;:-0.572728,&quot;z&quot;:-0.45399},{&quot;x&quot;:0.771634,&quot;y&quot;:-0.445503,&quot;z&quot;:-0.45399},{&quot;x&quot;:0.837272,&quot;y&quot;:-0.304742,&quot;z&quot;:-0.45399},{&quot;x&quot;:0.87747,&quot;y&quot;:-0.154722,&quot;z&quot;:-0.45399},{&quot;x&quot;:0.936608,&quot;y&quot;:0.165149,&quot;z&quot;:-0.309017},{&quot;x&quot;:0.951057,&quot;y&quot;:0,&quot;z&quot;:-0.309017},{&quot;x&quot;:0.893701,&quot;y&quot;:0.32528,&quot;z&quot;:-0.309017},{&quot;x&quot;:0.823639,&quot;y&quot;:0.475528,&quot;z&quot;:-0.309017},{&quot;x&quot;:0.728552,&quot;y&quot;:0.611327,&quot;z&quot;:-0.309017},{&quot;x&quot;:0.611327,&quot;y&quot;:0.728552,&quot;z&quot;:-0.309017},{&quot;x&quot;:0.475528,&quot;y&quot;:0.823639,&quot;z&quot;:-0.309017},{&quot;x&quot;:0.32528,&quot;y&quot;:0.893701,&quot;z&quot;:-0.309017},{&quot;x&quot;:0.165149,&quot;y&quot;:0.936608,&quot;z&quot;:-0.309017},{&quot;x&quot;:5.82354e-17,&quot;y&quot;:0.951057,&quot;z&quot;:-0.309017},{&quot;x&quot;:-0.165149,&quot;y&quot;:0.936608,&quot;z&quot;:-0.309017},{&quot;x&quot;:-0.32528,&quot;y&quot;:0.893701,&quot;z&quot;:-0.309017},{&quot;x&quot;:-0.475528,&quot;y&quot;:0.823639,&quot;z&quot;:-0.309017},{&quot;x&quot;:-0.611327,&quot;y&quot;:0.728552,&quot;z&quot;:-0.309017},{&quot;x&quot;:-0.728552,&quot;y&quot;:0.611327,&quot;z&quot;:-0.309017},{&quot;x&quot;:-0.823639,&quot;y&quot;:0.475528,&quot;z&quot;:-0.309017},{&quot;x&quot;:-0.893701,&quot;y&quot;:0.32528,&quot;z&quot;:-0.309017},{&quot;x&quot;:-0.936608,&quot;y&quot;:0.165149,&quot;z&quot;:-0.309017},{&quot;x&quot;:-0.951057,&quot;y&quot;:1.16471e-16,&quot;z&quot;:-0.309017},{&quot;x&quot;:-0.936608,&quot;y&quot;:-0.165149,&quot;z&quot;:-0.309017},{&quot;x&quot;:-0.893701,&quot;y&quot;:-0.32528,&quot;z&quot;:-0.309017},{&quot;x&quot;:-0.823639,&quot;y&quot;:-0.475528,&quot;z&quot;:-0.309017},{&quot;x&quot;:-0.728552,&quot;y&quot;:-0.611327,&quot;z&quot;:-0.309017},{&quot;x&quot;:-0.611327,&quot;y&quot;:-0.728552,&quot;z&quot;:-0.309017},{&quot;x&quot;:-0.475528,&quot;y&quot;:-0.823639,&quot;z&quot;:-0.309017},{&quot;x&quot;:-0.32528,&quot;y&quot;:-0.893701,&quot;z&quot;:-0.309017},{&quot;x&quot;:-0.165149,&quot;y&quot;:-0.936608,&quot;z&quot;:-0.309017},{&quot;x&quot;:-1.74706e-16,&quot;y&quot;:-0.951057,&quot;z&quot;:-0.309017},{&quot;x&quot;:0.165149,&quot;y&quot;:-0.936608,&quot;z&quot;:-0.309017},{&quot;x&quot;:0.32528,&quot;y&quot;:-0.893701,&quot;z&quot;:-0.309017},{&quot;x&quot;:0.475528,&quot;y&quot;:-0.823639,&quot;z&quot;:-0.309017},{&quot;x&quot;:0.611327,&quot;y&quot;:-0.728552,&quot;z&quot;:-0.309017},{&quot;x&quot;:0.728552,&quot;y&quot;:-0.611327,&quot;z&quot;:-0.309017},{&quot;x&quot;:0.823639,&quot;y&quot;:-0.475528,&quot;z&quot;:-0.309017},{&quot;x&quot;:0.893701,&quot;y&quot;:-0.32528,&quot;z&quot;:-0.309017},{&quot;x&quot;:0.936608,&quot;y&quot;:-0.165149,&quot;z&quot;:-0.309017},{&quot;x&quot;:0.972683,&quot;y&quot;:0.17151,&quot;z&quot;:-0.156434},{&quot;x&quot;:0.987688,&quot;y&quot;:0,&quot;z&quot;:-0.156434},{&quot;x&quot;:0.928123,&quot;y&quot;:0.337809,&quot;z&quot;:-0.156434},{&quot;x&quot;:0.855363,&quot;y&quot;:0.493844,&quot;z&quot;:-0.156434},{&quot;x&quot;:0.756613,&quot;y&quot;:0.634874,&quot;z&quot;:-0.156434},{&quot;x&quot;:0.634874,&quot;y&quot;:0.756613,&quot;z&quot;:-0.156434},{&quot;x&quot;:0.493844,&quot;y&quot;:0.855363,&quot;z&quot;:-0.156434},{&quot;x&quot;:0.337809,&quot;y&quot;:0.928123,&quot;z&quot;:-0.156434},{&quot;x&quot;:0.17151,&quot;y&quot;:0.972683,&quot;z&quot;:-0.156434},{&quot;x&quot;:6.04785e-17,&quot;y&quot;:0.987688,&quot;z&quot;:-0.156434},{&quot;x&quot;:-0.17151,&quot;y&quot;:0.972683,&quot;z&quot;:-0.156434},{&quot;x&quot;:-0.337809,&quot;y&quot;:0.928123,&quot;z&quot;:-0.156434},{&quot;x&quot;:-0.493844,&quot;y&quot;:0.855363,&quot;z&quot;:-0.156434},{&quot;x&quot;:-0.634874,&quot;y&quot;:0.756613,&quot;z&quot;:-0.156434},{&quot;x&quot;:-0.756613,&quot;y&quot;:0.634874,&quot;z&quot;:-0.156434},{&quot;x&quot;:-0.855363,&quot;y&quot;:0.493844,&quot;z&quot;:-0.156434},{&quot;x&quot;:-0.928123,&quot;y&quot;:0.337809,&quot;z&quot;:-0.156434},{&quot;x&quot;:-0.972683,&quot;y&quot;:0.17151,&quot;z&quot;:-0.156434},{&quot;x&quot;:-0.987688,&quot;y&quot;:1.20957e-16,&quot;z&quot;:-0.156434},{&quot;x&quot;:-0.972683,&quot;y&quot;:-0.17151,&quot;z&quot;:-0.156434},{&quot;x&quot;:-0.928123,&quot;y&quot;:-0.337809,&quot;z&quot;:-0.156434},{&quot;x&quot;:-0.855363,&quot;y&quot;:-0.493844,&quot;z&quot;:-0.156434},{&quot;x&quot;:-0.756613,&quot;y&quot;:-0.634874,&quot;z&quot;:-0.156434},{&quot;x&quot;:-0.634874,&quot;y&quot;:-0.756613,&quot;z&quot;:-0.156434},{&quot;x&quot;:-0.493844,&quot;y&quot;:-0.855363,&quot;z&quot;:-0.156434},{&quot;x&quot;:-0.337809,&quot;y&quot;:-0.928123,&quot;z&quot;:-0.156434},{&quot;x&quot;:-0.17151,&quot;y&quot;:-0.972683,&quot;z&quot;:-0.156434},{&quot;x&quot;:-1.81435e-16,&quot;y&quot;:-0.987688,&quot;z&quot;:-0.156434},{&quot;x&quot;:0.17151,&quot;y&quot;:-0.972683,&quot;z&quot;:-0.156434},{&quot;x&quot;:0.337809,&quot;y&quot;:-0.928123,&quot;z&quot;:-0.156434},{&quot;x&quot;:0.493844,&quot;y&quot;:-0.855363,&quot;z&quot;:-0.156434},{&quot;x&quot;:0.634874,&quot;y&quot;:-0.756613,&quot;z&quot;:-0.156434},{&quot;x&quot;:0.756613,&quot;y&quot;:-0.634874,&quot;z&quot;:-0.156434},{&quot;x&quot;:0.855363,&quot;y&quot;:-0.493844,&quot;z&quot;:-0.156434},{&quot;x&quot;:0.928123,&quot;y&quot;:-0.337809,&quot;z&quot;:-0.156434},{&quot;x&quot;:0.972683,&quot;y&quot;:-0.17151,&quot;z&quot;:-0.156434},{&quot;x&quot;:0.984808,&quot;y&quot;:0.173648,&quot;z&quot;:0},{&quot;x&quot;:1,&quot;y&quot;:0,&quot;z&quot;:0},{&quot;x&quot;:0.939693,&quot;y&quot;:0.34202,&quot;z&quot;:0},{&quot;x&quot;:0.866025,&quot;y&quot;:0.5,&quot;z&quot;:0},{&quot;x&quot;:0.766044,&quot;y&quot;:0.642788,&quot;z&quot;:0},{&quot;x&quot;:0.642788,&quot;y&quot;:0.766044,&quot;z&quot;:0},{&quot;x&quot;:0.5,&quot;y&quot;:0.866025,&quot;z&quot;:0},{&quot;x&quot;:0.34202,&quot;y&quot;:0.939693,&quot;z&quot;:0},{&quot;x&quot;:0.173648,&quot;y&quot;:0.984808,&quot;z&quot;:0},{&quot;x&quot;:6.12323e-17,&quot;y&quot;:1,&quot;z&quot;:0},{&quot;x&quot;:-0.173648,&quot;y&quot;:0.984808,&quot;z&quot;:0},{&quot;x&quot;:-0.34202,&quot;y&quot;:0.939693,&quot;z&quot;:0},{&quot;x&quot;:-0.5,&quot;y&quot;:0.866025,&quot;z&quot;:0},{&quot;x&quot;:-0.642788,&quot;y&quot;:0.766044,&quot;z&quot;:0},{&quot;x&quot;:-0.766044,&quot;y&quot;:0.642788,&quot;z&quot;:0},{&quot;x&quot;:-0.866025,&quot;y&quot;:0.5,&quot;z&quot;:0},{&quot;x&quot;:-0.939693,&quot;y&quot;:0.34202,&quot;z&quot;:0},{&quot;x&quot;:-0.984808,&quot;y&quot;:0.173648,&quot;z&quot;:0},{&quot;x&quot;:-1,&quot;y&quot;:1.22465e-16,&quot;z&quot;:0},{&quot;x&quot;:-0.984808,&quot;y&quot;:-0.173648,&quot;z&quot;:0},{&quot;x&quot;:-0.939693,&quot;y&quot;:-0.34202,&quot;z&quot;:0},{&quot;x&quot;:-0.866025,&quot;y&quot;:-0.5,&quot;z&quot;:0},{&quot;x&quot;:-0.766044,&quot;y&quot;:-0.642788,&quot;z&quot;:0},{&quot;x&quot;:-0.642788,&quot;y&quot;:-0.766044,&quot;z&quot;:0},{&quot;x&quot;:-0.5,&quot;y&quot;:-0.866025,&quot;z&quot;:0},{&quot;x&quot;:-0.34202,&quot;y&quot;:-0.939693,&quot;z&quot;:0},{&quot;x&quot;:-0.173648,&quot;y&quot;:-0.984808,&quot;z&quot;:0},{&quot;x&quot;:-1.83697e-16,&quot;y&quot;:-1,&quot;z&quot;:0},{&quot;x&quot;:0.173648,&quot;y&quot;:-0.984808,&quot;z&quot;:0},{&quot;x&quot;:0.34202,&quot;y&quot;:-0.939693,&quot;z&quot;:0},{&quot;x&quot;:0.5,&quot;y&quot;:-0.866025,&quot;z&quot;:0},{&quot;x&quot;:0.642788,&quot;y&quot;:-0.766044,&quot;z&quot;:0},{&quot;x&quot;:0.766044,&quot;y&quot;:-0.642788,&quot;z&quot;:0},{&quot;x&quot;:0.866025,&quot;y&quot;:-0.5,&quot;z&quot;:0},{&quot;x&quot;:0.939693,&quot;y&quot;:-0.34202,&quot;z&quot;:0},{&quot;x&quot;:0.984808,&quot;y&quot;:-0.173648,&quot;z&quot;:0},{&quot;x&quot;:0.972683,&quot;y&quot;:0.17151,&quot;z&quot;:0.156434},{&quot;x&quot;:0.987688,&quot;y&quot;:0,&quot;z&quot;:0.156434},{&quot;x&quot;:0.928123,&quot;y&quot;:0.337809,&quot;z&quot;:0.156434},{&quot;x&quot;:0.855363,&quot;y&quot;:0.493844,&quot;z&quot;:0.156434},{&quot;x&quot;:0.756613,&quot;y&quot;:0.634874,&quot;z&quot;:0.156434},{&quot;x&quot;:0.634874,&quot;y&quot;:0.756613,&quot;z&quot;:0.156434},{&quot;x&quot;:0.493844,&quot;y&quot;:0.855363,&quot;z&quot;:0.156434},{&quot;x&quot;:0.337809,&quot;y&quot;:0.928123,&quot;z&quot;:0.156434},{&quot;x&quot;:0.17151,&quot;y&quot;:0.972683,&quot;z&quot;:0.156434},{&quot;x&quot;:6.04785e-17,&quot;y&quot;:0.987688,&quot;z&quot;:0.156434},{&quot;x&quot;:-0.17151,&quot;y&quot;:0.972683,&quot;z&quot;:0.156434},{&quot;x&quot;:-0.337809,&quot;y&quot;:0.928123,&quot;z&quot;:0.156434},{&quot;x&quot;:-0.493844,&quot;y&quot;:0.855363,&quot;z&quot;:0.156434},{&quot;x&quot;:-0.634874,&quot;y&quot;:0.756613,&quot;z&quot;:0.156434},{&quot;x&quot;:-0.756613,&quot;y&quot;:0.634874,&quot;z&quot;:0.156434},{&quot;x&quot;:-0.855363,&quot;y&quot;:0.493844,&quot;z&quot;:0.156434},{&quot;x&quot;:-0.928123,&quot;y&quot;:0.337809,&quot;z&quot;:0.156434},{&quot;x&quot;:-0.972683,&quot;y&quot;:0.17151,&quot;z&quot;:0.156434},{&quot;x&quot;:-0.987688,&quot;y&quot;:1.20957e-16,&quot;z&quot;:0.156434},{&quot;x&quot;:-0.972683,&quot;y&quot;:-0.17151,&quot;z&quot;:0.156434},{&quot;x&quot;:-0.928123,&quot;y&quot;:-0.337809,&quot;z&quot;:0.156434},{&quot;x&quot;:-0.855363,&quot;y&quot;:-0.493844,&quot;z&quot;:0.156434},{&quot;x&quot;:-0.756613,&quot;y&quot;:-0.634874,&quot;z&quot;:0.156434},{&quot;x&quot;:-0.634874,&quot;y&quot;:-0.756613,&quot;z&quot;:0.156434},{&quot;x&quot;:-0.493844,&quot;y&quot;:-0.855363,&quot;z&quot;:0.156434},{&quot;x&quot;:-0.337809,&quot;y&quot;:-0.928123,&quot;z&quot;:0.156434},{&quot;x&quot;:-0.17151,&quot;y&quot;:-0.972683,&quot;z&quot;:0.156434},{&quot;x&quot;:-1.81435e-16,&quot;y&quot;:-0.987688,&quot;z&quot;:0.156434},{&quot;x&quot;:0.17151,&quot;y&quot;:-0.972683,&quot;z&quot;:0.156434},{&quot;x&quot;:0.337809,&quot;y&quot;:-0.928123,&quot;z&quot;:0.156434},{&quot;x&quot;:0.493844,&quot;y&quot;:-0.855363,&quot;z&quot;:0.156434},{&quot;x&quot;:0.634874,&quot;y&quot;:-0.756613,&quot;z&quot;:0.156434},{&quot;x&quot;:0.756613,&quot;y&quot;:-0.634874,&quot;z&quot;:0.156434},{&quot;x&quot;:0.855363,&quot;y&quot;:-0.493844,&quot;z&quot;:0.156434},{&quot;x&quot;:0.928123,&quot;y&quot;:-0.337809,&quot;z&quot;:0.156434},{&quot;x&quot;:0.972683,&quot;y&quot;:-0.17151,&quot;z&quot;:0.156434},{&quot;x&quot;:0.936608,&quot;y&quot;:0.165149,&quot;z&quot;:0.309017},{&quot;x&quot;:0.951057,&quot;y&quot;:0,&quot;z&quot;:0.309017},{&quot;x&quot;:0.893701,&quot;y&quot;:0.32528,&quot;z&quot;:0.309017},{&quot;x&quot;:0.823639,&quot;y&quot;:0.475528,&quot;z&quot;:0.309017},{&quot;x&quot;:0.728552,&quot;y&quot;:0.611327,&quot;z&quot;:0.309017},{&quot;x&quot;:0.611327,&quot;y&quot;:0.728552,&quot;z&quot;:0.309017},{&quot;x&quot;:0.475528,&quot;y&quot;:0.823639,&quot;z&quot;:0.309017},{&quot;x&quot;:0.32528,&quot;y&quot;:0.893701,&quot;z&quot;:0.309017},{&quot;x&quot;:0.165149,&quot;y&quot;:0.936608,&quot;z&quot;:0.309017},{&quot;x&quot;:5.82354e-17,&quot;y&quot;:0.951057,&quot;z&quot;:0.309017},{&quot;x&quot;:-0.165149,&quot;y&quot;:0.936608,&quot;z&quot;:0.309017},{&quot;x&quot;:-0.32528,&quot;y&quot;:0.893701,&quot;z&quot;:0.309017},{&quot;x&quot;:-0.475528,&quot;y&quot;:0.823639,&quot;z&quot;:0.309017},{&quot;x&quot;:-0.611327,&quot;y&quot;:0.728552,&quot;z&quot;:0.309017},{&quot;x&quot;:-0.728552,&quot;y&quot;:0.611327,&quot;z&quot;:0.309017},{&quot;x&quot;:-0.823639,&quot;y&quot;:0.475528,&quot;z&quot;:0.309017},{&quot;x&quot;:-0.893701,&quot;y&quot;:0.32528,&quot;z&quot;:0.309017},{&quot;x&quot;:-0.936608,&quot;y&quot;:0.165149,&quot;z&quot;:0.309017},{&quot;x&quot;:-0.951057,&quot;y&quot;:1.16471e-16,&quot;z&quot;:0.309017},{&quot;x&quot;:-0.936608,&quot;y&quot;:-0.165149,&quot;z&quot;:0.309017},{&quot;x&quot;:-0.893701,&quot;y&quot;:-0.32528,&quot;z&quot;:0.309017},{&quot;x&quot;:-0.823639,&quot;y&quot;:-0.475528,&quot;z&quot;:0.309017},{&quot;x&quot;:-0.728552,&quot;y&quot;:-0.611327,&quot;z&quot;:0.309017},{&quot;x&quot;:-0.611327,&quot;y&quot;:-0.728552,&quot;z&quot;:0.309017},{&quot;x&quot;:-0.475528,&quot;y&quot;:-0.823639,&quot;z&quot;:0.309017},{&quot;x&quot;:-0.32528,&quot;y&quot;:-0.893701,&quot;z&quot;:0.309017},{&quot;x&quot;:-0.165149,&quot;y&quot;:-0.936608,&quot;z&quot;:0.309017},{&quot;x&quot;:-1.74706e-16,&quot;y&quot;:-0.951057,&quot;z&quot;:0.309017},{&quot;x&quot;:0.165149,&quot;y&quot;:-0.936608,&quot;z&quot;:0.309017},{&quot;x&quot;:0.32528,&quot;y&quot;:-0.893701,&quot;z&quot;:0.309017},{&quot;x&quot;:0.475528,&quot;y&quot;:-0.823639,&quot;z&quot;:0.309017},{&quot;x&quot;:0.611327,&quot;y&quot;:-0.728552,&quot;z&quot;:0.309017},{&quot;x&quot;:0.728552,&quot;y&quot;:-0.611327,&quot;z&quot;:0.309017},{&quot;x&quot;:0.823639,&quot;y&quot;:-0.475528,&quot;z&quot;:0.309017},{&quot;x&quot;:0.893701,&quot;y&quot;:-0.32528,&quot;z&quot;:0.309017},{&quot;x&quot;:0.936608,&quot;y&quot;:-0.165149,&quot;z&quot;:0.309017},{&quot;x&quot;:0.87747,&quot;y&quot;:0.154722,&quot;z&quot;:0.45399},{&quot;x&quot;:0.891007,&quot;y&quot;:0,&quot;z&quot;:0.45399},{&quot;x&quot;:0.837272,&quot;y&quot;:0.304742,&quot;z&quot;:0.45399},{&quot;x&quot;:0.771634,&quot;y&quot;:0.445503,&quot;z&quot;:0.45399},{&quot;x&quot;:0.682551,&quot;y&quot;:0.572728,&quot;z&quot;:0.45399},{&quot;x&quot;:0.572728,&quot;y&quot;:0.682551,&quot;z&quot;:0.45399},{&quot;x&quot;:0.445503,&quot;y&quot;:0.771634,&quot;z&quot;:0.45399},{&quot;x&quot;:0.304742,&quot;y&quot;:0.837272,&quot;z&quot;:0.45399},{&quot;x&quot;:0.154722,&quot;y&quot;:0.87747,&quot;z&quot;:0.45399},{&quot;x&quot;:5.45584e-17,&quot;y&quot;:0.891007,&quot;z&quot;:0.45399},{&quot;x&quot;:-0.154722,&quot;y&quot;:0.87747,&quot;z&quot;:0.45399},{&quot;x&quot;:-0.304742,&quot;y&quot;:0.837272,&quot;z&quot;:0.45399},{&quot;x&quot;:-0.445503,&quot;y&quot;:0.771634,&quot;z&quot;:0.45399},{&quot;x&quot;:-0.572728,&quot;y&quot;:0.682551,&quot;z&quot;:0.45399},{&quot;x&quot;:-0.682551,&quot;y&quot;:0.572728,&quot;z&quot;:0.45399},{&quot;x&quot;:-0.771634,&quot;y&quot;:0.445503,&quot;z&quot;:0.45399},{&quot;x&quot;:-0.837272,&quot;y&quot;:0.304742,&quot;z&quot;:0.45399},{&quot;x&quot;:-0.87747,&quot;y&quot;:0.154722,&quot;z&quot;:0.45399},{&quot;x&quot;:-0.891007,&quot;y&quot;:1.09117e-16,&quot;z&quot;:0.45399},{&quot;x&quot;:-0.87747,&quot;y&quot;:-0.154722,&quot;z&quot;:0.45399},{&quot;x&quot;:-0.837272,&quot;y&quot;:-0.304742,&quot;z&quot;:0.45399},{&quot;x&quot;:-0.771634,&quot;y&quot;:-0.445503,&quot;z&quot;:0.45399},{&quot;x&quot;:-0.682551,&quot;y&quot;:-0.572728,&quot;z&quot;:0.45399},{&quot;x&quot;:-0.572728,&quot;y&quot;:-0.682551,&quot;z&quot;:0.45399},{&quot;x&quot;:-0.445503,&quot;y&quot;:-0.771634,&quot;z&quot;:0.45399},{&quot;x&quot;:-0.304742,&quot;y&quot;:-0.837272,&quot;z&quot;:0.45399},{&quot;x&quot;:-0.154722,&quot;y&quot;:-0.87747,&quot;z&quot;:0.45399},{&quot;x&quot;:-1.63675e-16,&quot;y&quot;:-0.891007,&quot;z&quot;:0.45399},{&quot;x&quot;:0.154722,&quot;y&quot;:-0.87747,&quot;z&quot;:0.45399},{&quot;x&quot;:0.304742,&quot;y&quot;:-0.837272,&quot;z&quot;:0.45399},{&quot;x&quot;:0.445503,&quot;y&quot;:-0.771634,&quot;z&quot;:0.45399},{&quot;x&quot;:0.572728,&quot;y&quot;:-0.682551,&quot;z&quot;:0.45399},{&quot;x&quot;:0.682551,&quot;y&quot;:-0.572728,&quot;z&quot;:0.45399},{&quot;x&quot;:0.771634,&quot;y&quot;:-0.445503,&quot;z&quot;:0.45399},{&quot;x&quot;:0.837272,&quot;y&quot;:-0.304742,&quot;z&quot;:0.45399},{&quot;x&quot;:0.87747,&quot;y&quot;:-0.154722,&quot;z&quot;:0.45399},{&quot;x&quot;:0.796726,&quot;y&quot;:0.140484,&quot;z&quot;:0.587785},{&quot;x&quot;:0.809017,&quot;y&quot;:0,&quot;z&quot;:0.587785},{&quot;x&quot;:0.760227,&quot;y&quot;:0.2767,&quot;z&quot;:0.587785},{&quot;x&quot;:0.700629,&quot;y&quot;:0.404508,&quot;z&quot;:0.587785},{&quot;x&quot;:0.619743,&quot;y&quot;:0.520026,&quot;z&quot;:0.587785},{&quot;x&quot;:0.520026,&quot;y&quot;:0.619743,&quot;z&quot;:0.587785},{&quot;x&quot;:0.404508,&quot;y&quot;:0.700629,&quot;z&quot;:0.587785},{&quot;x&quot;:0.2767,&quot;y&quot;:0.760227,&quot;z&quot;:0.587785},{&quot;x&quot;:0.140484,&quot;y&quot;:0.796726,&quot;z&quot;:0.587785},{&quot;x&quot;:4.9538e-17,&quot;y&quot;:0.809017,&quot;z&quot;:0.587785},{&quot;x&quot;:-0.140484,&quot;y&quot;:0.796726,&quot;z&quot;:0.587785},{&quot;x&quot;:-0.2767,&quot;y&quot;:0.760227,&quot;z&quot;:0.587785},{&quot;x&quot;:-0.404508,&quot;y&quot;:0.700629,&quot;z&quot;:0.587785},{&quot;x&quot;:-0.520026,&quot;y&quot;:0.619743,&quot;z&quot;:0.587785},{&quot;x&quot;:-0.619743,&quot;y&quot;:0.520026,&quot;z&quot;:0.587785},{&quot;x&quot;:-0.700629,&quot;y&quot;:0.404508,&quot;z&quot;:0.587785},{&quot;x&quot;:-0.760227,&quot;y&quot;:0.2767,&quot;z&quot;:0.587785},{&quot;x&quot;:-0.796726,&quot;y&quot;:0.140484,&quot;z&quot;:0.587785},{&quot;x&quot;:-0.809017,&quot;y&quot;:9.9076e-17,&quot;z&quot;:0.587785},{&quot;x&quot;:-0.796726,&quot;y&quot;:-0.140484,&quot;z&quot;:0.587785},{&quot;x&quot;:-0.760227,&quot;y&quot;:-0.2767,&quot;z&quot;:0.587785},{&quot;x&quot;:-0.700629,&quot;y&quot;:-0.404508,&quot;z&quot;:0.587785},{&quot;x&quot;:-0.619743,&quot;y&quot;:-0.520026,&quot;z&quot;:0.587785},{&quot;x&quot;:-0.520026,&quot;y&quot;:-0.619743,&quot;z&quot;:0.587785},{&quot;x&quot;:-0.404508,&quot;y&quot;:-0.700629,&quot;z&quot;:0.587785},{&quot;x&quot;:-0.2767,&quot;y&quot;:-0.760227,&quot;z&quot;:0.587785},{&quot;x&quot;:-0.140484,&quot;y&quot;:-0.796726,&quot;z&quot;:0.587785},{&quot;x&quot;:-1.48614e-16,&quot;y&quot;:-0.809017,&quot;z&quot;:0.587785},{&quot;x&quot;:0.140484,&quot;y&quot;:-0.796726,&quot;z&quot;:0.587785},{&quot;x&quot;:0.2767,&quot;y&quot;:-0.760227,&quot;z&quot;:0.587785},{&quot;x&quot;:0.404508,&quot;y&quot;:-0.700629,&quot;z&quot;:0.587785},{&quot;x&quot;:0.520026,&quot;y&quot;:-0.619743,&quot;z&quot;:0.587785},{&quot;x&quot;:0.619743,&quot;y&quot;:-0.520026,&quot;z&quot;:0.587785},{&quot;x&quot;:0.700629,&quot;y&quot;:-0.404508,&quot;z&quot;:0.587785},{&quot;x&quot;:0.760227,&quot;y&quot;:-0.2767,&quot;z&quot;:0.587785},{&quot;x&quot;:0.796726,&quot;y&quot;:-0.140484,&quot;z&quot;:0.587785},{&quot;x&quot;:0.696364,&quot;y&quot;:0.122788,&quot;z&quot;:0.707107},{&quot;x&quot;:0.707107,&quot;y&quot;:0,&quot;z&quot;:0.707107},{&quot;x&quot;:0.664463,&quot;y&quot;:0.241845,&quot;z&quot;:0.707107},{&quot;x&quot;:0.612372,&quot;y&quot;:0.353553,&quot;z&quot;:0.707107},{&quot;x&quot;:0.541675,&quot;y&quot;:0.454519,&quot;z&quot;:0.707107},{&quot;x&quot;:0.454519,&quot;y&quot;:0.541675,&quot;z&quot;:0.707107},{&quot;x&quot;:0.353553,&quot;y&quot;:0.612372,&quot;z&quot;:0.707107},{&quot;x&quot;:0.241845,&quot;y&quot;:0.664463,&quot;z&quot;:0.707107},{&quot;x&quot;:0.122788,&quot;y&quot;:0.696364,&quot;z&quot;:0.707107},{&quot;x&quot;:4.32978e-17,&quot;y&quot;:0.707107,&quot;z&quot;:0.707107},{&quot;x&quot;:-0.122788,&quot;y&quot;:0.696364,&quot;z&quot;:0.707107},{&quot;x&quot;:-0.241845,&quot;y&quot;:0.664463,&quot;z&quot;:0.707107},{&quot;x&quot;:-0.353553,&quot;y&quot;:0.612372,&quot;z&quot;:0.707107},{&quot;x&quot;:-0.454519,&quot;y&quot;:0.541675,&quot;z&quot;:0.707107},{&quot;x&quot;:-0.541675,&quot;y&quot;:0.454519,&quot;z&quot;:0.707107},{&quot;x&quot;:-0.612372,&quot;y&quot;:0.353553,&quot;z&quot;:0.707107},{&quot;x&quot;:-0.664463,&quot;y&quot;:0.241845,&quot;z&quot;:0.707107},{&quot;x&quot;:-0.696364,&quot;y&quot;:0.122788,&quot;z&quot;:0.707107},{&quot;x&quot;:-0.707107,&quot;y&quot;:8.65956e-17,&quot;z&quot;:0.707107},{&quot;x&quot;:-0.696364,&quot;y&quot;:-0.122788,&quot;z&quot;:0.707107},{&quot;x&quot;:-0.664463,&quot;y&quot;:-0.241845,&quot;z&quot;:0.707107},{&quot;x&quot;:-0.612372,&quot;y&quot;:-0.353553,&quot;z&quot;:0.707107},{&quot;x&quot;:-0.541675,&quot;y&quot;:-0.454519,&quot;z&quot;:0.707107},{&quot;x&quot;:-0.454519,&quot;y&quot;:-0.541675,&quot;z&quot;:0.707107},{&quot;x&quot;:-0.353553,&quot;y&quot;:-0.612372,&quot;z&quot;:0.707107},{&quot;x&quot;:-0.241845,&quot;y&quot;:-0.664463,&quot;z&quot;:0.707107},{&quot;x&quot;:-0.122788,&quot;y&quot;:-0.696364,&quot;z&quot;:0.707107},{&quot;x&quot;:-1.29893e-16,&quot;y&quot;:-0.707107,&quot;z&quot;:0.707107},{&quot;x&quot;:0.122788,&quot;y&quot;:-0.696364,&quot;z&quot;:0.707107},{&quot;x&quot;:0.241845,&quot;y&quot;:-0.664463,&quot;z&quot;:0.707107},{&quot;x&quot;:0.353553,&quot;y&quot;:-0.612372,&quot;z&quot;:0.707107},{&quot;x&quot;:0.454519,&quot;y&quot;:-0.541675,&quot;z&quot;:0.707107},{&quot;x&quot;:0.541675,&quot;y&quot;:-0.454519,&quot;z&quot;:0.707107},{&quot;x&quot;:0.612372,&quot;y&quot;:-0.353553,&quot;z&quot;:0.707107},{&quot;x&quot;:0.664463,&quot;y&quot;:-0.241845,&quot;z&quot;:0.707107},{&quot;x&quot;:0.696364,&quot;y&quot;:-0.122788,&quot;z&quot;:0.707107},{&quot;x&quot;:0.578855,&quot;y&quot;:0.102068,&quot;z&quot;:0.809017},{&quot;x&quot;:0.587785,&quot;y&quot;:0,&quot;z&quot;:0.809017},{&quot;x&quot;:0.552337,&quot;y&quot;:0.201034,&quot;z&quot;:0.809017},{&quot;x&quot;:0.509037,&quot;y&quot;:0.293893,&quot;z&quot;:0.809017},{&quot;x&quot;:0.45027,&quot;y&quot;:0.377821,&quot;z&quot;:0.809017},{&quot;x&quot;:0.377821,&quot;y&quot;:0.45027,&quot;z&quot;:0.809017},{&quot;x&quot;:0.293893,&quot;y&quot;:0.509037,&quot;z&quot;:0.809017},{&quot;x&quot;:0.201034,&quot;y&quot;:0.552337,&quot;z&quot;:0.809017},{&quot;x&quot;:0.102068,&quot;y&quot;:0.578855,&quot;z&quot;:0.809017},{&quot;x&quot;:3.59915e-17,&quot;y&quot;:0.587785,&quot;z&quot;:0.809017},{&quot;x&quot;:-0.102068,&quot;y&quot;:0.578855,&quot;z&quot;:0.809017},{&quot;x&quot;:-0.201034,&quot;y&quot;:0.552337,&quot;z&quot;:0.809017},{&quot;x&quot;:-0.293893,&quot;y&quot;:0.509037,&quot;z&quot;:0.809017},{&quot;x&quot;:-0.377821,&quot;y&quot;:0.45027,&quot;z&quot;:0.809017},{&quot;x&quot;:-0.45027,&quot;y&quot;:0.377821,&quot;z&quot;:0.809017},{&quot;x&quot;:-0.509037,&quot;y&quot;:0.293893,&quot;z&quot;:0.809017},{&quot;x&quot;:-0.552337,&quot;y&quot;:0.201034,&quot;z&quot;:0.809017},{&quot;x&quot;:-0.578855,&quot;y&quot;:0.102068,&quot;z&quot;:0.809017},{&quot;x&quot;:-0.587785,&quot;y&quot;:7.19829e-17,&quot;z&quot;:0.809017},{&quot;x&quot;:-0.578855,&quot;y&quot;:-0.102068,&quot;z&quot;:0.809017},{&quot;x&quot;:-0.552337,&quot;y&quot;:-0.201034,&quot;z&quot;:0.809017},{&quot;x&quot;:-0.509037,&quot;y&quot;:-0.293893,&quot;z&quot;:0.809017},{&quot;x&quot;:-0.45027,&quot;y&quot;:-0.377821,&quot;z&quot;:0.809017},{&quot;x&quot;:-0.377821,&quot;y&quot;:-0.45027,&quot;z&quot;:0.809017},{&quot;x&quot;:-0.293893,&quot;y&quot;:-0.509037,&quot;z&quot;:0.809017},{&quot;x&quot;:-0.201034,&quot;y&quot;:-0.552337,&quot;z&quot;:0.809017},{&quot;x&quot;:-0.102068,&quot;y&quot;:-0.578855,&quot;z&quot;:0.809017},{&quot;x&quot;:-1.07974e-16,&quot;y&quot;:-0.587785,&quot;z&quot;:0.809017},{&quot;x&quot;:0.102068,&quot;y&quot;:-0.578855,&quot;z&quot;:0.809017},{&quot;x&quot;:0.201034,&quot;y&quot;:-0.552337,&quot;z&quot;:0.809017},{&quot;x&quot;:0.293893,&quot;y&quot;:-0.509037,&quot;z&quot;:0.809017},{&quot;x&quot;:0.377821,&quot;y&quot;:-0.45027,&quot;z&quot;:0.809017},{&quot;x&quot;:0.45027,&quot;y&quot;:-0.377821,&quot;z&quot;:0.809017},{&quot;x&quot;:0.509037,&quot;y&quot;:-0.293893,&quot;z&quot;:0.809017},{&quot;x&quot;:0.552337,&quot;y&quot;:-0.201034,&quot;z&quot;:0.809017},{&quot;x&quot;:0.578855,&quot;y&quot;:-0.102068,&quot;z&quot;:0.809017},{&quot;x&quot;:0.447093,&quot;y&quot;:0.0788346,&quot;z&quot;:0.891007},{&quot;x&quot;:0.45399,&quot;y&quot;:0,&quot;z&quot;:0.891007},{&quot;x&quot;:0.426612,&quot;y&quot;:0.155274,&quot;z&quot;:0.891007},{&quot;x&quot;:0.393167,&quot;y&quot;:0.226995,&quot;z&quot;:0.891007},{&quot;x&quot;:0.347777,&quot;y&quot;:0.291819,&quot;z&quot;:0.891007},{&quot;x&quot;:0.291819,&quot;y&quot;:0.347777,&quot;z&quot;:0.891007},{&quot;x&quot;:0.226995,&quot;y&quot;:0.393167,&quot;z&quot;:0.891007},{&quot;x&quot;:0.155274,&quot;y&quot;:0.426612,&quot;z&quot;:0.891007},{&quot;x&quot;:0.0788346,&quot;y&quot;:0.447093,&quot;z&quot;:0.891007},{&quot;x&quot;:2.77989e-17,&quot;y&quot;:0.45399,&quot;z&quot;:0.891007},{&quot;x&quot;:-0.0788346,&quot;y&quot;:0.447093,&quot;z&quot;:0.891007},{&quot;x&quot;:-0.155274,&quot;y&quot;:0.426612,&quot;z&quot;:0.891007},{&quot;x&quot;:-0.226995,&quot;y&quot;:0.393167,&quot;z&quot;:0.891007},{&quot;x&quot;:-0.291819,&quot;y&quot;:0.347777,&quot;z&quot;:0.891007},{&quot;x&quot;:-0.347777,&quot;y&quot;:0.291819,&quot;z&quot;:0.891007},{&quot;x&quot;:-0.393167,&quot;y&quot;:0.226995,&quot;z&quot;:0.891007},{&quot;x&quot;:-0.426612,&quot;y&quot;:0.155274,&quot;z&quot;:0.891007},{&quot;x&quot;:-0.447093,&quot;y&quot;:0.0788346,&quot;z&quot;:0.891007},{&quot;x&quot;:-0.45399,&quot;y&quot;:5.55978e-17,&quot;z&quot;:0.891007},{&quot;x&quot;:-0.447093,&quot;y&quot;:-0.0788346,&quot;z&quot;:0.891007},{&quot;x&quot;:-0.426612,&quot;y&quot;:-0.155274,&quot;z&quot;:0.891007},{&quot;x&quot;:-0.393167,&quot;y&quot;:-0.226995,&quot;z&quot;:0.891007},{&quot;x&quot;:-0.347777,&quot;y&quot;:-0.291819,&quot;z&quot;:0.891007},{&quot;x&quot;:-0.291819,&quot;y&quot;:-0.347777,&quot;z&quot;:0.891007},{&quot;x&quot;:-0.226995,&quot;y&quot;:-0.393167,&quot;z&quot;:0.891007},{&quot;x&quot;:-0.155274,&quot;y&quot;:-0.426612,&quot;z&quot;:0.891007},{&quot;x&quot;:-0.0788346,&quot;y&quot;:-0.447093,&quot;z&quot;:0.891007},{&quot;x&quot;:-8.33967e-17,&quot;y&quot;:-0.45399,&quot;z&quot;:0.891007},{&quot;x&quot;:0.0788346,&quot;y&quot;:-0.447093,&quot;z&quot;:0.891007},{&quot;x&quot;:0.155274,&quot;y&quot;:-0.426612,&quot;z&quot;:0.891007},{&quot;x&quot;:0.226995,&quot;y&quot;:-0.393167,&quot;z&quot;:0.891007},{&quot;x&quot;:0.291819,&quot;y&quot;:-0.347777,&quot;z&quot;:0.891007},{&quot;x&quot;:0.347777,&quot;y&quot;:-0.291819,&quot;z&quot;:0.891007},{&quot;x&quot;:0.393167,&quot;y&quot;:-0.226995,&quot;z&quot;:0.891007},{&quot;x&quot;:0.426612,&quot;y&quot;:-0.155274,&quot;z&quot;:0.891007},{&quot;x&quot;:0.447093,&quot;y&quot;:-0.0788346,&quot;z&quot;:0.891007},{&quot;x&quot;:0.304322,&quot;y&quot;:0.0536602,&quot;z&quot;:0.951057},{&quot;x&quot;:0.309017,&quot;y&quot;:0,&quot;z&quot;:0.951057},{&quot;x&quot;:0.290381,&quot;y&quot;:0.10569,&quot;z&quot;:0.951057},{&quot;x&quot;:0.267617,&quot;y&quot;:0.154508,&quot;z&quot;:0.951057},{&quot;x&quot;:0.236721,&quot;y&quot;:0.198632,&quot;z&quot;:0.951057},{&quot;x&quot;:0.198632,&quot;y&quot;:0.236721,&quot;z&quot;:0.951057},{&quot;x&quot;:0.154508,&quot;y&quot;:0.267617,&quot;z&quot;:0.951057},{&quot;x&quot;:0.10569,&quot;y&quot;:0.290381,&quot;z&quot;:0.951057},{&quot;x&quot;:0.0536602,&quot;y&quot;:0.304322,&quot;z&quot;:0.951057},{&quot;x&quot;:1.89218e-17,&quot;y&quot;:0.309017,&quot;z&quot;:0.951057},{&quot;x&quot;:-0.0536602,&quot;y&quot;:0.304322,&quot;z&quot;:0.951057},{&quot;x&quot;:-0.10569,&quot;y&quot;:0.290381,&quot;z&quot;:0.951057},{&quot;x&quot;:-0.154508,&quot;y&quot;:0.267617,&quot;z&quot;:0.951057},{&quot;x&quot;:-0.198632,&quot;y&quot;:0.236721,&quot;z&quot;:0.951057},{&quot;x&quot;:-0.236721,&quot;y&quot;:0.198632,&quot;z&quot;:0.951057},{&quot;x&quot;:-0.267617,&quot;y&quot;:0.154508,&quot;z&quot;:0.951057},{&quot;x&quot;:-0.290381,&quot;y&quot;:0.10569,&quot;z&quot;:0.951057},{&quot;x&quot;:-0.304322,&quot;y&quot;:0.0536602,&quot;z&quot;:0.951057},{&quot;x&quot;:-0.309017,&quot;y&quot;:3.78437e-17,&quot;z&quot;:0.951057},{&quot;x&quot;:-0.304322,&quot;y&quot;:-0.0536602,&quot;z&quot;:0.951057},{&quot;x&quot;:-0.290381,&quot;y&quot;:-0.10569,&quot;z&quot;:0.951057},{&quot;x&quot;:-0.267617,&quot;y&quot;:-0.154508,&quot;z&quot;:0.951057},{&quot;x&quot;:-0.236721,&quot;y&quot;:-0.198632,&quot;z&quot;:0.951057},{&quot;x&quot;:-0.198632,&quot;y&quot;:-0.236721,&quot;z&quot;:0.951057},{&quot;x&quot;:-0.154508,&quot;y&quot;:-0.267617,&quot;z&quot;:0.951057},{&quot;x&quot;:-0.10569,&quot;y&quot;:-0.290381,&quot;z&quot;:0.951057},{&quot;x&quot;:-0.0536602,&quot;y&quot;:-0.304322,&quot;z&quot;:0.951057},{&quot;x&quot;:-5.67655e-17,&quot;y&quot;:-0.309017,&quot;z&quot;:0.951057},{&quot;x&quot;:0.0536602,&quot;y&quot;:-0.304322,&quot;z&quot;:0.951057},{&quot;x&quot;:0.10569,&quot;y&quot;:-0.290381,&quot;z&quot;:0.951057},{&quot;x&quot;:0.154508,&quot;y&quot;:-0.267617,&quot;z&quot;:0.951057},{&quot;x&quot;:0.198632,&quot;y&quot;:-0.236721,&quot;z&quot;:0.951057},{&quot;x&quot;:0.236721,&quot;y&quot;:-0.198632,&quot;z&quot;:0.951057},{&quot;x&quot;:0.267617,&quot;y&quot;:-0.154508,&quot;z&quot;:0.951057},{&quot;x&quot;:0.290381,&quot;y&quot;:-0.10569,&quot;z&quot;:0.951057},{&quot;x&quot;:0.304322,&quot;y&quot;:-0.0536602,&quot;z&quot;:0.951057},{&quot;x&quot;:0.154058,&quot;y&quot;:0.0271646,&quot;z&quot;:0.987688},{&quot;x&quot;:0.156434,&quot;y&quot;:0,&quot;z&quot;:0.987688},{&quot;x&quot;:0.147,&quot;y&quot;:0.0535037,&quot;z&quot;:0.987688},{&quot;x&quot;:0.135476,&quot;y&quot;:0.0782172,&quot;z&quot;:0.987688},{&quot;x&quot;:0.119836,&quot;y&quot;:0.100554,&quot;z&quot;:0.987688},{&quot;x&quot;:0.100554,&quot;y&quot;:0.119836,&quot;z&quot;:0.987688},{&quot;x&quot;:0.0782172,&quot;y&quot;:0.135476,&quot;z&quot;:0.987688},{&quot;x&quot;:0.0535037,&quot;y&quot;:0.147,&quot;z&quot;:0.987688},{&quot;x&quot;:0.0271646,&quot;y&quot;:0.154058,&quot;z&quot;:0.987688},{&quot;x&quot;:9.57885e-18,&quot;y&quot;:0.156434,&quot;z&quot;:0.987688},{&quot;x&quot;:-0.0271646,&quot;y&quot;:0.154058,&quot;z&quot;:0.987688},{&quot;x&quot;:-0.0535037,&quot;y&quot;:0.147,&quot;z&quot;:0.987688},{&quot;x&quot;:-0.0782172,&quot;y&quot;:0.135476,&quot;z&quot;:0.987688},{&quot;x&quot;:-0.100554,&quot;y&quot;:0.119836,&quot;z&quot;:0.987688},{&quot;x&quot;:-0.119836,&quot;y&quot;:0.100554,&quot;z&quot;:0.987688},{&quot;x&quot;:-0.135476,&quot;y&quot;:0.0782172,&quot;z&quot;:0.987688},{&quot;x&quot;:-0.147,&quot;y&quot;:0.0535037,&quot;z&quot;:0.987688},{&quot;x&quot;:-0.154058,&quot;y&quot;:0.0271646,&quot;z&quot;:0.987688},{&quot;x&quot;:-0.156434,&quot;y&quot;:1.91577e-17,&quot;z&quot;:0.987688},{&quot;x&quot;:-0.154058,&quot;y&quot;:-0.0271646,&quot;z&quot;:0.987688},{&quot;x&quot;:-0.147,&quot;y&quot;:-0.0535037,&quot;z&quot;:0.987688},{&quot;x&quot;:-0.135476,&quot;y&quot;:-0.0782172,&quot;z&quot;:0.987688},{&quot;x&quot;:-0.119836,&quot;y&quot;:-0.100554,&quot;z&quot;:0.987688},{&quot;x&quot;:-0.100554,&quot;y&quot;:-0.119836,&quot;z&quot;:0.987688},{&quot;x&quot;:-0.0782172,&quot;y&quot;:-0.135476,&quot;z&quot;:0.987688},{&quot;x&quot;:-0.0535037,&quot;y&quot;:-0.147,&quot;z&quot;:0.987688},{&quot;x&quot;:-0.0271646,&quot;y&quot;:-0.154058,&quot;z&quot;:0.987688},{&quot;x&quot;:-2.87365e-17,&quot;y&quot;:-0.156434,&quot;z&quot;:0.987688},{&quot;x&quot;:0.0271646,&quot;y&quot;:-0.154058,&quot;z&quot;:0.987688},{&quot;x&quot;:0.0535037,&quot;y&quot;:-0.147,&quot;z&quot;:0.987688},{&quot;x&quot;:0.0782172,&quot;y&quot;:-0.135476,&quot;z&quot;:0.987688},{&quot;x&quot;:0.100554,&quot;y&quot;:-0.119836,&quot;z&quot;:0.987688},{&quot;x&quot;:0.119836,&quot;y&quot;:-0.100554,&quot;z&quot;:0.987688},{&quot;x&quot;:0.135476,&quot;y&quot;:-0.0782172,&quot;z&quot;:0.987688},{&quot;x&quot;:0.147,&quot;y&quot;:-0.0535037,&quot;z&quot;:0.987688},{&quot;x&quot;:0.154058,&quot;y&quot;:-0.0271646,&quot;z&quot;:0.987688},{&quot;x&quot;:0,&quot;y&quot;:0,&quot;z&quot;:1}], &quot;faces&quot;:[[0,1,2],[0,3,1],[0,4,3],[0,5,4],[0,6,5],[0,7,6],[0,8,7],[0,9,8],[0,10,9],[0,11,10],[0,12,11],[0,13,12],[0,14,13],[0,15,14],[0,16,15],[0,17,16],[0,18,17],[0,19,18],[0,20,19],[0,21,20],[0,22,21],[0,23,22],[0,24,23],[0,25,24],[0,26,25],[0,27,26],[0,28,27],[0,29,28],[0,30,29],[0,31,30],[0,32,31],[0,33,32],[0,34,33],[0,35,34],[0,36,35],[0,2,36],[2,1,37,38],[1,3,39,37],[3,4,40,39],[4,5,41,40],[5,6,42,41],[6,7,43,42],[7,8,44,43],[8,9,45,44],[9,10,46,45],[10,11,47,46],[11,12,48,47],[12,13,49,48],[13,14,50,49],[14,15,51,50],[15,16,52,51],[16,17,53,52],[17,18,54,53],[18,19,55,54],[19,20,56,55],[20,21,57,56],[21,22,58,57],[22,23,59,58],[23,24,60,59],[24,25,61,60],[25,26,62,61],[26,27,63,62],[27,28,64,63],[28,29,65,64],[29,30,66,65],[30,31,67,66],[31,32,68,67],[32,33,69,68],[33,34,70,69],[34,35,71,70],[35,36,72,71],[36,2,38,72],[38,37,73,74],[37,39,75,73],[39,40,76,75],[40,41,77,76],[41,42,78,77],[42,43,79,78],[43,44,80,79],[44,45,81,80],[45,46,82,81],[46,47,83,82],[47,48,84,83],[48,49,85,84],[49,50,86,85],[50,51,87,86],[51,52,88,87],[52,53,89,88],[53,54,90,89],[54,55,91,90],[55,56,92,91],[56,57,93,92],[57,58,94,93],[58,59,95,94],[59,60,96,95],[60,61,97,96],[61,62,98,97],[62,63,99,98],[63,64,100,99],[64,65,101,100],[65,66,102,101],[66,67,103,102],[67,68,104,103],[68,69,105,104],[69,70,106,105],[70,71,107,106],[71,72,108,107],[72,38,74,108],[74,73,109,110],[73,75,111,109],[75,76,112,111],[76,77,113,112],[77,78,114,113],[78,79,115,114],[79,80,116,115],[80,81,117,116],[81,82,118,117],[82,83,119,118],[83,84,120,119],[84,85,121,120],[85,86,122,121],[86,87,123,122],[87,88,124,123],[88,89,125,124],[89,90,126,125],[90,91,127,126],[91,92,128,127],[92,93,129,128],[93,94,130,129],[94,95,131,130],[95,96,132,131],[96,97,133,132],[97,98,134,133],[98,99,135,134],[99,100,136,135],[100,101,137,136],[101,102,138,137],[102,103,139,138],[103,104,140,139],[104,105,141,140],[105,106,142,141],[106,107,143,142],[107,108,144,143],[108,74,110,144],[110,109,145,146],[109,111,147,145],[111,112,148,147],[112,113,149,148],[113,114,150,149],[114,115,151,150],[115,116,152,151],[116,117,153,152],[117,118,154,153],[118,119,155,154],[119,120,156,155],[120,121,157,156],[121,122,158,157],[122,123,159,158],[123,124,160,159],[124,125,161,160],[125,126,162,161],[126,127,163,162],[127,128,164,163],[128,129,165,164],[129,130,166,165],[130,131,167,166],[131,132,168,167],[132,133,169,168],[133,134,170,169],[134,135,171,170],[135,136,172,171],[136,137,173,172],[137,138,174,173],[138,139,175,174],[139,140,176,175],[140,141,177,176],[141,142,178,177],[142,143,179,178],[143,144,180,179],[144,110,146,180],[146,145,181,182],[145,147,183,181],[147,148,184,183],[148,149,185,184],[149,150,186,185],[150,151,187,186],[151,152,188,187],[152,153,189,188],[153,154,190,189],[154,155,191,190],[155,156,192,191],[156,157,193,192],[157,158,194,193],[158,159,195,194],[159,160,196,195],[160,161,197,196],[161,162,198,197],[162,163,199,198],[163,164,200,199],[164,165,201,200],[165,166,202,201],[166,167,203,202],[167,168,204,203],[168,169,205,204],[169,170,206,205],[170,171,207,206],[171,172,208,207],[172,173,209,208],[173,174,210,209],[174,175,211,210],[175,176,212,211],[176,177,213,212],[177,178,214,213],[178,179,215,214],[179,180,216,215],[180,146,182,216],[182,181,217,218],[181,183,219,217],[183,184,220,219],[184,185,221,220],[185,186,222,221],[186,187,223,222],[187,188,224,223],[188,189,225,224],[189,190,226,225],[190,191,227,226],[191,192,228,227],[192,193,229,228],[193,194,230,229],[194,195,231,230],[195,196,232,231],[196,197,233,232],[197,198,234,233],[198,199,235,234],[199,200,236,235],[200,201,237,236],[201,202,238,237],[202,203,239,238],[203,204,240,239],[204,205,241,240],[205,206,242,241],[206,207,243,242],[207,208,244,243],[208,209,245,244],[209,210,246,245],[210,211,247,246],[211,212,248,247],[212,213,249,248],[213,214,250,249],[214,215,251,250],[215,216,252,251],[216,182,218,252],[218,217,253,254],[217,219,255,253],[219,220,256,255],[220,221,257,256],[221,222,258,257],[222,223,259,258],[223,224,260,259],[224,225,261,260],[225,226,262,261],[226,227,263,262],[227,228,264,263],[228,229,265,264],[229,230,266,265],[230,231,267,266],[231,232,268,267],[232,233,269,268],[233,234,270,269],[234,235,271,270],[235,236,272,271],[236,237,273,272],[237,238,274,273],[238,239,275,274],[239,240,276,275],[240,241,277,276],[241,242,278,277],[242,243,279,278],[243,244,280,279],[244,245,281,280],[245,246,282,281],[246,247,283,282],[247,248,284,283],[248,249,285,284],[249,250,286,285],[250,251,287,286],[251,252,288,287],[252,218,254,288],[254,253,289,290],[253,255,291,289],[255,256,292,291],[256,257,293,292],[257,258,294,293],[258,259,295,294],[259,260,296,295],[260,261,297,296],[261,262,298,297],[262,263,299,298],[263,264,300,299],[264,265,301,300],[265,266,302,301],[266,267,303,302],[267,268,304,303],[268,269,305,304],[269,270,306,305],[270,271,307,306],[271,272,308,307],[272,273,309,308],[273,274,310,309],[274,275,311,310],[275,276,312,311],[276,277,313,312],[277,278,314,313],[278,279,315,314],[279,280,316,315],[280,281,317,316],[281,282,318,317],[282,283,319,318],[283,284,320,319],[284,285,321,320],[285,286,322,321],[286,287,323,322],[287,288,324,323],[288,254,290,324],[290,289,325,326],[289,291,327,325],[291,292,328,327],[292,293,329,328],[293,294,330,329],[294,295,331,330],[295,296,332,331],[296,297,333,332],[297,298,334,333],[298,299,335,334],[299,300,336,335],[300,301,337,336],[301,302,338,337],[302,303,339,338],[303,304,340,339],[304,305,341,340],[305,306,342,341],[306,307,343,342],[307,308,344,343],[308,309,345,344],[309,310,346,345],[310,311,347,346],[311,312,348,347],[312,313,349,348],[313,314,350,349],[314,315,351,350],[315,316,352,351],[316,317,353,352],[317,318,354,353],[318,319,355,354],[319,320,356,355],[320,321,357,356],[321,322,358,357],[322,323,359,358],[323,324,360,359],[324,290,326,360],[326,325,361,362],[325,327,363,361],[327,328,364,363],[328,329,365,364],[329,330,366,365],[330,331,367,366],[331,332,368,367],[332,333,369,368],[333,334,370,369],[334,335,371,370],[335,336,372,371],[336,337,373,372],[337,338,374,373],[338,339,375,374],[339,340,376,375],[340,341,377,376],[341,342,378,377],[342,343,379,378],[343,344,380,379],[344,345,381,380],[345,346,382,381],[346,347,383,382],[347,348,384,383],[348,349,385,384],[349,350,386,385],[350,351,387,386],[351,352,388,387],[352,353,389,388],[353,354,390,389],[354,355,391,390],[355,356,392,391],[356,357,393,392],[357,358,394,393],[358,359,395,394],[359,360,396,395],[360,326,362,396],[362,361,397,398],[361,363,399,397],[363,364,400,399],[364,365,401,400],[365,366,402,401],[366,367,403,402],[367,368,404,403],[368,369,405,404],[369,370,406,405],[370,371,407,406],[371,372,408,407],[372,373,409,408],[373,374,410,409],[374,375,411,410],[375,376,412,411],[376,377,413,412],[377,378,414,413],[378,379,415,414],[379,380,416,415],[380,381,417,416],[381,382,418,417],[382,383,419,418],[383,384,420,419],[384,385,421,420],[385,386,422,421],[386,387,423,422],[387,388,424,423],[388,389,425,424],[389,390,426,425],[390,391,427,426],[391,392,428,427],[392,393,429,428],[393,394,430,429],[394,395,431,430],[395,396,432,431],[396,362,398,432],[398,397,433,434],[397,399,435,433],[399,400,436,435],[400,401,437,436],[401,402,438,437],[402,403,439,438],[403,404,440,439],[404,405,441,440],[405,406,442,441],[406,407,443,442],[407,408,444,443],[408,409,445,444],[409,410,446,445],[410,411,447,446],[411,412,448,447],[412,413,449,448],[413,414,450,449],[414,415,451,450],[415,416,452,451],[416,417,453,452],[417,418,454,453],[418,419,455,454],[419,420,456,455],[420,421,457,456],[421,422,458,457],[422,423,459,458],[423,424,460,459],[424,425,461,460],[425,426,462,461],[426,427,463,462],[427,428,464,463],[428,429,465,464],[429,430,466,465],[430,431,467,466],[431,432,468,467],[432,398,434,468],[434,433,469,470],[433,435,471,469],[435,436,472,471],[436,437,473,472],[437,438,474,473],[438,439,475,474],[439,440,476,475],[440,441,477,476],[441,442,478,477],[442,443,479,478],[443,444,480,479],[444,445,481,480],[445,446,482,481],[446,447,483,482],[447,448,484,483],[448,449,485,484],[449,450,486,485],[450,451,487,486],[451,452,488,487],[452,453,489,488],[453,454,490,489],[454,455,491,490],[455,456,492,491],[456,457,493,492],[457,458,494,493],[458,459,495,494],[459,460,496,495],[460,461,497,496],[461,462,498,497],[462,463,499,498],[463,464,500,499],[464,465,501,500],[465,466,502,501],[466,467,503,502],[467,468,504,503],[468,434,470,504],[470,469,505,506],[469,471,507,505],[471,472,508,507],[472,473,509,508],[473,474,510,509],[474,475,511,510],[475,476,512,511],[476,477,513,512],[477,478,514,513],[478,479,515,514],[479,480,516,515],[480,481,517,516],[481,482,518,517],[482,483,519,518],[483,484,520,519],[484,485,521,520],[485,486,522,521],[486,487,523,522],[487,488,524,523],[488,489,525,524],[489,490,526,525],[490,491,527,526],[491,492,528,527],[492,493,529,528],[493,494,530,529],[494,495,531,530],[495,496,532,531],[496,497,533,532],[497,498,534,533],[498,499,535,534],[499,500,536,535],[500,501,537,536],[501,502,538,537],[502,503,539,538],[503,504,540,539],[504,470,506,540],[506,505,541,542],[505,507,543,541],[507,508,544,543],[508,509,545,544],[509,510,546,545],[510,511,547,546],[511,512,548,547],[512,513,549,548],[513,514,550,549],[514,515,551,550],[515,516,552,551],[516,517,553,552],[517,518,554,553],[518,519,555,554],[519,520,556,555],[520,521,557,556],[521,522,558,557],[522,523,559,558],[523,524,560,559],[524,525,561,560],[525,526,562,561],[526,527,563,562],[527,528,564,563],[528,529,565,564],[529,530,566,565],[530,531,567,566],[531,532,568,567],[532,533,569,568],[533,534,570,569],[534,535,571,570],[535,536,572,571],[536,537,573,572],[537,538,574,573],[538,539,575,574],[539,540,576,575],[540,506,542,576],[542,541,577,578],[541,543,579,577],[543,544,580,579],[544,545,581,580],[545,546,582,581],[546,547,583,582],[547,548,584,583],[548,549,585,584],[549,550,586,585],[550,551,587,586],[551,552,588,587],[552,553,589,588],[553,554,590,589],[554,555,591,590],[555,556,592,591],[556,557,593,592],[557,558,594,593],[558,559,595,594],[559,560,596,595],[560,561,597,596],[561,562,598,597],[562,563,599,598],[563,564,600,599],[564,565,601,600],[565,566,602,601],[566,567,603,602],[567,568,604,603],[568,569,605,604],[569,570,606,605],[570,571,607,606],[571,572,608,607],[572,573,609,608],[573,574,610,609],[574,575,611,610],[575,576,612,611],[576,542,578,612],[578,577,613,614],[577,579,615,613],[579,580,616,615],[580,581,617,616],[581,582,618,617],[582,583,619,618],[583,584,620,619],[584,585,621,620],[585,586,622,621],[586,587,623,622],[587,588,624,623],[588,589,625,624],[589,590,626,625],[590,591,627,626],[591,592,628,627],[592,593,629,628],[593,594,630,629],[594,595,631,630],[595,596,632,631],[596,597,633,632],[597,598,634,633],[598,599,635,634],[599,600,636,635],[600,601,637,636],[601,602,638,637],[602,603,639,638],[603,604,640,639],[604,605,641,640],[605,606,642,641],[606,607,643,642],[607,608,644,643],[608,609,645,644],[609,610,646,645],[610,611,647,646],[611,612,648,647],[612,578,614,648],[614,613,649,650],[613,615,651,649],[615,616,652,651],[616,617,653,652],[617,618,654,653],[618,619,655,654],[619,620,656,655],[620,621,657,656],[621,622,658,657],[622,623,659,658],[623,624,660,659],[624,625,661,660],[625,626,662,661],[626,627,663,662],[627,628,664,663],[628,629,665,664],[629,630,666,665],[630,631,667,666],[631,632,668,667],[632,633,669,668],[633,634,670,669],[634,635,671,670],[635,636,672,671],[636,637,673,672],[637,638,674,673],[638,639,675,674],[639,640,676,675],[640,641,677,676],[641,642,678,677],[642,643,679,678],[643,644,680,679],[644,645,681,680],[645,646,682,681],[646,647,683,682],[647,648,684,683],[648,614,650,684],[650,649,685],[649,651,685],[651,652,685],[652,653,685],[653,654,685],[654,655,685],[655,656,685],[656,657,685],[657,658,685],[658,659,685],[659,660,685],[660,661,685],[661,662,685],[662,663,685],[663,664,685],[664,665,685],[665,666,685],[666,667,685],[667,668,685],[668,669,685],[669,670,685],[670,671,685],[671,672,685],[672,673,685],[673,674,685],[674,675,685],[675,676,685],[676,677,685],[677,678,685],[678,679,685],[679,680,685],[680,681,685],[681,682,685],[682,683,685],[683,684,685],[684,650,685]], &quot;color&quot;:&quot;#008000&quot;, &quot;opacity&quot;:0.7}];\n",
       "    for ( var i=0 ; i < surfaces.length ; i++ ) addSurface( surfaces[i] );\n",
       "\n",
       "    function addSurface( json ) {\n",
       "\n",
       "        var useFaceColors = 'faceColors' in json ? true : false;\n",
       "\n",
       "        var geometry = new THREE.Geometry();\n",
       "        for ( var i=0 ; i < json.vertices.length ; i++ ) {\n",
       "            var v = json.vertices[i];\n",
       "            geometry.vertices.push( new THREE.Vector3( a[0]*v.x, a[1]*v.y, a[2]*v.z ) );\n",
       "        }\n",
       "        for ( var i=0 ; i < json.faces.length ; i++ ) {\n",
       "            var f = json.faces[i];\n",
       "            for ( var j=0 ; j < f.length - 2 ; j++ ) {\n",
       "                var face = new THREE.Face3( f[0], f[j+1], f[j+2] );\n",
       "                if ( useFaceColors ) face.color.set( json.faceColors[i] );\n",
       "                geometry.faces.push( face );\n",
       "            }\n",
       "        }\n",
       "        geometry.computeVertexNormals();\n",
       "\n",
       "        var side = json.singleSide ? THREE.FrontSide : THREE.DoubleSide;\n",
       "        var transparent = json.opacity < 1 ? true : false;\n",
       "\n",
       "        var material = new THREE.MeshPhongMaterial( { side: side,\n",
       "                                     color: useFaceColors ? 'white' : json.color,\n",
       "                                     vertexColors: useFaceColors ? THREE.FaceColors : THREE.NoColors,\n",
       "                                     transparent: transparent, opacity: json.opacity,\n",
       "                                     shininess: 20, flatShading: json.useFlatShading } );\n",
       "\n",
       "        var c = new THREE.Vector3();\n",
       "        geometry.computeBoundingBox();\n",
       "        geometry.boundingBox.getCenter( c );\n",
       "        geometry.translate( -c.x, -c.y, -c.z );\n",
       "\n",
       "        var mesh = new THREE.Mesh( geometry, material );\n",
       "        mesh.position.set( c.x, c.y, c.z );\n",
       "        if ( transparent && json.renderOrder ) mesh.renderOrder = json.renderOrder;\n",
       "        scene.add( mesh );\n",
       "\n",
       "        if ( json.showMeshGrid ) {\n",
       "\n",
       "            var geometry = new THREE.Geometry();\n",
       "\n",
       "            for ( var i=0 ; i < json.faces.length ; i++ ) {\n",
       "                var f = json.faces[i];\n",
       "                for ( var j=0 ; j < f.length ; j++ ) {\n",
       "                    var k = j === f.length-1 ? 0 : j+1;\n",
       "                    var v1 = json.vertices[f[j]];\n",
       "                    var v2 = json.vertices[f[k]];\n",
       "                    // vertices in opposite directions on neighboring faces\n",
       "                    var nudge = f[j] < f[k] ? .0005*zRange : -.0005*zRange;\n",
       "                    geometry.vertices.push( new THREE.Vector3( a[0]*v1.x, a[1]*v1.y, a[2]*(v1.z+nudge) ) );\n",
       "                    geometry.vertices.push( new THREE.Vector3( a[0]*v2.x, a[1]*v2.y, a[2]*(v2.z+nudge) ) );\n",
       "                }\n",
       "            }\n",
       "\n",
       "            var material = new THREE.LineBasicMaterial( { color: 'black', linewidth: 1 } );\n",
       "\n",
       "            var c = new THREE.Vector3();\n",
       "            geometry.computeBoundingBox();\n",
       "            geometry.boundingBox.getCenter( c );\n",
       "            geometry.translate( -c.x, -c.y, -c.z );\n",
       "\n",
       "            var mesh = new THREE.LineSegments( geometry, material );\n",
       "            mesh.position.set( c.x, c.y, c.z );\n",
       "            scene.add( mesh );\n",
       "\n",
       "        }\n",
       "\n",
       "    }\n",
       "\n",
       "    var scratch = new THREE.Vector3();\n",
       "\n",
       "    function render() {\n",
       "\n",
       "        if ( animate ) requestAnimationFrame( render );\n",
       "        renderer.render( scene, camera );\n",
       "\n",
       "        // Resize text based on distance from camera.\n",
       "        // Not neccessary for orthographic due to the nature of the projection (preserves sizes).\n",
       "        if ( !camera.isOrthographicCamera ) {\n",
       "            for ( var i=0 ; i < scene.children.length ; i++ ) {\n",
       "                if ( scene.children[i].type === 'Sprite' ) {\n",
       "                    var sprite = scene.children[i];\n",
       "                    var adjust = scratch.addVectors( sprite.position, scene.position )\n",
       "                                    .sub( camera.position ).length() / 5;\n",
       "                    sprite.scale.set( adjust, .25*adjust ); // ratio of canvas width to height\n",
       "                }\n",
       "            }\n",
       "        }\n",
       "    }\n",
       "    \n",
       "    render();\n",
       "    controls.update();\n",
       "    if ( !animate ) render();\n",
       "\n",
       "\n",
       "    // menu functions\n",
       "\n",
       "    function toggleMenu() {\n",
       "\n",
       "        var m = document.getElementById( 'menu-content' );\n",
       "        if ( m.style.display === 'block' ) m.style.display = 'none'\n",
       "        else m.style.display = 'block';\n",
       "\n",
       "    }\n",
       "\n",
       "\n",
       "    function saveAsPNG() {\n",
       "\n",
       "        var a = document.body.appendChild( document.createElement( 'a' ) );\n",
       "        a.href = renderer.domElement.toDataURL( 'image/png' );\n",
       "        a.download = 'screenshot';\n",
       "        a.click();\n",
       "\n",
       "    }\n",
       "\n",
       "    function saveAsHTML() {\n",
       "\n",
       "        toggleMenu(); // otherwise visible in output\n",
       "        event.stopPropagation();\n",
       "\n",
       "        var blob = new Blob( [ '<!DOCTYPE html>\\n' + document.documentElement.outerHTML ] );\n",
       "        var a = document.body.appendChild( document.createElement( 'a' ) );\n",
       "        a.href = window.URL.createObjectURL( blob );\n",
       "        a.download = 'graphic.html';\n",
       "        a.click();\n",
       "\n",
       "    }\n",
       "\n",
       "    function getViewpoint() {\n",
       "\n",
       "        var info = '<pre>' + JSON.stringify( camera, null, '\\t' ) + '</pre>';\n",
       "        window.open().document.write( info );\n",
       "\n",
       "    }\n",
       "\n",
       "</script>\n",
       "\n",
       "<div id=&quot;menu-container&quot; onclick=&quot;toggleMenu()&quot;>&#x24d8;\n",
       "<div id=&quot;menu-content&quot;>\n",
       "<div onclick=&quot;saveAsPNG()&quot;>Save as PNG</div>\n",
       "<div onclick=&quot;saveAsHTML()&quot;>Save as HTML</div>\n",
       "<div onclick=&quot;getViewpoint()&quot;>Camera Info</div>\n",
       "<div>Close Menu</div>\n",
       "</div></div>\n",
       "\n",
       "</body>\n",
       "</html>\n",
       "\"\n",
       "        width=\"100%\"\n",
       "        height=\"400\"\n",
       "        style=\"border: 0;\">\n",
       "</iframe>\n"
      ],
      "text/plain": [
       "Graphics3d Object"
      ]
     },
     "metadata": {},
     "output_type": "display_data"
    }
   ],
   "source": [
    "Sn = sphere(center=(0, 0, 0),size=1, color='green', aspect_ratio=[1,1,1], opacity=0.7)\n",
    "curv_1 = parametric_plot3d(K_1, (t,-1,1), color='red')\n",
    "curv_2 = parametric_plot3d(Tm, (s,-1,1), color='blue')\n",
    "Pn = (K_1[0].substitute(t=pt).n(), K_1[1].substitute(t=pt).n(), K_1[2].substitute(t=pt).n())\n",
    "#Pn = (K_2[0].substitute(t=iss).n(), K_2[1].substitute(t=iss).n(), K_2[2].substitute(t=iss).n())\n",
    "pn = point(Pn, rgbcolor=(1,0,0), size=20)\n",
    "show(Sn+curv_1+curv_2+pn, figsize=20)"
   ]
  },
  {
   "cell_type": "markdown",
   "metadata": {},
   "source": [
    "Verifying the two curves satisfy the equivalence class criteria:"
   ]
  },
  {
   "cell_type": "code",
   "execution_count": 33,
   "metadata": {},
   "outputs": [
    {
     "data": {
      "text/html": [
       "<html><script type=\"math/tex; mode=display\">\\newcommand{\\Bold}[1]{\\mathbf{#1}}\\textbf{Value on Manifold}</script></html>"
      ],
      "text/plain": [
       "\\textbf{Value on Manifold}"
      ]
     },
     "metadata": {},
     "output_type": "display_data"
    },
    {
     "data": {
      "text/html": [
       "<html><script type=\"math/tex; mode=display\">\\newcommand{\\Bold}[1]{\\mathbf{#1}}\\verb|(| 0.1854102 ,~ -0.5706339 ,~ 0.8000000</script></html>"
      ],
      "text/plain": [
       "'(' 0.1854102 ,~ -0.5706339 ,~ 0.8000000"
      ]
     },
     "metadata": {},
     "output_type": "display_data"
    },
    {
     "data": {
      "text/html": [
       "<html><script type=\"math/tex; mode=display\">\\newcommand{\\Bold}[1]{\\mathbf{#1}}\\left(0.1854102,\\,-0.5706339,\\,0.8000000\\right)</script></html>"
      ],
      "text/plain": [
       "(0.1854102, -0.5706339, 0.8000000)"
      ]
     },
     "metadata": {},
     "output_type": "display_data"
    },
    {
     "data": {
      "text/html": [
       "<html><script type=\"math/tex; mode=display\">\\newcommand{\\Bold}[1]{\\mathbf{#1}}\\textbf{Velocity in chart}</script></html>"
      ],
      "text/plain": [
       "\\textbf{Velocity in chart}"
      ]
     },
     "metadata": {},
     "output_type": "display_data"
    },
    {
     "data": {
      "text/html": [
       "<html><script type=\"math/tex; mode=display\">\\newcommand{\\Bold}[1]{\\mathbf{#1}}\\left(65.31962,\\,12.46144\\right)</script></html>"
      ],
      "text/plain": [
       "(65.31962, 12.46144)"
      ]
     },
     "metadata": {},
     "output_type": "display_data"
    },
    {
     "data": {
      "text/html": [
       "<html><script type=\"math/tex; mode=display\">\\newcommand{\\Bold}[1]{\\mathbf{#1}}\\left(65.31962,\\,12.46144\\right)</script></html>"
      ],
      "text/plain": [
       "(65.31962, 12.46144)"
      ]
     },
     "metadata": {},
     "output_type": "display_data"
    }
   ],
   "source": [
    "pretty_print(LatexExpr(\"\\\\textbf{Value on Manifold}\"))\n",
    "pretty_print('(', K_1[0].substitute(t=pt).n(digits=7), LatexExpr(\",~\"), K_1[1].substitute(t=pt).n(digits=7), LatexExpr(\",~\"), K_1[2].substitute(t=pt).n(digits=7))\n",
    "pretty_print(Tm.substitute(s=0).n(digits=7))\n",
    "pretty_print(LatexExpr(\"\\\\textbf{Velocity in chart}\"))\n",
    "pretty_print(V.substitute(t=pt).n(digits=7))\n",
    "pretty_print(Tn.diff(s).substitute(s=0).n(digits=7))"
   ]
  },
  {
   "cell_type": "markdown",
   "metadata": {},
   "source": [
    "## Derivation based Approach\n",
    "A derivation at a point in a $C^\\infty$ manifold is defined to be a linear map $D(C^\\infty) \\rightarrow R$,\n",
    "\n",
    "$(D_{1}+D_{2})(f) = D_{1}(f)+D_{2}(f)$\n",
    "\n",
    "$(\\lambda  D)(f) = \\lambda  D(f)$\n",
    "which also obeys the Leibnitz identity $D(f g)=D(f) \\cdot g(x)+f(x) \\cdot D(g)$. \n",
    "\n",
    "Computer science types could see the derivation as defining an abstract interface, with the actual derivitive\n",
    "being a concrete class implementing the abstract interface.\n",
    "\n",
    "See Parzygnat [2017] (lecture 12 part 3) for a description of derivations and associated associative algebra (in a Euclidean\n",
    "manifold context, but most of what is covered also applies to general manifolds, other than the manifold chart map directions \n",
    "are inverted).\n",
    "\n",
    "A tangent vector can then be applied to a $C^\\infty$ function $f$ given a curve $\\lambda$ by $D(f \\circ \\lambda)[t]$ \n",
    "where $\\lambda(t) = \\vec{p} \\in M$ where $\\vec{p}$ is the point in the manifold where the tangent is taken.\n",
    "The derivation based velocities defined this way should form a vector space similarly to the previous section tangent vectors\n",
    "which can fairly easily be shown to form a vector space by adding/multiplying in chart space (see [Isham 1999 page 76]).\n",
    "Proving a vector space using the $D(f \\circ \\lambda)[t]$ approach is a little more difficult. Additive closure is covered \n",
    "quite lengthily in lesson 9 of XylyXylyX [2017] and more concisely by Schuller [2015] lecture 5, while Schuller also \n",
    "covers scalar multiplication.\n",
    "\n",
    "The above proofs are regurgitated here for documentary purposes as I couldn't find a book \n",
    "containing the proofs. Intermediate results in the proofs are also illustrated using the stereographic example.\n",
    "\n",
    "Multivariable differentation is denoted, as for derivations, with a $D$ operator. For multivariable functions and maps the differentation result \n",
    "will be a Jacobian, and in many cases with tangent spaces mapping to $R^1$ will be vectors, although transition maps between charts for example \n",
    "will be matrices. In some cases the differention operator $D$ will be subscripted with the variables w.r.t. which the differentiation is taking\n",
    "place eg $D_t$. This is in contrast with many physics books which use the old fashioned multiple different chain rules to extensively \n",
    "utilize component indexing, instead of one chain rule using linear transformations with Jacobian matrices applying in all cases (as for example in \n",
    "Spivak [1965] or more colorfully in Ghrist [2016] and Ghrist [2019]). Where applicable the comparable 'standard' notation will also be shown.\n",
    "\n",
    "We will continue to use the curves defined in the previous section. We also define $f(\\vec{p}) : S \\rightarrow R = 2x + 2y + 2z$ (where z is \n",
    "constrained to be on the manifold ie $z = \\sqrt{1 - x^2 - y^2}$). \n",
    "Now  $D(f \\circ \\lambda_1)$ and $D(f \\circ \\lambda_2)$ are velocities:"
   ]
  },
  {
   "cell_type": "code",
   "execution_count": 34,
   "metadata": {},
   "outputs": [
    {
     "data": {
      "text/html": [
       "<html><script type=\"math/tex; mode=display\">\\newcommand{\\Bold}[1]{\\mathbf{#1}}D(f \\circ \\lambda_1)~=~ 14 \\, \\pi \\sqrt{-t^{2} + 1} \\cos\\left(7 \\, \\pi t\\right) - 14 \\, \\pi \\sqrt{-t^{2} + 1} \\sin\\left(7 \\, \\pi t\\right) - \\frac{2 \\, t \\cos\\left(7 \\, \\pi t\\right)}{\\sqrt{-t^{2} + 1}} - \\frac{2 \\, t \\sin\\left(7 \\, \\pi t\\right)}{\\sqrt{-t^{2} + 1}} + 2</script></html>"
      ],
      "text/plain": [
       "D(f \\circ \\lambda_1)~=~ 14*pi*sqrt(-t^2 + 1)*cos(7*pi*t) - 14*pi*sqrt(-t^2 + 1)*sin(7*pi*t) - 2*t*cos(7*pi*t)/sqrt(-t^2 + 1) - 2*t*sin(7*pi*t)/sqrt(-t^2 + 1) + 2"
      ]
     },
     "metadata": {},
     "output_type": "display_data"
    },
    {
     "data": {
      "text/html": [
       "<html><script type=\"math/tex; mode=display\">\\newcommand{\\Bold}[1]{\\mathbf{#1}}D(f \\circ \\lambda_2)~=~ \\frac{4 \\, {\\left({\\left(3969 \\, \\pi^{2} + 625\\right)} s + 225\\right)}}{{\\left(3969 \\, \\pi^{2} + 625\\right)} s^{2} + 450 \\, s + 90} - \\frac{4 \\, {\\left({\\left(3969 \\, \\pi^{2} + 625\\right)} s^{2} + 450 \\, s + 72\\right)} {\\left({\\left(3969 \\, \\pi^{2} + 625\\right)} s + 225\\right)}}{{\\left({\\left(3969 \\, \\pi^{2} + 625\\right)} s^{2} + 450 \\, s + 90\\right)}^{2}} - \\frac{6 \\, {\\left(63 \\, \\pi s {\\left(\\sqrt{5} - 1\\right)} - {\\left(25 \\, s + 9\\right)} \\sqrt{2 \\, \\sqrt{5} + 10}\\right)} {\\left({\\left(3969 \\, \\pi^{2} + 625\\right)} s + 225\\right)}}{{\\left({\\left(3969 \\, \\pi^{2} + 625\\right)} s^{2} + 450 \\, s + 90\\right)}^{2}} - \\frac{6 \\, {\\left(63 \\, \\pi s \\sqrt{2 \\, \\sqrt{5} + 10} + 25 \\, s {\\left(\\sqrt{5} - 1\\right)} + 9 \\, \\sqrt{5} - 9\\right)} {\\left({\\left(3969 \\, \\pi^{2} + 625\\right)} s + 225\\right)}}{{\\left({\\left(3969 \\, \\pi^{2} + 625\\right)} s^{2} + 450 \\, s + 90\\right)}^{2}} + \\frac{3 \\, {\\left(63 \\, \\pi {\\left(\\sqrt{5} - 1\\right)} - 25 \\, \\sqrt{2 \\, \\sqrt{5} + 10}\\right)}}{{\\left(3969 \\, \\pi^{2} + 625\\right)} s^{2} + 450 \\, s + 90} + \\frac{3 \\, {\\left(63 \\, \\pi \\sqrt{2 \\, \\sqrt{5} + 10} + 25 \\, \\sqrt{5} - 25\\right)}}{{\\left(3969 \\, \\pi^{2} + 625\\right)} s^{2} + 450 \\, s + 90}</script></html>"
      ],
      "text/plain": [
       "D(f \\circ \\lambda_2)~=~ 4*((3969*pi^2 + 625)*s + 225)/((3969*pi^2 + 625)*s^2 + 450*s + 90) - 4*((3969*pi^2 + 625)*s^2 + 450*s + 72)*((3969*pi^2 + 625)*s + 225)/((3969*pi^2 + 625)*s^2 + 450*s + 90)^2 - 6*(63*pi*s*(sqrt(5) - 1) - (25*s + 9)*sqrt(2*sqrt(5) + 10))*((3969*pi^2 + 625)*s + 225)/((3969*pi^2 + 625)*s^2 + 450*s + 90)^2 - 6*(63*pi*s*sqrt(2*sqrt(5) + 10) + 25*s*(sqrt(5) - 1) + 9*sqrt(5) - 9)*((3969*pi^2 + 625)*s + 225)/((3969*pi^2 + 625)*s^2 + 450*s + 90)^2 + 3*(63*pi*(sqrt(5) - 1) - 25*sqrt(2*sqrt(5) + 10))/((3969*pi^2 + 625)*s^2 + 450*s + 90) + 3*(63*pi*sqrt(2*sqrt(5) + 10) + 25*sqrt(5) - 25)/((3969*pi^2 + 625)*s^2 + 450*s + 90)"
      ]
     },
     "metadata": {},
     "output_type": "display_data"
    }
   ],
   "source": [
    "var('x', 'y', 'z')\n",
    "f = 2*x + 2*y + 2*z\n",
    "d1 = f.substitute(x = K_1[0], y = K_1[1], z = K_1[2]).diff(t)\n",
    "d2 = f.substitute(x = Tm[0], y = Tm[1], z = Tm[2]).diff(s) #.full_simplify()\n",
    "pretty_print(LatexExpr(\"D(f \\\\circ \\\\lambda_1)~=~\"), d1)\n",
    "pretty_print(LatexExpr(\"D(f \\\\circ \\\\lambda_2)~=~\"), d2)"
   ]
  },
  {
   "cell_type": "markdown",
   "metadata": {},
   "source": [
    "To demonstrate the curves form a vector space (for this example anyway), before providing a proof (of closure under addition and scalar multiplication\n",
    "    - the rest is left as an exercise for the reader $\\smile$) we first add $\\lambda_1 + \\lambda_2$."
   ]
  },
  {
   "cell_type": "code",
   "execution_count": 35,
   "metadata": {},
   "outputs": [],
   "source": [
    "K_3 = vector(SR, ( (K_1[0] + Tm[0]).full_simplify(), (K_1[1] + Tm[1]), (K_1[2] + Tm[2]) ) ).simplify_full()\n",
    "#pretty_print(LatexExpr(\"\\\\lambda_3 = \\\\lambda_1 + \\\\lambda_2~=~\"), K_3)"
   ]
  },
  {
   "cell_type": "markdown",
   "metadata": {},
   "source": [
    "The velocity of $\\lambda_3$ is then:"
   ]
  },
  {
   "cell_type": "code",
   "execution_count": 36,
   "metadata": {},
   "outputs": [
    {
     "data": {
      "text/html": [
       "<html><script type=\"math/tex; mode=display\">\\newcommand{\\Bold}[1]{\\mathbf{#1}}\\lambda_3~=~ -\\frac{3 \\, {\\left({\\left(250047 \\, \\pi^{3} {\\left(\\sqrt{5} - 1\\right)} + 99225 \\, \\pi^{2} {\\left(\\sqrt{5} - 1\\right)} + 39375 \\, \\pi {\\left(\\sqrt{5} - 1\\right)} + 15625 \\, \\sqrt{5} - 15625\\right)} s^{2} + 6 \\, {\\left(3969 \\, \\pi^{2} {\\left(3 \\, \\sqrt{5} - 7\\right)} + 1875 \\, \\sqrt{5} - 4375\\right)} s - 5670 \\, \\pi {\\left(\\sqrt{5} - 1\\right)} - {\\left(5670 \\, \\pi - {\\left(39375 \\, \\pi + 250047 \\, \\pi^{3} - 99225 \\, \\pi^{2} - 15625\\right)} s^{2} + 18 \\, {\\left(3969 \\, \\pi^{2} + 625\\right)} s + 1800\\right)} \\sqrt{2 \\, \\sqrt{5} + 10} + 1800 \\, \\sqrt{5} - 7200\\right)}}{{\\left(15752961 \\, \\pi^{4} + 4961250 \\, \\pi^{2} + 390625\\right)} s^{4} + 900 \\, {\\left(3969 \\, \\pi^{2} + 625\\right)} s^{3} + 1260 \\, {\\left(567 \\, \\pi^{2} + 250\\right)} s^{2} + 81000 \\, s + 8100}</script></html>"
      ],
      "text/plain": [
       "\\lambda_3~=~ -3*((250047*pi^3*(sqrt(5) - 1) + 99225*pi^2*(sqrt(5) - 1) + 39375*pi*(sqrt(5) - 1) + 15625*sqrt(5) - 15625)*s^2 + 6*(3969*pi^2*(3*sqrt(5) - 7) + 1875*sqrt(5) - 4375)*s - 5670*pi*(sqrt(5) - 1) - (5670*pi - (39375*pi + 250047*pi^3 - 99225*pi^2 - 15625)*s^2 + 18*(3969*pi^2 + 625)*s + 1800)*sqrt(2*sqrt(5) + 10) + 1800*sqrt(5) - 7200)/((15752961*pi^4 + 4961250*pi^2 + 390625)*s^4 + 900*(3969*pi^2 + 625)*s^3 + 1260*(567*pi^2 + 250)*s^2 + 81000*s + 8100)"
      ]
     },
     "metadata": {},
     "output_type": "display_data"
    }
   ],
   "source": [
    "d3 = f.substitute(x = K_3[0], y = K_3[1], z = K_3[2]).diff(s).full_simplify()\n",
    "pretty_print(LatexExpr(\"\\\\lambda_3~=~\"), d3)"
   ]
  },
  {
   "cell_type": "markdown",
   "metadata": {},
   "source": [
    "Substituting the values for the intersection point specified by $s = 0$ and $t = \\frac{4}{5}$ into the three different velocities yields the same value:"
   ]
  },
  {
   "cell_type": "code",
   "execution_count": 37,
   "metadata": {},
   "outputs": [
    {
     "name": "stdout",
     "output_type": "stream",
     "text": [
      "36.96466\n",
      "36.96466\n",
      "36.96466\n"
     ]
    }
   ],
   "source": [
    "print(d1.substitute(t=pt).n(digits=7))\n",
    "print(d2.substitute(s=0).n(digits=7))\n",
    "print(d3.substitute(s=0, t=pt).n(digits=7))"
   ]
  },
  {
   "cell_type": "markdown",
   "metadata": {},
   "source": [
    "### Additive Closure Proof\n",
    "The proof starts with a construction, which given two existing curves $\\lambda_1,\\lambda_2$ intersecting at point $\\vec{p}$ at parameter values\n",
    "$t_1$ and $t_2$, constructs a third curve $\\lambda_3$ also intersecting $\\vec{p}$ at a parameter $t_3$ ie $\\lambda_1(t_1) = \\lambda_2(t_2) = \\lambda_3(t_3) = \\vec{p}$:\n",
    "\n",
    "$\\lambda_3(t) = c^{-1}\\{ (c \\circ \\lambda_1)[t_1 + t] + (c \\circ \\lambda_2)[t_2 + t] - (c \\circ \\lambda_1)[t_1]\\}$\n",
    "\n",
    "At $t = 0$ this evaluates to $c^{-1}\\{ c(\\vec{p}) + c(\\vec{p}) - c(\\vec{p}) \\} = c^{-1}(c(\\vec{p})) = \\vec{p}$ so $t_3 = 0$. Checking \n",
    "this construct results in the same values as the other two curves:"
   ]
  },
  {
   "cell_type": "code",
   "execution_count": 38,
   "metadata": {},
   "outputs": [
    {
     "data": {
      "text/html": [
       "<html><script type=\"math/tex; mode=display\">\\newcommand{\\Bold}[1]{\\mathbf{#1}}\\textbf{Value on Manifold:}~~ \\left(0.1854102,\\,-0.5706339,\\,0.8000000\\right)</script></html>"
      ],
      "text/plain": [
       "\\textbf{Value on Manifold:}~~ (0.1854102, -0.5706339, 0.8000000)"
      ]
     },
     "metadata": {},
     "output_type": "display_data"
    }
   ],
   "source": [
    "t1 = vector(SR, (cn_0.substitute(x=K_1[0], z=K_1[2]).substitute(t=t+pt), cn_1.substitute(y=K_1[1], z=K_1[2]).substitute(t=t+pt)))\n",
    "t2 = vector(SR, (cn_0.substitute(x=Tm[0], z=Tm[2]), cn_1.substitute(y=Tm[1], z=Tm[2]))).substitute(s=t+0)\n",
    "t3 = vector(SR, (cn_0.substitute(x=K_1[0], z=K_1[2]), cn_1.substitute(y=K_1[1], z=K_1[2]))).substitute(t=pt)\n",
    "tt = t1 + t2 - t3\n",
    "K3 = vector(SR, (cn_ix.substitute(u=tt[0], v=tt[1]), cn_iy.substitute(u=tt[0], v=tt[1]), cn_iz.substitute(u=tt[0], v=tt[1]))).simplify_full()\n",
    "pretty_print(LatexExpr(\"\\\\textbf{Value on Manifold:}~~\"), K3.substitute(t=0).n(digits=7))"
   ]
  },
  {
   "cell_type": "markdown",
   "metadata": {},
   "source": [
    "Because the third curve parameter $t_3$ evaluates to 0, we can therefore write the velocity vector for $\\lambda_3$ at $\\vec{p}$ as \n",
    "$(f \\circ \\lambda_3)^\\prime[t_3 = 0]$. \n",
    "\n",
    "Inserting a chart and its inverse and using associativity results in \n",
    "\n",
    "$\\{(f \\circ c^{-1}) \\circ (c \\circ \\lambda_3)\\}^\\prime[0]$.\n",
    "\n",
    "Using the chain rule with the $f \\circ c^{-1}$ as the outer function:\n",
    "\n",
    "$D(f \\circ c^{-1})[(c \\circ \\lambda_3)[0])~D(c \\circ \\lambda_3)[0]$\n",
    "\n",
    "Substituting the expression for $\\lambda_3$ into the right side term:\n",
    "\n",
    "$D(c \\circ \\lambda_3)[0] = D(c \\circ c^{-1}\\{ (c \\circ \\lambda_1)[t_1 + t] + (c \\circ \\lambda_2)[t_2 + t] - (c \\circ \\lambda_1)[t_1]\\}) =$\n",
    "\n",
    "$D((c \\circ c^{-1} \\circ c \\circ \\lambda_1))[t_1 + t] + (c \\circ c^{-1} \\circ c \\circ \\lambda_2)[t_2 + t]) - (c \\circ c^{-1} \\circ c \\circ \\lambda_1))[t_1])$ (distributivity, associativity)\n",
    "\n",
    "The third term is not dependent on $t$ so the derivitive would be $0 \\therefore$ is will disappear and the inner $c^{-1} \\circ c$ in the other terms will cancel leaving:\n",
    "\n",
    "$D((c \\circ \\lambda_1))[t_1 + t] + (c \\circ \\lambda_2)[t_2 + t]))[0] = D(c \\circ \\lambda_1)[t_1] + D(c \\circ \\lambda_2)[t_2]$"
   ]
  },
  {
   "cell_type": "markdown",
   "metadata": {},
   "source": [
    "The left hand term can also be simplified:\n",
    "\n",
    "$D(f \\circ c^{-1})[(c \\circ \\lambda_3)[0]) \\equiv D(f \\circ c^{-1})[(c \\circ \\lambda_3[0])) = D(f \\circ c^{-1})[c(\\vec{p})]$ \n",
    "\n",
    "as $\\lambda_3[0] = \\vec{p}$ by construction.\n",
    "\n",
    "Recombining the simplified left and right sides:\n",
    "\n",
    "$D(f \\circ c^{-1})[c(\\vec{p})] \\cdot (D(c \\circ \\lambda_1)[t_1] + D(c \\circ \\lambda_2)[t_2]) = \n",
    "D(f \\circ c^{-1})[c(\\vec{p})] D(c \\circ \\lambda_1)[t_1] + D(f \\circ c^{-1})[c(\\vec{p})] D(c \\circ \\lambda_2)[t_2])$\n",
    "\n",
    "Using the chain rule to differentiate $D(f \\circ \\lambda_1)[t_1]$ to show that it is the same as the \n",
    "first term above:\n",
    "\n",
    "$D(f \\circ \\lambda_1)[t_1] = D((f \\circ c^{-1}) \\circ (c \\circ \\lambda_1))[t_1] =$ \n",
    "\n",
    "$D(f \\circ c^{-1})[(c \\circ \\lambda_1)[t_1]] \\cdot D(c \\circ \\lambda_1)[t_1] =$\n",
    "\n",
    "$D(f \\circ c^{-1})[(c(\\vec{p})] \\cdot D(c \\circ \\lambda_1)[t_1]$\n",
    "\n",
    "which is the first term in the previous expression (combining the simplified left and right sides) [no equation numbering in jupyter](https://stackoverflow.com/questions/41241984/equation-numbering-in-jupyter-notebooks) !!!\n",
    "\n",
    "Similarly the second term $D(f \\circ c^{-1})[c(\\vec{p})] D(c \\circ \\lambda_2)[t_2])$ can be shown by reversing the chain rule to be\n",
    "$D(f \\circ \\lambda_2)[t_2] \\therefore$ the equation that shall remain unnumbered can be reduced to:\n",
    "\n",
    "\n",
    "$D(f \\circ \\lambda_1)[t_1] + D(f \\circ \\lambda_2)[t_2]$\n",
    "\n",
    "which proves closure under addition of velocity vectors in the tangent space. We can verify the above terms for our concrete example:"
   ]
  },
  {
   "cell_type": "code",
   "execution_count": 39,
   "metadata": {},
   "outputs": [
    {
     "data": {
      "text/html": [
       "<html><script type=\"math/tex; mode=display\">\\newcommand{\\Bold}[1]{\\mathbf{#1}}f \\circ \\lambda_{1,2,3}~=~ 0.8295526 ,~ 0.8295526 ,~ 0.8295526</script></html>"
      ],
      "text/plain": [
       "f \\circ \\lambda_{1,2,3}~=~ 0.8295526 ,~ 0.8295526 ,~ 0.8295526"
      ]
     },
     "metadata": {},
     "output_type": "display_data"
    },
    {
     "data": {
      "text/html": [
       "<html><script type=\"math/tex; mode=display\">\\newcommand{\\Bold}[1]{\\mathbf{#1}}D(f \\circ \\lambda_1) + D(f \\circ \\lambda_2) = 36.96466 ~+~ 36.96466 ~=~ 73.92933 = D(f \\circ \\lambda_3) =  73.92932</script></html>"
      ],
      "text/plain": [
       "D(f \\circ \\lambda_1) + D(f \\circ \\lambda_2) = 36.96466 ~+~ 36.96466 ~=~ 73.92933 = D(f \\circ \\lambda_3) =  73.92932"
      ]
     },
     "metadata": {},
     "output_type": "display_data"
    }
   ],
   "source": [
    "fl1 = f.substitute(x=K_1[0], y=K_1[1], z=K_1[2]).simplify_full()\n",
    "fl2 = f.substitute(x=Tm[0], y=Tm[1], z=Tm[2]).simplify_full()\n",
    "fl3 = f.substitute(x=K3[0], y=K3[1], z=K3[2]).simplify_full()\n",
    "#pretty_print(fl1, fl2, fl3)\n",
    "pretty_print(LatexExpr(r\"f \\circ \\lambda_{1,2,3}~=~\"), fl1.substitute(t=pt).n(digits=7),LatexExpr(r\",~\"), fl2.substitute(s=0).n(digits=7),LatexExpr(r\",~\"),fl3.substitute(t=0).n(digits=7))\n",
    "vv1 = fl1.diff(t).substitute(t=pt).n(digits=7)\n",
    "vv2 = fl2.diff(s).substitute(s=0).n(digits=7)\n",
    "vv3 = fl3.diff(t).substitute(t=0).n(digits=7)\n",
    "#pretty_print(fl1.diff(t).simplify_full(), fl2.diff(s).simplify_full(), fl3.diff(t).simplify_full())\n",
    "pretty_print(LatexExpr(r\"D(f \\circ \\lambda_1) + D(f \\circ \\lambda_2) =\"), vv1,LatexExpr(r\"~+~\"),vv2,LatexExpr(r\"~=~\"), vv1+vv2,LatexExpr(r\"= D(f \\circ \\lambda_3) = \"), vv3)"
   ]
  },
  {
   "cell_type": "markdown",
   "metadata": {},
   "source": [
    "### Scalar Multiplication Closure\n",
    "Proving closure under scalar multiplication is easier and does not involve any charts. Again start with a construction for \n",
    "the new curve $\\lambda_3$ tangent at $\\vec{p}$ ie $\\lambda_1(t_1) = \\lambda_3(t_3) = \\vec{p}$ in terms of $\\lambda_1$:\n",
    "\n",
    "$\\lambda_3(t) = \\lambda_1(a t + t_1) = (\\lambda_1 \\circ u_a)[t_3]~~a \\in R,~u_a(t) :R \\rightarrow R = a t + t_1$\n",
    "\n",
    "At $t = 0$ this evaluates to $\\lambda_3(0) = \\lambda_1(0 \\cdot a + t_1) = \\lambda_1(t_1) = \\vec{p}$ so $t_3 = 0$.\n",
    "\n",
    "$D(f \\circ \\lambda_3)[t_3] = D(f \\circ \\lambda_3)[0] = D((f \\circ \\lambda_1) \\circ u_a)[0]$\n",
    "\n",
    "Applying the chain rule:\n",
    "\n",
    "$D(f \\circ \\lambda_1)[u_a(0)] \\cdot D(u_a)[0] = D(f \\circ \\lambda_1)[t_1] \\cdot a = a D(f \\circ \\lambda_1)[t_1]$\n",
    "\n",
    "which proves closure under scalar multiplication."
   ]
  },
  {
   "cell_type": "markdown",
   "metadata": {},
   "source": [
    "## Chart Realizations for Tangent Space\n",
    "We start by introducing a chart $c$ into a velocity vector applied to an arbitrary function $f$ for a curve $\\lambda(t_1) = \\vec{p} \\in U \\subseteq M$:\n",
    "\n",
    "$D((f \\circ c^{-1}) \\circ (c \\circ \\lambda))[t_1]$\n",
    "\n",
    "Applying the chain rule once again:\n",
    "\n",
    "$D_{u,v}(f \\circ c^{-1})[c \\circ \\lambda(t_1)] \\cdot D_t(c \\circ \\lambda)[t_1] = D_t(c \\circ \\lambda)[t_1] \\cdot D_{u,v}(f \\circ c^{-1})[c(\\vec{p})]$\n",
    "\n",
    "The representation of derivation based tangent space vectors w.r.t charts as used above in the proofs is quite complicated, so a simplified representation, \n",
    "otherwise known as syntactic sugar in the computer science community, is conventionally used, particularly in Physics, which is shown here along with an example. \n",
    "\n",
    "We start by investigating what the left and right hand sides of the above look like for a concrete example using the north chart of the stereographic projection\n",
    "and the spiral curve on the sphere. To do this we take the Jacobian of both sides and then do matrix multiplication (or dot product as they are \n",
    "both vectors) on the jacobians:"
   ]
  },
  {
   "cell_type": "code",
   "execution_count": 40,
   "metadata": {},
   "outputs": [
    {
     "data": {
      "text/html": [
       "<html><script type=\"math/tex; mode=display\">\\newcommand{\\Bold}[1]{\\mathbf{#1}}LHS~=~ \\left(\\begin{array}{rr}\n",
       "\\frac{7 \\, \\pi \\sqrt{-t^{2} + 1} \\sin\\left(7 \\, \\pi t\\right)}{t - 1} + \\frac{t \\cos\\left(7 \\, \\pi t\\right)}{\\sqrt{-t^{2} + 1} {\\left(t - 1\\right)}} + \\frac{\\sqrt{-t^{2} + 1} \\cos\\left(7 \\, \\pi t\\right)}{{\\left(t - 1\\right)}^{2}} & -\\frac{7 \\, \\pi \\sqrt{-t^{2} + 1} \\cos\\left(7 \\, \\pi t\\right)}{t - 1} + \\frac{t \\sin\\left(7 \\, \\pi t\\right)}{\\sqrt{-t^{2} + 1} {\\left(t - 1\\right)}} + \\frac{\\sqrt{-t^{2} + 1} \\sin\\left(7 \\, \\pi t\\right)}{{\\left(t - 1\\right)}^{2}}\n",
       "\\end{array}\\right) \\Big[t~=~ \\frac{4}{5} \\Big]</script></html>"
      ],
      "text/plain": [
       "LHS~=~ [ 7*pi*sqrt(-t^2 + 1)*sin(7*pi*t)/(t - 1) + t*cos(7*pi*t)/(sqrt(-t^2 + 1)*(t - 1)) + sqrt(-t^2 + 1)*cos(7*pi*t)/(t - 1)^2 -7*pi*sqrt(-t^2 + 1)*cos(7*pi*t)/(t - 1) + t*sin(7*pi*t)/(sqrt(-t^2 + 1)*(t - 1)) + sqrt(-t^2 + 1)*sin(7*pi*t)/(t - 1)^2] \\Big[t~=~ \\frac{4}{5} \\Big]"
      ]
     },
     "metadata": {},
     "output_type": "display_data"
    },
    {
     "data": {
      "text/html": [
       "<html><script type=\"math/tex; mode=display\">\\newcommand{\\Bold}[1]{\\mathbf{#1}}RHS~=~ \\left(\\begin{array}{r}\n",
       "\\frac{4 \\, {\\left(u + 1\\right)}}{u^{2} + v^{2} + 1} - \\frac{4 \\, {\\left(u^{2} + v^{2} + 2 \\, u + 2 \\, v - 1\\right)} u}{{\\left(u^{2} + v^{2} + 1\\right)}^{2}} \\\\\n",
       "\\frac{4 \\, {\\left(v + 1\\right)}}{u^{2} + v^{2} + 1} - \\frac{4 \\, {\\left(u^{2} + v^{2} + 2 \\, u + 2 \\, v - 1\\right)} v}{{\\left(u^{2} + v^{2} + 1\\right)}^{2}}\n",
       "\\end{array}\\right) \\Big[(u,v)~=~ \\left(0.927051,\\,-2.85317\\right) \\Big]</script></html>"
      ],
      "text/plain": [
       "RHS~=~ [4*(u + 1)/(u^2 + v^2 + 1) - 4*(u^2 + v^2 + 2*u + 2*v - 1)*u/(u^2 + v^2 + 1)^2]\n",
       "[4*(v + 1)/(u^2 + v^2 + 1) - 4*(u^2 + v^2 + 2*u + 2*v - 1)*v/(u^2 + v^2 + 1)^2] \\Big[(u,v)~=~ \\left(0.927051,\\,-2.85317\\right) \\Big]"
      ]
     },
     "metadata": {},
     "output_type": "display_data"
    }
   ],
   "source": [
    "t1 = vector(SR, (cn_0.substitute(x=K_1[0], z=K_1[2]), cn_1.substitute(y=K_1[1], z=K_1[2])))\n",
    "#pretty_print(jacobian(t1, (t)), t1.diff(t))\n",
    "lhs = jacobian(t1, (t)).transpose()\n",
    "\n",
    "_pp = vector(SR, (cn_0.substitute(x=Pn[0], z=Pn[2]), cn_1.substitute(y=Pn[1], z=Pn[2])))\n",
    "_f = f.substitute(x=cn_ix, y=cn_iy, z=cn_iz).simplify_full()\n",
    "rhs = jacobian(_f, [u,v])\n",
    "pretty_print(LatexExpr(\"LHS~=~\"), lhs, LatexExpr(\"\\\\Big[t~=~\" + latex(pt) + \"\\\\Big]\"))\n",
    "pretty_print(LatexExpr(\"RHS~=~\"), rhs.transpose(), LatexExpr(\"\\\\Big[(u,v)~=~\" + latex(_pp.n(digits=6)) + \"\\\\Big]\"))"
   ]
  },
  {
   "cell_type": "markdown",
   "metadata": {},
   "source": [
    "The right hand side of the expression is simplified as follows:\n",
    "1. As the derivative is being taken Leibnitz notation is used (odd - one would have thought physicists would prefer Newton), \n",
    "the D is replaced with a del ie $\\partial$,\n",
    "2. The function is used in the numerator and the chart is used in the denominator in the Leibnitz notation for differentiation i.e. $\\frac{\\partial f}{\\partial c}$,\n",
    "3. The coordinate index of the component being differentiated in the vector is used as a superscript in the denominator (the use of vectors and\n",
    "matrices was implied in the Jacobian differentiation operator used in most of this \n",
    "document) $\\frac{\\partial f}{\\partial c^i}$,\n",
    "4. Finally the point on the manifold is given as a subscript i.e $(\\frac{\\partial f}{\\partial c^i})_p$.\n",
    "\n",
    "The left hand side is also simplified:\n",
    "1. As the curve is being differentiated with respect to a parameter which can be interpreted as time, Newton finally arrives on the \n",
    "scene, with the Newtonian notation with a dot on top of the curve being used i.e. $\\dot \\lambda$,\n",
    "2. As with the RHS the component index is used as a superscript (which also ties in with using Einstein summation for the entire\n",
    "expression) i.e. $\\dot \\lambda^i$,\n",
    "3. The curve is used as a subscript ie $\\dot \\lambda^i_c$\n",
    "4. Finally the point in the manifold is added i.e. $\\dot \\lambda^i_c(t_1)$\n",
    "\n",
    "The entire shorthand expression for a component is expressed as an operator which \n",
    "operates on $C^\\infty$ functions: $\\dot \\lambda^i_c(t_1) (\\frac{\\partial }{\\partial c^i})_pf$\n",
    "\n",
    "The $(\\frac{\\partial }{\\partial c^i})_p$ part (or more accurately its full expansion) forms a basis for the \n",
    "vector space of derivations defining the tangent space. Isham [1999] (pp. 82-86) provides a proof of this as well \n",
    "as the isomorphism between the derivation and the previously described geometric tangent space. This basis is known \n",
    "as a chart induced basis.\n",
    "\n",
    "The example shows the basis dependent on $u,v$ and the components on $t$:"
   ]
  },
  {
   "cell_type": "code",
   "execution_count": 41,
   "metadata": {},
   "outputs": [
    {
     "data": {
      "text/html": [
       "<html><script type=\"math/tex; mode=display\">\\newcommand{\\Bold}[1]{\\mathbf{#1}}\\left(\\begin{array}{r}\n",
       "4 \\, {\\left(\\frac{7 \\, \\pi \\sqrt{-t^{2} + 1} \\sin\\left(7 \\, \\pi t\\right)}{t - 1} + \\frac{t \\cos\\left(7 \\, \\pi t\\right)}{\\sqrt{-t^{2} + 1} {\\left(t - 1\\right)}} + \\frac{\\sqrt{-t^{2} + 1} \\cos\\left(7 \\, \\pi t\\right)}{{\\left(t - 1\\right)}^{2}}\\right)} {\\left(\\frac{u + 1}{u^{2} + v^{2} + 1} - \\frac{{\\left(u^{2} + v^{2} + 2 \\, u + 2 \\, v - 1\\right)} u}{{\\left(u^{2} + v^{2} + 1\\right)}^{2}}\\right)} - 4 \\, {\\left(\\frac{7 \\, \\pi \\sqrt{-t^{2} + 1} \\cos\\left(7 \\, \\pi t\\right)}{t - 1} - \\frac{t \\sin\\left(7 \\, \\pi t\\right)}{\\sqrt{-t^{2} + 1} {\\left(t - 1\\right)}} - \\frac{\\sqrt{-t^{2} + 1} \\sin\\left(7 \\, \\pi t\\right)}{{\\left(t - 1\\right)}^{2}}\\right)} {\\left(\\frac{v + 1}{u^{2} + v^{2} + 1} - \\frac{{\\left(u^{2} + v^{2} + 2 \\, u + 2 \\, v - 1\\right)} v}{{\\left(u^{2} + v^{2} + 1\\right)}^{2}}\\right)}\n",
       "\\end{array}\\right) \\verb|=| \\left(\\begin{array}{r}\n",
       "36.9647\n",
       "\\end{array}\\right)</script></html>"
      ],
      "text/plain": [
       "[4*(7*pi*sqrt(-t^2 + 1)*sin(7*pi*t)/(t - 1) + t*cos(7*pi*t)/(sqrt(-t^2 + 1)*(t - 1)) + sqrt(-t^2 + 1)*cos(7*pi*t)/(t - 1)^2)*((u + 1)/(u^2 + v^2 + 1) - (u^2 + v^2 + 2*u + 2*v - 1)*u/(u^2 + v^2 + 1)^2) - 4*(7*pi*sqrt(-t^2 + 1)*cos(7*pi*t)/(t - 1) - t*sin(7*pi*t)/(sqrt(-t^2 + 1)*(t - 1)) - sqrt(-t^2 + 1)*sin(7*pi*t)/(t - 1)^2)*((v + 1)/(u^2 + v^2 + 1) - (u^2 + v^2 + 2*u + 2*v - 1)*v/(u^2 + v^2 + 1)^2)] '=' [36.9647]"
      ]
     },
     "metadata": {},
     "output_type": "display_data"
    }
   ],
   "source": [
    "pretty_print(lhs*rhs.transpose(), '=',(lhs.substitute(t=pt)*rhs.transpose().substitute({u:_pp[0], v:_pp[1]})).n(digits=6))"
   ]
  },
  {
   "cell_type": "markdown",
   "metadata": {},
   "source": [
    "## Change of basis for Tangent Space Components\n",
    "Given two charts $(U, c_1)$ and $(V, c_2)$  where $U \\cap V \\neq \\emptyset$, where the tangent vector to a point $\\vec{p} \\in U,V$\n",
    "is known relative to say $U$, then the equivalent basis vector for $V$ can be derived:\n",
    "\n",
    "1. Recall the expression for the basic component from the previous section and once again apply the idiom of using the inverse of a map after the map,\n",
    "in this case the map being the chart from $V$.\n",
    "$(\\frac{\\partial f}{\\partial c_1^{i:1\\cdots m}})_p = D(f \\circ c_1^{-1})[c_1(\\vec{p})] = D((f \\circ c_2^{-1}) \\circ (c_2 \\circ c_1^{-1})[c_1(\\vec{p})]$\n",
    "2. Utilise the chain rule again:\n",
    "$D_{u,v}(f \\circ c_2^{-1})[c_2 \\circ c_1^{-1}(c_1(\\vec{p})] \\cdot D_{u,v}(c_2 \\circ c_1^{-1})[c_1(\\vec{p})] = \n",
    "D_{u,v}(c_2 \\circ c_1^{-1})[c_1(\\vec{p})] \\cdot D_{u,v}(f \\circ c_2^{-1})[c_2(\\vec{p})]$.\n",
    "3. The full expression for the tangent vector in $U$ is given by:\n",
    "$\\dot \\lambda^i_{c_1}(t_1) (\\frac{\\partial f}{\\partial c_1^{i:1\\cdots m}})_p = D(c_1 \\circ \\lambda)[t_1] \\cdot D(f \\circ c^{-1}_1)[c_1(\\vec{p})]$\n",
    "Substituting the expression from 2:\n",
    "$D(c_1 \\circ \\lambda)[t_1] \\cdot D(f \\circ c^{-1})[c(\\vec{p})] = D_t(c_1 \\circ \\lambda)[t_1] \\cdot D_{u,v}(c_2 \\circ c_1^{-1})[c_1(\\vec{p})] \\cdot D_{u,v}(f \\circ c_2^{-1})[c_2(\\vec{p})]$\n",
    "4. The full expression for the tangent vector in $V$ is given by:\n",
    "$\\dot \\lambda^i_{c_2}(t_2) (\\frac{\\partial f}{\\partial c_2^{i:1\\cdots n}})_p = D(c_{2} \\circ \\lambda)[t_2] \\cdot D(f \\circ c^{-1}_{2})[c_2(\\vec{p})]$\n",
    "5. As the curve on the manifold remains the same, the tangent vector is also the same, its just expressed differently in the two bases, \n",
    "therefore  these expressions can be equated:\n",
    "$D_t(c_{2} \\circ \\lambda)[t_2] \\cdot D_{u,v}(f \\circ c^{-1}_{2})[c_2(\\vec{p})] = D_t(c_1 \\circ \\lambda)[t_1] \\cdot D_{u,v}(c_2 \\circ c_1^{-1})[c_1(\\vec{p})] \\cdot D_{u,v}(f \\circ c_2^{-1})[c_2(\\vec{p})]$\n",
    "The components in V are thus $D_t(c_1 \\circ \\lambda)[t_1] \\cdot D_{u,v}(c_2 \\circ c_1^{-1})[c_1(\\vec{p})]$\n",
    "\n",
    "The $D_{u,v}(c_2 \\circ c_1^{-1})[c_1(\\vec{p})]$ (Jacobian of the overlap function between $U$ and $V$) is $R^m \\rightarrow R^n$ so the Jacobian will\n",
    "be a $n{\\times}m$ matrix. This matrix is multiplied by a $m{\\times}1$ vector of the map from the curve to chart coordinates via the manifold.\n",
    "\n",
    "Applying this to the example using a change of basis from the north to the south hemisphere of the stereographic projection (the point at which the\n",
    "tangent are found is the northern hemisphere test point, and the curve is the same as the one used in the previous tangent space examples):"
   ]
  },
  {
   "cell_type": "code",
   "execution_count": 42,
   "metadata": {},
   "outputs": [
    {
     "data": {
      "text/html": [
       "<html><script type=\"math/tex; mode=display\">\\newcommand{\\Bold}[1]{\\mathbf{#1}}\\left(\\begin{array}{rr}\n",
       "-\\frac{2 \\, u^{2}}{{\\left(u^{2} + v^{2}\\right)}^{2}} + \\frac{1}{u^{2} + v^{2}} & -\\frac{2 \\, u v}{{\\left(u^{2} + v^{2}\\right)}^{2}} \\\\\n",
       "-\\frac{2 \\, u v}{{\\left(u^{2} + v^{2}\\right)}^{2}} & -\\frac{2 \\, v^{2}}{{\\left(u^{2} + v^{2}\\right)}^{2}} + \\frac{1}{u^{2} + v^{2}}\n",
       "\\end{array}\\right) \\cdot \\left(\\begin{array}{r}\n",
       "\\frac{7 \\, \\pi \\sqrt{-t^{2} + 1} \\sin\\left(7 \\, \\pi t\\right)}{t - 1} + \\frac{t \\cos\\left(7 \\, \\pi t\\right)}{\\sqrt{-t^{2} + 1} {\\left(t - 1\\right)}} + \\frac{\\sqrt{-t^{2} + 1} \\cos\\left(7 \\, \\pi t\\right)}{{\\left(t - 1\\right)}^{2}} \\\\\n",
       "-\\frac{7 \\, \\pi \\sqrt{-t^{2} + 1} \\cos\\left(7 \\, \\pi t\\right)}{t - 1} + \\frac{t \\sin\\left(7 \\, \\pi t\\right)}{\\sqrt{-t^{2} + 1} {\\left(t - 1\\right)}} + \\frac{\\sqrt{-t^{2} + 1} \\sin\\left(7 \\, \\pi t\\right)}{{\\left(t - 1\\right)}^{2}}\n",
       "\\end{array}\\right) ~=~ \\left(\\begin{array}{r}\n",
       "-{\\left(\\frac{7 \\, \\pi \\sqrt{-t^{2} + 1} \\sin\\left(7 \\, \\pi t\\right)}{t - 1} + \\frac{t \\cos\\left(7 \\, \\pi t\\right)}{\\sqrt{-t^{2} + 1} {\\left(t - 1\\right)}} + \\frac{\\sqrt{-t^{2} + 1} \\cos\\left(7 \\, \\pi t\\right)}{{\\left(t - 1\\right)}^{2}}\\right)} {\\left(\\frac{2 \\, u^{2}}{{\\left(u^{2} + v^{2}\\right)}^{2}} - \\frac{1}{u^{2} + v^{2}}\\right)} + \\frac{2 \\, {\\left(\\frac{7 \\, \\pi \\sqrt{-t^{2} + 1} \\cos\\left(7 \\, \\pi t\\right)}{t - 1} - \\frac{t \\sin\\left(7 \\, \\pi t\\right)}{\\sqrt{-t^{2} + 1} {\\left(t - 1\\right)}} - \\frac{\\sqrt{-t^{2} + 1} \\sin\\left(7 \\, \\pi t\\right)}{{\\left(t - 1\\right)}^{2}}\\right)} u v}{{\\left(u^{2} + v^{2}\\right)}^{2}} \\\\\n",
       "{\\left(\\frac{7 \\, \\pi \\sqrt{-t^{2} + 1} \\cos\\left(7 \\, \\pi t\\right)}{t - 1} - \\frac{t \\sin\\left(7 \\, \\pi t\\right)}{\\sqrt{-t^{2} + 1} {\\left(t - 1\\right)}} - \\frac{\\sqrt{-t^{2} + 1} \\sin\\left(7 \\, \\pi t\\right)}{{\\left(t - 1\\right)}^{2}}\\right)} {\\left(\\frac{2 \\, v^{2}}{{\\left(u^{2} + v^{2}\\right)}^{2}} - \\frac{1}{u^{2} + v^{2}}\\right)} - \\frac{2 \\, {\\left(\\frac{7 \\, \\pi \\sqrt{-t^{2} + 1} \\sin\\left(7 \\, \\pi t\\right)}{t - 1} + \\frac{t \\cos\\left(7 \\, \\pi t\\right)}{\\sqrt{-t^{2} + 1} {\\left(t - 1\\right)}} + \\frac{\\sqrt{-t^{2} + 1} \\cos\\left(7 \\, \\pi t\\right)}{{\\left(t - 1\\right)}^{2}}\\right)} u v}{{\\left(u^{2} + v^{2}\\right)}^{2}}\n",
       "\\end{array}\\right)</script></html>"
      ],
      "text/plain": [
       "[-2*u^2/(u^2 + v^2)^2 + 1/(u^2 + v^2)                 -2*u*v/(u^2 + v^2)^2]\n",
       "[                -2*u*v/(u^2 + v^2)^2 -2*v^2/(u^2 + v^2)^2 + 1/(u^2 + v^2)] \\cdot [ 7*pi*sqrt(-t^2 + 1)*sin(7*pi*t)/(t - 1) + t*cos(7*pi*t)/(sqrt(-t^2 + 1)*(t - 1)) + sqrt(-t^2 + 1)*cos(7*pi*t)/(t - 1)^2]\n",
       "[-7*pi*sqrt(-t^2 + 1)*cos(7*pi*t)/(t - 1) + t*sin(7*pi*t)/(sqrt(-t^2 + 1)*(t - 1)) + sqrt(-t^2 + 1)*sin(7*pi*t)/(t - 1)^2] ~=~ [-(7*pi*sqrt(-t^2 + 1)*sin(7*pi*t)/(t - 1) + t*cos(7*pi*t)/(sqrt(-t^2 + 1)*(t - 1)) + sqrt(-t^2 + 1)*cos(7*pi*t)/(t - 1)^2)*(2*u^2/(u^2 + v^2)^2 - 1/(u^2 + v^2)) + 2*(7*pi*sqrt(-t^2 + 1)*cos(7*pi*t)/(t - 1) - t*sin(7*pi*t)/(sqrt(-t^2 + 1)*(t - 1)) - sqrt(-t^2 + 1)*sin(7*pi*t)/(t - 1)^2)*u*v/(u^2 + v^2)^2]\n",
       "[ (7*pi*sqrt(-t^2 + 1)*cos(7*pi*t)/(t - 1) - t*sin(7*pi*t)/(sqrt(-t^2 + 1)*(t - 1)) - sqrt(-t^2 + 1)*sin(7*pi*t)/(t - 1)^2)*(2*v^2/(u^2 + v^2)^2 - 1/(u^2 + v^2)) - 2*(7*pi*sqrt(-t^2 + 1)*sin(7*pi*t)/(t - 1) + t*cos(7*pi*t)/(sqrt(-t^2 + 1)*(t - 1)) + sqrt(-t^2 + 1)*cos(7*pi*t)/(t - 1)^2)*u*v/(u^2 + v^2)^2]"
      ]
     },
     "metadata": {},
     "output_type": "display_data"
    },
    {
     "data": {
      "text/html": [
       "<html><script type=\"math/tex; mode=display\">\\newcommand{\\Bold}[1]{\\mathbf{#1}}\\left(\\begin{array}{rr}\n",
       "0.08989078 & 0.06530947 \\\\\n",
       "0.06530947 & -0.08989078\n",
       "\\end{array}\\right) \\cdot \\left(\\begin{array}{r}\n",
       "65.31962 \\\\\n",
       "12.46145\n",
       "\\end{array}\\right) ~=~ \\left(\\begin{array}{r}\n",
       "6.685482 \\\\\n",
       "3.145821\n",
       "\\end{array}\\right)</script></html>"
      ],
      "text/plain": [
       "[ 0.08989078  0.06530947]\n",
       "[ 0.06530947 -0.08989078] \\cdot [65.31962]\n",
       "[12.46145] ~=~ [6.685482]\n",
       "[3.145821]"
      ]
     },
     "metadata": {},
     "output_type": "display_data"
    }
   ],
   "source": [
    "pp1 = vector(SR, (cn_0.substitute(x=Pn[0], z=Pn[2]), cn_1.substitute(y=Pn[1], z=Pn[2])))\n",
    "pp2 = vector(SR, (cs_0.substitute(x=Pn[0], z=Pn[2]), cs_1.substitute(y=Pn[1], z=Pn[2])))\n",
    "fc2 = f.substitute(x=cs_ix, y=cs_iy, z=cs_iz).simplify_full()\n",
    "#pretty_print(jacobian(fc2, (u, v)))\n",
    "c2c1 = vector(SR, (cs_0.substitute({x: cn_ix, z: cn_iz}).full_simplify(), cs_1.substitute({y: cn_iy, z: cn_iz}).full_simplify()))\n",
    "#pretty_print(jacobian(c2c1, (u, v)), pp1)\n",
    "c1l = vector(SR, (cn_0.substitute(x=K_1[0], z=K_1[2]), cn_1.substitute(y=K_1[1], z=K_1[2])))\n",
    "#pretty_print(jacobian(c1l, (t)))\n",
    "\n",
    "Dc2c1 = jacobian(c2c1, (u, v))\n",
    "Dc1l = jacobian(c1l, (t))\n",
    "pretty_print(Dc2c1, LatexExpr(\"\\\\cdot\"), Dc1l, LatexExpr(\"~=~\"), Dc2c1*Dc1l)\n",
    "pretty_print(Dc2c1.substitute(u=pp1[0], v=pp1[1]).n(digits=7), LatexExpr(\"\\\\cdot\"), Dc1l.substitute(t=float(pt)).n(digits=7), LatexExpr(\"~=~\"), (Dc2c1.substitute(u=pp1[0], v=pp1[1])*Dc1l.substitute(t=float(pt))).n(digits=7))"
   ]
  },
  {
   "cell_type": "markdown",
   "metadata": {},
   "source": [
    "We can test the change of basis by calculating the component representation in the south chart directly:"
   ]
  },
  {
   "cell_type": "code",
   "execution_count": 43,
   "metadata": {},
   "outputs": [
    {
     "data": {
      "text/html": [
       "<html><script type=\"math/tex; mode=display\">\\newcommand{\\Bold}[1]{\\mathbf{#1}}\\left(\\begin{array}{rr}\n",
       "6.685482 & 3.145821\n",
       "\\end{array}\\right)</script></html>"
      ],
      "text/plain": [
       "[6.685482 3.145821]"
      ]
     },
     "metadata": {},
     "output_type": "display_data"
    }
   ],
   "source": [
    "lhs = jacobian(vector(SR, (cs_0.substitute(x=K_1[0], z=K_1[2]), cs_1.substitute(y=K_1[1], z=K_1[2]))), (t)).transpose()\n",
    "pretty_print(lhs.substitute(t=pt).n(digits=7))"
   ]
  },
  {
   "cell_type": "markdown",
   "metadata": {},
   "source": [
    "Most (physics) textbooks use a shorthand notation for $D_{u,v}(c_2 \\circ c_1^{-1})[c_1(\\vec{p})] \\cdot D_t(c_1 \\circ \\lambda)[t_1]$, namely \n",
    "$\\frac{\\partial c_2^j}{\\partial c_1^i} \\cdot X^i_{c_1}$ where the $\\frac{\\partial c_2^j}{\\partial c_1^i}$ refers to the Jacobian matrix\n",
    "with the superscript indices corresponding to rows and columns from the matrix, while the $X^i_{c_1}$ term is a generic reference\n",
    "to the components in the convert-from chart minus any curve information."
   ]
  },
  {
   "cell_type": "markdown",
   "metadata": {},
   "source": [
    "<h2>Bibliography</h2>\n",
    "<style>\n",
    "    code{white-space: pre-wrap;}\n",
    "    span.smallcaps{font-variant: small-caps;}\n",
    "    span.underline{text-decoration: underline;}\n",
    "    div.column{display: inline-block; vertical-align: top; width: 50%;}\n",
    "    div.hanging-indent{margin-left: 1.5em; text-indent: -1.5em;}\n",
    "  </style>\n",
    "<div id=\"refs\" class=\"references hanging-indent\" role=\"doc-bibliography\">\n",
    "<div id=\"ref-ghrist\">\n",
    "<p>Ghrist, R. 2016. <em>Calculus Blue Multivariable Volume 2: Derivatives</em>. 3rd ed. Agenbyte Press. <a href=\"https://www.amazon.com/Calculus-BLUE-Multivariable-2-Derivatives-ebook/dp/B01BNSZG10\">https://www.amazon.com/Calculus-BLUE-Multivariable-2-Derivatives-ebook/dp/B01BNSZG10</a>.</p>\n",
    "</div>\n",
    "<div id=\"ref-ghrist-youtube\">\n",
    "<p>———. 2019. “Calculus Blue Multivariable Volume 2: Derivatives (Youtube Playlist).” 2019. <a href=\"https://www.youtube.com/watch?v=HS0mivVKLyo&amp;list=PL8erL0pXF3JZZTnqjginERYYEi1WpLE_V\">https://www.youtube.com/watch?v=HS0mivVKLyo&amp;list=PL8erL0pXF3JZZTnqjginERYYEi1WpLE_V</a>.</p>\n",
    "</div>\n",
    "<div id=\"ref-isham\">\n",
    "<p>Isham, C. J. 1999. <em>Modern Differential Geometry for Physicists</em>. 2nd ed. World Scientific Lecture Notes in Physics. World Scientific.</p>\n",
    "</div>\n",
    "<div id=\"ref-lee\">\n",
    "<p>Lee, J. M. 2012. <em>Introduction to Smooth Manifolds</em>. Graduate Texts in Mathematics. Springer New York. <a href=\"https://doi.org/10.1007/978-1-4419-9982-5\">https://doi.org/10.1007/978-1-4419-9982-5</a>.</p>\n",
    "</div>\n",
    "<div id=\"ref-montgomery\">\n",
    "<p>Montgomery, R. 2016. “Tangent Vectors: Three or Four Definitions.” 2016. <a href=\"https://people.ucsc.edu/~rmont/classes/ManifoldsI/Lectures/TangentSpace.pdf\">https://people.ucsc.edu/~rmont/classes/ManifoldsI/Lectures/TangentSpace.pdf</a>.</p>\n",
    "</div>\n",
    "<div id=\"ref-parzygnat\">\n",
    "<p>Parzygnat, A. 2017. “Analysis II 2017 (Youtube Playlist).” 2017. <a href=\"https://www.youtube.com/playlist?list=PLSx1kJDjrLRSBmBeM7NEeKBE5_nEFcKXH\">https://www.youtube.com/playlist?list=PLSx1kJDjrLRSBmBeM7NEeKBE5_nEFcKXH</a>.</p>\n",
    "</div>\n",
    "<div id=\"ref-schuller\">\n",
    "<p>Schuller, F. 2015. “The WE-Heraeus International Winter School on Gravity and Light (Youtube Playlist).” 2015. <a href=\"https://www.youtube.com/playlist?list=PLFeEvEPtX_0S6vxxiiNPrJbLu9aK1UVC_\">https://www.youtube.com/playlist?list=PLFeEvEPtX_0S6vxxiiNPrJbLu9aK1UVC_</a>.</p>\n",
    "</div>\n",
    "<div id=\"ref-spivak\">\n",
    "<p>Spivak, M. 1965. <em>Calculus on Manifolds: A Modern Approach to Classical Theorems of Advanced Calculus</em>. Avalon Publishing.</p>\n",
    "</div>\n",
    "<div id=\"ref-XylyXylyX\">\n",
    "<p>XylyXylyX. 2017. “What Is a Manifold? (Youtube Playlist).” 2017. <a href=\"https://www.youtube.com/playlist?list=PLRlVmXqzHjUQHEx63ZFxV-0Ortgf-rpJo\">https://www.youtube.com/playlist?list=PLRlVmXqzHjUQHEx63ZFxV-0Ortgf-rpJo</a>.</p>\n",
    "</div>\n",
    "</div>"
   ]
  },
  {
   "cell_type": "code",
   "execution_count": null,
   "metadata": {},
   "outputs": [],
   "source": []
  }
 ],
 "metadata": {
  "kernelspec": {
   "display_name": "SageMath 9.0",
   "language": "sage",
   "name": "sagemath"
  },
  "language_info": {
   "codemirror_mode": {
    "name": "ipython",
    "version": 3
   },
   "file_extension": ".py",
   "mimetype": "text/x-python",
   "name": "python",
   "nbconvert_exporter": "python",
   "pygments_lexer": "ipython3",
   "version": "3.8.1"
  }
 },
 "nbformat": 4,
 "nbformat_minor": 4
}
